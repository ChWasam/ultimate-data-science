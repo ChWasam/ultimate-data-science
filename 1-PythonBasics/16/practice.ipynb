{
 "cells": [
  {
   "cell_type": "code",
   "execution_count": 4,
   "id": "089115b2",
   "metadata": {},
   "outputs": [
    {
     "name": "stdout",
     "output_type": "stream",
     "text": [
      "4455348416\n",
      "4455348416\n",
      "{}\n",
      "{}\n",
      "{'first_level_key': {}}\n",
      "{'first_level_key': {}}\n",
      "{}\n",
      "{'first_level_key': {}}\n",
      "{'second_level_key': {}}\n",
      "{'first_level_key': {'second_level_key': {}}}\n"
     ]
    }
   ],
   "source": [
    "nested_dict = {}\n",
    "levels = ['first_level_key', 'second_level_key', 'third_level_key']\n",
    "\n",
    "current_dict = nested_dict\n",
    "print(id(current_dict))\n",
    "print(id(nested_dict))\n",
    "\n",
    "print(current_dict)\n",
    "print(nested_dict)\n",
    "\n",
    "current_dict['first_level_key'] = {}\n",
    "\n",
    "print(current_dict)\n",
    "print(nested_dict)\n",
    "\n",
    "\n",
    "current_dict = current_dict['first_level_key']\n",
    "print(current_dict)\n",
    "print(nested_dict)\n",
    "\n",
    "current_dict['second_level_key'] = {}\n",
    "print(current_dict)\n",
    "print(nested_dict)\n",
    "\n"
   ]
  },
  {
   "cell_type": "code",
   "execution_count": null,
   "id": "a5c8f0cc",
   "metadata": {},
   "outputs": [],
   "source": []
  }
 ],
 "metadata": {
  "kernelspec": {
   "display_name": "Python 3",
   "language": "python",
   "name": "python3"
  },
  "language_info": {
   "codemirror_mode": {
    "name": "ipython",
    "version": 3
   },
   "file_extension": ".py",
   "mimetype": "text/x-python",
   "name": "python",
   "nbconvert_exporter": "python",
   "pygments_lexer": "ipython3",
   "version": "3.12.0"
  }
 },
 "nbformat": 4,
 "nbformat_minor": 5
}
