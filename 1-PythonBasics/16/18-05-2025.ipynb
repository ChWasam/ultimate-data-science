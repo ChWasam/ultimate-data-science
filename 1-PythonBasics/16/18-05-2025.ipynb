{
 "cells": [
  {
   "cell_type": "markdown",
   "id": "80e5dcf8",
   "metadata": {},
   "source": [
    "# Thread => I/O bound operations => e.g we are waiting for Input or writing somewhere else or downloading something from internet or waiting for something   => In the mean time if our cpu is free => We will do context switching (which means we will switch between multiple threads ) => e.g calculating DOB: While calculating it will not move to other thread (means cpu in use), only move to thread while working"
   ]
  },
  {
   "cell_type": "code",
   "execution_count": 2,
   "id": "c051b627",
   "metadata": {},
   "outputs": [],
   "source": [
    "import requests\n",
    "import time\n",
    "import threading\n",
    "import time\n",
    "import os"
   ]
  },
  {
   "cell_type": "code",
   "execution_count": 2,
   "id": "efcc9a98",
   "metadata": {},
   "outputs": [],
   "source": [
    "def download_file(process_name, url, file_path):\n",
    "    try:\n",
    "        print(f\"Download process name started : {process_name}\")\n",
    "        response = requests.get(url)\n",
    "        with open(file_path, \"wb\") as file:\n",
    "            for chunk in response.iter_content(chunk_size=8192):\n",
    "                if chunk:\n",
    "                    file.write(chunk)\n",
    "        print(\"File downloaded successfully\")\n",
    "    except Exception as e :\n",
    "        print(f\"Error downloading file : {e}\")\n",
    "    print(f\"Process name completed : {process_name}\")"
   ]
  },
  {
   "cell_type": "code",
   "execution_count": 5,
   "id": "a19c1fff",
   "metadata": {},
   "outputs": [],
   "source": [
    "url = \"https://raw.githubusercontent.com/Monalsingh/VideoBroadcaster/refs/heads/main/static/default-office-animated.png\""
   ]
  },
  {
   "cell_type": "code",
   "execution_count": null,
   "id": "4e771100",
   "metadata": {},
   "outputs": [],
   "source": [
    "t1_wd = threading.Thread(target=download_file, args=(\"abc_1\", url, \"a.png\"), daemon=True)\n",
    "# daemon=True actually close the thread when execution is comleted \n",
    "# when the main program/thread  get closed daemon=True all the threads will be automatically closed . we don't have to manually close it \n",
    "# Yes, when daemon=True, the thread (t1_wd) will automatically terminate (python will clean it) when the main program exits, without waiting for it to complete.\n",
    "#  If deamon = False threads will keep on running even if main thread gets end so we have to stop it manually \n",
    "#  The idea is i want to stop when the thread is running / or i want to stop when ever is required \n",
    "#  For that  python has event for the thread  \n",
    "#  Once we create an object of a thread with some parameter and when we do obj.start () , Now cannot pass anything\n",
    "\n",
    "\n",
    "#  If we want some task to complete like database entry and we don't want data to currupt in case of main file got corrupted we donot need to put deamon = True . If we want to complete the program anyhow \n",
    "\n",
    "#  For non critical tasks => deamon = true \n",
    "#  For  critical tasks => deamon = false  "
   ]
  },
  {
   "cell_type": "code",
   "execution_count": null,
   "id": "66e6ffa0",
   "metadata": {},
   "outputs": [
    {
     "name": "stdout",
     "output_type": "stream",
     "text": [
      "Download process name started : abc_1\n",
      "File downloaded successfully\n",
      "Process name completed : abc_1\n",
      "Process completed\n"
     ]
    }
   ],
   "source": [
    "t1_wd.start()\n",
    "\n",
    "t1_wd.join()\n",
    "#  Thread is completed doesnot means that thread is closed \n",
    "#  We can clean the thread just like variables \n",
    "#  Join is not about termination it is about  completion\n",
    "\n",
    "print(\"Process completed\")"
   ]
  },
  {
   "cell_type": "markdown",
   "id": "4ca0cd2b",
   "metadata": {},
   "source": [
    "# Close manually if we are  not using deamon\n",
    " \n",
    "# Way to interupt the thread if it is running infinitely e.g. how to intrupt it at 50 while loop will run for 100 / like how to stop the thread \n",
    "\n",
    "# While deamon will be used to close the thread like we garbage collector does it with variables "
   ]
  },
  {
   "cell_type": "code",
   "execution_count": null,
   "id": "dad4d097",
   "metadata": {},
   "outputs": [
    {
     "name": "stdout",
     "output_type": "stream",
     "text": [
      "Watching a.txt\n",
      "Watching file ....\n",
      "Watching file ....\n",
      "Watching file ....\n",
      "Watching file ....\n",
      "Watching file ....\n",
      "Watching file ....\n",
      "Watching file ....\n",
      "Watching file ....\n",
      "Watching file ....\n",
      "Watching file ....\n",
      "Watching file ....\n",
      "Watching file ....\n",
      "Watching file ....\n"
     ]
    }
   ],
   "source": [
    "# # Here we have achieved that we can stop any thread by this way manually \n",
    "\n",
    "\n",
    "stop_signal = threading.Event() # bydefault it is false\n",
    "# This Event works on thread level\n",
    "\n",
    "def watch_file(file_path):\n",
    "    count = 0\n",
    "    print(f\"Watching {file_path}\")\n",
    "    while not stop_signal.is_set():\n",
    "        print(\"Watching file ....\")\n",
    "        time.sleep(2)\n",
    "    print(\"Watch exiting cleanly..\")\n",
    "\n",
    "\n",
    "t1_wd = threading.Thread(target=watch_file, args=(\"a.txt\",))\n",
    "t1_wd.start()\n",
    "\n",
    "stop_signal.set() # Event value to be true\n",
    "\n",
    "t1_wd.join()\n",
    "\n",
    "time.sleep(5)\n",
    "\n",
    "print(\"Main program exited cleanly.\")\n",
    "\n",
    "#  As soon as we press play and we want to stop it immediately it will not  stop because the thread will be running in the background "
   ]
  },
  {
   "cell_type": "code",
   "execution_count": null,
   "id": "6b993e83",
   "metadata": {},
   "outputs": [
    {
     "name": "stdout",
     "output_type": "stream",
     "text": [
      "Watching a.txt\n",
      "Watching file ....\n",
      "Watching b.txt\n",
      "Watching file ....\n",
      "Watching c.txt\n",
      "Watching file ....\n",
      "Watching file ....\n",
      "Watching file ....\n",
      "Watching file ....\n",
      "Watching file ....\n",
      "Watching file ....\n",
      "Watching file ....\n",
      "Watching file ....Watching file ....\n",
      "\n",
      "Watch thread id : 1 exiting cleanly..\n",
      "Watching file ....Watching file ....\n",
      "\n",
      "Watching file ....Watch thread id : 2 exiting cleanly..\n",
      "\n",
      "Watching file ....\n",
      "Watching file ....\n",
      "Watch thread id : 3 exiting cleanly..\n",
      "Main program exited cleanly.\n"
     ]
    }
   ],
   "source": [
    "# Here we have achieved that we can stop any thread by this way manually \n",
    "\n",
    "\n",
    "#  Imp fact => every file has => 1. main thread 2. others we make using => threading.Thread()\n",
    "\n",
    "\n",
    "stop_signal_1 = threading.Event() # bydefault it is false\n",
    "stop_signal_2 = threading.Event()\n",
    "stop_signal_3 = threading.Event()\n",
    "\n",
    "\n",
    "def watch_file(thread_id, file_path, event_signal):\n",
    "    print(f\"Watching {file_path}\")\n",
    "    while not event_signal.is_set():\n",
    "        print(\"Watching file ....\")\n",
    "        time.sleep(2)\n",
    "    print(f\"Watch thread id : {thread_id } exiting cleanly..\")\n",
    "\n",
    "\n",
    "t1_wd = threading.Thread(target=watch_file, args=(1 ,\"a.txt\",stop_signal_1,))\n",
    "t2_wd = threading.Thread(target=watch_file, args=(2 ,\"b.txt\",stop_signal_2,))\n",
    "t3_wd = threading.Thread(target=watch_file, args=(3, \"c.txt\",stop_signal_3,))\n",
    "\n",
    "t1_wd.start()\n",
    "t2_wd.start()\n",
    "t3_wd.start()\n",
    "\n",
    "\n",
    "time.sleep(5)\n",
    "stop_signal_1.set() # Event value to be true\n",
    "# Now we can close the thread by setting the value to true \n",
    "\n",
    "time.sleep(5)\n",
    "stop_signal_2.set() # Event value to be true\n",
    "\n",
    "time.sleep(5)\n",
    "stop_signal_3.set() # Event value to be true\n",
    "\n",
    "\n",
    "t1_wd.join()\n",
    "t2_wd.join()\n",
    "t3_wd.join()\n",
    "\n",
    "time.sleep(5)\n",
    "\n",
    "print(\"Main program exited cleanly.\")"
   ]
  },
  {
   "cell_type": "code",
   "execution_count": null,
   "id": "3b2ec7b3",
   "metadata": {},
   "outputs": [
    {
     "name": "stdout",
     "output_type": "stream",
     "text": [
      "Watching a.txt\n",
      "Watching file ....\n",
      "Watching b.txt\n",
      "Watching file ....\n",
      "Watching c.txt\n",
      "Watching file ....\n",
      "Watching file ....\n",
      "Watching file ....\n",
      "Watching file ....\n",
      "Watching file ....\n",
      "Watching file ....\n",
      "Watching file ....\n",
      "Watch thread id : 1 exiting cleanly..\n",
      "Watching file ....\n",
      "Watching file ....\n",
      "Watching file ....\n",
      "Watching file ....\n",
      "Watching file ....\n",
      "Watch thread id : 2 exiting cleanly..\n",
      "Watching file ....\n",
      "Watching file ....\n",
      "Watch thread id : 3 exiting cleanly..\n",
      "Main program exited cleanly.\n"
     ]
    }
   ],
   "source": [
    "#  stll it will work But understand that why we should not be using this ?\n",
    "\n",
    "\n",
    "stop_event = {\"thread_1\": False, \"thread_2\": False, \"thread_3\": False}\n",
    "\n",
    "def watch_file(thread_id, file_path, thread_name):\n",
    "    print(f\"Watching {file_path}\")\n",
    "    while not stop_event[thread_name]:\n",
    "        print(\"Watching file ....\")\n",
    "        time.sleep(2)\n",
    "    print(f\"Watch thread id : {thread_id } exiting cleanly..\")\n",
    "\n",
    "\n",
    "t1_wd = threading.Thread(target=watch_file, args=(1 ,\"a.txt\",\"thread_1\",))\n",
    "t2_wd = threading.Thread(target=watch_file, args=(2 ,\"b.txt\",\"thread_2\",))\n",
    "t3_wd = threading.Thread(target=watch_file, args=(3, \"c.txt\",\"thread_3\",))\n",
    "\n",
    "t1_wd.start()\n",
    "t2_wd.start()\n",
    "t3_wd.start()\n",
    "\n",
    "\n",
    "time.sleep(5)\n",
    "stop_event[\"thread_1\"] = True # Event value to be true\n",
    "\n",
    "time.sleep(5)\n",
    "stop_event[\"thread_2\"] = True # Event value to be true\n",
    "\n",
    "time.sleep(5)\n",
    "stop_event[\"thread_3\"] = True # Event value to be true\n",
    "\n",
    "\n",
    "t1_wd.join()\n",
    "t2_wd.join()\n",
    "t3_wd.join()\n",
    "\n",
    "time.sleep(5)\n",
    "\n",
    "print(\"Main program exited cleanly.\")\n",
    "\n",
    "# 1. Why we should not be using it \n",
    "# the dictionary we used is the shared one b/w t1 , t2, t3. We  use event  instead of Dictionary because it doesn't have that race condition (one thread knows previous value and other thread knows new value , so they are not sync ) issue and it handles all these things automatically \n",
    "# 2. If we want to  use dictionary   then what things we need to handle it for the thread \n",
    "#  we need implement a lock then "
   ]
  },
  {
   "cell_type": "code",
   "execution_count": null,
   "id": "d8de21fa",
   "metadata": {},
   "outputs": [],
   "source": [
    "# why not dictionary why we use the event ?\n",
    "\n",
    "\n",
    "stop_event = {\"thread_1\": False, \"thread_2\": False, \"thread_3\": False}\n",
    "\n",
    "stop_event_lock = threading.Lock()\n",
    "#  i will put a lock on stop_event dict \n",
    "#  here lock is not connected to this stop_event\n",
    "#  we will use the lock while updating and reading it like => with stop_event_lock:\n",
    "\n",
    "def watch_file(thread_id, file_path, thread_name):\n",
    "    print(f\"Watching {file_path}\")\n",
    "    while True:\n",
    "        #  Here we reading the dictionary \n",
    "        with stop_event_lock:\n",
    "            if stop_event[thread_name]:\n",
    "                break\n",
    "            print(\"Watching file ....\")\n",
    "            time.sleep(2)\n",
    "    print(f\"Watch thread id : {thread_id } exiting cleanly..\")\n",
    "\n",
    "t1_wd = threading.Thread(target=watch_file, args=(1 ,\"a.txt\",\"thread_1\",))\n",
    "t2_wd = threading.Thread(target=watch_file, args=(2 ,\"b.txt\",\"thread_2\",))\n",
    "t3_wd = threading.Thread(target=watch_file, args=(3, \"c.txt\",\"thread_3\",))\n",
    "\n",
    "t1_wd.start()\n",
    "t2_wd.start()\n",
    "t3_wd.start()\n",
    "\n",
    "\n",
    "time.sleep(5)\n",
    "#  now i want to update here with the help of this lock \n",
    "#  when ever i am updating it i want my operating system/ my python to lock the dictionary and do the upgradation so that other thread will not be able to use\n",
    "#  Here we updating the dictionary \n",
    "#  While lock is implemented no other thread can access it \n",
    "\n",
    "with stop_event_lock:\n",
    "    stop_event[\"thread_1\"] = True # Event value to be true\n",
    "\n",
    "time.sleep(5)\n",
    "with stop_event_lock:\n",
    "    stop_event[\"thread_2\"] = True # Event value to be true\n",
    "\n",
    "time.sleep(5)\n",
    "with stop_event_lock:\n",
    "    stop_event[\"thread_3\"] = True# Event value to be true\n",
    "\n",
    "\n",
    "t1_wd.join()\n",
    "t2_wd.join()\n",
    "t3_wd.join()\n",
    "\n",
    "time.sleep(5)\n",
    "\n",
    "print(\"Main program exited cleanly.\")\n",
    "\n",
    "\n"
   ]
  },
  {
   "cell_type": "markdown",
   "id": "a35cb088",
   "metadata": {},
   "source": [
    "# ThreadPoolExecutor"
   ]
  },
  {
   "cell_type": "code",
   "execution_count": 7,
   "id": "1859f01a",
   "metadata": {},
   "outputs": [],
   "source": [
    "from concurrent.futures import ThreadPoolExecutor"
   ]
  },
  {
   "cell_type": "code",
   "execution_count": null,
   "id": "083b1d0f",
   "metadata": {},
   "outputs": [
    {
     "name": "stdout",
     "output_type": "stream",
     "text": [
      "Watching a.txt\n",
      "Watching file ....1\n",
      "Watching b.txt\n",
      "Watching file ....2\n",
      "Watching c.txt\n",
      "Watching file ....3\n",
      "Watching file ....2\n",
      "Watching file ....3\n",
      "Watching file ....1\n",
      "Watching file ....2Watching file ....3\n",
      "\n",
      "Watching file ....1\n",
      "Watching file ....3Watching file ....2\n",
      "Watching file ....1\n",
      "\n",
      "Watching file ....1Watching file ....2\n",
      "Watching file ....3\n",
      "\n",
      "Watch thread id : 1 exiting cleanly..Watch thread id : 3 exiting cleanly..\n",
      "Watching d.txt\n",
      "Watching file ....4\n",
      "Watch thread id : 2 exiting cleanly..\n",
      "\n",
      "Watching file ....4\n",
      "Watching file ....4\n",
      "Watching file ....4\n",
      "Watching file ....4\n",
      "Watch thread id : 4 exiting cleanly..\n",
      "Thread executed successfully\n"
     ]
    }
   ],
   "source": [
    "# start\n",
    "# join()\n",
    "# This is what we usuallly do \n",
    "# Another way is Threadpoo;Executer\n",
    "\n",
    "\n",
    "a = [(1 ,\"a.txt\",\"thread_1\",), (2 ,\"b.txt\",\"thread_2\",), (3 ,\"c.txt\",\"thread_3\",), (4 ,\"d.txt\",\"thread_4\",)]\n",
    "def watch_file(input_tuple):\n",
    "    thread_id, file_path, thread_name = input_tuple\n",
    "    count=0\n",
    "    print(f\"Watching {file_path}\")\n",
    "    while count<5:\n",
    "        print(f\"Watching file ....{thread_id}\")\n",
    "        time.sleep(2)\n",
    "        count+=1\n",
    "    print(f\"Watch thread id : {thread_id } exiting cleanly..\")\n",
    "    return f\"Hello {thread_id}\"\n",
    "\n",
    "\n",
    "#  It wull handle everything \n",
    "with ThreadPoolExecutor(max_workers=3) as executor:\n",
    "    # Here 3 workers and 4 tasks to perform\n",
    "    # who ever will get free will do 4th one\n",
    "    results = list(executor.map(watch_file, a))\n",
    "\n",
    "# watch_file, (1 ,\"a.txt\",\"thread_1\",)\n",
    "# watch_file, (2 ,\"b.txt\",\"thread_2\",)\n",
    "# watch_file, (3 ,\"c.txt\",\"thread_3\",)\n",
    "# watch_file, (4 ,\"d.txt\",\"thread_4\",)\n",
    "\n",
    "print(\"Thread executed successfully\")"
   ]
  },
  {
   "cell_type": "markdown",
   "id": "07e7f113",
   "metadata": {},
   "source": [
    "context switching is moving from one thread to another"
   ]
  },
  {
   "cell_type": "code",
   "execution_count": 17,
   "id": "e750a4ed",
   "metadata": {},
   "outputs": [
    {
     "name": "stdout",
     "output_type": "stream",
     "text": [
      "['Hello 1', 'Hello 2', 'Hello 3', 'Hello 4']\n"
     ]
    }
   ],
   "source": [
    "print(results)"
   ]
  },
  {
   "cell_type": "code",
   "execution_count": 18,
   "id": "88f70a5d",
   "metadata": {},
   "outputs": [
    {
     "name": "stdout",
     "output_type": "stream",
     "text": [
      "1 2 3\n"
     ]
    }
   ],
   "source": [
    "a,b,c = [1,2,3]\n",
    "print(a,b,c)"
   ]
  },
  {
   "cell_type": "code",
   "execution_count": 21,
   "id": "4375d17e",
   "metadata": {},
   "outputs": [],
   "source": [
    "from a import *"
   ]
  },
  {
   "cell_type": "code",
   "execution_count": 22,
   "id": "3176e203",
   "metadata": {},
   "outputs": [
    {
     "data": {
      "text/plain": [
       "[7, 7, 7, 7, 7]"
      ]
     },
     "execution_count": 22,
     "metadata": {},
     "output_type": "execute_result"
    }
   ],
   "source": [
    "[7]*5"
   ]
  },
  {
   "cell_type": "markdown",
   "id": "e96fc26f",
   "metadata": {},
   "source": [
    "# Multiprocessing => Heavy duty cpu bound tasks e.g we keep on processing not waiting for something=> Each core for each task "
   ]
  },
  {
   "cell_type": "code",
   "execution_count": 1,
   "id": "f2986a17",
   "metadata": {},
   "outputs": [],
   "source": [
    "import multiprocessing"
   ]
  },
  {
   "cell_type": "code",
   "execution_count": 3,
   "id": "d4b2710c",
   "metadata": {},
   "outputs": [
    {
     "name": "stdout",
     "output_type": "stream",
     "text": [
      "12\n"
     ]
    }
   ],
   "source": [
    "print(multiprocessing.cpu_count())"
   ]
  },
  {
   "cell_type": "code",
   "execution_count": 4,
   "id": "395594bd",
   "metadata": {},
   "outputs": [
    {
     "name": "stdout",
     "output_type": "stream",
     "text": [
      "4717592064\n",
      "4717592064\n",
      "4723890496\n",
      "4723890496\n",
      "4717592064\n",
      "4723890560\n",
      "4723890560\n",
      "4717592064\n",
      "4723890240\n",
      "4723890240\n",
      "4717592064\n",
      "{'final_key': 'value'}\n",
      "{'first_level_key': {'second_level_key': {'third_level_key': {'final_key': 'value'}}}}\n",
      "4723890240\n",
      "4717592064\n"
     ]
    }
   ],
   "source": [
    "nested_dict = {}\n",
    "levels = ['first_level_key', 'second_level_key', 'third_level_key']\n",
    "\n",
    "current_dict = nested_dict\n",
    "print(id(current_dict))\n",
    "print(id(nested_dict))\n",
    "\n",
    "for level in levels:\n",
    "    current_dict[level] = {}\n",
    "    print(id(current_dict[level]))\n",
    "    current_dict = current_dict[level]\n",
    "    print(id(current_dict))\n",
    "    print(id(nested_dict))\n",
    "\n",
    "current_dict['final_key'] = 'value'\n",
    "print(current_dict)\n",
    "print(nested_dict)\n",
    "print(id(current_dict))\n",
    "print(id(nested_dict))\n",
    "\n",
    "\n",
    "nested_dict = {}\n",
    "current_dict = nested_dict\n"
   ]
  },
  {
   "cell_type": "code",
   "execution_count": null,
   "id": "3240109b",
   "metadata": {},
   "outputs": [
    {
     "name": "stdout",
     "output_type": "stream",
     "text": [
      "4723886528\n",
      "4723886528\n",
      "{}\n",
      "{}\n",
      "{'first_level_key': {}}\n",
      "{'first_level_key': {}}\n",
      "{}\n",
      "{'first_level_key': {}}\n",
      "{'second_level_key': {}}\n",
      "{'first_level_key': {'second_level_key': {}}}\n"
     ]
    }
   ],
   "source": [
    "nested_dict = {}\n",
    "levels = ['first_level_key', 'second_level_key', 'third_level_key']\n",
    "\n",
    "current_dict = nested_dict\n",
    "print(id(current_dict))\n",
    "print(id(nested_dict))\n",
    "\n",
    "print(current_dict)\n",
    "print(nested_dict)\n",
    "\n",
    "current_dict['first_level_key'] = {}\n",
    "\n",
    "print(current_dict)\n",
    "print(nested_dict)\n",
    "\n",
    "\n",
    "current_dict = current_dict['first_level_key']\n",
    "print(current_dict)\n",
    "print(nested_dict)\n",
    "\n",
    "current_dict['second_level_key'] = {}\n",
    "print(current_dict)\n",
    "print(nested_dict) \n",
    "\n",
    "\n",
    "# {'first_level_key': {'second_level_key': {}}}  nested_dict is like that because of current_dict = current_dict['first_level_key'] as now current_dict['second_level_key'] = {} will act as current_dict['first_level_key']['second_level_key']"
   ]
  },
  {
   "cell_type": "code",
   "execution_count": 7,
   "id": "3ce4858d",
   "metadata": {},
   "outputs": [
    {
     "name": "stdout",
     "output_type": "stream",
     "text": [
      "{}\n",
      "{'first_level_key': {}}\n",
      "{'first_level_key': {'second_level_key': {}}}\n"
     ]
    }
   ],
   "source": [
    "current_dict = {}\n",
    "\n",
    "\n",
    "\n",
    "print(current_dict)\n",
    "\n",
    "\n",
    "current_dict['first_level_key'] = {}\n",
    "\n",
    "print(current_dict)\n",
    "\n",
    "\n",
    "\n",
    "current_dict['first_level_key']['second_level_key'] = {}\n",
    "print(current_dict)\n",
    "\n",
    "\n",
    "\n"
   ]
  }
 ],
 "metadata": {
  "kernelspec": {
   "display_name": "Python 3",
   "language": "python",
   "name": "python3"
  },
  "language_info": {
   "codemirror_mode": {
    "name": "ipython",
    "version": 3
   },
   "file_extension": ".py",
   "mimetype": "text/x-python",
   "name": "python",
   "nbconvert_exporter": "python",
   "pygments_lexer": "ipython3",
   "version": "3.12.0"
  }
 },
 "nbformat": 4,
 "nbformat_minor": 5
}
