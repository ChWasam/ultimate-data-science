{
 "cells": [
  {
   "cell_type": "markdown",
   "id": "d56f0bbe",
   "metadata": {},
   "source": [
    "# Asuncio\n",
    "* It uses a single-threaded event loop to manage tasks efficiently, avoiding the overhead of creating multiple threads or processes."
   ]
  },
  {
   "cell_type": "markdown",
   "id": "f162cab6",
   "metadata": {},
   "source": [
    "## 1.  Event Loop\n",
    "\n",
    "* Core that manages and distribute tasks \n",
    "* Think of it as a central hub with tasks circuling around it waiting for their turn to be executed \n",
    "* Each task takes it turn in the center with either executed immediately or paused if it is waiting for something like data from the internet.\n",
    "* When the task awaits it step aside making room for another task to run \n",
    "* Once the awaited option is done the task will resume ensuring a smooth and responsive program flow. \n",
    "* Once the current task yields or completes, the event loop checks its queue and resumes the task that was awaiting, provided its awaited operation is done.\n",
    "* There is no immediate preemption; the resumption happens at the next available opportunity in the event loop's cycle. \n"
   ]
  },
  {
   "cell_type": "markdown",
   "id": "1bb12c8d",
   "metadata": {},
   "source": [
    "## 2. COROUTINES"
   ]
  },
  {
   "cell_type": "code",
   "execution_count": 1,
   "id": "80db7cf8",
   "metadata": {},
   "outputs": [],
   "source": [
    "import asyncio\n",
    "\n",
    "#  Coroutine function  \n",
    "async def main():\n",
    "    print(\"start of main coroutine\")\n",
    "#  This is not a simple python function it is a coroutine which returns a object \n",
    "\n",
    "#  main() => This returns simple coroutine object \n",
    "\n"
   ]
  },
  {
   "cell_type": "code",
   "execution_count": 6,
   "id": "c41f0d5b",
   "metadata": {},
   "outputs": [
    {
     "data": {
      "text/plain": [
       "<coroutine object main at 0x114bbc580>"
      ]
     },
     "execution_count": 6,
     "metadata": {},
     "output_type": "execute_result"
    }
   ],
   "source": [
    "main()\n",
    "\n",
    "#  It is not showing \"start of main coroutine\" while it returns an object "
   ]
  },
  {
   "cell_type": "code",
   "execution_count": null,
   "id": "ebb2ea85",
   "metadata": {},
   "outputs": [],
   "source": [
    "#  This coroutine object needs to be awaited inorder for us to be actually get the result of its execution   "
   ]
  },
  {
   "cell_type": "code",
   "execution_count": 2,
   "id": "d9b94df2",
   "metadata": {},
   "outputs": [
    {
     "ename": "RuntimeError",
     "evalue": "asyncio.run() cannot be called from a running event loop",
     "output_type": "error",
     "traceback": [
      "\u001b[31m---------------------------------------------------------------------------\u001b[39m",
      "\u001b[31mRuntimeError\u001b[39m                              Traceback (most recent call last)",
      "\u001b[36mCell\u001b[39m\u001b[36m \u001b[39m\u001b[32mIn[2]\u001b[39m\u001b[32m, line 2\u001b[39m\n\u001b[32m      1\u001b[39m \u001b[38;5;66;03m# Run the main coroutine \u001b[39;00m\n\u001b[32m----> \u001b[39m\u001b[32m2\u001b[39m \u001b[43masyncio\u001b[49m\u001b[43m.\u001b[49m\u001b[43mrun\u001b[49m\u001b[43m(\u001b[49m\u001b[43mmain\u001b[49m\u001b[43m(\u001b[49m\u001b[43m)\u001b[49m\u001b[43m)\u001b[49m\n\u001b[32m      5\u001b[39m \u001b[38;5;66;03m#  asyncio.run  is going to start  our event loop \u001b[39;00m\n\u001b[32m      6\u001b[39m \u001b[38;5;66;03m#  It is going to start it by running a coroutine \u001b[39;00m\n\u001b[32m      7\u001b[39m \u001b[38;5;66;03m#  asyncio.run takes coroutine object \u001b[39;00m\n",
      "\u001b[36mFile \u001b[39m\u001b[32m~/Study/ultimate_datascience /python/venv/lib/python3.12/asyncio/runners.py:190\u001b[39m, in \u001b[36mrun\u001b[39m\u001b[34m(main, debug, loop_factory)\u001b[39m\n\u001b[32m    161\u001b[39m \u001b[38;5;250m\u001b[39m\u001b[33;03m\"\"\"Execute the coroutine and return the result.\u001b[39;00m\n\u001b[32m    162\u001b[39m \n\u001b[32m    163\u001b[39m \u001b[33;03mThis function runs the passed coroutine, taking care of\u001b[39;00m\n\u001b[32m   (...)\u001b[39m\u001b[32m    186\u001b[39m \u001b[33;03m    asyncio.run(main())\u001b[39;00m\n\u001b[32m    187\u001b[39m \u001b[33;03m\"\"\"\u001b[39;00m\n\u001b[32m    188\u001b[39m \u001b[38;5;28;01mif\u001b[39;00m events._get_running_loop() \u001b[38;5;129;01mis\u001b[39;00m \u001b[38;5;129;01mnot\u001b[39;00m \u001b[38;5;28;01mNone\u001b[39;00m:\n\u001b[32m    189\u001b[39m     \u001b[38;5;66;03m# fail fast with short traceback\u001b[39;00m\n\u001b[32m--> \u001b[39m\u001b[32m190\u001b[39m     \u001b[38;5;28;01mraise\u001b[39;00m \u001b[38;5;167;01mRuntimeError\u001b[39;00m(\n\u001b[32m    191\u001b[39m         \u001b[33m\"\u001b[39m\u001b[33masyncio.run() cannot be called from a running event loop\u001b[39m\u001b[33m\"\u001b[39m)\n\u001b[32m    193\u001b[39m \u001b[38;5;28;01mwith\u001b[39;00m Runner(debug=debug, loop_factory=loop_factory) \u001b[38;5;28;01mas\u001b[39;00m runner:\n\u001b[32m    194\u001b[39m     \u001b[38;5;28;01mreturn\u001b[39;00m runner.run(main)\n",
      "\u001b[31mRuntimeError\u001b[39m: asyncio.run() cannot be called from a running event loop"
     ]
    }
   ],
   "source": [
    "# Run the main coroutine \n",
    "asyncio.run(main())\n",
    "\n",
    "\n",
    "#  asyncio.run  is going to start  our event loop \n",
    "#  It is going to start it by running a coroutine \n",
    "#  asyncio.run takes coroutine object "
   ]
  },
  {
   "cell_type": "markdown",
   "id": "777f0633",
   "metadata": {},
   "source": [
    "## 3. Tasks\n",
    "* Task is a way to schedule a coroutine to run as soon a possible and allow us to run multiple coroutines simultaneously.\n",
    "* If one task is waiting or idle we can switch over and start working on another task \n",
    "* When we are waiting for something that is not in control of our program we switch over to another task start working on that\n",
    "* Task: A wrapper around a coroutine that schedules it to run in the event loop."
   ]
  },
  {
   "cell_type": "markdown",
   "id": "67057cb4",
   "metadata": {},
   "source": []
  },
  {
   "cell_type": "markdown",
   "id": "c29899d1",
   "metadata": {},
   "source": [
    "## 4. Futures\n",
    "* It is a promise of a future result \n",
    "* Result is to come in the future \n",
    "* you don't know exactly when that is going to be "
   ]
  },
  {
   "cell_type": "markdown",
   "id": "7c9046fe",
   "metadata": {},
   "source": [
    "## 5. Syncronization primitives \n",
    "\n",
    "* These are the tools that allow us to the execution of various coroutines when we have larger and more complicated programs \n",
    "* Syncronization tools\n",
    "* 1. Lock \n",
    "* 2. semaphore\n",
    "* 3. event\n"
   ]
  },
  {
   "cell_type": "markdown",
   "id": "66783c5d",
   "metadata": {},
   "source": []
  }
 ],
 "metadata": {
  "kernelspec": {
   "display_name": "Python 3",
   "language": "python",
   "name": "python3"
  },
  "language_info": {
   "codemirror_mode": {
    "name": "ipython",
    "version": 3
   },
   "file_extension": ".py",
   "mimetype": "text/x-python",
   "name": "python",
   "nbconvert_exporter": "python",
   "pygments_lexer": "ipython3",
   "version": "3.12.0"
  }
 },
 "nbformat": 4,
 "nbformat_minor": 5
}
