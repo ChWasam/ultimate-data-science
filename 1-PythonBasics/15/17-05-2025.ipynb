{
 "cells": [
  {
   "cell_type": "code",
   "execution_count": null,
   "id": "b4fd86e2",
   "metadata": {},
   "outputs": [],
   "source": [
    "#  Cpu has e.g 12 cores \n",
    "#  Gpu has e.g 7168 cores. \n",
    "#  AI require GPU to train model because it can run multiple things parallelly because it have many cores. The more we can run things parallelly the faster it is "
   ]
  },
  {
   "cell_type": "markdown",
   "id": "0cc1800a",
   "metadata": {},
   "source": [
    "### IMP Terms\n",
    "\n",
    "Collection of Operationss => Collection of Tasks => Process \n",
    "\n",
    "\n",
    "Normal python => Tasks run sequentially \n",
    "Threads  => Tasks run concurrently not parallell\n",
    "\n",
    "When you need to run multiple tasks then you need threading or async concept \n",
    "\n",
    "\n",
    "For machine learning or deeplearning you will never required threading but when you want to build software on top of it you will required threading \n",
    "\n",
    "\n",
    "* Task => One piece of work like download \n",
    "* Thread => Runs one or more tasks \n",
    "* Process => A program with its own memory space. It can have one or multiple tasks. ALL Threads will share a single memory "
   ]
  },
  {
   "cell_type": "markdown",
   "id": "124f6dd4",
   "metadata": {},
   "source": [
    "# Without Threading"
   ]
  },
  {
   "cell_type": "code",
   "execution_count": null,
   "id": "65bc43a2",
   "metadata": {},
   "outputs": [],
   "source": [
    "import requests\n",
    "import time "
   ]
  },
  {
   "cell_type": "code",
   "execution_count": 2,
   "id": "20f83b9b",
   "metadata": {},
   "outputs": [],
   "source": [
    "url = \"https://raw.githubusercontent.com/Monalsingh/VideoBroadcaster/refs/heads/main/static/default-office-animated.png\""
   ]
  },
  {
   "cell_type": "code",
   "execution_count": null,
   "id": "afdcab93",
   "metadata": {},
   "outputs": [],
   "source": [
    "def download_file(process_name, url, file_path):\n",
    "    # file_path means the name you want to give to the file you downloaded over here \n",
    "    #  When you are working with network always use try and except \n",
    "    try:\n",
    "        print(f\"Download process name started : {process_name}\")\n",
    "        response = requests.get(url)\n",
    "        with open(file_path, \"wb\") as file:\n",
    "            # file => This is the file i created \n",
    "            # \"wb\" w means write and b means binary \n",
    "            for chunk in response.iter_content(chunk_size=8192):\n",
    "                #  The above line is to handle the file size \n",
    "                #  chunk size 8 kb per chunk \n",
    "                #  we are iterating over the chunk and write it in a file name\n",
    "                if chunk:\n",
    "                    file.write(chunk)\n",
    "        print(\"File downloaded successfully\")\n",
    "    except Exception as e :\n",
    "        print(f\"Error downloading file : {e}\")\n",
    "    print(f\"Process name completed : {process_name}\")\n",
    "\n",
    "#  Image may be of 800 mb and it might fill your RAM because of so so reasons that is why we do chinking   "
   ]
  },
  {
   "cell_type": "code",
   "execution_count": 12,
   "id": "8c3a8bae",
   "metadata": {},
   "outputs": [
    {
     "name": "stdout",
     "output_type": "stream",
     "text": [
      "Download process name started : Download without thread 1\n",
      "File downloaded successfully\n",
      "Process name completed : Download without thread 1\n",
      "Download process name started : Download without thread 2\n",
      "File downloaded successfully\n",
      "Process name completed : Download without thread 2\n",
      "Download process name started : Download without thread 3\n",
      "File downloaded successfully\n",
      "Process name completed : Download without thread 3\n",
      "Time taken(seconds) : 7.443717002868652\n"
     ]
    }
   ],
   "source": [
    "t1 = time.time()\n",
    "download_file(\"Download without thread 1\", url, \"a.png\")\n",
    "download_file(\"Download without thread 2\", url, \"b.png\")\n",
    "download_file(\"Download without thread 3\", url, \"c.png\")\n",
    "t2 = time.time()\n",
    "print(f\"Time taken(seconds) : {t2-t1}\")"
   ]
  },
  {
   "cell_type": "markdown",
   "id": "26e639d3",
   "metadata": {},
   "source": [
    "# With Threading"
   ]
  },
  {
   "cell_type": "code",
   "execution_count": 13,
   "id": "e2de95d6",
   "metadata": {},
   "outputs": [],
   "source": [
    "import threading"
   ]
  },
  {
   "cell_type": "code",
   "execution_count": 25,
   "id": "82cd0592",
   "metadata": {},
   "outputs": [],
   "source": [
    "t1 = threading.Thread(target=download_file, args=(\"Download with thread 1\", url, \"a1.png\"))\n",
    "t2 = threading.Thread(target=download_file, args=(\"Download with thread 2\", url, \"b1.png\"))\n",
    "t3 = threading.Thread(target=download_file, args=(\"Download with thread 3\", url, \"c1.png\"))"
   ]
  },
  {
   "cell_type": "markdown",
   "id": "0bcf833c",
   "metadata": {},
   "source": [
    "# thread.start()"
   ]
  },
  {
   "cell_type": "code",
   "execution_count": null,
   "id": "f9a45767",
   "metadata": {},
   "outputs": [
    {
     "name": "stdout",
     "output_type": "stream",
     "text": [
      "Download process name started : Download with thread 1\n",
      "Download process name started : Download with thread 2\n",
      "Download process name started : Download with thread 3\n",
      "Main program done!!\n",
      "Time taken(seconds) : 0.0013484954833984375\n"
     ]
    },
    {
     "name": "stdout",
     "output_type": "stream",
     "text": [
      "File downloaded successfully\n",
      "Process name completed : Download with thread 3\n",
      "File downloaded successfully\n",
      "Process name completed : Download with thread 1\n",
      "File downloaded successfully\n",
      "Process name completed : Download with thread 2\n"
     ]
    }
   ],
   "source": [
    "t1_t = time.time()\n",
    "t1.start()\n",
    "t2.start()\n",
    "t3.start()\n",
    "print(\"Main program done!!\")\n",
    "t2_t = time.time()\n",
    "print(f\"Time taken(seconds) : {t2_t-t1_t}\")\n",
    "\n",
    "\n",
    "#  Here you can see in result that threads are not in sequence \n",
    "\n",
    "\n",
    "#  Also here one thing even before the threads are completing our code is completing that is why time at the 5 line not at last \n",
    "#  That is why we use thread.join()\n",
    "#  Once only all the threaded tasks are completed then only we want to move to the next task \n",
    "# Please w8 untill my thread is done. which thread we want to w8? => \n",
    "\n",
    "#  We want to w8 till the thread is completed \n",
    "\n",
    "\n",
    "\n",
    "\n",
    "\n",
    "# Q yeh ha kah a"
   ]
  },
  {
   "cell_type": "markdown",
   "id": "84c94626",
   "metadata": {},
   "source": [
    "# thread.join()"
   ]
  },
  {
   "cell_type": "code",
   "execution_count": null,
   "id": "3dccbba8",
   "metadata": {},
   "outputs": [
    {
     "name": "stdout",
     "output_type": "stream",
     "text": [
      "Download process name started : Download with thread 1\n",
      "Download process name started : Download with thread 2\n",
      "Download process name started : Download with thread 3\n",
      "File downloaded successfully\n",
      "Process name completed : Download with thread 1\n",
      "File downloaded successfully\n",
      "Process name completed : Download with thread 2\n",
      "File downloaded successfully\n",
      "Process name completed : Download with thread 3\n",
      "Main program done!!\n",
      "Time taken(seconds) : 8.157037019729614\n"
     ]
    }
   ],
   "source": [
    "t1_t = time.time()\n",
    "t1.start()\n",
    "t2.start()\n",
    "t3.start()\n",
    "\n",
    "t1.join() # will block the main thread  here untill the thread gets completed => code stay on hold until this particular thread is complpeted \n",
    "t2.join()\n",
    "t3.join()\n",
    "\n",
    "#  Join will give the instructions to the main thread thta all the sub threads to be completed \n",
    "\n",
    "\n",
    "# now mainthread will wait for t1, t2 and t3 to complete \n",
    "\n",
    "print(\"Main program done!!\")\n",
    "t2_t = time.time()\n",
    "print(f\"Time taken(seconds) : {t2_t-t1_t}\")\n",
    "\n",
    "# Q yahan ham thread ko khud kah raha han kah backgrounnd me ja ku kah ham na khud use kia ha t1.start().  Lakin me na to suna tha kah operating system khud la kat jata ha jab bhi koi thread w8 karta ha? "
   ]
  },
  {
   "cell_type": "code",
   "execution_count": null,
   "id": "310d31d5",
   "metadata": {},
   "outputs": [],
   "source": [
    "# here we have learned how to do different tasks concurrently before that we were doing tasks sequentially "
   ]
  },
  {
   "cell_type": "code",
   "execution_count": null,
   "id": "9c952b4f",
   "metadata": {},
   "outputs": [],
   "source": [
    "t1_t = time.time()\n",
    "t1.start()\n",
    "t2.start()\n",
    "t3.start()\n",
    "\n",
    "t1.join() \n",
    "\n",
    "print(\"Main program done!!\")\n",
    "t2_t = time.time()\n",
    "print(f\"Time taken(seconds) : {t2_t-t1_t}\")\n",
    "\n",
    "\n",
    "\n",
    "#  Now it will only w8 for t1 and execute the rest of the code "
   ]
  },
  {
   "cell_type": "code",
   "execution_count": null,
   "id": "677deb56",
   "metadata": {},
   "outputs": [],
   "source": [
    "#  Concept of yield in python \n",
    "\n",
    "try:\n",
    "    yield db\n",
    "finally:\n",
    "    db.disconnect()"
   ]
  },
  {
   "cell_type": "code",
   "execution_count": null,
   "id": "73b2110c",
   "metadata": {},
   "outputs": [],
   "source": []
  }
 ],
 "metadata": {
  "kernelspec": {
   "display_name": "Python 3",
   "language": "python",
   "name": "python3"
  },
  "language_info": {
   "codemirror_mode": {
    "name": "ipython",
    "version": 3
   },
   "file_extension": ".py",
   "mimetype": "text/x-python",
   "name": "python",
   "nbconvert_exporter": "python",
   "pygments_lexer": "ipython3",
   "version": "3.12.0"
  }
 },
 "nbformat": 4,
 "nbformat_minor": 5
}
