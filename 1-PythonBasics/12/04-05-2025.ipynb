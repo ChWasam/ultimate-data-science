{
 "cells": [
  {
   "cell_type": "markdown",
   "id": "46fdc64a",
   "metadata": {},
   "source": [
    "### Agenda (It's notes are imp)\n",
    "* Overriding Concept (Consider notes as well 1st page)\n",
    "* Inheritence \n",
    "* Decorator"
   ]
  },
  {
   "cell_type": "markdown",
   "id": "5cdc0c08",
   "metadata": {},
   "source": [
    "#### Method overloading\n",
    "- Like Java and c++ python doesnot support overloading. If 2 functions has the same name python will execute the latest one. One because python doesnot specify variable datatype when defining a function and also it is a interpreted language which will know at the runtime that what arguments are given for the function. While for java we specify the variables datatype (Dynamic datatype) and also  it is compiled language hence after compilation it sets a memory that what datatype will be given and which function will it be according to function defination ."
   ]
  },
  {
   "cell_type": "code",
   "execution_count": 1,
   "id": "d94d4095",
   "metadata": {},
   "outputs": [],
   "source": [
    "class A:\n",
    "    def add(self, a, b):\n",
    "        print(f\"hello : a value is {a} & b value is {b}\")\n",
    "    \n",
    "    def add(self, a, b):\n",
    "        print(f\"hello : a value is {a} & b value is {b}. This is final add.\")"
   ]
  },
  {
   "cell_type": "code",
   "execution_count": 2,
   "id": "4ff18bb2",
   "metadata": {},
   "outputs": [],
   "source": [
    "a_obj = A()"
   ]
  },
  {
   "cell_type": "code",
   "execution_count": 4,
   "id": "686142ac",
   "metadata": {},
   "outputs": [
    {
     "name": "stdout",
     "output_type": "stream",
     "text": [
      "hello : a value is 1 & b value is 2. This is final add.\n"
     ]
    }
   ],
   "source": [
    "a_obj.add(1,2)"
   ]
  },
  {
   "cell_type": "code",
   "execution_count": 5,
   "id": "34894c80",
   "metadata": {},
   "outputs": [],
   "source": [
    "class A:\n",
    "    def add(self, a, b):\n",
    "        print(f\"hello : a value is {a} & b value is {b}\")\n",
    "    \n",
    "    def add(self, a, b, c):\n",
    "        print(f\"hello : a value is {a} & b value is {b} & c value is {c}. This is final add.\")"
   ]
  },
  {
   "cell_type": "code",
   "execution_count": 6,
   "id": "c26d971f",
   "metadata": {},
   "outputs": [],
   "source": [
    "a_obj_new = A()"
   ]
  },
  {
   "cell_type": "code",
   "execution_count": 8,
   "id": "b2daef98",
   "metadata": {},
   "outputs": [
    {
     "ename": "TypeError",
     "evalue": "A.add() missing 1 required positional argument: 'c'",
     "output_type": "error",
     "traceback": [
      "\u001b[31m---------------------------------------------------------------------------\u001b[39m",
      "\u001b[31mTypeError\u001b[39m                                 Traceback (most recent call last)",
      "\u001b[36mCell\u001b[39m\u001b[36m \u001b[39m\u001b[32mIn[8]\u001b[39m\u001b[32m, line 1\u001b[39m\n\u001b[32m----> \u001b[39m\u001b[32m1\u001b[39m \u001b[43ma_obj_new\u001b[49m\u001b[43m.\u001b[49m\u001b[43madd\u001b[49m\u001b[43m(\u001b[49m\u001b[32;43m1\u001b[39;49m\u001b[43m,\u001b[49m\u001b[32;43m2\u001b[39;49m\u001b[43m)\u001b[49m\n",
      "\u001b[31mTypeError\u001b[39m: A.add() missing 1 required positional argument: 'c'"
     ]
    }
   ],
   "source": [
    "a_obj_new.add(1,2)"
   ]
  },
  {
   "cell_type": "markdown",
   "id": "8a24eb30",
   "metadata": {},
   "source": [
    "# Inheritance : What if multiple parents have same method name, how to invoke the selected"
   ]
  },
  {
   "cell_type": "code",
   "execution_count": null,
   "id": "507905dd",
   "metadata": {},
   "outputs": [],
   "source": [
    "class B:\n",
    "    def greet(self):\n",
    "        print(\"Hello from B\")\n",
    "\n",
    "class C:\n",
    "    def greet(self):\n",
    "        print(\"Hello from C\")\n",
    "\n",
    "class A(B):\n",
    "    def greet(self):\n",
    "        print(\"Start from A\")\n",
    "        super().greet()\n",
    "        # super() means the parent you have been inherited from\n",
    "        print(\"End from A\")"
   ]
  },
  {
   "cell_type": "code",
   "execution_count": 2,
   "id": "6432bec8",
   "metadata": {},
   "outputs": [],
   "source": [
    "cls_obj_1 = A()"
   ]
  },
  {
   "cell_type": "code",
   "execution_count": 3,
   "id": "fe8c3fd6",
   "metadata": {},
   "outputs": [
    {
     "name": "stdout",
     "output_type": "stream",
     "text": [
      "Start llo from A\n",
      "Hello from B\n",
      "End from A\n"
     ]
    }
   ],
   "source": [
    "cls_obj_1.greet()"
   ]
  },
  {
   "cell_type": "code",
   "execution_count": 4,
   "id": "8d6dd178",
   "metadata": {},
   "outputs": [],
   "source": [
    "class B:\n",
    "    #  By default python will pass self in greet \n",
    "    #  Requirement is that greet will receive self \n",
    "    def greet(self):\n",
    "    #  We can run class when we are paassing some reference here in greet \n",
    "        print(\"Hello from B\")\n",
    "\n",
    "class C:\n",
    "    def greet(self):\n",
    "        print(\"Hello from C\")\n",
    "\n",
    "class A(B, C):\n",
    "    def greet(self):\n",
    "        print(\"Hi  from A\")\n",
    "        super().greet()\n",
    "        print(\"Bye from A\")\n",
    "\n",
    "\n",
    "#   super().greet() which parent class will work over here ?\n",
    "#   MRO rule apply in here => Method Resolution Order \n",
    "#  determine which method to call "
   ]
  },
  {
   "cell_type": "code",
   "execution_count": 5,
   "id": "49c86cd8",
   "metadata": {},
   "outputs": [],
   "source": [
    "obj_1_new = A()"
   ]
  },
  {
   "cell_type": "code",
   "execution_count": 6,
   "id": "ed6f4f83",
   "metadata": {},
   "outputs": [
    {
     "name": "stdout",
     "output_type": "stream",
     "text": [
      "Hi  from A\n",
      "Hello from B\n",
      "Bye from A\n"
     ]
    }
   ],
   "source": [
    "obj_1_new.greet()"
   ]
  },
  {
   "cell_type": "code",
   "execution_count": 17,
   "id": "31312fa5",
   "metadata": {},
   "outputs": [
    {
     "name": "stdout",
     "output_type": "stream",
     "text": [
      "[<class '__main__.A'>, <class '__main__.B'>, <class '__main__.C'>, <class 'object'>]\n"
     ]
    }
   ],
   "source": [
    "print(A.mro())"
   ]
  },
  {
   "cell_type": "code",
   "execution_count": null,
   "id": "d7764497",
   "metadata": {},
   "outputs": [
    {
     "name": "stdout",
     "output_type": "stream",
     "text": [
      "Hello from B\n"
     ]
    }
   ],
   "source": [
    "#  Task: How to run  class B and C greet from object of class A \n",
    "\n",
    "#  We should not do it \n",
    "\n",
    "\n",
    "# obj_1_new class A object\n",
    "B.greet(obj_1_new)\n",
    "#  we are passing ref of object that is not necessary to be linked \n",
    "#  when we pass refence of any other class we should be able to hack into it \n",
    "#  when we pass any refence of any other class. Our class should be able to run it \n",
    "#  We can run class when we are passing some reference here in greet \n",
    "# We want pass something in greet which is a reference so we can run it \n",
    "#  we are passing a object of class A but it is able to work with class B greet \n",
    "#  We are finding a loophool in python this is kind of a breaching\n",
    "#  just telling how to hack into B \n",
    "\n",
    "\n",
    "#  Here object of A has information of B and C so it has a link to it \n",
    "#  When we create a object it means that it has some permitions \n",
    "\n",
    "\n",
    "\n",
    " "
   ]
  },
  {
   "cell_type": "code",
   "execution_count": null,
   "id": "25539e3e",
   "metadata": {},
   "outputs": [
    {
     "name": "stdout",
     "output_type": "stream",
     "text": [
      "Hello from C\n"
     ]
    }
   ],
   "source": [
    "# #  We should not do it \n",
    "\n",
    "\n",
    "C.greet(obj_1_new)"
   ]
  },
  {
   "cell_type": "code",
   "execution_count": null,
   "id": "5db37095",
   "metadata": {},
   "outputs": [],
   "source": [
    "class B:\n",
    "    def greet1(self):\n",
    "        print(\"Hello from B\")\n",
    "\n",
    "class C:\n",
    "    def greet(self):\n",
    "        print(\"Hello from C\")\n",
    "\n",
    "class A(B, C):\n",
    "    def __init__(self):\n",
    "        super().greet()\n",
    "\n",
    "\n",
    "#  According to mro in this case C will work as B has greet1"
   ]
  },
  {
   "cell_type": "code",
   "execution_count": 15,
   "id": "44441c39",
   "metadata": {},
   "outputs": [
    {
     "name": "stdout",
     "output_type": "stream",
     "text": [
      "Hello from C\n"
     ]
    },
    {
     "data": {
      "text/plain": [
       "<__main__.A at 0x1189131d0>"
      ]
     },
     "execution_count": 15,
     "metadata": {},
     "output_type": "execute_result"
    }
   ],
   "source": [
    "A()"
   ]
  },
  {
   "cell_type": "code",
   "execution_count": 50,
   "id": "5f0d6ec1",
   "metadata": {},
   "outputs": [],
   "source": [
    "class B:\n",
    "    def greet(self):\n",
    "        print(\"Hello from B\")\n",
    "\n",
    "class C:\n",
    "    def greet(self):\n",
    "        print(\"Hello from C\")\n",
    "\n",
    "class A(C, B):\n",
    "    def __init__(self):\n",
    "        super().greet()"
   ]
  },
  {
   "cell_type": "code",
   "execution_count": null,
   "id": "cec2a474",
   "metadata": {},
   "outputs": [
    {
     "name": "stdout",
     "output_type": "stream",
     "text": [
      "[<class '__main__.A'>, <class '__main__.C'>, <class '__main__.B'>, <class 'object'>]\n"
     ]
    }
   ],
   "source": [
    "print(A.mro())\n",
    "\n",
    "#  <class 'object'>]\n",
    "\n",
    "#  <class 'object'>]  is a parent of everything \n",
    "#  Everything has been inherited from a class called object"
   ]
  },
  {
   "cell_type": "code",
   "execution_count": 52,
   "id": "55ae017b",
   "metadata": {},
   "outputs": [
    {
     "name": "stdout",
     "output_type": "stream",
     "text": [
      "Hello from C\n"
     ]
    }
   ],
   "source": [
    "obj_a = A()"
   ]
  },
  {
   "cell_type": "code",
   "execution_count": 53,
   "id": "14421960",
   "metadata": {},
   "outputs": [
    {
     "name": "stdout",
     "output_type": "stream",
     "text": [
      "Hello from C\n"
     ]
    }
   ],
   "source": [
    "obj_a.greet()"
   ]
  },
  {
   "cell_type": "code",
   "execution_count": null,
   "id": "b63671db",
   "metadata": {},
   "outputs": [],
   "source": [
    "# A --> B\n",
    "# A --> C\n",
    "# D --> B, C\n",
    "#  THis is called diamond  problem in python \n",
    "#  Edge case nothing else behave like that \n",
    "#         A\n",
    "#     B       C\n",
    "#         D"
   ]
  },
  {
   "cell_type": "code",
   "execution_count": 8,
   "id": "03f74bf8",
   "metadata": {},
   "outputs": [],
   "source": [
    "\n",
    "class A:\n",
    "    def greet(self):\n",
    "        print(\"Hello from A\")\n",
    "\n",
    "\n",
    "class B(A):\n",
    "    def greet(self):\n",
    "        print(\"Hello from B\")\n",
    "        # super().greet()\n",
    "\n",
    "class C(A):\n",
    "    def greet(self):\n",
    "        print(\"Hello from C\")\n",
    "        # super().greet()\n",
    "\n",
    "class D(B,C):\n",
    "    def greet(self):\n",
    "        print(\"Hello from D\")\n",
    "        super().greet()"
   ]
  },
  {
   "cell_type": "code",
   "execution_count": 9,
   "id": "16055ca8",
   "metadata": {},
   "outputs": [
    {
     "data": {
      "text/plain": [
       "[__main__.D, __main__.B, __main__.C, __main__.A, object]"
      ]
     },
     "execution_count": 9,
     "metadata": {},
     "output_type": "execute_result"
    }
   ],
   "source": [
    "D.mro()"
   ]
  },
  {
   "cell_type": "code",
   "execution_count": 10,
   "id": "e48080f1",
   "metadata": {},
   "outputs": [],
   "source": [
    "obj_d = D()"
   ]
  },
  {
   "cell_type": "code",
   "execution_count": 11,
   "id": "60a98176",
   "metadata": {},
   "outputs": [
    {
     "name": "stdout",
     "output_type": "stream",
     "text": [
      "Hello from D\n",
      "Hello from B\n"
     ]
    }
   ],
   "source": [
    "obj_d.greet()"
   ]
  },
  {
   "cell_type": "code",
   "execution_count": 12,
   "id": "76ce06ef",
   "metadata": {},
   "outputs": [],
   "source": [
    "\n",
    "\n",
    "class B:\n",
    "    def greet(self):\n",
    "        print(\"Hello from B\")\n",
    "        # super().greet()\n",
    "\n",
    "class C:\n",
    "    def greet(self):\n",
    "        print(\"Hello from C\")\n",
    "        # super().greet()\n",
    "\n",
    "class D(B,C):\n",
    "    def greet(self):\n",
    "        print(\"Hello from D\")\n",
    "        super().greet()"
   ]
  },
  {
   "cell_type": "code",
   "execution_count": 13,
   "id": "ded5195e",
   "metadata": {},
   "outputs": [
    {
     "data": {
      "text/plain": [
       "[__main__.D, __main__.B, __main__.C, object]"
      ]
     },
     "execution_count": 13,
     "metadata": {},
     "output_type": "execute_result"
    }
   ],
   "source": [
    "D.mro()"
   ]
  },
  {
   "cell_type": "code",
   "execution_count": null,
   "id": "fcbb3924",
   "metadata": {},
   "outputs": [],
   "source": [
    "obj_d = D()"
   ]
  },
  {
   "cell_type": "code",
   "execution_count": 76,
   "id": "47020615",
   "metadata": {},
   "outputs": [
    {
     "name": "stdout",
     "output_type": "stream",
     "text": [
      "Hello from D\n",
      "Hello from B\n"
     ]
    }
   ],
   "source": [
    "obj_d.greet()"
   ]
  },
  {
   "cell_type": "markdown",
   "id": "48271492",
   "metadata": {},
   "source": [
    "# Decorator\n",
    "- Function that modifies the behaviour of base function and it doesnot change the code of a base function "
   ]
  },
  {
   "cell_type": "code",
   "execution_count": 97,
   "id": "eac6ea11",
   "metadata": {},
   "outputs": [],
   "source": [
    "def my_decorator(func):\n",
    "    def wrapper(*args):\n",
    "        print(\"Before the function runs.\")\n",
    "        func(*args)\n",
    "        print(\"After the function runs.\")\n",
    "    return wrapper"
   ]
  },
  {
   "cell_type": "code",
   "execution_count": null,
   "id": "e3183f0b",
   "metadata": {},
   "outputs": [],
   "source": [
    "@my_decorator # \"syntactic sugar\" => certain things in programming language which make the programming easy\n",
    "def say_hello():\n",
    "    print(\"Hello!\")"
   ]
  },
  {
   "cell_type": "code",
   "execution_count": null,
   "id": "8e608287",
   "metadata": {},
   "outputs": [],
   "source": [
    "# say_hello = my_decorator(say_hello)"
   ]
  },
  {
   "cell_type": "code",
   "execution_count": 80,
   "id": "91db6ec6",
   "metadata": {},
   "outputs": [
    {
     "name": "stdout",
     "output_type": "stream",
     "text": [
      "Before the function runs.\n",
      "Hello!\n",
      "After the function runs.\n"
     ]
    }
   ],
   "source": [
    "say_hello()"
   ]
  },
  {
   "cell_type": "markdown",
   "id": "040d0e3d",
   "metadata": {},
   "source": [
    "# Explanation"
   ]
  },
  {
   "cell_type": "code",
   "execution_count": 86,
   "id": "cc89d420",
   "metadata": {},
   "outputs": [],
   "source": [
    "def my_decorator(func):\n",
    "    def wrapper():\n",
    "        print(\"Before the function runs.\")\n",
    "        func()\n",
    "        print(\"After the function runs.\")\n",
    "    return wrapper"
   ]
  },
  {
   "cell_type": "code",
   "execution_count": 87,
   "id": "baf7cd28",
   "metadata": {},
   "outputs": [],
   "source": [
    "def say_hello():\n",
    "    print(\"Hello!\")"
   ]
  },
  {
   "cell_type": "code",
   "execution_count": 88,
   "id": "74b3d308",
   "metadata": {},
   "outputs": [],
   "source": [
    "say_hello = my_decorator(say_hello)"
   ]
  },
  {
   "cell_type": "code",
   "execution_count": 90,
   "id": "58b045f6",
   "metadata": {},
   "outputs": [
    {
     "name": "stdout",
     "output_type": "stream",
     "text": [
      "Before the function runs.\n",
      "Hello!\n",
      "After the function runs.\n"
     ]
    }
   ],
   "source": [
    "say_hello()"
   ]
  },
  {
   "cell_type": "code",
   "execution_count": 98,
   "id": "007d6abd",
   "metadata": {},
   "outputs": [],
   "source": [
    "@my_decorator\n",
    "def add(a,b):\n",
    "    print(a+b)"
   ]
  },
  {
   "cell_type": "code",
   "execution_count": 99,
   "id": "53d825d8",
   "metadata": {},
   "outputs": [
    {
     "name": "stdout",
     "output_type": "stream",
     "text": [
      "Before the function runs.\n",
      "3\n",
      "After the function runs.\n"
     ]
    }
   ],
   "source": [
    "add(1,2)"
   ]
  },
  {
   "cell_type": "code",
   "execution_count": null,
   "id": "f36e57f1",
   "metadata": {},
   "outputs": [],
   "source": []
  }
 ],
 "metadata": {
  "kernelspec": {
   "display_name": "Python 3",
   "language": "python",
   "name": "python3"
  },
  "language_info": {
   "codemirror_mode": {
    "name": "ipython",
    "version": 3
   },
   "file_extension": ".py",
   "mimetype": "text/x-python",
   "name": "python",
   "nbconvert_exporter": "python",
   "pygments_lexer": "ipython3",
   "version": "3.12.0"
  }
 },
 "nbformat": 4,
 "nbformat_minor": 5
}
