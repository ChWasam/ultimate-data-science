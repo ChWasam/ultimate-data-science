{
 "cells": [
  {
   "cell_type": "code",
   "execution_count": null,
   "id": "1476d8e1",
   "metadata": {},
   "outputs": [
    {
     "ename": "TypeError",
     "evalue": "unsupported operand type(s) for +: 'int' and 'str'",
     "output_type": "error",
     "traceback": [
      "\u001b[31m---------------------------------------------------------------------------\u001b[39m",
      "\u001b[31mTypeError\u001b[39m                                 Traceback (most recent call last)",
      "\u001b[36mCell\u001b[39m\u001b[36m \u001b[39m\u001b[32mIn[1]\u001b[39m\u001b[32m, line 1\u001b[39m\n\u001b[32m----> \u001b[39m\u001b[32m1\u001b[39m \u001b[32;43m1\u001b[39;49m\u001b[43m \u001b[49m\u001b[43m+\u001b[49m\u001b[43m \u001b[49m\u001b[33;43m\"\u001b[39;49m\u001b[33;43m1\u001b[39;49m\u001b[33;43m\"\u001b[39;49m\n",
      "\u001b[31mTypeError\u001b[39m: unsupported operand type(s) for +: 'int' and 'str'"
     ]
    }
   ],
   "source": [
    "1 + \"1\"\n",
    "\n",
    "#  We are facing an error and this error is disrupting the flow of the code\n",
    "# you can think of an error as an exception\n",
    "# The issue with exception is it is currently breaking my code"
   ]
  },
  {
   "cell_type": "code",
   "execution_count": null,
   "id": "f2294796",
   "metadata": {},
   "outputs": [
    {
     "name": "stdout",
     "output_type": "stream",
     "text": [
      "1\n",
      "2\n",
      "3\n",
      "4\n"
     ]
    },
    {
     "ename": "ValueError",
     "evalue": "invalid literal for int() with base 10: 'hello'",
     "output_type": "error",
     "traceback": [
      "\u001b[31m---------------------------------------------------------------------------\u001b[39m",
      "\u001b[31mValueError\u001b[39m                                Traceback (most recent call last)",
      "\u001b[36mCell\u001b[39m\u001b[36m \u001b[39m\u001b[32mIn[3]\u001b[39m\u001b[32m, line 3\u001b[39m\n\u001b[32m      1\u001b[39m \u001b[38;5;28;01mfor\u001b[39;00m i \u001b[38;5;129;01min\u001b[39;00m \u001b[38;5;28mrange\u001b[39m(\u001b[32m5\u001b[39m):\n\u001b[32m      2\u001b[39m     a = \u001b[38;5;28minput\u001b[39m(\u001b[33m\"\u001b[39m\u001b[33mEnter a number\u001b[39m\u001b[33m\"\u001b[39m)\n\u001b[32m----> \u001b[39m\u001b[32m3\u001b[39m     a = \u001b[38;5;28;43mint\u001b[39;49m\u001b[43m(\u001b[49m\u001b[43ma\u001b[49m\u001b[43m)\u001b[49m\n\u001b[32m      4\u001b[39m     \u001b[38;5;28mprint\u001b[39m(a)\n\u001b[32m      6\u001b[39m \u001b[38;5;28mprint\u001b[39m(\u001b[33m\"\u001b[39m\u001b[33mhello - how are you.\u001b[39m\u001b[33m\"\u001b[39m)\n",
      "\u001b[31mValueError\u001b[39m: invalid literal for int() with base 10: 'hello'"
     ]
    }
   ],
   "source": [
    "for i in range(5):\n",
    "    a = input(\"Enter a number\")\n",
    "    a = int(a)\n",
    "    print(a)\n",
    "#  If i will input \"Hello\" then i am expecting a crash in my execution\n",
    "\n",
    "print(\"hello - how are you.\")\n",
    "\n",
    "#  In ideal case if user mention something wrong instead of crashing the python we want it to handle\n",
    "#  Enter something like your value is wrong please enter the value again. \n",
    "# or If this is not any correct value may be mention any bydefault value to handle it. But we want the whole code to run\n",
    "#  We dont want any error because after error the code will not run "
   ]
  },
  {
   "cell_type": "markdown",
   "id": "6a811ae3",
   "metadata": {},
   "source": [
    "# Try-Except"
   ]
  },
  {
   "cell_type": "markdown",
   "id": "ad14a28f",
   "metadata": {},
   "source": [
    "Try-Except-else finally\n",
    "\n",
    "When error occur we can say an exception occur \n",
    "To handle the exception first we need to catch it \n",
    "\n",
    "try:\n",
    "    We write our usual code in try block\n",
    "except:\n",
    "    If something goes wrong we should write how we are going to handle it.\n",
    "\n"
   ]
  },
  {
   "cell_type": "code",
   "execution_count": null,
   "id": "8a4bfd82",
   "metadata": {},
   "outputs": [
    {
     "ename": "ZeroDivisionError",
     "evalue": "division by zero",
     "output_type": "error",
     "traceback": [
      "\u001b[31m---------------------------------------------------------------------------\u001b[39m",
      "\u001b[31mZeroDivisionError\u001b[39m                         Traceback (most recent call last)",
      "\u001b[36mCell\u001b[39m\u001b[36m \u001b[39m\u001b[32mIn[3]\u001b[39m\u001b[32m, line 1\u001b[39m\n\u001b[32m----> \u001b[39m\u001b[32m1\u001b[39m \u001b[32;43m1\u001b[39;49m\u001b[43m/\u001b[49m\u001b[32;43m0\u001b[39;49m\n\u001b[32m      4\u001b[39m \u001b[38;5;66;03m#  This is the name of exception\u001b[39;00m\n\u001b[32m      5\u001b[39m \u001b[38;5;66;03m#  All the exception are object \u001b[39;00m\n\u001b[32m      6\u001b[39m \u001b[38;5;66;03m#  Some object (ZeroDivisionError) is being thrown based on the error\u001b[39;00m\n\u001b[32m      7\u001b[39m \u001b[38;5;66;03m#  Python Developers have already defined exceptions in Python\u001b[39;00m\n",
      "\u001b[31mZeroDivisionError\u001b[39m: division by zero"
     ]
    }
   ],
   "source": [
    "1/0\n",
    "\n",
    "\n",
    "#  This is the name of exception\n",
    "#  All the exception are object \n",
    "#  Some object (ZeroDivisionError) is being thrown based on the error\n",
    "#  Python Developers have already defined exceptions in Python, For the error you are generating.  These are called the pre defined exceptions\n",
    "# pre defined exceptions =>  Python Developers have already defined "
   ]
  },
  {
   "cell_type": "code",
   "execution_count": null,
   "id": "aa34b8ac",
   "metadata": {},
   "outputs": [
    {
     "ename": "SyntaxError",
     "evalue": "incomplete input (2702398236.py, line 1)",
     "output_type": "error",
     "traceback": [
      "  \u001b[36mCell\u001b[39m\u001b[36m \u001b[39m\u001b[32mIn[2]\u001b[39m\u001b[32m, line 1\u001b[39m\n\u001b[31m    \u001b[39m\u001b[31mprint(1\u001b[39m\n           ^\n\u001b[31mSyntaxError\u001b[39m\u001b[31m:\u001b[39m incomplete input\n"
     ]
    }
   ],
   "source": [
    "print(1\n",
    "    \n",
    "#  The exception here is SyntaxError"
   ]
  },
  {
   "cell_type": "code",
   "execution_count": null,
   "id": "1caec227",
   "metadata": {},
   "outputs": [
    {
     "name": "stdout",
     "output_type": "stream",
     "text": [
      "1\n",
      "2\n",
      "3\n",
      "4\n",
      "Issue with the program\n",
      "Hello world\n"
     ]
    }
   ],
   "source": [
    "try :\n",
    "    for i in range(5):\n",
    "        a = input(\"Enter a number\")\n",
    "        a = int(a)\n",
    "        print(a)\n",
    "except ValueError:\n",
    "    #  In except block if you not mention anything it will catch every type of exception \n",
    "    #  If something goes wrong print \" issue with the program \"\n",
    "    #  As we know what type of error above  block brings so we mentioned \"ValueError\"\n",
    "    print(\"Issue with the program\")\n",
    "\n",
    "print(\"Hello world\")\n",
    "\n",
    "\n",
    "\n",
    "\n",
    "#  We are not able to solve exact thing but our code is not breaking. We are able to handle the flow \n",
    "\n",
    "#  Python actually throw the error. If we won't be able to catch it it will show us in terminal. We try to catch the error."
   ]
  },
  {
   "cell_type": "code",
   "execution_count": 16,
   "id": "2b7de052",
   "metadata": {},
   "outputs": [
    {
     "name": "stdout",
     "output_type": "stream",
     "text": [
      "0.29411764705882354\n",
      "Issue with the program\n",
      "Hello world\n"
     ]
    }
   ],
   "source": [
    "try :\n",
    "    a = input(\"Enter a value : \")\n",
    "    a = int(a)\n",
    "    b = input(\"Enter a value to convert: \")\n",
    "    print(10/a)\n",
    "    int(b)\n",
    "except (ValueError):\n",
    "    print(\"Issue with the program\")\n",
    "\n",
    "print(\"Hello world\")"
   ]
  },
  {
   "cell_type": "code",
   "execution_count": null,
   "id": "8b87cc49",
   "metadata": {},
   "outputs": [
    {
     "name": "stdout",
     "output_type": "stream",
     "text": [
      "We have encountered error.\n",
      "Hello world\n"
     ]
    }
   ],
   "source": [
    "try : \n",
    "    a = 0\n",
    "    a = int(a)\n",
    "    b = \"abc\"\n",
    "    print(10/a)\n",
    "    int(b)\n",
    "except (ValueError, ZeroDivisionError):\n",
    "    print(\"We have encountered error.\")\n",
    "\n",
    "print(\"Hello world\")\n",
    "\n",
    "#  If i need to handle multiple errors at a time\n",
    "\n",
    "#  SyntaxError happen before the interpreter so we are not able to understand it "
   ]
  },
  {
   "cell_type": "code",
   "execution_count": 23,
   "id": "4f5d5e8f",
   "metadata": {},
   "outputs": [
    {
     "ename": "ZeroDivisionError",
     "evalue": "division by zero",
     "output_type": "error",
     "traceback": [
      "\u001b[31m---------------------------------------------------------------------------\u001b[39m",
      "\u001b[31mZeroDivisionError\u001b[39m                         Traceback (most recent call last)",
      "\u001b[36mCell\u001b[39m\u001b[36m \u001b[39m\u001b[32mIn[23]\u001b[39m\u001b[32m, line 4\u001b[39m\n\u001b[32m      2\u001b[39m a = \u001b[38;5;28mint\u001b[39m(a)\n\u001b[32m      3\u001b[39m b = \u001b[33m\"\u001b[39m\u001b[33mabc\u001b[39m\u001b[33m\"\u001b[39m\n\u001b[32m----> \u001b[39m\u001b[32m4\u001b[39m \u001b[38;5;28mprint\u001b[39m(\u001b[32;43m10\u001b[39;49m\u001b[43m/\u001b[49m\u001b[43ma\u001b[49m)\n\u001b[32m      5\u001b[39m \u001b[38;5;28mint\u001b[39m(b)\n\u001b[32m      8\u001b[39m \u001b[38;5;28mprint\u001b[39m(\u001b[33m\"\u001b[39m\u001b[33mHello world\u001b[39m\u001b[33m\"\u001b[39m)\n",
      "\u001b[31mZeroDivisionError\u001b[39m: division by zero"
     ]
    }
   ],
   "source": [
    "\n",
    "a = 0\n",
    "a = int(a)\n",
    "b = \"abc\"\n",
    "print(10/a)\n",
    "int(b)\n",
    "\n",
    "\n",
    "print(\"Hello world\")"
   ]
  },
  {
   "cell_type": "code",
   "execution_count": null,
   "id": "685d522c",
   "metadata": {},
   "outputs": [
    {
     "name": "stdout",
     "output_type": "stream",
     "text": [
      "We have encountered error.\n",
      "Hello world\n"
     ]
    }
   ],
   "source": [
    "try : \n",
    "    a = 0\n",
    "    a = int(a)\n",
    "    b = \"abc\"\n",
    "    print(10/a)\n",
    "    int(b)\n",
    "# except (ValueError, ZeroDivisionError)\n",
    "except:\n",
    "    print(\"We have encountered error.\")\n",
    "\n",
    "print(\"Hello world\")"
   ]
  },
  {
   "cell_type": "markdown",
   "id": "cfd10d32",
   "metadata": {},
   "source": [
    "* When you don't know what type of error you are gettig you should write plain try and plain except \n",
    "* And this is not a good practice\n",
    "* If we not specify any error with except we will never know what kind of error we are getting. \n",
    "* Then if we don't know what kind of error but  we still want to handle all kind of exceptions we will use \"Exception\" with except\n",
    "* This is a parent for all kind of exceptions\n",
    "\n",
    "* Parent error =>\n",
    "        Exception\n",
    "\n",
    "\n",
    "\n",
    "* Child error  => \n",
    "        ValueError,\n",
    "        ZeroDivisionError,\n",
    "        and many more \n",
    "\n",
    "\n",
    "* Our parent can catch any kind of its child  error \n",
    "\n"
   ]
  },
  {
   "cell_type": "code",
   "execution_count": null,
   "id": "f7ca948d",
   "metadata": {},
   "outputs": [
    {
     "name": "stdout",
     "output_type": "stream",
     "text": [
      "We have encountered error :  division by zero\n",
      "Hello world\n",
      "Hello world\n",
      "Hello world\n",
      "Hello world\n"
     ]
    }
   ],
   "source": [
    "try : \n",
    "    a = 0\n",
    "    a = int(a)\n",
    "    b = \"1\"\n",
    "    print(10/a)\n",
    "    int(b)\n",
    "# except (ValueError, ZeroDivisionError)\n",
    "except Exception as e:\n",
    "    #   e is nickname for Exception. This is called alias\n",
    "    #  like also import os as hello (alias) \n",
    "    # hello.listdir()\n",
    "    print(\"We have encountered error : \", e)\n",
    "\n",
    "print(\"Hello world\")\n",
    "print(\"Hello world\")\n",
    "print(\"Hello world\")\n",
    "print(\"Hello world\")"
   ]
  },
  {
   "cell_type": "code",
   "execution_count": 73,
   "id": "e89d5cf3",
   "metadata": {},
   "outputs": [],
   "source": [
    "import os as hello"
   ]
  },
  {
   "cell_type": "code",
   "execution_count": 29,
   "id": "69231d9e",
   "metadata": {},
   "outputs": [
    {
     "data": {
      "text/plain": [
       "['26-04-2025.ipynb']"
      ]
     },
     "execution_count": 29,
     "metadata": {},
     "output_type": "execute_result"
    }
   ],
   "source": [
    "hello.listdir()"
   ]
  },
  {
   "cell_type": "code",
   "execution_count": 74,
   "id": "b9bf66eb",
   "metadata": {},
   "outputs": [
    {
     "name": "stdout",
     "output_type": "stream",
     "text": [
      "User is trying to divide number by 0\n"
     ]
    }
   ],
   "source": [
    "try : \n",
    "    a = 0\n",
    "    a = int(a)\n",
    "    b = \"1\"\n",
    "    print(10/a)\n",
    "    int(b)\n",
    "except ValueError:\n",
    "    print(\"User is trying to convert alpha-character to integer\")\n",
    "except ZeroDivisionError:\n",
    "    print(\"User is trying to divide number by 0\")\n",
    "except Exception as e:\n",
    "    print(\"We have encountered error : \", e)"
   ]
  },
  {
   "cell_type": "code",
   "execution_count": 39,
   "id": "bab13128",
   "metadata": {},
   "outputs": [
    {
     "name": "stdout",
     "output_type": "stream",
     "text": [
      "We have encountered error :  division by zero\n"
     ]
    }
   ],
   "source": [
    "try : \n",
    "    a = 0\n",
    "    a = int(a)\n",
    "    b = \"1\"\n",
    "    print(10/a)\n",
    "    int(b)\n",
    "except Exception as e:\n",
    "    print(\"We have encountered error : \", e)"
   ]
  },
  {
   "cell_type": "code",
   "execution_count": null,
   "id": "0862ff07",
   "metadata": {},
   "outputs": [
    {
     "name": "stdout",
     "output_type": "stream",
     "text": [
      "We have encountered error :  division by zero\n",
      "Input section executed successfully\n"
     ]
    }
   ],
   "source": [
    "# input by user\n",
    "try : \n",
    "    a = 0\n",
    "    a = int(a)\n",
    "    b = \"1\"\n",
    "    print(10/a)\n",
    "    int(b)\n",
    "except Exception as e:\n",
    "    print(\"We have encountered error : \", e)\n",
    "finally:\n",
    "    print(\"Input section executed successfully\")\n",
    "#  Finally is a piece of code that runs always\n",
    "#  To show that this block of code has completed \n",
    "#  Finally is used for cleanup and close\n",
    "#  cleanup means  e.g. closing the file which is open in try snd handle exception in except\n",
    "\n",
    "# calculate\n",
    "def add():\n",
    "    pass"
   ]
  },
  {
   "cell_type": "code",
   "execution_count": null,
   "id": "87e27730",
   "metadata": {},
   "outputs": [
    {
     "name": "stdout",
     "output_type": "stream",
     "text": [
      "1.0\n",
      "No error encountered\n",
      "Input section executed successfully\n"
     ]
    }
   ],
   "source": [
    "try : \n",
    "    a = 10\n",
    "    a = int(a)\n",
    "    b = \"1\"\n",
    "    print(10/a)\n",
    "    int(b)\n",
    "except Exception as e:\n",
    "    print(\"We have encountered error : \", e)\n",
    "else :\n",
    "    print(\"No error encountered\")\n",
    "#  Runs only when there is no error in try block \n",
    "finally:\n",
    "    print(\"Input section executed successfully\")"
   ]
  },
  {
   "cell_type": "code",
   "execution_count": 46,
   "id": "d82f112a",
   "metadata": {},
   "outputs": [
    {
     "name": "stdout",
     "output_type": "stream",
     "text": [
      "division by zero\n",
      "Code executed successfully.\n"
     ]
    }
   ],
   "source": [
    "try : \n",
    "    a = input(\"Enter a value : \")\n",
    "    a = int(a)\n",
    "    a = 100/a\n",
    "except Exception as e:\n",
    "    print(e)\n",
    "else:\n",
    "    print(\"Result of operation is : \", a)\n",
    "finally:\n",
    "    print(\"Code executed successfully.\")"
   ]
  },
  {
   "cell_type": "code",
   "execution_count": null,
   "id": "b06041ec",
   "metadata": {},
   "outputs": [],
   "source": [
    "def take_input():\n",
    "    try : \n",
    "        a = input(\"Enter a value : \")\n",
    "        a = int(a)\n",
    "        a = 100/a\n",
    "    except Exception as e:\n",
    "        print(e)\n",
    "    else:\n",
    "        print(\"Result of operation is : \", a)\n",
    "    finally:\n",
    "        print(\"Code executed successfully.\")"
   ]
  },
  {
   "cell_type": "code",
   "execution_count": 48,
   "id": "493f7c59",
   "metadata": {},
   "outputs": [
    {
     "name": "stdout",
     "output_type": "stream",
     "text": [
      "Result of operation is :  8.333333333333334\n",
      "Code executed successfully.\n"
     ]
    }
   ],
   "source": [
    "take_input()"
   ]
  },
  {
   "cell_type": "code",
   "execution_count": null,
   "id": "be042f9f",
   "metadata": {},
   "outputs": [],
   "source": [
    "#  We want to create our own custom error condition \n",
    "# Throwing the error manually / User based error \n",
    "# In the previous errors behaviours is always fixed, You have no control over error \n",
    "# You can have exception handling for 10/0\n",
    "#  But if you think you also don't want 10/1\n",
    "#  Now you want to have your own messages on your own condition\n",
    "#  then use raise and type of error\n",
    "#  This error will be catch by exception\n",
    "\n",
    "#  In the below given example the condtion in if block could be \n",
    "#  if age_int > 0 or age_int < 100:\n",
    "#  But what if value is out of this range we can't do anything with it \n",
    "#  We will reverse the condition and mention raise \n",
    "\n",
    "\n",
    "def take_age(age):\n",
    "    try : \n",
    "        age_int = int(age)\n",
    "        if age_int<0 or age_int>100:\n",
    "            raise ValueError(\"Age is not in range, please try with a valid age\")\n",
    "            #  There are different type of errors that we can raise \n",
    "        else:\n",
    "            print(age_int)\n",
    "    except Exception as e:\n",
    "        print(e)\n",
    "    finally:\n",
    "        print(\"Code executed successfully.\")"
   ]
  },
  {
   "cell_type": "code",
   "execution_count": 62,
   "id": "9efd31b7",
   "metadata": {},
   "outputs": [
    {
     "name": "stdout",
     "output_type": "stream",
     "text": [
      "Age is not in range, please try with a valid age\n",
      "Code executed successfully.\n"
     ]
    }
   ],
   "source": [
    "take_age(-1)"
   ]
  },
  {
   "cell_type": "code",
   "execution_count": 63,
   "id": "b2de386c",
   "metadata": {},
   "outputs": [
    {
     "name": "stdout",
     "output_type": "stream",
     "text": [
      "Age is not in range, please try with a valid age\n",
      "Code executed successfully.\n"
     ]
    }
   ],
   "source": [
    "take_age(200)"
   ]
  },
  {
   "cell_type": "code",
   "execution_count": 60,
   "id": "b303c4e8",
   "metadata": {},
   "outputs": [
    {
     "ename": "ValueError",
     "evalue": "invalid literal for int() with base 10: 'abc'",
     "output_type": "error",
     "traceback": [
      "\u001b[31m---------------------------------------------------------------------------\u001b[39m",
      "\u001b[31mValueError\u001b[39m                                Traceback (most recent call last)",
      "\u001b[36mCell\u001b[39m\u001b[36m \u001b[39m\u001b[32mIn[60]\u001b[39m\u001b[32m, line 1\u001b[39m\n\u001b[32m----> \u001b[39m\u001b[32m1\u001b[39m \u001b[38;5;28;43mint\u001b[39;49m\u001b[43m(\u001b[49m\u001b[33;43m\"\u001b[39;49m\u001b[33;43mabc\u001b[39;49m\u001b[33;43m\"\u001b[39;49m\u001b[43m)\u001b[49m\n",
      "\u001b[31mValueError\u001b[39m: invalid literal for int() with base 10: 'abc'"
     ]
    }
   ],
   "source": [
    "int(\"abc\")"
   ]
  },
  {
   "cell_type": "code",
   "execution_count": null,
   "id": "53f78f39",
   "metadata": {},
   "outputs": [],
   "source": [
    "# leave(2, 26-26) > raise ValueError"
   ]
  },
  {
   "cell_type": "code",
   "execution_count": 69,
   "id": "a4def03c",
   "metadata": {},
   "outputs": [],
   "source": [
    "# break, continue, change the flow of the loop"
   ]
  },
  {
   "cell_type": "code",
   "execution_count": null,
   "id": "70db694f",
   "metadata": {},
   "outputs": [],
   "source": [
    "def take_age(age):\n",
    "    age_int = int(age)\n",
    "    if age_int<0 or age_int>100:\n",
    "        # raise ValueError(\"Age is not in range, please try with a valid age\")\n",
    "        raise ValueError(\"Error\")\n",
    "        # not mendatory to use with try and except\n",
    "        # It raises the error\n",
    "    else:\n",
    "        print(age_int)\n",
    "   "
   ]
  },
  {
   "cell_type": "code",
   "execution_count": 72,
   "id": "cb06527f",
   "metadata": {},
   "outputs": [
    {
     "ename": "ValueError",
     "evalue": "Error",
     "output_type": "error",
     "traceback": [
      "\u001b[31m---------------------------------------------------------------------------\u001b[39m",
      "\u001b[31mValueError\u001b[39m                                Traceback (most recent call last)",
      "\u001b[36mCell\u001b[39m\u001b[36m \u001b[39m\u001b[32mIn[72]\u001b[39m\u001b[32m, line 1\u001b[39m\n\u001b[32m----> \u001b[39m\u001b[32m1\u001b[39m \u001b[43mtake_age\u001b[49m\u001b[43m(\u001b[49m\u001b[43m-\u001b[49m\u001b[32;43m1\u001b[39;49m\u001b[43m)\u001b[49m\n",
      "\u001b[36mCell\u001b[39m\u001b[36m \u001b[39m\u001b[32mIn[70]\u001b[39m\u001b[32m, line 5\u001b[39m, in \u001b[36mtake_age\u001b[39m\u001b[34m(age)\u001b[39m\n\u001b[32m      2\u001b[39m age_int = \u001b[38;5;28mint\u001b[39m(age)\n\u001b[32m      3\u001b[39m \u001b[38;5;28;01mif\u001b[39;00m age_int<\u001b[32m0\u001b[39m \u001b[38;5;129;01mor\u001b[39;00m age_int>\u001b[32m100\u001b[39m:\n\u001b[32m      4\u001b[39m     \u001b[38;5;66;03m# raise ValueError(\"Age is not in range, please try with a valid age\")\u001b[39;00m\n\u001b[32m----> \u001b[39m\u001b[32m5\u001b[39m     \u001b[38;5;28;01mraise\u001b[39;00m \u001b[38;5;167;01mValueError\u001b[39;00m(\u001b[33m\"\u001b[39m\u001b[33mError\u001b[39m\u001b[33m\"\u001b[39m)\n\u001b[32m      6\u001b[39m \u001b[38;5;28;01melse\u001b[39;00m:\n\u001b[32m      7\u001b[39m     \u001b[38;5;28mprint\u001b[39m(age_int)\n",
      "\u001b[31mValueError\u001b[39m: Error"
     ]
    }
   ],
   "source": [
    "take_age(-1)"
   ]
  },
  {
   "cell_type": "markdown",
   "id": "f4b1b4e4",
   "metadata": {},
   "source": [
    "# OOPs"
   ]
  },
  {
   "cell_type": "code",
   "execution_count": 3,
   "id": "d9677961",
   "metadata": {},
   "outputs": [
    {
     "name": "stdout",
     "output_type": "stream",
     "text": [
      "<class 'int'>\n"
     ]
    }
   ],
   "source": [
    "print(type(1))"
   ]
  },
  {
   "cell_type": "code",
   "execution_count": null,
   "id": "64b8ea83",
   "metadata": {},
   "outputs": [],
   "source": []
  }
 ],
 "metadata": {
  "kernelspec": {
   "display_name": "Python 3",
   "language": "python",
   "name": "python3"
  },
  "language_info": {
   "codemirror_mode": {
    "name": "ipython",
    "version": 3
   },
   "file_extension": ".py",
   "mimetype": "text/x-python",
   "name": "python",
   "nbconvert_exporter": "python",
   "pygments_lexer": "ipython3",
   "version": "3.12.0"
  }
 },
 "nbformat": 4,
 "nbformat_minor": 5
}
