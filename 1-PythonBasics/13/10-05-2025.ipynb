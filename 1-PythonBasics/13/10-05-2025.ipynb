{
 "cells": [
  {
   "cell_type": "markdown",
   "id": "c2d87d5d",
   "metadata": {},
   "source": [
    "# Time Module"
   ]
  },
  {
   "cell_type": "code",
   "execution_count": null,
   "id": "2383b82f",
   "metadata": {},
   "outputs": [],
   "source": [
    "\"2025-10-05\" # YYYY-DD-MM\n",
    "\"08:13 PM IST\"\n",
    "\"9:47 AM CST\"\n",
    "\"10:47 AM ET\"\n",
    "\"UTC\" # Universal Time Coordinated  -->  Jan 1, 1970\n",
    "# unix time \n",
    "\n",
    "\"2PM\" # --> 12 hours format\n",
    "\"14\" # --> 24 hours format"
   ]
  },
  {
   "cell_type": "code",
   "execution_count": null,
   "id": "a5b1a608",
   "metadata": {},
   "outputs": [],
   "source": [
    "#  import time\n",
    "#  time.time()\n",
    "# time.ctime()\n",
    "# time.localtime()\n",
    "# # time.strftime(format, t)\n"
   ]
  },
  {
   "cell_type": "code",
   "execution_count": 2,
   "id": "fdb68342",
   "metadata": {},
   "outputs": [],
   "source": [
    "import time"
   ]
  },
  {
   "cell_type": "code",
   "execution_count": 2,
   "id": "adf776f0",
   "metadata": {},
   "outputs": [
    {
     "name": "stdout",
     "output_type": "stream",
     "text": [
      "1747629412.232595\n"
     ]
    }
   ],
   "source": [
    "print(time.time())\n",
    "#  this is current time \n",
    "#   In  sec \n",
    "#  Every  sec is being  counted from this day (Jan 1, 1970 )\n",
    "# The result of print(time.time()) is  e.g. 1746888589.0703895  sec starting from Jan 1, 1970 day \n",
    "#  where the integer part represents seconds and the fractional part represents microseconds\n"
   ]
  },
  {
   "cell_type": "code",
   "execution_count": 3,
   "id": "d356d055",
   "metadata": {},
   "outputs": [
    {
     "data": {
      "text/plain": [
       "float"
      ]
     },
     "execution_count": 3,
     "metadata": {},
     "output_type": "execute_result"
    }
   ],
   "source": [
    "type(time.time())"
   ]
  },
  {
   "cell_type": "code",
   "execution_count": 4,
   "id": "cd08b893",
   "metadata": {},
   "outputs": [
    {
     "name": "stdout",
     "output_type": "stream",
     "text": [
      "Mon Aug 11 00:30:15 2025\n"
     ]
    }
   ],
   "source": [
    "print(time.ctime())\n",
    "#  In 24 hour format"
   ]
  },
  {
   "cell_type": "code",
   "execution_count": 9,
   "id": "10892e1b",
   "metadata": {},
   "outputs": [
    {
     "data": {
      "text/plain": [
       "str"
      ]
     },
     "execution_count": 9,
     "metadata": {},
     "output_type": "execute_result"
    }
   ],
   "source": [
    "type(time.ctime())"
   ]
  },
  {
   "cell_type": "code",
   "execution_count": 5,
   "id": "e27ff0f1",
   "metadata": {},
   "outputs": [],
   "source": [
    "t1 = time.time()"
   ]
  },
  {
   "cell_type": "code",
   "execution_count": 6,
   "id": "ab5f2d15",
   "metadata": {},
   "outputs": [
    {
     "name": "stdout",
     "output_type": "stream",
     "text": [
      "1747629429.901396\n"
     ]
    }
   ],
   "source": [
    "print(t1)"
   ]
  },
  {
   "cell_type": "code",
   "execution_count": 7,
   "id": "e8450893",
   "metadata": {},
   "outputs": [
    {
     "name": "stdout",
     "output_type": "stream",
     "text": [
      "1747629468.398604\n"
     ]
    }
   ],
   "source": [
    "t2 = time.time()\n",
    "print(t2)"
   ]
  },
  {
   "cell_type": "code",
   "execution_count": 8,
   "id": "192789e7",
   "metadata": {},
   "outputs": [
    {
     "data": {
      "text/plain": [
       "38.49720788002014"
      ]
     },
     "execution_count": 8,
     "metadata": {},
     "output_type": "execute_result"
    }
   ],
   "source": [
    "t2-t1\n",
    "# 34 sec between t1 and t2"
   ]
  },
  {
   "cell_type": "code",
   "execution_count": 30,
   "id": "6ae0cc3a",
   "metadata": {},
   "outputs": [
    {
     "name": "stdout",
     "output_type": "stream",
     "text": [
      "time.struct_time(tm_year=2025, tm_mon=8, tm_mday=13, tm_hour=17, tm_min=51, tm_sec=50, tm_wday=2, tm_yday=225, tm_isdst=1)\n"
     ]
    }
   ],
   "source": [
    "# tm_yday --> day of the year (The day of the year (1–366))\n",
    "# tm_wday --> Week day (it started from 0)\n",
    "\n",
    "print(time.localtime())"
   ]
  },
  {
   "cell_type": "code",
   "execution_count": 31,
   "id": "a172cf51",
   "metadata": {},
   "outputs": [
    {
     "data": {
      "text/plain": [
       "13"
      ]
     },
     "execution_count": 31,
     "metadata": {},
     "output_type": "execute_result"
    }
   ],
   "source": [
    "time.localtime().tm_mday"
   ]
  },
  {
   "cell_type": "code",
   "execution_count": null,
   "id": "c6b0fc97",
   "metadata": {},
   "outputs": [],
   "source": [
    "# Meaning: Daylight Saving Time (DST) flag.\n",
    "\n",
    "# 0: DST is not in effect.\n",
    "# 1: DST is in effect.\n",
    "# -1: DST status is unknown (often used when the system determines it automatically)."
   ]
  },
  {
   "cell_type": "code",
   "execution_count": 12,
   "id": "d62e8ee6",
   "metadata": {},
   "outputs": [
    {
     "name": "stdout",
     "output_type": "stream",
     "text": [
      "<class 'time.struct_time'>\n"
     ]
    }
   ],
   "source": [
    "print(type(time.localtime()))"
   ]
  },
  {
   "cell_type": "code",
   "execution_count": 19,
   "id": "0eea7dfb",
   "metadata": {},
   "outputs": [],
   "source": [
    "time_ = time.localtime()"
   ]
  },
  {
   "cell_type": "code",
   "execution_count": 20,
   "id": "7e11a48b",
   "metadata": {},
   "outputs": [
    {
     "data": {
      "text/plain": [
       "20"
      ]
     },
     "execution_count": 20,
     "metadata": {},
     "output_type": "execute_result"
    }
   ],
   "source": [
    "time_.tm_hour"
   ]
  },
  {
   "cell_type": "code",
   "execution_count": 21,
   "id": "a715efe5",
   "metadata": {},
   "outputs": [
    {
     "data": {
      "text/plain": [
       "33"
      ]
     },
     "execution_count": 21,
     "metadata": {},
     "output_type": "execute_result"
    }
   ],
   "source": [
    "time_.tm_min"
   ]
  },
  {
   "cell_type": "code",
   "execution_count": 22,
   "id": "be205776",
   "metadata": {},
   "outputs": [],
   "source": [
    "t3 = time.time()"
   ]
  },
  {
   "cell_type": "code",
   "execution_count": 25,
   "id": "91ffec70",
   "metadata": {},
   "outputs": [
    {
     "data": {
      "text/plain": [
       "0.1501510246594747"
      ]
     },
     "execution_count": 25,
     "metadata": {},
     "output_type": "execute_result"
    }
   ],
   "source": [
    "(t3-t1)/60/60"
   ]
  },
  {
   "cell_type": "markdown",
   "id": "d58d738b",
   "metadata": {},
   "source": [
    "# time.strftime(format, t)"
   ]
  },
  {
   "cell_type": "markdown",
   "id": "2d342e2b",
   "metadata": {},
   "source": [
    "```bash\n",
    "%M - minutes\n",
    "%m - month\n",
    "%d - date\n",
    "%Y - YYYY Year format\n",
    "%H - Hour\n",
    "%S - Seconds\n",
    "%y - YY year format\n",
    "```"
   ]
  },
  {
   "cell_type": "code",
   "execution_count": 34,
   "id": "a3b1df4a",
   "metadata": {},
   "outputs": [
    {
     "name": "stdout",
     "output_type": "stream",
     "text": [
      "2025-05-10 20:39:28\n"
     ]
    }
   ],
   "source": [
    "print(time.strftime(\"%Y-%m-%d %H:%M:%S\", time.localtime()))"
   ]
  },
  {
   "cell_type": "code",
   "execution_count": 35,
   "id": "4b166e7b",
   "metadata": {},
   "outputs": [
    {
     "name": "stdout",
     "output_type": "stream",
     "text": [
      "2025-05-10\n"
     ]
    }
   ],
   "source": [
    "print(time.strftime(\"%Y-%m-%d\", time.localtime()))"
   ]
  },
  {
   "cell_type": "code",
   "execution_count": 36,
   "id": "3665932f",
   "metadata": {},
   "outputs": [
    {
     "name": "stdout",
     "output_type": "stream",
     "text": [
      "25-05-10\n"
     ]
    }
   ],
   "source": [
    "print(time.strftime(\"%y-%m-%d\", time.localtime()))"
   ]
  },
  {
   "cell_type": "code",
   "execution_count": null,
   "id": "6568ccb0",
   "metadata": {},
   "outputs": [
    {
     "name": "stdout",
     "output_type": "stream",
     "text": [
      "Asia/Karachi\n",
      "2025-08-14 02:59:33.363414+05:00\n",
      "2025-08-14 02:59:33.388100+05:00\n",
      "PKT from timestamp: 2025-08-14 02:59:33 AM PKT\n",
      "IST from timestamp: 2025-08-14 03:29:33 AM IST\n"
     ]
    }
   ],
   "source": [
    "import time\n",
    "from datetime import datetime\n",
    "import pytz\n",
    "# pytz stands for Python Time Zone\"\n",
    "\n",
    "timestamp = time.time()\n",
    "pkt_tz = pytz.timezone('Asia/Karachi')\n",
    "ist_tz = pytz.timezone('Asia/Kolkata')\n",
    "\n",
    "print(pytz.timezone('Asia/Karachi'))\n",
    "print(datetime.fromtimestamp(timestamp, pkt_tz))\n",
    "# We can use this one instead both are same \n",
    "print(datetime.now(pkt_tz))\n",
    "\n",
    "pkt_time = datetime.fromtimestamp(timestamp, pkt_tz).strftime('%Y-%m-%d %I:%M:%S %p %Z')\n",
    "# %p => Locale’s equivalent of either AM or PM.\n",
    "# %Z => Timezone name or abbreviation\n",
    "\n",
    "print(f\"PKT from timestamp: {pkt_time}\")\n",
    "print(f\"IST from timestamp: {ist_time}\")"
   ]
  },
  {
   "cell_type": "code",
   "execution_count": 12,
   "id": "a80d8ae9",
   "metadata": {},
   "outputs": [
    {
     "name": "stdout",
     "output_type": "stream",
     "text": [
      "Current UTC time: 2025-05-19 05:02:58 AM UTC\n"
     ]
    }
   ],
   "source": [
    "from datetime import datetime\n",
    "import pytz\n",
    "\n",
    "# Get current UTC time\n",
    "utc_tz = pytz.timezone('UTC')\n",
    "utc_time = datetime.now(utc_tz)\n",
    "\n",
    "# Format in 12-hour standard time with AM/PM\n",
    "formatted_utc_time = utc_time.strftime('%Y-%m-%d %I:%M:%S %p %Z')\n",
    "\n",
    "print(f\"Current UTC time: {formatted_utc_time}\")"
   ]
  },
  {
   "cell_type": "markdown",
   "id": "2776e6a4",
   "metadata": {},
   "source": [
    "# Fstring"
   ]
  },
  {
   "cell_type": "code",
   "execution_count": 38,
   "id": "a3ff8bbd",
   "metadata": {},
   "outputs": [
    {
     "name": "stdout",
     "output_type": "stream",
     "text": [
      "Hello how are you, Monal\n"
     ]
    }
   ],
   "source": [
    "name = \"Monal\"\n",
    "print(f\"Hello how are you, {name}\")"
   ]
  },
  {
   "cell_type": "code",
   "execution_count": 39,
   "id": "b24b3a9b",
   "metadata": {},
   "outputs": [],
   "source": [
    "pi = 3.1415926535"
   ]
  },
  {
   "cell_type": "code",
   "execution_count": null,
   "id": "8aeb3b8b",
   "metadata": {},
   "outputs": [
    {
     "name": "stdout",
     "output_type": "stream",
     "text": [
      "The value of Pi is : 3.14\n"
     ]
    }
   ],
   "source": [
    "print(f\"The value of Pi is : {pi:.2f}\")\n",
    "\n",
    "# So, :.2f tells Python to format the value of pi as a floating-point number with exactly two digits after the decimal point.\n",
    "# The value of pi (3.1415926535) is rounded to two decimal places, becoming 3.14."
   ]
  },
  {
   "cell_type": "code",
   "execution_count": 45,
   "id": "1e63cf8b",
   "metadata": {},
   "outputs": [
    {
     "name": "stdout",
     "output_type": "stream",
     "text": [
      "First person name is : Monal, second person name is : Shoban, third person name is : Pavan\n"
     ]
    }
   ],
   "source": [
    "name_1 = \"Monal\"\n",
    "name_2 = \"Shoban\"\n",
    "name_3 = \"Pavan\"\n",
    "## Via .format()\n",
    "\n",
    "print(f\"First person name is : {name_1}, second person name is : {name_2}, third person name is : {name_3}\")"
   ]
  },
  {
   "cell_type": "code",
   "execution_count": null,
   "id": "09db41fa",
   "metadata": {},
   "outputs": [
    {
     "name": "stdout",
     "output_type": "stream",
     "text": [
      "First person name is : Monal, second person name is : Shoban, third person name is : Pavan\n"
     ]
    }
   ],
   "source": [
    "print(\"First person name is : {a}, second person name is : {b}, third person name is : {c}\".format(a=\"Monal\", b=\"Shoban\", c=\"Pavan\"))"
   ]
  },
  {
   "cell_type": "code",
   "execution_count": 47,
   "id": "ddcebbed",
   "metadata": {},
   "outputs": [
    {
     "name": "stdout",
     "output_type": "stream",
     "text": [
      "First person name is : Monal, second person name is : Shoban, third person name is : Pavan\n"
     ]
    }
   ],
   "source": [
    "print(\"First person name is : {a}, second person name is : {b}, third person name is : {c}\".format(a=name_1, b=name_2, c=name_3))"
   ]
  },
  {
   "cell_type": "markdown",
   "id": "b31e4dda",
   "metadata": {},
   "source": [
    "# Decorators\n",
    "- It is a function that takes another function as input and returns a new function. \n",
    "- This new function will have added functionality without modifying the orignal function code. \n",
    "\n",
    "\n",
    "- More explaination and usecases in notes "
   ]
  },
  {
   "cell_type": "code",
   "execution_count": 7,
   "id": "58d1b5b8",
   "metadata": {},
   "outputs": [],
   "source": [
    "def research():\n",
    "    print(\"Start\")\n",
    "    time.sleep(5) # wait for 5 sec\n",
    "    print(\"Complete\")"
   ]
  },
  {
   "cell_type": "code",
   "execution_count": 8,
   "id": "1b9249c4",
   "metadata": {},
   "outputs": [
    {
     "name": "stdout",
     "output_type": "stream",
     "text": [
      "Start\n",
      "Complete\n"
     ]
    }
   ],
   "source": [
    "research()"
   ]
  },
  {
   "cell_type": "markdown",
   "id": "45ba058b",
   "metadata": {},
   "source": [
    "# Flow of obj as argument"
   ]
  },
  {
   "cell_type": "code",
   "execution_count": 9,
   "id": "3ef1d193",
   "metadata": {},
   "outputs": [],
   "source": [
    "class A:\n",
    "    def print_hello(self):\n",
    "        print(\"Hello\")\n",
    "\n",
    "def show_hello(obj):\n",
    "    #  obj is a reference \n",
    "    obj.print_hello()"
   ]
  },
  {
   "cell_type": "code",
   "execution_count": 10,
   "id": "4d11d261",
   "metadata": {},
   "outputs": [],
   "source": [
    "a = A()"
   ]
  },
  {
   "cell_type": "code",
   "execution_count": 11,
   "id": "68de095c",
   "metadata": {},
   "outputs": [
    {
     "name": "stdout",
     "output_type": "stream",
     "text": [
      "Hello\n"
     ]
    }
   ],
   "source": [
    "show_hello(a)"
   ]
  },
  {
   "cell_type": "markdown",
   "id": "ab1ac4e9",
   "metadata": {},
   "source": [
    "# decorator"
   ]
  },
  {
   "cell_type": "code",
   "execution_count": 12,
   "id": "164cd1dc",
   "metadata": {},
   "outputs": [],
   "source": [
    "def time_it(func):\n",
    "    def wrapper():\n",
    "        t1 = time.time()\n",
    "        print(f\"Time start is : {t1}\")\n",
    "        func()\n",
    "        t2 = time.time()\n",
    "        print(f\"Time start is : {t2}\")\n",
    "        t = t2-t1\n",
    "        print(f\"Time taken is : {t} seconds\")\n",
    "    return wrapper"
   ]
  },
  {
   "cell_type": "code",
   "execution_count": 13,
   "id": "1e05edf6",
   "metadata": {},
   "outputs": [],
   "source": [
    "research = time_it(research)\n",
    "#  here the address of time_it(research) is given to research and because of the address pointed to research we can call that function as research()"
   ]
  },
  {
   "cell_type": "code",
   "execution_count": 14,
   "id": "e5fb1e6e",
   "metadata": {},
   "outputs": [
    {
     "name": "stdout",
     "output_type": "stream",
     "text": [
      "Time start is : 1755110784.6354141\n",
      "Start\n",
      "Complete\n",
      "Time start is : 1755110789.641004\n",
      "Time taken is : 5.005589962005615 seconds\n"
     ]
    }
   ],
   "source": [
    "research()"
   ]
  },
  {
   "cell_type": "markdown",
   "id": "1ad67474",
   "metadata": {},
   "source": [
    "# Python sugar"
   ]
  },
  {
   "cell_type": "code",
   "execution_count": 17,
   "id": "0390fee7",
   "metadata": {},
   "outputs": [],
   "source": [
    "# add = time_it(add) and @time_it both are the same \n",
    "#  here the address of time_it(add) is given to add and because of the address pointed to add we can call that function as add()\n",
    "\n",
    "\n",
    "@time_it\n",
    "def add():\n",
    "    print(1+1)\n",
    "    time.sleep(10)\n",
    "    print(1+2)"
   ]
  },
  {
   "cell_type": "code",
   "execution_count": 18,
   "id": "087db0d2",
   "metadata": {},
   "outputs": [
    {
     "name": "stdout",
     "output_type": "stream",
     "text": [
      "Time start is : 1755110891.13762\n",
      "2\n",
      "3\n",
      "Time start is : 1755110901.139565\n",
      "Time taken is : 10.00194501876831 seconds\n"
     ]
    }
   ],
   "source": [
    "add() # This add is not this def add(): => This is actually the wrapper\n",
    "#  What if we need to add the arguments into fuction \n",
    "#Solution given below "
   ]
  },
  {
   "cell_type": "code",
   "execution_count": 24,
   "id": "d213217a",
   "metadata": {},
   "outputs": [],
   "source": [
    "def log_time_it(func):\n",
    "    def wrapper(*args, **kwargs): # *args dtype is tuple\n",
    "        print(\"wrapper start\")\n",
    "        t1 = time.time()\n",
    "        func(*args, **kwargs)\n",
    "        t2 = time.time()\n",
    "        t = t2-t1\n",
    "        print(f\"Time taken is : {t} seconds\")\n",
    "        print(\"wrapper ends\")\n",
    "    return wrapper"
   ]
  },
  {
   "cell_type": "code",
   "execution_count": 25,
   "id": "19de0d96",
   "metadata": {},
   "outputs": [],
   "source": [
    "def add(a,b,c,d):\n",
    "    print(a+b+c)\n",
    "    print(a+b+c)\n",
    "    time.sleep(2)\n",
    "    print(a+b+c)\n",
    "    print(a+b+c)"
   ]
  },
  {
   "cell_type": "code",
   "execution_count": 26,
   "id": "782eb858",
   "metadata": {},
   "outputs": [],
   "source": [
    "add = log_time_it(add)\n"
   ]
  },
  {
   "cell_type": "code",
   "execution_count": 28,
   "id": "e8b04853",
   "metadata": {},
   "outputs": [
    {
     "name": "stdout",
     "output_type": "stream",
     "text": [
      "wrapper start\n",
      "6\n",
      "6\n",
      "6\n",
      "6\n",
      "Time taken is : 2.0037178993225098 seconds\n",
      "wrapper ends\n"
     ]
    }
   ],
   "source": [
    "add(1,2,3,4)"
   ]
  },
  {
   "cell_type": "code",
   "execution_count": 32,
   "id": "9207d0e3",
   "metadata": {},
   "outputs": [],
   "source": [
    "# python sugar\n",
    "@log_time_it\n",
    "def add(a,b,c,d):\n",
    "    print(a+b+c)\n",
    "    print(a+b+c)\n",
    "    time.sleep(2)\n",
    "    print(a+b+c)\n",
    "    print(a+b+c)\n",
    "\n"
   ]
  },
  {
   "cell_type": "code",
   "execution_count": 33,
   "id": "dd7341ae",
   "metadata": {},
   "outputs": [
    {
     "name": "stdout",
     "output_type": "stream",
     "text": [
      "wrapper start\n",
      "6\n",
      "6\n",
      "6\n",
      "6\n",
      "Time taken is : 2.005326986312866 seconds\n",
      "wrapper ends\n"
     ]
    }
   ],
   "source": [
    "add(1,2,3,4)"
   ]
  },
  {
   "cell_type": "markdown",
   "id": "3a32aa70",
   "metadata": {},
   "source": [
    "# ClassMethod\n",
    "\n",
    "- It is a method that is bound to the class not the instance"
   ]
  },
  {
   "cell_type": "code",
   "execution_count": null,
   "id": "76518559",
   "metadata": {},
   "outputs": [],
   "source": [
    "class B:\n",
    "\n",
    "    a = 100 # class variable  # These are class  bound  # Can Access without  making object # Hence  Has different memory than object one as mentioned before \n",
    "\n",
    "    def __init__(self):\n",
    "        self.a = 100 # instance variable # These are object bound  # Belong to each object # Acces by making object first # Hence  Has different memory as mentioned before\n",
    "\n",
    "    def hello(self):\n",
    "        print(\"hello world\")\n",
    "    #  we cannot access this method without creating the object \n",
    "    #  These type of methods are called object bound method"
   ]
  },
  {
   "cell_type": "code",
   "execution_count": 95,
   "id": "74a67b33",
   "metadata": {},
   "outputs": [
    {
     "ename": "TypeError",
     "evalue": "B.hello() missing 1 required positional argument: 'self'",
     "output_type": "error",
     "traceback": [
      "\u001b[31m---------------------------------------------------------------------------\u001b[39m",
      "\u001b[31mTypeError\u001b[39m                                 Traceback (most recent call last)",
      "\u001b[36mCell\u001b[39m\u001b[36m \u001b[39m\u001b[32mIn[95]\u001b[39m\u001b[32m, line 1\u001b[39m\n\u001b[32m----> \u001b[39m\u001b[32m1\u001b[39m \u001b[43mB\u001b[49m\u001b[43m.\u001b[49m\u001b[43mhello\u001b[49m\u001b[43m(\u001b[49m\u001b[43m)\u001b[49m\n",
      "\u001b[31mTypeError\u001b[39m: B.hello() missing 1 required positional argument: 'self'"
     ]
    }
   ],
   "source": [
    "B.hello()"
   ]
  },
  {
   "cell_type": "code",
   "execution_count": 96,
   "id": "c1591585",
   "metadata": {},
   "outputs": [
    {
     "data": {
      "text/plain": [
       "100"
      ]
     },
     "execution_count": 96,
     "metadata": {},
     "output_type": "execute_result"
    }
   ],
   "source": [
    "B.a"
   ]
  },
  {
   "cell_type": "code",
   "execution_count": 19,
   "id": "92af5da8",
   "metadata": {},
   "outputs": [],
   "source": [
    "class Memory:\n",
    "    total_memory = 128\n",
    "\n",
    "    #  If we will make many of object this value will be shared same  between  all \n",
    "    #  Change in class vaiable will reflect change in all classes\n",
    "    # If we change the class variable in any of the object we will also see the change in other object also because class variable are shared\n",
    "\n",
    "    @classmethod\n",
    "    def update_memory(cls, m):\n",
    "        cls.total_memory-=m\n",
    "    # self is the reference of the object , while cls is reference of Class memory \n",
    "\n",
    "    def check_memory(self): # add self to makle it part of the object\n",
    "        print(Memory.total_memory)"
   ]
  },
  {
   "cell_type": "code",
   "execution_count": 20,
   "id": "0530d3a4",
   "metadata": {},
   "outputs": [
    {
     "data": {
      "text/plain": [
       "128"
      ]
     },
     "execution_count": 20,
     "metadata": {},
     "output_type": "execute_result"
    }
   ],
   "source": [
    "Memory.total_memory"
   ]
  },
  {
   "cell_type": "code",
   "execution_count": 21,
   "id": "4e5401a4",
   "metadata": {},
   "outputs": [],
   "source": [
    "Memory.update_memory(100)"
   ]
  },
  {
   "cell_type": "code",
   "execution_count": 22,
   "id": "5e17de6c",
   "metadata": {},
   "outputs": [
    {
     "data": {
      "text/plain": [
       "28"
      ]
     },
     "execution_count": 22,
     "metadata": {},
     "output_type": "execute_result"
    }
   ],
   "source": [
    "Memory.total_memory"
   ]
  },
  {
   "cell_type": "code",
   "execution_count": 23,
   "id": "fea8d661",
   "metadata": {},
   "outputs": [],
   "source": [
    "m1 = Memory()"
   ]
  },
  {
   "cell_type": "code",
   "execution_count": 24,
   "id": "d2bd432c",
   "metadata": {},
   "outputs": [
    {
     "name": "stdout",
     "output_type": "stream",
     "text": [
      "28\n"
     ]
    }
   ],
   "source": [
    "m1.check_memory()"
   ]
  },
  {
   "cell_type": "code",
   "execution_count": 25,
   "id": "9de93c92",
   "metadata": {},
   "outputs": [],
   "source": [
    "m2 = Memory()"
   ]
  },
  {
   "cell_type": "code",
   "execution_count": 26,
   "id": "767959b7",
   "metadata": {},
   "outputs": [
    {
     "name": "stdout",
     "output_type": "stream",
     "text": [
      "28\n"
     ]
    }
   ],
   "source": [
    "m2.check_memory()"
   ]
  },
  {
   "cell_type": "code",
   "execution_count": null,
   "id": "b2708f8d",
   "metadata": {},
   "outputs": [],
   "source": [
    "# Most common usecase is   Alternate constructor \n",
    "# We can initialize constructor using class method "
   ]
  },
  {
   "cell_type": "code",
   "execution_count": null,
   "id": "ed254522",
   "metadata": {},
   "outputs": [],
   "source": [
    "class DummyA:\n",
    "    def __init__(self, name,age):\n",
    "        self.name = name\n",
    "        self.age = age\n",
    "\n",
    "    @classmethod\n",
    "    def from_fullname(cls, name): # \"Monal 30\"\n",
    "        name, age = name.split()\n",
    "        return cls(name, age) # This will initialize the constructor \n",
    "    \n",
    "    def print_data(self):\n",
    "        print(self.name)\n",
    "        print(self.age)"
   ]
  },
  {
   "cell_type": "code",
   "execution_count": 114,
   "id": "59deb4e3",
   "metadata": {},
   "outputs": [],
   "source": [
    "# DummyA(\"Monal\", \"30\")"
   ]
  },
  {
   "cell_type": "code",
   "execution_count": 116,
   "id": "5cce54dc",
   "metadata": {},
   "outputs": [],
   "source": [
    "obj_class_method = DummyA.from_fullname(\"Monal 30\")"
   ]
  },
  {
   "cell_type": "code",
   "execution_count": 117,
   "id": "612f6dd9",
   "metadata": {},
   "outputs": [
    {
     "name": "stdout",
     "output_type": "stream",
     "text": [
      "Monal\n",
      "30\n"
     ]
    }
   ],
   "source": [
    "obj_class_method.print_data()"
   ]
  },
  {
   "cell_type": "code",
   "execution_count": null,
   "id": "c09f272d",
   "metadata": {},
   "outputs": [],
   "source": [
    "# We can initialize constructor using class method \n",
    "#  Just a different way to do it"
   ]
  },
  {
   "cell_type": "markdown",
   "id": "bc3f14a7",
   "metadata": {},
   "source": [
    "# Static Methods"
   ]
  },
  {
   "cell_type": "code",
   "execution_count": null,
   "id": "1cf94188",
   "metadata": {},
   "outputs": [],
   "source": [
    "# These methods does not depends on self or cls\n",
    "\n",
    "class Calculator:\n",
    "\n",
    "    @staticmethod\n",
    "    def add(a, b):\n",
    "        print(a+b)\n",
    "\n",
    "    @staticmethod\n",
    "    def multiply(a, b):\n",
    "        print(a*b)\n",
    "\n",
    "    def all(self, a, b):\n",
    "        print(Calculator.add(a,b))\n",
    "        print(\"doing something\")\n",
    "        print(Calculator.multiply(a,b))\n",
    "\n",
    "\n",
    "\n",
    "#  You have created a very good class but you don't have to always create the object for it because they are very general and used alot \n",
    "\n",
    "#  like os.getcwd()\n",
    "\n",
    "#  we want them to be part of systematic code that is why we don't take them out of the class \n",
    "\n",
    "        "
   ]
  },
  {
   "cell_type": "code",
   "execution_count": 22,
   "id": "9ec73c90",
   "metadata": {},
   "outputs": [
    {
     "name": "stdout",
     "output_type": "stream",
     "text": [
      "3\n"
     ]
    }
   ],
   "source": [
    "Calculator.add(1,2)"
   ]
  },
  {
   "cell_type": "code",
   "execution_count": 128,
   "id": "99870eda",
   "metadata": {},
   "outputs": [],
   "source": [
    "c = Calculator()"
   ]
  },
  {
   "cell_type": "code",
   "execution_count": 129,
   "id": "013e9f13",
   "metadata": {},
   "outputs": [
    {
     "name": "stdout",
     "output_type": "stream",
     "text": [
      "3\n",
      "None\n",
      "doing something\n",
      "2\n",
      "None\n"
     ]
    }
   ],
   "source": [
    "c.all(1,2)"
   ]
  },
  {
   "cell_type": "code",
   "execution_count": 125,
   "id": "c6d1560c",
   "metadata": {},
   "outputs": [
    {
     "name": "stdout",
     "output_type": "stream",
     "text": [
      "3\n"
     ]
    }
   ],
   "source": [
    "c.add(1,2)"
   ]
  },
  {
   "cell_type": "code",
   "execution_count": 130,
   "id": "97ca6202",
   "metadata": {},
   "outputs": [
    {
     "ename": "TypeError",
     "evalue": "Calculator.all() missing 1 required positional argument: 'b'",
     "output_type": "error",
     "traceback": [
      "\u001b[31m---------------------------------------------------------------------------\u001b[39m",
      "\u001b[31mTypeError\u001b[39m                                 Traceback (most recent call last)",
      "\u001b[36mCell\u001b[39m\u001b[36m \u001b[39m\u001b[32mIn[130]\u001b[39m\u001b[32m, line 1\u001b[39m\n\u001b[32m----> \u001b[39m\u001b[32m1\u001b[39m \u001b[43mCalculator\u001b[49m\u001b[43m.\u001b[49m\u001b[43mall\u001b[49m\u001b[43m(\u001b[49m\u001b[32;43m1\u001b[39;49m\u001b[43m,\u001b[49m\u001b[32;43m2\u001b[39;49m\u001b[43m)\u001b[49m\n",
      "\u001b[31mTypeError\u001b[39m: Calculator.all() missing 1 required positional argument: 'b'"
     ]
    }
   ],
   "source": [
    "Calculator.all(1,2)"
   ]
  },
  {
   "cell_type": "code",
   "execution_count": null,
   "id": "d02717f7",
   "metadata": {},
   "outputs": [],
   "source": [
    "# factory logic like memory example (as we  want memory distributed between objects )  --> cls --> @classmethods\n",
    "# function grouped in a class --> @staticmethods\n",
    "# need instance state (If you want all variale to have different state ) --> instance methods and variables "
   ]
  },
  {
   "cell_type": "code",
   "execution_count": null,
   "id": "0aa1af1b",
   "metadata": {},
   "outputs": [],
   "source": [
    "# Tell me where to use and what is the difference between static methods and class methods un python in very easy way with easy examples ? "
   ]
  },
  {
   "cell_type": "markdown",
   "id": "a485225b",
   "metadata": {},
   "source": [
    "In Python, **static methods** and **class methods** are special types of methods in a class that differ from regular instance methods. They are defined using decorators (`@staticmethod` and `@classmethod`) and serve different purposes. Let’s break it down in a simple way with examples.\n",
    "\n",
    "### **1. Static Methods**\n",
    "- **What are they?**\n",
    "  - Static methods are methods that belong to a class but **don’t need access to the class or its instances**. They behave like regular functions but are defined inside a class for organization.\n",
    "  - They don’t take `self` (instance) or `cls` (class) as the first parameter.\n",
    "  - Use the `@staticmethod` decorator.\n",
    "\n",
    "- **When to use?**\n",
    "  - Use static methods when you want a function related to the class, but it doesn’t need to access or modify the class or instance data.\n",
    "  - Think of it as a utility function that logically belongs to the class.\n",
    "\n",
    "- **Example**:\n",
    "```python\n",
    "class MathUtils:\n",
    "    @staticmethod\n",
    "    def add(a, b):\n",
    "        return a + b\n",
    "\n",
    "# Call the static method\n",
    "result = MathUtils.add(5, 3)\n",
    "print(result)  # Output: 8\n",
    "```\n",
    "Here, `add` is a static method that just adds two numbers. It doesn’t need to know anything about the class or its instances.\n",
    "\n",
    "### **2. Class Methods**\n",
    "- **What are they?**\n",
    "  - Class methods are methods that operate on the **class itself** rather than an instance. They take the class (`cls`) as the first parameter.\n",
    "  - Use the `@classmethod` decorator.\n",
    "  - They can access and modify class-level data (shared across all instances).\n",
    "\n",
    "- **When to use?**\n",
    "  - Use class methods when you need to work with the class itself or create alternative ways to create instances (e.g., factory methods).\n",
    "  - Common for defining alternative constructors or accessing class-level attributes.\n",
    "\n",
    "- **Example**:\n",
    "```python\n",
    "class Car:\n",
    "    total_cars = 0  # Class-level variable\n",
    "\n",
    "    def __init__(self, name):\n",
    "        self.name = name\n",
    "        Car.total_cars += 1\n",
    "\n",
    "    @classmethod\n",
    "    def get_total_cars(cls):\n",
    "        return cls.total_cars\n",
    "\n",
    "# Create some cars\n",
    "car1 = Car(\"Toyota\")\n",
    "car2 = Car(\"Honda\")\n",
    "\n",
    "# Call the class method\n",
    "print(Car.get_total_cars())  # Output: 2\n",
    "```\n",
    "Here, `get_total_cars` is a class method that accesses the class variable `total_cars` to return how many cars were created.\n",
    "\n",
    "### **Key Differences**\n",
    "| **Feature**           | **Static Method**                              | **Class Method**                              |\n",
    "|-----------------------|-----------------------------------------------|----------------------------------------------|\n",
    "| **Decorator**         | `@staticmethod`                                | `@classmethod`                               |\n",
    "| **First Parameter**   | None (just like a regular function)           | `cls` (refers to the class)                  |\n",
    "| **Access**            | No access to class or instance data           | Can access/modify class-level data           |\n",
    "| **Use Case**          | Utility functions related to the class        | Operations involving the class itself        |\n",
    "| **Call**              | `ClassName.method()` or `instance.method()`   | `ClassName.method()` or `instance.method()`  |\n",
    "\n",
    "### **Another Example to Compare**\n",
    "```python\n",
    "class Pizza:\n",
    "    # Class variable\n",
    "    pizza_size = \"Medium\"\n",
    "\n",
    "    @staticmethod\n",
    "    def get_ingredients():\n",
    "        return [\"cheese\", \"tomato\", \"dough\"]\n",
    "\n",
    "    @classmethod\n",
    "    def change_size(cls, new_size):\n",
    "        cls.pizza_size = new_size\n",
    "        return cls.pizza_size\n",
    "\n",
    "# Using static method\n",
    "print(Pizza.get_ingredients())  # Output: ['cheese', 'tomato', 'dough']\n",
    "\n",
    "# Using class method\n",
    "print(Pizza.change_size(\"Large\"))  # Output: Large\n",
    "print(Pizza.pizza_size)  # Output: Large\n",
    "```\n",
    "- `get_ingredients` (static) just returns a list and doesn’t need the class or instance.\n",
    "- `change_size` (class method) modifies the class variable `pizza_size`.\n",
    "\n",
    "### **When to Use Which?**\n",
    "- **Static Method**: Use for helper functions that don’t need class or instance data, like calculations or formatting (e.g., `MathUtils.add`).\n",
    "- **Class Method**: Use when you need to work with the class itself, like modifying class variables or creating alternative constructors (e.g., `Car.get_total_cars`).\n",
    "\n",
    "This keeps it simple and clear! Let me know if you want more examples or clarification."
   ]
  },
  {
   "cell_type": "code",
   "execution_count": null,
   "id": "ae89f5ef",
   "metadata": {},
   "outputs": [],
   "source": []
  }
 ],
 "metadata": {
  "kernelspec": {
   "display_name": "Python 3",
   "language": "python",
   "name": "python3"
  },
  "language_info": {
   "codemirror_mode": {
    "name": "ipython",
    "version": 3
   },
   "file_extension": ".py",
   "mimetype": "text/x-python",
   "name": "python",
   "nbconvert_exporter": "python",
   "pygments_lexer": "ipython3",
   "version": "3.12.0"
  }
 },
 "nbformat": 4,
 "nbformat_minor": 5
}
