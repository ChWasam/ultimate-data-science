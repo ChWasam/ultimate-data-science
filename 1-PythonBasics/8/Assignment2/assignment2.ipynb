{
 "cells": [
  {
   "cell_type": "markdown",
   "id": "696a968d",
   "metadata": {},
   "source": [
    "## Todo List \n",
    "* it should be permanent data \n",
    "1. Add Task to the list \n",
    "2. Remove task => remove from the id \n",
    "3. complete task from list => Should mark it complete \n",
    "4.  Get all active task => Tasks which are not completed "
   ]
  },
  {
   "cell_type": "markdown",
   "id": "2653fe25",
   "metadata": {},
   "source": []
  }
 ],
 "metadata": {
  "kernelspec": {
   "display_name": "Python 3",
   "language": "python",
   "name": "python3"
  },
  "language_info": {
   "name": "python",
   "version": "3.12.0"
  }
 },
 "nbformat": 4,
 "nbformat_minor": 5
}
