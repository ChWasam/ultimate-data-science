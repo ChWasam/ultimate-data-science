{
 "cells": [
  {
   "cell_type": "code",
   "execution_count": 3,
   "id": "0c93a42c",
   "metadata": {},
   "outputs": [
    {
     "name": "stdout",
     "output_type": "stream",
     "text": [
      "monal\n",
      "monalk\n",
      "mona\n",
      "mahendra\n"
     ]
    }
   ],
   "source": [
    "a = [\"monal\", \"monalk\", \"mona\", \"vivek\", \"krish\", \"lucas\", \"mahendra\"]\n",
    "\n",
    "for name in a:  \n",
    "    if \"m\" in name: # character to character comparison\n",
    "        print(name)"
   ]
  },
  {
   "cell_type": "code",
   "execution_count": 2,
   "id": "a4103953",
   "metadata": {},
   "outputs": [],
   "source": [
    "a = \"Monal\""
   ]
  },
  {
   "cell_type": "code",
   "execution_count": 3,
   "id": "f5d269b2",
   "metadata": {},
   "outputs": [
    {
     "data": {
      "text/plain": [
       "'monal'"
      ]
     },
     "execution_count": 3,
     "metadata": {},
     "output_type": "execute_result"
    }
   ],
   "source": [
    "a.lower()"
   ]
  },
  {
   "cell_type": "code",
   "execution_count": 4,
   "id": "262cf460",
   "metadata": {},
   "outputs": [],
   "source": [
    "a = \"monal\""
   ]
  },
  {
   "cell_type": "code",
   "execution_count": 5,
   "id": "9b207f63",
   "metadata": {},
   "outputs": [
    {
     "data": {
      "text/plain": [
       "'MONAL'"
      ]
     },
     "execution_count": 5,
     "metadata": {},
     "output_type": "execute_result"
    }
   ],
   "source": [
    "a.upper()\n"
   ]
  },
  {
   "cell_type": "code",
   "execution_count": null,
   "id": "9d6f8864",
   "metadata": {},
   "outputs": [
    {
     "name": "stdout",
     "output_type": "stream",
     "text": [
      "monal\n"
     ]
    }
   ],
   "source": [
    "print(a)\n",
    "\n",
    "#  still lower because strings are immutable\n",
    "#  we need to save a.upper() in some variable so that it will point towards that memory location "
   ]
  },
  {
   "cell_type": "code",
   "execution_count": 16,
   "id": "244e4764",
   "metadata": {},
   "outputs": [],
   "source": [
    "a = \"monal\""
   ]
  },
  {
   "cell_type": "code",
   "execution_count": 17,
   "id": "b1e19ee2",
   "metadata": {},
   "outputs": [
    {
     "data": {
      "text/plain": [
       "'Monal'"
      ]
     },
     "execution_count": 17,
     "metadata": {},
     "output_type": "execute_result"
    }
   ],
   "source": [
    "a.title()"
   ]
  },
  {
   "cell_type": "code",
   "execution_count": 21,
   "id": "556568cb",
   "metadata": {},
   "outputs": [
    {
     "name": "stdout",
     "output_type": "stream",
     "text": [
      "monal\n",
      "monalk\n",
      "Mona\n",
      "Mahendra\n"
     ]
    }
   ],
   "source": [
    "a = [\"monal\", \"monalk\", \"Mona\", \"vivek\", \"krish\", \"lucas\", \"Mahendra\"]\n",
    "\n",
    "for name in a: \n",
    "    if \"m\" in name.lower() : # character to character comparison\n",
    "        print(name)"
   ]
  },
  {
   "cell_type": "markdown",
   "id": "dbc81495",
   "metadata": {},
   "source": [
    "# File Operations"
   ]
  },
  {
   "cell_type": "code",
   "execution_count": null,
   "id": "2233976e",
   "metadata": {},
   "outputs": [],
   "source": [
    "#  a =2 or dictionary or list => we are storing data in temporary memory not in permanent. We need to store in file for permament memory \n",
    "# File is a permanent memory "
   ]
  },
  {
   "cell_type": "code",
   "execution_count": null,
   "id": "2ca44624",
   "metadata": {},
   "outputs": [],
   "source": [
    "import os\n",
    "\n",
    "\n",
    "#  Libraries defined in the resource 9  in the pdf by monal \n",
    "\n",
    "# like   library => Book          => Topic /Chapter \n",
    "#           pip  =>OS/pytorch     => Functions \n",
    "\n",
    "# pypi.org => Where we have all the packages"
   ]
  },
  {
   "cell_type": "code",
   "execution_count": 3,
   "id": "3d3aac4b",
   "metadata": {},
   "outputs": [
    {
     "data": {
      "text/plain": [
       "'c:\\\\Monal\\\\Work\\\\AllLight\\\\Krish-sir\\\\KNB1-DataScience\\\\20-04-2025'"
      ]
     },
     "execution_count": 3,
     "metadata": {},
     "output_type": "execute_result"
    }
   ],
   "source": [
    "os.getcwd()"
   ]
  },
  {
   "cell_type": "code",
   "execution_count": null,
   "id": "38a968ac",
   "metadata": {},
   "outputs": [
    {
     "name": "stdout",
     "output_type": "stream",
     "text": [
      "['05-04-2025', '06-04-2025', '12-04-2025', '13-04-2025', '19-04-2025', '20-04-2025', '23-03-2025', '29-03-2025', '30-03-2025']\n",
      "['20-04-2025.ipynb']\n"
     ]
    }
   ],
   "source": [
    "print(os.listdir(\"c:/Monal/Work/AllLight/Krish-sir/KNB1-DataScience\"))\n",
    "print(os.listdir('c:\\\\Monal\\\\Work\\\\AllLight\\\\Krish-sir\\\\KNB1-DataScience\\\\20-04-2025'))\n",
    "\n",
    "\n",
    "# In  production always work with forward slash \"/\". Window always give you 2 backward slash while mac/linux give you forward slash \n",
    "'c:/Monal/Work/AllLight/Krish-sir/KNB1-DataScience/20-04-2025'"
   ]
  },
  {
   "cell_type": "code",
   "execution_count": 12,
   "id": "b6e31105",
   "metadata": {},
   "outputs": [
    {
     "name": "stdout",
     "output_type": "stream",
     "text": [
      "['20-04-2025.ipynb', 'test.txt']\n"
     ]
    }
   ],
   "source": [
    "print(os.listdir())"
   ]
  },
  {
   "cell_type": "code",
   "execution_count": null,
   "id": "8040194c",
   "metadata": {},
   "outputs": [
    {
     "data": {
      "text/plain": [
       "'c:\\\\Monal\\\\Work\\\\AllLight\\\\Krish-sir\\\\KNB1-DataScience\\\\20-04-2025\\\\testiong.txt\\\\abc'"
      ]
     },
     "execution_count": 16,
     "metadata": {},
     "output_type": "execute_result"
    }
   ],
   "source": [
    "# Join 2 paths \n",
    "os.path.join(os.getcwd(), 'testiong.txt', \"abc\")"
   ]
  },
  {
   "cell_type": "markdown",
   "id": "f1a4b39e",
   "metadata": {},
   "source": [
    "Full  Path => complete path of the file \n",
    "\n",
    "Relative Path => From our current location of terminal (where the terminal is open) what is the path \n",
    "\n",
    "left click on any file vs code will give you option for full path and relative path \n",
    "\n",
    "Always try to work with full path \n",
    "\n"
   ]
  },
  {
   "cell_type": "code",
   "execution_count": null,
   "id": "1ef9cb7a",
   "metadata": {},
   "outputs": [],
   "source": [
    "file = open(\"./test.txt\") # . means current directory\n",
    "\n",
    "#  This will make it ready to read "
   ]
  },
  {
   "cell_type": "code",
   "execution_count": null,
   "id": "8372cc0c",
   "metadata": {},
   "outputs": [],
   "source": [
    "file = open(\"test.txt\")"
   ]
  },
  {
   "cell_type": "code",
   "execution_count": null,
   "id": "6fc0ba77",
   "metadata": {},
   "outputs": [
    {
     "name": "stdout",
     "output_type": "stream",
     "text": [
      "c:\\Monal\\Work\\AllLight\\Krish-sir\\KNB1-DataScience\\20-04-2025\\test.txt\n"
     ]
    }
   ],
   "source": [
    "full_path = os.path.join(os.getcwd(), \"test.txt\")\n",
    "print(full_path)\n",
    "file = open(full_path)\n",
    "\n",
    "\n",
    "#  we cannot work with mp4. Those are binary we cannot read it directly. "
   ]
  },
  {
   "cell_type": "code",
   "execution_count": 30,
   "id": "c0769cff",
   "metadata": {},
   "outputs": [],
   "source": [
    "content = file.read() # read all the content of file"
   ]
  },
  {
   "cell_type": "code",
   "execution_count": 31,
   "id": "b1c2ca72",
   "metadata": {},
   "outputs": [
    {
     "name": "stdout",
     "output_type": "stream",
     "text": [
      "monal, data science instructor\n",
      "What is Lorem Ipsum?\n",
      "Lorem Ipsum is simply dummy text of the printing and typesetting industry. Lorem Ipsum has been the industry's standard dummy text ever since the 1500s, when an unknown printer took a galley of type and scrambled it to make a type specimen book. It has survived not only five centuries, but also the leap into electronic typesetting, remaining essentially unchanged. It was popularised in the 1960s with the release of Letraset sheets containing Lorem Ipsum passages, and more recently with desktop publishing software like Aldus PageMaker including versions of Lorem Ipsum.\n",
      "\n",
      "Why do we use it?\n",
      "It is a long established fact that a reader will be distracted by the readable content of a page when looking at its layout. The point of using Lorem Ipsum is that it has a more-or-less normal distribution of letters, as opposed to using 'Content here, content here', making it look like readable English. Many desktop publishing packages and web page editors now use Lorem Ipsum as their default model text, and a search for 'lorem ipsum' will uncover many web sites still in their infancy. Various versions have evolved over the years, sometimes by accident, sometimes on purpose (injected humour and the like).\n",
      "\n",
      "\n",
      "Where does it come from?\n",
      "Contrary to popular belief, Lorem Ipsum is not simply random text. It has roots in a piece of classical Latin literature from 45 BC, making it over 2000 years old. Richard McClintock, a Latin professor at Hampden-Sydney College in Virginia, looked up one of the more obscure Latin words, consectetur, from a Lorem Ipsum passage, and going through the cites of the word in classical literature, discovered the undoubtable source. Lorem Ipsum comes from sections 1.10.32 and 1.10.33 of \"de Finibus Bonorum et Malorum\" (The Extremes of Good and Evil) by Cicero, written in 45 BC. This book is a treatise on the theory of ethics, very popular during the Renaissance. The first line of Lorem Ipsum, \"Lorem ipsum dolor sit amet..\", comes from a line in section 1.10.32.\n",
      "\n",
      "The standard chunk of Lorem Ipsum used since the 1500s is reproduced below for those interested. Sections 1.10.32 and 1.10.33 from \"de Finibus Bonorum et Malorum\" by Cicero are also reproduced in their exact original form, accompanied by English versions from the 1914 translation by H. Rackham.\n",
      "\n",
      "Where can I get some?\n",
      "There are many variations of passages of Lorem Ipsum available, but the majority have suffered alteration in some form, by injected humour, or randomised words which don't look even slightly believable. If you are going to use a passage of Lorem Ipsum, you need to be sure there isn't anything embarrassing hidden in the middle of text. All the Lorem Ipsum generators on the Internet tend to repeat predefined chunks as necessary, making this the first true generator on the Internet. It uses a dictionary of over 200 Latin words, combined with a handful of model sentence structures, to generate Lorem Ipsum which looks reasonable. The generated Lorem Ipsum is therefore always free from repetition, injected humour, or non-characteristic words etc.\n",
      "\n",
      "5\n",
      "\tparagraphs\n",
      "\twords\n",
      "\tbytes\n",
      "\tlists\n",
      "\tStart with 'Lorem\n",
      "ipsum dolor sit amet...'\n",
      "\n"
     ]
    }
   ],
   "source": [
    "print(content)"
   ]
  },
  {
   "cell_type": "code",
   "execution_count": null,
   "id": "4e9333e2",
   "metadata": {},
   "outputs": [
    {
     "name": "stdout",
     "output_type": "stream",
     "text": [
      "c:\\Monal\\work.txt\n"
     ]
    }
   ],
   "source": [
    "work_dir = \"c:/Monal\"\n",
    "file_name = \"work.txt\"\n",
    "full_path = os.path.normpath(os.path.join(work_dir, file_name))\n",
    "print(full_path)\n",
    "\n",
    "#  normpath => It normalizes the path as we always need forward slash "
   ]
  },
  {
   "cell_type": "code",
   "execution_count": 50,
   "id": "8ec5ba9a",
   "metadata": {},
   "outputs": [],
   "source": [
    "a = \"monal kumar\""
   ]
  },
  {
   "cell_type": "code",
   "execution_count": 51,
   "id": "f7cd5703",
   "metadata": {},
   "outputs": [
    {
     "data": {
      "text/plain": [
       "['monal', 'kumar']"
      ]
     },
     "execution_count": 51,
     "metadata": {},
     "output_type": "execute_result"
    }
   ],
   "source": [
    "a.split()"
   ]
  },
  {
   "cell_type": "code",
   "execution_count": 52,
   "id": "9e293058",
   "metadata": {},
   "outputs": [
    {
     "data": {
      "text/plain": [
       "['monal ', 'umar']"
      ]
     },
     "execution_count": 52,
     "metadata": {},
     "output_type": "execute_result"
    }
   ],
   "source": [
    "a.split('k')"
   ]
  },
  {
   "cell_type": "markdown",
   "id": "4eef7f50",
   "metadata": {},
   "source": [
    "# clean file read"
   ]
  },
  {
   "cell_type": "code",
   "execution_count": 38,
   "id": "a84e2c85",
   "metadata": {},
   "outputs": [],
   "source": [
    "import os"
   ]
  },
  {
   "cell_type": "code",
   "execution_count": 46,
   "id": "2e8ebd9c",
   "metadata": {},
   "outputs": [
    {
     "name": "stdout",
     "output_type": "stream",
     "text": [
      "c:\\Monal\\Work\\AllLight\\Krish-sir\\KNB1-DataScience\\20-04-2025\\test.txt\n"
     ]
    }
   ],
   "source": [
    "file_name = \"test.txt\"\n",
    "cwd = os.getcwd()\n",
    "full_file_path = os.path.join(cwd, file_name)\n",
    "print(full_file_path)"
   ]
  },
  {
   "cell_type": "code",
   "execution_count": 47,
   "id": "6e0813b5",
   "metadata": {},
   "outputs": [],
   "source": [
    "f = open(full_file_path)"
   ]
  },
  {
   "cell_type": "code",
   "execution_count": 48,
   "id": "0a39b20c",
   "metadata": {},
   "outputs": [],
   "source": [
    "all_contents = f.read() # all content"
   ]
  },
  {
   "cell_type": "code",
   "execution_count": 49,
   "id": "22130e4b",
   "metadata": {},
   "outputs": [
    {
     "name": "stdout",
     "output_type": "stream",
     "text": [
      "monal, data science instructor\n",
      "What is Lorem Ipsum?\n",
      "Lorem Ipsum is simply dummy text of the printing and typesetting industry. Lorem Ipsum has been the industry's standard dummy text ever since the 1500s, when an unknown printer took a galley of type and scrambled it to make a type specimen book. It has survived not only five centuries, but also the leap into electronic typesetting, remaining essentially unchanged. It was popularised in the 1960s with the release of Letraset sheets containing Lorem Ipsum passages, and more recently with desktop publishing software like Aldus PageMaker including versions of Lorem Ipsum.\n",
      "\n",
      "Why do we use it?\n",
      "It is a long established fact that a reader will be distracted by the readable content of a page when looking at its layout. The point of using Lorem Ipsum is that it has a more-or-less normal distribution of letters, as opposed to using 'Content here, content here', making it look like readable English. Many desktop publishing packages and web page editors now use Lorem Ipsum as their default model text, and a search for 'lorem ipsum' will uncover many web sites still in their infancy. Various versions have evolved over the years, sometimes by accident, sometimes on purpose (injected humour and the like).\n",
      "\n",
      "\n",
      "Where does it come from?\n",
      "Contrary to popular belief, Lorem Ipsum is not simply random text. It has roots in a piece of classical Latin literature from 45 BC, making it over 2000 years old. Richard McClintock, a Latin professor at Hampden-Sydney College in Virginia, looked up one of the more obscure Latin words, consectetur, from a Lorem Ipsum passage, and going through the cites of the word in classical literature, discovered the undoubtable source. Lorem Ipsum comes from sections 1.10.32 and 1.10.33 of \"de Finibus Bonorum et Malorum\" (The Extremes of Good and Evil) by Cicero, written in 45 BC. This book is a treatise on the theory of ethics, very popular during the Renaissance. The first line of Lorem Ipsum, \"Lorem ipsum dolor sit amet..\", comes from a line in section 1.10.32.\n",
      "\n",
      "The standard chunk of Lorem Ipsum used since the 1500s is reproduced below for those interested. Sections 1.10.32 and 1.10.33 from \"de Finibus Bonorum et Malorum\" by Cicero are also reproduced in their exact original form, accompanied by English versions from the 1914 translation by H. Rackham.\n",
      "\n",
      "Where can I get some?\n",
      "There are many variations of passages of Lorem Ipsum available, but the majority have suffered alteration in some form, by injected humour, or randomised words which don't look even slightly believable. If you are going to use a passage of Lorem Ipsum, you need to be sure there isn't anything embarrassing hidden in the middle of text. All the Lorem Ipsum generators on the Internet tend to repeat predefined chunks as necessary, making this the first true generator on the Internet. It uses a dictionary of over 200 Latin words, combined with a handful of model sentence structures, to generate Lorem Ipsum which looks reasonable. The generated Lorem Ipsum is therefore always free from repetition, injected humour, or non-characteristic words etc.\n",
      "\n",
      "5\n",
      "\tparagraphs\n",
      "\twords\n",
      "\tbytes\n",
      "\tlists\n",
      "\tStart with 'Lorem\n",
      "ipsum dolor sit amet...'\n",
      "\n"
     ]
    }
   ],
   "source": [
    "print(all_contents)"
   ]
  },
  {
   "cell_type": "code",
   "execution_count": 55,
   "id": "25dfbf50",
   "metadata": {},
   "outputs": [
    {
     "data": {
      "text/plain": [
       "['monal, data science instructor\\nWhat is Lorem Ipsum?\\nLorem Ipsum is simply dummy text of the printing and typesetting industry. Lorem Ipsum has been the industry\\'s standard dummy text ever since the 1500s, when an unknown printer took a galley of type and scrambled it to make a type specimen book. It has survived not only five centuries, but also the leap into electronic typesetting, remaining essentially unchanged. It was popularised in the 1960s with the release of Letraset sheets containing Lorem Ipsum passages, and more recently with desktop publishing software like Aldus PageMaker including versions of Lorem Ipsum.\\n\\nWhy do we use it?\\nIt is a long established fact that a reader will be distracted by the readable content of a page when looking at its layout. The point of using Lorem Ipsum is that it has a more-or-less normal distribution of letters, as opposed to using \\'Content here, content here\\', making it look like readable English. Many desktop publishing packages and web page editors now use Lorem Ipsum as their default model text, and a search for \\'lorem ipsum\\' will uncover many web sites still in their infancy. Various versions have evolved over the years, sometimes by accident, sometimes on purpose (injected humour and the like).\\n\\n\\nWhere does it come from?\\nContrary to popular belief, Lorem Ipsum is not simply random text. It has roots in a piece of classical Latin literature from 45 BC, making it over 2000 years old. Richard McClintock, a Latin professor at Hampden-Sydney College in Virginia, looked up one of the more obscure Latin words, consectetur, from a Lorem Ipsum passage, and going through the cites of the word in classical literature, discovered the undoubtable source. Lorem Ipsum comes from sections 1.10.32 and 1.10.33 of \"de Finibus Bonorum et Malorum\" (The Extremes of Good and Evil) by Cicero, written in 45 BC. This book is a treatise on the theory of ethics, very popular during the Renaissance. The first line of Lorem Ipsum, \"Lorem ipsum dolor sit amet..\", comes from a line in section 1.10.32.\\n\\nThe standard chunk of Lorem Ipsum used since the 1500s is reproduced below for those interested. Sections 1.10.32 and 1.10.33 from \"de Finibus Bonorum et Malorum\" by Cicero are also reproduced in their exact original form, accompanied by English versions from the 1914 translation by H. Rackham.\\n\\nWhere can I get some?\\nThere are many variations of passages of Lorem Ipsum available, but the majority have suffered alteration in some form, by injected humour, or randomised words which don\\'t look even slightly believable. If you are going to use a passage of Lorem Ipsum, you need to be sure there isn\\'t anything embarrassing hidden in the middle of text. All the Lorem Ipsum generators on the Internet tend to repeat predefined chunks as necessary, making this the first true generator on the Internet. It uses a dictionary of over 200 Latin words, combined with a handful of model sentence structures, to generate Lorem Ipsum which looks reasonable. The generated Lorem Ipsum is therefore always free from repetition, injected humour, or non-characteristic words etc.\\n\\n5\\n',\n",
       " 'paragraphs\\n',\n",
       " 'words\\n',\n",
       " 'bytes\\n',\n",
       " 'lists\\n',\n",
       " \"Start with 'Lorem\\nipsum dolor sit amet...'\\n\"]"
      ]
     },
     "execution_count": 55,
     "metadata": {},
     "output_type": "execute_result"
    }
   ],
   "source": [
    "all_contents.split(\"\\t\")"
   ]
  },
  {
   "cell_type": "code",
   "execution_count": null,
   "id": "463ee20c",
   "metadata": {},
   "outputs": [
    {
     "name": "stdout",
     "output_type": "stream",
     "text": [
      "monal, data science instructor\n",
      "\n",
      "What is Lorem Ipsum?\n",
      "\n"
     ]
    }
   ],
   "source": [
    "f = open(full_file_path)\n",
    "lines = f.readline()\n",
    "# will read only a single line \n",
    "print(lines)\n",
    "\n",
    "lines = f.readline()\n",
    "print(lines)\n",
    "f.close()\n",
    "\n",
    "#  we need to close the file otherwise the file is still active and it will fill our memory "
   ]
  },
  {
   "cell_type": "code",
   "execution_count": null,
   "id": "e21ab740",
   "metadata": {},
   "outputs": [
    {
     "name": "stdout",
     "output_type": "stream",
     "text": [
      "['monal, data science instructor\\n', 'What is Lorem Ipsum?\\n', \"Lorem Ipsum is simply dummy text of the printing and typesetting industry. Lorem Ipsum has been the industry's standard dummy text ever since the 1500s, when an unknown printer took a galley of type and scrambled it to make a type specimen book. It has survived not only five centuries, but also the leap into electronic typesetting, remaining essentially unchanged. It was popularised in the 1960s with the release of Letraset sheets containing Lorem Ipsum passages, and more recently with desktop publishing software like Aldus PageMaker including versions of Lorem Ipsum.\\n\", '\\n', 'Why do we use it?\\n', \"It is a long established fact that a reader will be distracted by the readable content of a page when looking at its layout. The point of using Lorem Ipsum is that it has a more-or-less normal distribution of letters, as opposed to using 'Content here, content here', making it look like readable English. Many desktop publishing packages and web page editors now use Lorem Ipsum as their default model text, and a search for 'lorem ipsum' will uncover many web sites still in their infancy. Various versions have evolved over the years, sometimes by accident, sometimes on purpose (injected humour and the like).\\n\", '\\n', '\\n', 'Where does it come from?\\n', 'Contrary to popular belief, Lorem Ipsum is not simply random text. It has roots in a piece of classical Latin literature from 45 BC, making it over 2000 years old. Richard McClintock, a Latin professor at Hampden-Sydney College in Virginia, looked up one of the more obscure Latin words, consectetur, from a Lorem Ipsum passage, and going through the cites of the word in classical literature, discovered the undoubtable source. Lorem Ipsum comes from sections 1.10.32 and 1.10.33 of \"de Finibus Bonorum et Malorum\" (The Extremes of Good and Evil) by Cicero, written in 45 BC. This book is a treatise on the theory of ethics, very popular during the Renaissance. The first line of Lorem Ipsum, \"Lorem ipsum dolor sit amet..\", comes from a line in section 1.10.32.\\n', '\\n', 'The standard chunk of Lorem Ipsum used since the 1500s is reproduced below for those interested. Sections 1.10.32 and 1.10.33 from \"de Finibus Bonorum et Malorum\" by Cicero are also reproduced in their exact original form, accompanied by English versions from the 1914 translation by H. Rackham.\\n', '\\n', 'Where can I get some?\\n', \"There are many variations of passages of Lorem Ipsum available, but the majority have suffered alteration in some form, by injected humour, or randomised words which don't look even slightly believable. If you are going to use a passage of Lorem Ipsum, you need to be sure there isn't anything embarrassing hidden in the middle of text. All the Lorem Ipsum generators on the Internet tend to repeat predefined chunks as necessary, making this the first true generator on the Internet. It uses a dictionary of over 200 Latin words, combined with a handful of model sentence structures, to generate Lorem Ipsum which looks reasonable. The generated Lorem Ipsum is therefore always free from repetition, injected humour, or non-characteristic words etc.\\n\", '\\n', '5\\n', '\\tparagraphs\\n', '\\twords\\n', '\\tbytes\\n', '\\tlists\\n', \"\\tStart with 'Lorem\\n\", \"ipsum dolor sit amet...'\\n\"]\n"
     ]
    }
   ],
   "source": [
    "f = open(full_file_path)\n",
    "lines = f.readlines()\n",
    "print(lines)\n",
    "f.close()"
   ]
  },
  {
   "cell_type": "code",
   "execution_count": null,
   "id": "ee3e3e8a",
   "metadata": {},
   "outputs": [
    {
     "name": "stdout",
     "output_type": "stream",
     "text": [
      "['monal, data science instructor\\n', 'What is Lorem Ipsum?\\n', \"Lorem Ipsum is simply dummy text of the printing and typesetting industry. Lorem Ipsum has been the industry's standard dummy text ever since the 1500s, when an unknown printer took a galley of type and scrambled it to make a type specimen book. It has survived not only five centuries, but also the leap into electronic typesetting, remaining essentially unchanged. It was popularised in the 1960s with the release of Letraset sheets containing Lorem Ipsum passages, and more recently with desktop publishing software like Aldus PageMaker including versions of Lorem Ipsum.\\n\", '\\n', 'Why do we use it?\\n', \"It is a long established fact that a reader will be distracted by the readable content of a page when looking at its layout. The point of using Lorem Ipsum is that it has a more-or-less normal distribution of letters, as opposed to using 'Content here, content here', making it look like readable English. Many desktop publishing packages and web page editors now use Lorem Ipsum as their default model text, and a search for 'lorem ipsum' will uncover many web sites still in their infancy. Various versions have evolved over the years, sometimes by accident, sometimes on purpose (injected humour and the like).\\n\", '\\n', '\\n', 'Where does it come from?\\n', 'Contrary to popular belief, Lorem Ipsum is not simply random text. It has roots in a piece of classical Latin literature from 45 BC, making it over 2000 years old. Richard McClintock, a Latin professor at Hampden-Sydney College in Virginia, looked up one of the more obscure Latin words, consectetur, from a Lorem Ipsum passage, and going through the cites of the word in classical literature, discovered the undoubtable source. Lorem Ipsum comes from sections 1.10.32 and 1.10.33 of \"de Finibus Bonorum et Malorum\" (The Extremes of Good and Evil) by Cicero, written in 45 BC. This book is a treatise on the theory of ethics, very popular during the Renaissance. The first line of Lorem Ipsum, \"Lorem ipsum dolor sit amet..\", comes from a line in section 1.10.32.\\n', '\\n', 'The standard chunk of Lorem Ipsum used since the 1500s is reproduced below for those interested. Sections 1.10.32 and 1.10.33 from \"de Finibus Bonorum et Malorum\" by Cicero are also reproduced in their exact original form, accompanied by English versions from the 1914 translation by H. Rackham.\\n', '\\n', 'Where can I get some?\\n', \"There are many variations of passages of Lorem Ipsum available, but the majority have suffered alteration in some form, by injected humour, or randomised words which don't look even slightly believable. If you are going to use a passage of Lorem Ipsum, you need to be sure there isn't anything embarrassing hidden in the middle of text. All the Lorem Ipsum generators on the Internet tend to repeat predefined chunks as necessary, making this the first true generator on the Internet. It uses a dictionary of over 200 Latin words, combined with a handful of model sentence structures, to generate Lorem Ipsum which looks reasonable. The generated Lorem Ipsum is therefore always free from repetition, injected humour, or non-characteristic words etc.\\n\", '\\n', '5\\n', '\\tparagraphs\\n', '\\twords\\n', '\\tbytes\\n', '\\tlists\\n', \"\\tStart with 'Lorem\\n\", \"ipsum dolor sit amet...'\\n\"]\n"
     ]
    }
   ],
   "source": [
    "# with -> context manager --> handles closing of your file\n",
    "with open(full_file_path) as f:\n",
    "    lines = f.readlines()\n",
    "    print(lines)\n"
   ]
  },
  {
   "cell_type": "markdown",
   "id": "f3053815",
   "metadata": {},
   "source": [
    "# Python File Modes and f.seek() Explained\n",
    "\n",
    "## File Modes in Python\n",
    "\n",
    "When working with files in Python, you can use various modes depending on what you want to do (read, write, append). Below are the most commonly used modes:\n",
    "\n",
    "### 1. Read Mode (`r`)\n",
    "\n",
    "* Opens the file for **reading only**.\n",
    "* The file **must exist**, otherwise it raises a **FileNotFoundError**.\n",
    "* The file pointer is placed at the **beginning**.\n",
    "\n",
    "**Example:**\n",
    "\n",
    "```python\n",
    "with open(\"file.txt\", \"r\") as f:\n",
    "    content = f.read()\n",
    "    print(content)\n",
    "```\n",
    "\n",
    "### 2. Write Mode (`w`)\n",
    "\n",
    "* Opens the file for **writing only**.\n",
    "* If the file already exists, it **truncates (deletes) the content**.\n",
    "* If the file does not exist, it **creates a new one**.\n",
    "* The file pointer is at the **beginning**.\n",
    "\n",
    "**Example:**\n",
    "\n",
    "```python\n",
    "with open(\"file.txt\", \"w\") as f:\n",
    "    f.write(\"New content\")\n",
    "```\n",
    "\n",
    "### 3. Append Mode (`a`)\n",
    "\n",
    "* Opens the file for **appending new data** at the end.\n",
    "* Creates a new file if it does not exist.\n",
    "* The file pointer is at the **end**, so new data is added without removing existing content.\n",
    "\n",
    "**Example:**\n",
    "\n",
    "```python\n",
    "with open(\"file.txt\", \"a\") as f:\n",
    "    f.write(\"Appended content\")\n",
    "```\n",
    "\n",
    "### 4. Read and Write Mode (`r+`)\n",
    "\n",
    "* Opens the file for both **reading and writing**.\n",
    "* The file **must exist**, otherwise it raises a **FileNotFoundError**.\n",
    "* The file pointer is at the **beginning**.\n",
    "* Does **not truncate** the file.\n",
    "\n",
    "**Example:**\n",
    "\n",
    "```python\n",
    "with open(\"file.txt\", \"r+\") as f:\n",
    "    content = f.read()\n",
    "    f.write(\"Additional content\")\n",
    "```\n",
    "\n",
    "### 5. Write and Read Mode (`w+`)\n",
    "\n",
    "* Opens the file for both **writing and reading**.\n",
    "* If the file exists, it **truncates** it.\n",
    "* Creates a new file if it does not exist.\n",
    "* The file pointer is at the **beginning**.\n",
    "\n",
    "**Example:**\n",
    "\n",
    "```python\n",
    "with open(\"file.txt\", \"w+\") as f:\n",
    "    f.write(\"Content\")\n",
    "    f.seek(0)\n",
    "    print(f.read())\n",
    "```\n",
    "\n",
    "### 6. Append and Read Mode (`a+`)\n",
    "\n",
    "* Opens the file for **appending and reading**.\n",
    "* Creates a new file if it does not exist.\n",
    "* The file pointer is at the **end**.\n",
    "* Does **not truncate** existing content.\n",
    "\n",
    "**Example:**\n",
    "\n",
    "```python\n",
    "with open(\"file.txt\", \"a+\") as f:\n",
    "    f.write(\"More data\")\n",
    "    f.seek(0)\n",
    "    print(f.read())\n",
    "```\n",
    "\n",
    "---\n",
    "\n",
    "## f.seek() and File Pointer Manipulation\n",
    "\n",
    "The `f.seek()` function is used to **move the file pointer** to a specified position.\n",
    "\n",
    "### Syntax:\n",
    "\n",
    "```python\n",
    "f.seek(offset, whence)\n",
    "```\n",
    "\n",
    "* **offset:** Number of bytes to move the pointer.\n",
    "* **whence (optional):** Starting point for the offset.\n",
    "\n",
    "  * `0` (default): Beginning of the file.\n",
    "  * `1`: Current file position.\n",
    "  * `2`: End of the file.\n",
    "\n",
    "### Examples:\n",
    "\n",
    "1. Move to the start:\n",
    "\n",
    "```python\n",
    "f.seek(0)  # Start of file\n",
    "```\n",
    "\n",
    "2. Move to the end:\n",
    "\n",
    "```python\n",
    "f.seek(0, 2)  # End of file\n",
    "```\n",
    "\n",
    "3. Move forward from the current position:\n",
    "\n",
    "```python\n",
    "f.seek(10, 1)  # 10 bytes forward from current\n",
    "```\n",
    "\n",
    "4. Move backward from the end:\n",
    "\n",
    "```python\n",
    "f.seek(-5, 2)  # 5 bytes before the end\n",
    "```\n",
    "\n",
    "### Important:\n",
    "\n",
    "* Use `f.tell()` to check the current file pointer position.\n",
    "\n",
    "**Example:**\n",
    "\n",
    "```python\n",
    "with open(\"file.txt\", \"r\") as f:\n",
    "    print(f.tell())  # Current position\n",
    "    f.seek(0, 2)     # Move to end\n",
    "    print(f.tell())  # End position\n",
    "```\n",
    "\n",
    "---\n",
    "\n",
    "## Summary\n",
    "\n",
    "* Choose the appropriate mode (`r`, `w`, `a`, `r+`, `w+`, `a+`) based on your needs (read, write, append).\n",
    "* Be careful with modes that **truncate** the file (`w`, `w+`).\n",
    "* Use `f.seek()` to control where to read or write within the file.\n"
   ]
  },
  {
   "cell_type": "code",
   "execution_count": null,
   "id": "a6bc889c",
   "metadata": {},
   "outputs": [
    {
     "name": "stdout",
     "output_type": "stream",
     "text": [
      "['monal, data science instructor\\n', 'What is Lorem Ipsum?\\n', \"Lorem Ipsum is simply dummy text of the printing and typesetting industry. Lorem Ipsum has been the industry's standard dummy text ever since the 1500s, when an unknown printer took a galley of type and scrambled it to make a type specimen book. It has survived not only five centuries, but also the leap into electronic typesetting, remaining essentially unchanged. It was popularised in the 1960s with the release of Letraset sheets containing Lorem Ipsum passages, and more recently with desktop publishing software like Aldus PageMaker including versions of Lorem Ipsum.\\n\", '\\n', 'Why do we use it?\\n', \"It is a long established fact that a reader will be distracted by the readable content of a page when looking at its layout. The point of using Lorem Ipsum is that it has a more-or-less normal distribution of letters, as opposed to using 'Content here, content here', making it look like readable English. Many desktop publishing packages and web page editors now use Lorem Ipsum as their default model text, and a search for 'lorem ipsum' will uncover many web sites still in their infancy. Various versions have evolved over the years, sometimes by accident, sometimes on purpose (injected humour and the like).\\n\", '\\n', '\\n', 'Where does it come from?\\n', 'Contrary to popular belief, Lorem Ipsum is not simply random text. It has roots in a piece of classical Latin literature from 45 BC, making it over 2000 years old. Richard McClintock, a Latin professor at Hampden-Sydney College in Virginia, looked up one of the more obscure Latin words, consectetur, from a Lorem Ipsum passage, and going through the cites of the word in classical literature, discovered the undoubtable source. Lorem Ipsum comes from sections 1.10.32 and 1.10.33 of \"de Finibus Bonorum et Malorum\" (The Extremes of Good and Evil) by Cicero, written in 45 BC. This book is a treatise on the theory of ethics, very popular during the Renaissance. The first line of Lorem Ipsum, \"Lorem ipsum dolor sit amet..\", comes from a line in section 1.10.32.\\n', '\\n', 'The standard chunk of Lorem Ipsum used since the 1500s is reproduced below for those interested. Sections 1.10.32 and 1.10.33 from \"de Finibus Bonorum et Malorum\" by Cicero are also reproduced in their exact original form, accompanied by English versions from the 1914 translation by H. Rackham.\\n', '\\n', 'Where can I get some?\\n', \"There are many variations of passages of Lorem Ipsum available, but the majority have suffered alteration in some form, by injected humour, or randomised words which don't look even slightly believable. If you are going to use a passage of Lorem Ipsum, you need to be sure there isn't anything embarrassing hidden in the middle of text. All the Lorem Ipsum generators on the Internet tend to repeat predefined chunks as necessary, making this the first true generator on the Internet. It uses a dictionary of over 200 Latin words, combined with a handful of model sentence structures, to generate Lorem Ipsum which looks reasonable. The generated Lorem Ipsum is therefore always free from repetition, injected humour, or non-characteristic words etc.\\n\", '\\n', '5\\n', '\\tparagraphs\\n', '\\twords\\n', '\\tbytes\\n', '\\tlists\\n', \"\\tStart with 'Lorem\\n\", \"ipsum dolor sit amet...'\\n\"]\n"
     ]
    }
   ],
   "source": [
    "# with -> context manager --> handles closing of your file\n",
    "with open(full_file_path, \"r\") as f:\n",
    "    lines = f.readlines()\n",
    "    print(lines)\n",
    "\n",
    "#  r is mode . by default it is r(read) mode \n",
    "# w => write. It overwrite the whole content of the file. Delete all the content first and then write. means truncate file, creates file if not exist \n",
    "#  a=> append . Start writing from where the cursor is \n",
    "#  + => update => +  e.g. r+,w+,a+    \n",
    "\n",
    "\n",
    "# r+ =>  start reading from beginning  , write , file must exist ,            write from the beginning and doesnot truncate \n",
    "# w+ => read ,  write , creates file if not exist , truncate/ empty first then write \n",
    "# a+ => read from where the cursor is  , write , create file ,            appending from last line \n",
    "\n"
   ]
  },
  {
   "cell_type": "code",
   "execution_count": 72,
   "id": "71a9f981",
   "metadata": {},
   "outputs": [],
   "source": [
    "# with -> context manager --> handles closing of your file\n",
    "with open(\"./test.txt\", \"w\") as f:\n",
    "    f.write(\"hello, how are you.\\n\")\n"
   ]
  },
  {
   "cell_type": "code",
   "execution_count": 73,
   "id": "ff9c4ca3",
   "metadata": {},
   "outputs": [],
   "source": [
    "# with -> context manager --> handles closing of your file\n",
    "a = [\"hello, how are you.\\n\", \"hey,      \", \"hello\"]\n",
    "with open(\"./a.txt\", \"w\") as f:\n",
    "    f.writelines(a)"
   ]
  },
  {
   "cell_type": "code",
   "execution_count": 74,
   "id": "1fdc2f44",
   "metadata": {},
   "outputs": [],
   "source": [
    "with open('20apr25-test2.txt','w') as file:\n",
    "    file.write('ya\\nah\\nya')\n"
   ]
  },
  {
   "cell_type": "code",
   "execution_count": 81,
   "id": "08aea807",
   "metadata": {},
   "outputs": [],
   "source": [
    "# with -> context manager --> handles closing of your file\n",
    "with open(\"./test_new.txt\", \"w\") as f:\n",
    "    f.write(\"hello, how are you.\\n\")\n",
    "    f.write(\"hello, how are you.\\n\")\n",
    "    f.write(\"hello, how are you.\\n\")"
   ]
  },
  {
   "cell_type": "code",
   "execution_count": 78,
   "id": "147e412e",
   "metadata": {},
   "outputs": [],
   "source": [
    "with open(\"./test_new.txt\", \"a\") as f:\n",
    "    f.write(\"new statement added.\\n\")"
   ]
  },
  {
   "cell_type": "code",
   "execution_count": 82,
   "id": "b5453a53",
   "metadata": {},
   "outputs": [],
   "source": [
    "with open(\"./test_new.txt\", \"r+\") as f:\n",
    "    f.write(\"new statement added.\\n\\n\")"
   ]
  },
  {
   "cell_type": "code",
   "execution_count": 86,
   "id": "e551e080",
   "metadata": {},
   "outputs": [
    {
     "ename": "UnsupportedOperation",
     "evalue": "not readable",
     "output_type": "error",
     "traceback": [
      "\u001b[31m---------------------------------------------------------------------------\u001b[39m",
      "\u001b[31mUnsupportedOperation\u001b[39m                      Traceback (most recent call last)",
      "\u001b[36mCell\u001b[39m\u001b[36m \u001b[39m\u001b[32mIn[86]\u001b[39m\u001b[32m, line 2\u001b[39m\n\u001b[32m      1\u001b[39m \u001b[38;5;28;01mwith\u001b[39;00m \u001b[38;5;28mopen\u001b[39m(\u001b[33m\"\u001b[39m\u001b[33m.dummy.txt\u001b[39m\u001b[33m\"\u001b[39m, \u001b[33m\"\u001b[39m\u001b[33ma\u001b[39m\u001b[33m\"\u001b[39m) \u001b[38;5;28;01mas\u001b[39;00m f:\n\u001b[32m----> \u001b[39m\u001b[32m2\u001b[39m     content = \u001b[43mf\u001b[49m\u001b[43m.\u001b[49m\u001b[43mread\u001b[49m\u001b[43m(\u001b[49m\u001b[43m)\u001b[49m\n\u001b[32m      3\u001b[39m     \u001b[38;5;28mprint\u001b[39m(content)\n",
      "\u001b[31mUnsupportedOperation\u001b[39m: not readable"
     ]
    }
   ],
   "source": [
    "with open(\".dummy.txt\", \"a\") as f:\n",
    "    content = f.read()\n",
    "    print(content)"
   ]
  },
  {
   "cell_type": "markdown",
   "id": "a2578bbf",
   "metadata": {},
   "source": [
    "# code example"
   ]
  },
  {
   "cell_type": "code",
   "execution_count": 92,
   "id": "9359c455",
   "metadata": {},
   "outputs": [],
   "source": [
    "id = 1"
   ]
  },
  {
   "cell_type": "code",
   "execution_count": 98,
   "id": "05b40049",
   "metadata": {},
   "outputs": [],
   "source": [
    "name = input(\"enter your name : \")\n",
    "age = input(\"enter age : \")\n",
    "\n",
    "with open(\"test_dummy_1.txt\", \"a+\") as f:\n",
    "    a = str(id) + \",\" + name + \",\" + age +\",\" +\"\\n\"\n",
    "    f.write(a)\n",
    "id += 1"
   ]
  },
  {
   "cell_type": "code",
   "execution_count": null,
   "id": "a78078c4",
   "metadata": {},
   "outputs": [],
   "source": [
    "data_of_students = {}"
   ]
  },
  {
   "cell_type": "code",
   "execution_count": 110,
   "id": "896e021b",
   "metadata": {},
   "outputs": [],
   "source": [
    "def populate_data(data):\n",
    "    print(data)\n",
    "    data = data.split(\",\")\n",
    "    print(data)\n",
    "    data_of_students[str(data[0])] = {}\n",
    "    data_of_students[str(data[0])][str(\"name\")] = data[1]\n",
    "    data_of_students[str(data[0])][str(\"age\")] = data[2]"
   ]
  },
  {
   "cell_type": "code",
   "execution_count": 113,
   "id": "c7e74fd7",
   "metadata": {},
   "outputs": [
    {
     "name": "stdout",
     "output_type": "stream",
     "text": [
      "['1,monal,30,\\n', '2,anatha,27,\\n', '3,enjoy,23,\\n', '4,yusuf,24,\\n', '5,omar,80,\\n', '6,dharshini,19,\\n']\n",
      "1,monal,30,\n",
      "\n",
      "['1', 'monal', '30', '\\n']\n",
      "2,anatha,27,\n",
      "\n",
      "['2', 'anatha', '27', '\\n']\n",
      "3,enjoy,23,\n",
      "\n",
      "['3', 'enjoy', '23', '\\n']\n",
      "4,yusuf,24,\n",
      "\n",
      "['4', 'yusuf', '24', '\\n']\n",
      "5,omar,80,\n",
      "\n",
      "['5', 'omar', '80', '\\n']\n",
      "6,dharshini,19,\n",
      "\n",
      "['6', 'dharshini', '19', '\\n']\n"
     ]
    }
   ],
   "source": [
    "with open(\"./test_dummy_1.txt\", \"r+\") as f:\n",
    "    content = f.readlines()\n",
    "    print(content)\n",
    "    for c in content:\n",
    "        populate_data(c)"
   ]
  },
  {
   "cell_type": "code",
   "execution_count": 112,
   "id": "ebfefff6",
   "metadata": {},
   "outputs": [
    {
     "data": {
      "text/plain": [
       "{'1': {'name': 'monal', 'age': '30'},\n",
       " '2': {'name': 'anatha', 'age': '27'},\n",
       " '3': {'name': 'enjoy', 'age': '23'},\n",
       " '4': {'name': 'yusuf', 'age': '24'},\n",
       " '5': {'name': 'omar', 'age': '80'},\n",
       " '6': {'name': 'dharshini', 'age': '19'}}"
      ]
     },
     "execution_count": 112,
     "metadata": {},
     "output_type": "execute_result"
    }
   ],
   "source": [
    "data_of_students"
   ]
  },
  {
   "cell_type": "code",
   "execution_count": 114,
   "id": "fe3f752f",
   "metadata": {},
   "outputs": [],
   "source": [
    "a = {}"
   ]
  },
  {
   "cell_type": "code",
   "execution_count": 117,
   "id": "ebefefc6",
   "metadata": {},
   "outputs": [],
   "source": [
    "def add_to_dict(key, value):\n",
    "    a[key] = value\n"
   ]
  },
  {
   "cell_type": "code",
   "execution_count": 118,
   "id": "d7f2a04a",
   "metadata": {},
   "outputs": [],
   "source": [
    "add_to_dict(\"1\", \"monal\")\n",
    "add_to_dict(\"2\", \"monalk\")\n",
    "add_to_dict(\"3\", \"monal\")\n",
    "add_to_dict(\"4\", \"monalk\")"
   ]
  },
  {
   "cell_type": "code",
   "execution_count": 119,
   "id": "01fd7c30",
   "metadata": {},
   "outputs": [
    {
     "name": "stdout",
     "output_type": "stream",
     "text": [
      "{'1': 'monal', '2': 'monalk', '3': 'monal', '4': 'monalk'}\n"
     ]
    }
   ],
   "source": [
    "print(a)"
   ]
  },
  {
   "cell_type": "code",
   "execution_count": null,
   "id": "fbf18d71",
   "metadata": {},
   "outputs": [],
   "source": [
    "print(\"Welcome to to-do list\")\n",
    "print(\"Press 1 for a, press 2 for b : \")\n",
    "option = int(input())\n",
    "if option == 1 :\n",
    "    write code for a\n",
    "elif option == 2:\n",
    "    write code b"
   ]
  }
 ],
 "metadata": {
  "kernelspec": {
   "display_name": "Python 3",
   "language": "python",
   "name": "python3"
  },
  "language_info": {
   "codemirror_mode": {
    "name": "ipython",
    "version": 3
   },
   "file_extension": ".py",
   "mimetype": "text/x-python",
   "name": "python",
   "nbconvert_exporter": "python",
   "pygments_lexer": "ipython3",
   "version": "3.12.0"
  }
 },
 "nbformat": 4,
 "nbformat_minor": 5
}
