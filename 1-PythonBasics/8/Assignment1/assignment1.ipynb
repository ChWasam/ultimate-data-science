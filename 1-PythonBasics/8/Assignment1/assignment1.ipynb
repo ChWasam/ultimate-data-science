{
 "cells": [
  {
   "cell_type": "markdown",
   "id": "5d065c25",
   "metadata": {},
   "source": [
    "### Assignment 1"
   ]
  },
  {
   "cell_type": "markdown",
   "id": "9ccfe5cb",
   "metadata": {},
   "source": [
    "* Step 1 \n",
    "\n",
    "    Ask user name , phone no , email address and group \n",
    "\n",
    "    We will ask it and store it in database.txt file \n",
    "\n",
    "* Step 2.1 (Search contact via name ) \n",
    "\n",
    "    Ask user to input  name \n",
    "\n",
    "    search in database for the name and bring all the entries starting with that name \n",
    "\n",
    "* Step 2.2 (Search contact via group (group are name and office ) ) \n",
    "\n",
    "    Ask user to input  group \n",
    "\n",
    "    search in database for the group  and bring all the entries having that group \n",
    "\n",
    "* Step 2.3 Deleting entry based on that phone no\n",
    "\n",
    "    Ask user to input  contact \n",
    "\n",
    "    search in database for the contact and delete it \n",
    "\n"
   ]
  },
  {
   "cell_type": "code",
   "execution_count": 28,
   "id": "f78a1397",
   "metadata": {},
   "outputs": [],
   "source": [
    "name = input(\"Please enter your name: \")\n",
    "phone_no = input(\"please enter your phone no:\")\n",
    "email_address = input(\"Please enter your email address\")\n",
    "group = input(\"Please enter  group - Home or Office :\")\n",
    "\n",
    "person_entry = name + \",\" + phone_no + \",\" + email_address + \",\" + group + \"\\n\"\n",
    "\n",
    "\n",
    "with open(\"./database.txt\", \"a+\") as f :\n",
    "    f.write(person_entry)"
   ]
  },
  {
   "cell_type": "code",
   "execution_count": 24,
   "id": "51f2bfad",
   "metadata": {},
   "outputs": [
    {
     "name": "stdout",
     "output_type": "stream",
     "text": [
      "chaudhry ali,3428716984651,ali@gmail.com,home\n",
      "\n"
     ]
    }
   ],
   "source": [
    "# Step 2.1 (Search contact via name ) \n",
    "\n",
    "#     Ask user to input  name \n",
    "\n",
    "#     search in database for the name and bring all the entries  with that name \n",
    "\n",
    "def search_contact_via_name():\n",
    "    Search_name = (input(\"Enter name that you want to search: \")).lower()\n",
    "    with open(\"./database.txt\", \"r+\") as f:\n",
    "        all_entries = f.readlines()\n",
    "        for single_entry in all_entries:\n",
    "            single_entry_list = single_entry.split(\",\")\n",
    "            if (Search_name in single_entry_list[1].lower()) and Search_name != \"\":\n",
    "                print(single_entry)\n",
    "\n",
    "\n",
    "search_contact_via_name()\n",
    "\n",
    "\n",
    "\n"
   ]
  },
  {
   "cell_type": "code",
   "execution_count": 13,
   "id": "94356a5b",
   "metadata": {},
   "outputs": [
    {
     "name": "stdout",
     "output_type": "stream",
     "text": [
      "chaudhry ali,67567676847i,ali@gmail.com,Home\n",
      "\n",
      "chaufhry wasam ,8948398928937,wasam@gmail.com,Home\n",
      "\n"
     ]
    }
   ],
   "source": [
    "#  Step 2.2 (Search contact via group (group are name and office ) ) \n",
    "\n",
    "#     Ask user to input  group \n",
    "\n",
    "#     search in database for the group  and bring all the entries having that group \n",
    "\n",
    "\n",
    "def search_contact_via_group():\n",
    "    Search_group = (input(\"Enter group that you want to search: \")).lower()\n",
    "    with open(\"./database.txt\", \"r+\") as f:\n",
    "        all_entries = f.readlines()\n",
    "        for single_entry in all_entries:\n",
    "            single_entry_list = single_entry.split(\",\")\n",
    "            if (Search_group in single_entry_list[3].lower()) and Search_group != \"\":\n",
    "                print(single_entry)\n",
    "\n",
    "search_contact_via_group()"
   ]
  },
  {
   "cell_type": "code",
   "execution_count": 55,
   "id": "cd996a13",
   "metadata": {},
   "outputs": [
    {
     "name": "stdout",
     "output_type": "stream",
     "text": [
      "--8435098216--\n",
      "--8943872548--\n",
      "False\n",
      "--1 ['wasam,8943872548,wasam@gmail.com,home\\n'] ---\n",
      "--8435098216--\n",
      "--8435098216--\n",
      "True\n",
      "--8435098216--\n",
      "--89413208943--\n",
      "False\n",
      "--1 ['wasam,8943872548,wasam@gmail.com,home\\n', 'ali raza,89413208943,aliraza@gmail.com,office\\n'] ---\n",
      "--2 ['wasam,8943872548,wasam@gmail.com,home\\n', 'ali raza,89413208943,aliraza@gmail.com,office\\n'] ---\n"
     ]
    }
   ],
   "source": [
    "# Step 2.3 Deleting entry based on that phone no\n",
    "\n",
    "#     Ask user to input  contact \n",
    "\n",
    "#     search in database for the contact and delete it \n",
    "\n",
    "def del_contact_via_phone_no():\n",
    "    Search_phone_no = (input(\"Enter phone no of the entry that you want to delete: \"))\n",
    "    new_list = []\n",
    "    with open(\"./database.txt\", \"r\") as f:\n",
    "        all_entries = f.readlines()\n",
    "        for single_entry in all_entries:\n",
    "            single_entry_list = single_entry.split(\",\")\n",
    "            print(\"--\" + Search_phone_no +\"--\")\n",
    "            print(\"--\" +single_entry_list[1] +\"--\")\n",
    "            print(Search_phone_no == single_entry_list[1])\n",
    "            if (Search_phone_no not in single_entry_list[1]) and Search_phone_no != \"\":\n",
    "                new_list.append(single_entry)\n",
    "                print(\"--1\", new_list , \"---\")\n",
    "        print(\"--2\", new_list , \"---\")\n",
    "    with open(\"./database.txt\", \"w+\") as f:\n",
    "        f.writelines(new_list)\n",
    "                \n",
    "\n",
    "del_contact_via_phone_no()\n",
    "\n"
   ]
  },
  {
   "cell_type": "code",
   "execution_count": null,
   "id": "d632a69a",
   "metadata": {},
   "outputs": [],
   "source": [
    "wasam,8943872548,wasam@gmail.com,home\n",
    "ali chaudhry ,8435098216,ali@gmail.com,office\n",
    "ali raza,89413208943,aliraza@gmail.com,office"
   ]
  },
  {
   "cell_type": "code",
   "execution_count": 38,
   "id": "c24abd30",
   "metadata": {},
   "outputs": [
    {
     "name": "stdout",
     "output_type": "stream",
     "text": [
      "['123', '3456', '2222']\n"
     ]
    }
   ],
   "source": [
    "list_1 = [\"123\", \"3456\"]\n",
    "idd = 1\n",
    "if idd == 1:\n",
    "    list_1.append(\"2222\")\n",
    "\n",
    "print(list_1)"
   ]
  },
  {
   "cell_type": "code",
   "execution_count": 39,
   "id": "d2711397",
   "metadata": {},
   "outputs": [
    {
     "name": "stdout",
     "output_type": "stream",
     "text": [
      "['123', '3456', '2222']\n"
     ]
    }
   ],
   "source": [
    "print (list_1)\n",
    "list_1.append(\"2222\")\n"
   ]
  },
  {
   "cell_type": "code",
   "execution_count": 37,
   "id": "92f26e0b",
   "metadata": {},
   "outputs": [
    {
     "name": "stdout",
     "output_type": "stream",
     "text": [
      "['123', '3456', '2222', '2222']\n"
     ]
    }
   ],
   "source": [
    "print (list_1)\n",
    "list_1.append(\"2222\")"
   ]
  },
  {
   "cell_type": "code",
   "execution_count": 40,
   "id": "f7047600",
   "metadata": {},
   "outputs": [
    {
     "name": "stdout",
     "output_type": "stream",
     "text": [
      "['123', '3456', '2222', '2222']\n"
     ]
    }
   ],
   "source": [
    "print (list_1)\n",
    "list_1.append(\"2222\")"
   ]
  },
  {
   "cell_type": "code",
   "execution_count": 41,
   "id": "b9f309fd",
   "metadata": {},
   "outputs": [
    {
     "name": "stdout",
     "output_type": "stream",
     "text": [
      "['123', '3456', '2222', '2222', '2222']\n"
     ]
    }
   ],
   "source": [
    "print (list_1)\n",
    "list_1.append(\"2222\")"
   ]
  },
  {
   "cell_type": "code",
   "execution_count": 42,
   "id": "31ec9106",
   "metadata": {},
   "outputs": [
    {
     "name": "stdout",
     "output_type": "stream",
     "text": [
      "['123', '3456', '2222', '2222', '2222', '2222']\n"
     ]
    }
   ],
   "source": [
    "print (list_1)\n",
    "list_1.append(\"2222\")"
   ]
  },
  {
   "cell_type": "code",
   "execution_count": 43,
   "id": "bda98855",
   "metadata": {},
   "outputs": [
    {
     "name": "stdout",
     "output_type": "stream",
     "text": [
      "['123', '3456', '2222', '2222', '2222', '2222', '2222']\n"
     ]
    }
   ],
   "source": [
    "print (list_1)\n",
    "list_1.append(\"2222\")"
   ]
  },
  {
   "cell_type": "code",
   "execution_count": 44,
   "id": "5c69fe70",
   "metadata": {},
   "outputs": [],
   "source": [
    "for n in range(3):\n",
    "    list_1.append(\"2222\")"
   ]
  },
  {
   "cell_type": "code",
   "execution_count": 45,
   "id": "6a0f88e7",
   "metadata": {},
   "outputs": [
    {
     "name": "stdout",
     "output_type": "stream",
     "text": [
      "['123', '3456', '2222', '2222', '2222', '2222', '2222', '2222', '2222', '2222', '2222']\n"
     ]
    }
   ],
   "source": [
    "print(list_1)"
   ]
  },
  {
   "cell_type": "code",
   "execution_count": null,
   "id": "75f082e3",
   "metadata": {},
   "outputs": [],
   "source": []
  }
 ],
 "metadata": {
  "kernelspec": {
   "display_name": "Python 3",
   "language": "python",
   "name": "python3"
  },
  "language_info": {
   "codemirror_mode": {
    "name": "ipython",
    "version": 3
   },
   "file_extension": ".py",
   "mimetype": "text/x-python",
   "name": "python",
   "nbconvert_exporter": "python",
   "pygments_lexer": "ipython3",
   "version": "3.12.0"
  }
 },
 "nbformat": 4,
 "nbformat_minor": 5
}
