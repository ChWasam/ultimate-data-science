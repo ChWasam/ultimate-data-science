{
 "cells": [
  {
   "cell_type": "markdown",
   "id": "68b1d9ac",
   "metadata": {},
   "source": [
    "# Object-Oriented Programming (OOP) in Python: Why and How to Transition from Procedural Programming\n",
    "\n",
    "These notes explain why we move from procedural programming (using functions) to object-oriented programming (OOP) in Python, focusing on its benefits for managing complex code. They are tailored for beginners who have mastered basic Python, including functions, and are now learning OOP. Key concepts are presented from foundational to advanced, with simple examples to clarify each point.\n",
    "\n",
    "## 1. Understanding Procedural vs. Object-Oriented Programming\n",
    "Procedural programming organizes code as a sequence of functions that operate on shared data, suitable for small scripts. However, as programs grow, managing many functions and variables in a single file becomes challenging. OOP organizes code by grouping related data and functions (methods) into \"objects,\" which are instances of classes. This makes code more structured and easier to manage, especially for larger projects.\n",
    "\n",
    "**Example**: Instead of using functions like `deposit(balance, amount)` and passing a `balance` variable around, you can create a `BankAccount` class with a `balance` attribute and methods like `deposit` and `withdraw`, keeping related data and behavior together.\n",
    "\n",
    "```python\n",
    "# Procedural\n",
    "balance = 1000\n",
    "def deposit(balance, amount):\n",
    "    balance += amount\n",
    "    return balance\n",
    "\n",
    "# OOP\n",
    "class BankAccount:\n",
    "    def __init__(self, balance):\n",
    "        self.balance = balance\n",
    "    def deposit(self, amount):\n",
    "        self.balance += amount\n",
    "```\n",
    "\n",
    "## 2. Problems with Procedural Programming for Large Programs\n",
    "As programs grow, procedural programming faces several issues that make code hard to manage:\n",
    "- **Unmanageable Code**: With hundreds of functions in a single `.py` file, it becomes difficult to track what each function does and how they interact.\n",
    "- **Variable Management**: Global variables used by multiple functions can lead to conflicts, especially if functions expect data in different formats (e.g., a list vs. a dictionary), causing errors.\n",
    "- **Lack of Scalability**: Procedural code works for small scripts (e.g., 3 functions) but struggles with large systems (e.g., 1000 functions) due to poor organization.\n",
    "\n",
    "**Example**: If you have a program with 10 functions sharing a global `user_data` dictionary, one function might accidentally modify it in a way that breaks another function expecting a different structure.\n",
    "\n",
    "```python\n",
    "user_data = {\"name\": \"Alice\", \"age\": 30}\n",
    "def update_age(data, new_age):\n",
    "    data[\"age\"] = new_age  # Might break if another function expects a list\n",
    "```\n",
    "\n",
    "## 3. How OOP Solves These Problems\n",
    "OOP addresses the limitations of procedural programming by introducing classes and objects, which provide:\n",
    "- **Scalability**: Classes group related functions and data, making it easier to manage large codebases, whether you have 3 or 1000 functions.\n",
    "- **Manageability**: Encapsulation bundles data and methods within a class, clarifying which functions operate on which data.\n",
    "- **Debuggability**: Since each object manages its own state, bugs can be isolated to specific classes, simplifying debugging.\n",
    "\n",
    "**Example**: A `BankAccount` class encapsulates `balance` and methods like `deposit`, so you don’t need to pass `balance` around or worry about external functions modifying it incorrectly.\n",
    "\n",
    "```python\n",
    "class BankAccount:\n",
    "    def __init__(self, balance):\n",
    "        self.balance = balance\n",
    "    def deposit(self, amount):\n",
    "        self.balance += amount\n",
    "```\n",
    "\n",
    "## 4. Encapsulation: Bundling Data and Methods\n",
    "In OOP, encapsulation means bundling data (attributes) and the functions that operate on that data (methods) into a single class. This makes it clear which methods belong to which data, reducing confusion and errors compared to procedural programming, where data is often shared globally.\n",
    "\n",
    "**Example**: A `BankAccount` class keeps `balance` and methods like `deposit` together, so you don’t need to track `balance` separately across multiple functions.\n",
    "\n",
    "```python\n",
    "class BankAccount:\n",
    "    def __init__(self, initial_balance):\n",
    "        self.balance = initial_balance\n",
    "    def deposit(self, amount):\n",
    "        self.balance += amount\n",
    "        print(f\"Deposited {amount}. Balance: {self.balance}\")\n",
    "```\n",
    "\n",
    "## 5. The Role of Constructors in OOP\n",
    "A constructor is a special method (`__init__` in Python) that initializes an object’s state when it’s created. It sets up default or initial values for attributes, similar to how a phone sets date, time, or wallpaper automatically on startup. Constructors ensure objects start in a consistent state, reducing manual setup.\n",
    "\n",
    "**Example**: A `Phone` class with a constructor that sets default values for `date` and `wallpaper`.\n",
    "\n",
    "```python\n",
    "class Phone:\n",
    "    def __init__(self):\n",
    "        self.date = \"2025-08-07\"\n",
    "        self.wallpaper = \"default.png\"\n",
    "        print(f\"Phone initialized with date {self.date} and wallpaper {self.wallpaper}\")\n",
    "\n",
    "my_phone = Phone()  # Automatically sets date and wallpaper\n",
    "```\n",
    "\n",
    "## 6. Reusability and Extensibility Through Inheritance\n",
    "Inheritance allows a new class to inherit attributes and methods from an existing class, promoting code reuse and enabling you to extend functionality. This is useful for modeling hierarchical relationships, like a general `Vehicle` class and specific `Car` or `Truck` classes.\n",
    "\n",
    "**Example**: A `Car` class inherits from `Vehicle`, reusing its `start` method and adding a `honk` method.\n",
    "\n",
    "```python\n",
    "class Vehicle:\n",
    "    def __init__(self, make):\n",
    "        self.make = make\n",
    "    def start(self):\n",
    "        print(f\"{self.make} started.\")\n",
    "\n",
    "class Car(Vehicle):\n",
    "    def honk(self):\n",
    "        print(\"Honk honk!\")\n",
    "\n",
    "my_car = Car(\"Toyota\")\n",
    "my_car.start()  # Inherited method\n",
    "my_car.honk()   # Car-specific method\n",
    "```\n",
    "\n",
    "## 7. Modularity for Reduced Cognitive Load\n",
    "OOP’s modularity allows developers to break programs into self-contained classes, reducing the complexity of managing large codebases. Each class handles its own logic, making it easier to understand and modify without affecting other parts of the program.\n",
    "\n",
    "**Example**: In a game, a `Player` class can manage its own `health` and `attack` methods, separate from an `Enemy` class, making the codebase easier to navigate.\n",
    "\n",
    "```python\n",
    "class Player:\n",
    "    def __init__(self, name):\n",
    "        self.name = name\n",
    "        self.health = 100\n",
    "    def attack(self):\n",
    "        print(f\"{self.name} attacks!\")\n",
    "```\n",
    "\n",
    "## 8. Polymorphism for Flexibility\n",
    "Polymorphism allows different classes to be treated uniformly if they share a common interface, enabling flexible code. For example, you can call a `deposit` method on different account types, even if their implementations differ.\n",
    "\n",
    "**Example**: A `SavingsAccount` and `CheckingAccount` can both have a `deposit` method, but `SavingsAccount` might add interest.\n",
    "\n",
    "```python\n",
    "class SavingsAccount:\n",
    "    def deposit(self, amount):\n",
    "        print(f\"Deposited {amount} with interest.\")\n",
    "\n",
    "class CheckingAccount:\n",
    "    def deposit(self, amount):\n",
    "        print(f\"Deposited {amount} without interest.\")\n",
    "\n",
    "accounts = [SavingsAccount(), CheckingAccount()]\n",
    "for account in accounts:\n",
    "    account.deposit(100)  # Works for both types\n",
    "```\n",
    "\n",
    "## 9. Memory Allocation in Python for OOP\n",
    "Memory allocation in Python is often misunderstood. Here’s a clarified explanation:\n",
    "- Python uses memory for its runtime environment (e.g., garbage collection, interpreter), which might take ~1.5 GB on an 8 GB system, though this varies.\n",
    "- Classes and function definitions are blueprints stored in memory when Python loads the program (part of the interpreter’s memory).\n",
    "- Objects (instances of classes) and variables consume additional memory when created during runtime.\n",
    "- Each object has its own memory for attributes, but methods (functions in a class) are shared across all instances of the class, not duplicated per object.\n",
    "- Contrary to the input, memory is not explicitly separated by functions or classes in the way described. Python knows which methods belong to a class via the `self` parameter, which links methods to the object’s namespace.\n",
    "\n",
    "**Example**: Creating two `BankAccount` objects allocates memory for each object’s `balance`, but the `deposit` method is shared.\n",
    "\n",
    "```python\n",
    "class BankAccount:\n",
    "    def __init__(self, balance):\n",
    "        self.balance = balance  # Unique per object\n",
    "    def deposit(self, amount):\n",
    "        self.balance += amount  # Shared method\n",
    "\n",
    "account1 = BankAccount(1000)\n",
    "account2 = BankAccount(2000)  # Separate memory for each balance\n",
    "```\n",
    "\n",
    "## 10. When to Use OOP vs. Procedural Programming\n",
    "- **Procedural**: Best for small, linear scripts (e.g., data processing, simple automation).\n",
    "- **OOP**: Ideal for large, complex systems (e.g., web apps, games) where modularity, scalability, and maintainability are critical.\n",
    "\n",
    "**Example**: Use procedural for a script to calculate averages, but use OOP for a library management system with books, users, and transactions.\n",
    "\n",
    "```python\n",
    "# Procedural for simple task\n",
    "def average(numbers):\n",
    "    return sum(numbers) / len(numbers)\n",
    "\n",
    "# OOP for complex system\n",
    "class Book:\n",
    "    def __init__(self, title):\n",
    "        self.title = title\n",
    "    def borrow(self):\n",
    "        print(f\"{self.title} borrowed.\")\n",
    "```\n",
    "\n",
    "## Key Takeaways\n",
    "- OOP groups related data and methods into classes, improving organization and scalability compared to procedural programming’s function-based approach.\n",
    "- Constructors (`__init__`) initialize objects automatically, like setting up a phone or factory.\n",
    "- Inheritance and polymorphism enhance code reuse and flexibility, making it easier to extend programs.\n",
    "- OOP reduces complexity and improves debugging by isolating logic within classes.\n",
    "- Understanding memory allocation helps clarify that objects store unique data, while methods are shared, optimizing resource use.\n",
    "\n",
    "These notes are designed to help you transition to OOP by building on your knowledge of functions, with practical examples to reinforce each concept. Practice creating simple classes like `BankAccount` or `Phone`, then explore inheritance with examples like `Vehicle` and `Car`."
   ]
  },
  {
   "cell_type": "markdown",
   "id": "56b6a769",
   "metadata": {},
   "source": [
    "# OOP (Classes and objects intro)"
   ]
  },
  {
   "cell_type": "markdown",
   "id": "b065805c",
   "metadata": {},
   "source": [
    "* Previously we were using functions for whole code whether it contains 100s of functins in a single py file. And we call that functions.\n",
    "\n",
    "#### Issue \n",
    "1. Code become unmanageable because we keep on adding lots of functions\n",
    "2. Maintain the variable for every functions.Sometimes we need same variable for different functions. Data is in a different format - things will start to break. e.g. getting different output formats of (dictionary and list) for same global variables \n",
    "\n",
    "#### Solutions should have \n",
    "1. It should be Scalability (Whether 3 function  or 1000 functions )=> Work for larger code also \n",
    "2. Managable \n",
    "3. Debugable \n",
    "\n",
    "Which is not possible with single file code with different functions \n",
    "\n",
    "\n",
    "We move to OOP (Classes and objects) which solves all of this \n",
    "\n",
    "\n",
    "WE will merge the functions similar to each other in a single class   "
   ]
  },
  {
   "cell_type": "markdown",
   "id": "b12657c7",
   "metadata": {},
   "source": [
    "* Like when we start our phone for the first time or restart our phone we donot need to set few things e.g. Date, Time , walpaper etc.\n",
    "* For operations like this we need to use the constructor in class \n",
    "* Which set the things automatically \n",
    "* Constructor is a piece of code which is used to initialize something \n",
    "* Like when we need to start the factory we need to open office , open cash register, start machine etc all of these things will be defined in constructor"
   ]
  },
  {
   "cell_type": "markdown",
   "id": "c8a01d19",
   "metadata": {},
   "source": [
    "##### As far as memory is concerned we don't have memory seperated by class we have memory seperated by function (defined in notes)\n",
    "\n",
    "* Classes will be considered as seperate memory while function (method) inside class will be considered as seperate memory \n",
    "* So we require the address of class then we will tell the functions inside class that you have adress (of class) tagged  \n",
    "* Python doesnot know which function belong to class \n",
    "* It only know which variable belong to which function\n",
    "  "
   ]
  },
  {
   "cell_type": "markdown",
   "id": "01a2f49d",
   "metadata": {},
   "source": [
    "#### Memory Allocation \n",
    "\n",
    "* Suppose your system has 8gb ram \n",
    "* Python uses few gb of ram e.g 1.5gb to run it like garbage collection and more\n",
    "* Out of the other python use to store the value in a varible or run a function or store the object (not class)\n",
    "* when we define the function or classes or functions inside class as they are blueprintts it will be store in that 1.5 gb memory allocated to run python \n",
    "* "
   ]
  },
  {
   "cell_type": "code",
   "execution_count": 3,
   "id": "5c1438b0",
   "metadata": {},
   "outputs": [],
   "source": [
    "a = 2\n",
    "\n",
    "def add(a,b):\n",
    "    c = a+b\n",
    "    print(c)"
   ]
  },
  {
   "cell_type": "code",
   "execution_count": 4,
   "id": "7d538bf2",
   "metadata": {},
   "outputs": [
    {
     "name": "stdout",
     "output_type": "stream",
     "text": [
      "3\n"
     ]
    }
   ],
   "source": [
    "add(1,2)"
   ]
  },
  {
   "cell_type": "markdown",
   "id": "55c1cf41",
   "metadata": {},
   "source": [
    "#### Class is known as blue print \n",
    "* In blue print we define the properties of the house \n",
    "* Then using the blueprint we create the physical house / real house \n",
    "* This is called the object \n",
    "* Using single class we use multiple objects \n",
    "* Objects and instance are same"
   ]
  },
  {
   "cell_type": "code",
   "execution_count": null,
   "id": "c0eb96ee",
   "metadata": {},
   "outputs": [],
   "source": [
    "# Car\n",
    "# - customer name\n",
    "# - brand -->\n",
    "# - color -> \n",
    "# - type -> sedan, hatchback, SUV\n",
    "\n",
    "class Car():\n",
    "\n",
    "    def customer_name(self, name):\n",
    "    #  How to tell that this function customer_name belongs to the Car class  We need to give the address of the Car to the function\n",
    "    #  We use self for this purpose to give address of Car class to this function \n",
    "    # The first variable of the function is always address of your Class \n",
    "    # The self can be \"a\" also or anything but it should be common in all other functions \n",
    "    #  Python use this self to bind different functions to Car \n",
    "    #  Self is local to this particular class \n",
    "        print(name)\n",
    "\n",
    "    def brand(self, brand):\n",
    "        print(brand)\n",
    "\n",
    "    def color(self, color):\n",
    "        print(color)\n",
    "\n",
    "    def customer_name(self, type_of_car):\n",
    "        print(type_of_car)"
   ]
  },
  {
   "cell_type": "code",
   "execution_count": null,
   "id": "ce9d4543",
   "metadata": {},
   "outputs": [],
   "source": [
    "# object Car() will be in the memory not used by RAM\n",
    "#  And Car() will have  certain address \n",
    "#  Car() will return the address of where it is stored \n",
    "car_var = Car()"
   ]
  },
  {
   "cell_type": "code",
   "execution_count": null,
   "id": "126f86a2",
   "metadata": {},
   "outputs": [
    {
     "data": {
      "text/plain": [
       "1995449226768"
      ]
     },
     "execution_count": 16,
     "metadata": {},
     "output_type": "execute_result"
    }
   ],
   "source": [
    "id(car_var)\n",
    "#  car_var has the address "
   ]
  },
  {
   "cell_type": "code",
   "execution_count": null,
   "id": "a0b659f3",
   "metadata": {},
   "outputs": [
    {
     "name": "stdout",
     "output_type": "stream",
     "text": [
      "monal\n"
     ]
    }
   ],
   "source": [
    "car_var.customer_name(\"monal\")\n",
    "\n",
    "# From the address it is calling the customer name function  "
   ]
  },
  {
   "cell_type": "code",
   "execution_count": 18,
   "id": "ecb874b4",
   "metadata": {},
   "outputs": [
    {
     "name": "stdout",
     "output_type": "stream",
     "text": [
      "hello\n"
     ]
    }
   ],
   "source": [
    "car_var_2 = Car()\n",
    "car_var_2.customer_name(\"hello\")"
   ]
  },
  {
   "cell_type": "code",
   "execution_count": null,
   "id": "c127be41",
   "metadata": {},
   "outputs": [],
   "source": [
    "class Mobile():\n",
    "\n",
    "    def __init__(self, a, b, c): # Constructer used to initialize something \n",
    "        self.manufacturer_name = a\n",
    "        self.os_version = b\n",
    "        self.customer_name = c\n",
    "        #  as self.customer_name has self so it has address of class and we can use them anywhere in the class in any function \n",
    "        # So we don't need to use global annymore \n",
    "\n",
    "    def get_customer_name(self):\n",
    "        print(self.customer_name)"
   ]
  },
  {
   "cell_type": "code",
   "execution_count": null,
   "id": "59080551",
   "metadata": {},
   "outputs": [],
   "source": [
    "customer_1 = Mobile(\"Apple\", \"ios\", \"monal\")\n",
    "#  customer_1 and the self inside customer_1 class has the same address \n",
    "customer_2 = Mobile(\"Apple\", \"ios\", \"Akash\")\n",
    "#  customer_2 and the self inside customer_2 class has the same address \n",
    "customer_3 = Mobile(\"Apple\", \"ios\", \"alok\")\n",
    "#  customer_3 and the self inside customer_3 class has the same address "
   ]
  },
  {
   "cell_type": "code",
   "execution_count": 11,
   "id": "ef974d2b",
   "metadata": {},
   "outputs": [
    {
     "name": "stdout",
     "output_type": "stream",
     "text": [
      "monal\n"
     ]
    }
   ],
   "source": [
    "customer_1.get_customer_name()"
   ]
  },
  {
   "cell_type": "code",
   "execution_count": 14,
   "id": "46fdc700",
   "metadata": {},
   "outputs": [
    {
     "data": {
      "text/plain": [
       "'Apple'"
      ]
     },
     "execution_count": 14,
     "metadata": {},
     "output_type": "execute_result"
    }
   ],
   "source": [
    "customer_1.manufacturer_name"
   ]
  },
  {
   "cell_type": "code",
   "execution_count": 12,
   "id": "c09b47fd",
   "metadata": {},
   "outputs": [
    {
     "name": "stdout",
     "output_type": "stream",
     "text": [
      "Akash\n"
     ]
    }
   ],
   "source": [
    "customer_2.get_customer_name()"
   ]
  },
  {
   "cell_type": "code",
   "execution_count": 13,
   "id": "76e189fd",
   "metadata": {},
   "outputs": [
    {
     "name": "stdout",
     "output_type": "stream",
     "text": [
      "alok\n"
     ]
    }
   ],
   "source": [
    "customer_3.get_customer_name()"
   ]
  },
  {
   "cell_type": "markdown",
   "id": "771aa0a6",
   "metadata": {},
   "source": [
    "##### Stand alones are functions and variable \n",
    "##### While class has methods and attributes "
   ]
  },
  {
   "cell_type": "code",
   "execution_count": 1,
   "id": "dabaf0ff",
   "metadata": {},
   "outputs": [],
   "source": [
    "import os"
   ]
  },
  {
   "cell_type": "code",
   "execution_count": 2,
   "id": "e5a59ec1",
   "metadata": {},
   "outputs": [
    {
     "data": {
      "text/plain": [
       "'c:\\\\Monal\\\\Work\\\\AllLight\\\\Krish-sir\\\\KNB1-DataScience\\\\27-04-2025'"
      ]
     },
     "execution_count": 2,
     "metadata": {},
     "output_type": "execute_result"
    }
   ],
   "source": [
    "os.getcwd()"
   ]
  },
  {
   "cell_type": "code",
   "execution_count": null,
   "id": "79a0eee9",
   "metadata": {},
   "outputs": [],
   "source": []
  }
 ],
 "metadata": {
  "kernelspec": {
   "display_name": "Python 3",
   "language": "python",
   "name": "python3"
  },
  "language_info": {
   "codemirror_mode": {
    "name": "ipython",
    "version": 3
   },
   "file_extension": ".py",
   "mimetype": "text/x-python",
   "name": "python",
   "nbconvert_exporter": "python",
   "pygments_lexer": "ipython3",
   "version": "3.12.0"
  }
 },
 "nbformat": 4,
 "nbformat_minor": 5
}
