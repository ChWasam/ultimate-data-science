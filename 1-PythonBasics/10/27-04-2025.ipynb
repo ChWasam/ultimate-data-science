{
 "cells": [
  {
   "cell_type": "markdown",
   "id": "56b6a769",
   "metadata": {},
   "source": [
    "# OOP (Classes and objects intro)"
   ]
  },
  {
   "cell_type": "markdown",
   "id": "b065805c",
   "metadata": {},
   "source": [
    "* Previously we were using functions for whole code whether it contains 100s of functins in a single py file. And we call that functions.\n",
    "\n",
    "#### Issue \n",
    "1. Code become unmanageable because we keep on adding lots of functions\n",
    "2. Maintain the variable for every functions.Sometimes we need same variable for different functions. Data is in a different format - things will start to break. e.g. getting different output formats of (dictionary and list) for same global variables \n",
    "\n",
    "#### Solutions should have \n",
    "1. It should be Scalability (Whether 3 function  or 1000 functions )=> Work for larger code also \n",
    "2. Managable \n",
    "3. Debugable \n",
    "\n",
    "Which is not possible with single file code with different functions \n",
    "\n",
    "\n",
    "We move to OOP (Classes and objects) which solves all of this \n",
    "\n",
    "\n",
    "WE will merge the functions similar to each other in a single class   "
   ]
  },
  {
   "cell_type": "markdown",
   "id": "b12657c7",
   "metadata": {},
   "source": [
    "* Like when we start our phone for the first time or restart our phone we donot need to set few things e.g. Date, Time , walpaper etc.\n",
    "* For operations like this we need to use the constructor in class \n",
    "* Which set the things automatically \n",
    "* Constructor is a piece of code which is used to initialize something \n",
    "* Like when we need to start the factory we need to open office , open cash register, start machine etc all of these things will be defined in constructor"
   ]
  },
  {
   "cell_type": "markdown",
   "id": "c8a01d19",
   "metadata": {},
   "source": [
    "##### As far as memory is consirned we don't have memory seperated by class we have memory seperated by function (defined in notes)\n",
    "\n",
    "* Classes will be considered as seperate memory while function inside class will be considered as seperate memory \n",
    "* So we require the address of class then we will tell the functions inside class that you have adress (of class) tagged  \n",
    "* Python doesnot know which function belong to class \n",
    "* It only know which variable belong to which function\n",
    "  "
   ]
  },
  {
   "cell_type": "markdown",
   "id": "01a2f49d",
   "metadata": {},
   "source": [
    "#### Memory Allocation \n",
    "\n",
    "* Suppose your system has 8gb ram \n",
    "* Python uses few gb of ram e.g 1.5gb to run it like garbage collection and more\n",
    "* Out of the other python use to store the value in a varible or run a function or store the object (not class)\n",
    "* when we define the function or classes or functions inside class as they are blueprintts it will be store in that 1.5 gb memory allocated to run python \n",
    "* "
   ]
  },
  {
   "cell_type": "code",
   "execution_count": 3,
   "id": "5c1438b0",
   "metadata": {},
   "outputs": [],
   "source": [
    "a = 2\n",
    "\n",
    "def add(a,b):\n",
    "    c = a+b\n",
    "    print(c)"
   ]
  },
  {
   "cell_type": "code",
   "execution_count": 4,
   "id": "7d538bf2",
   "metadata": {},
   "outputs": [
    {
     "name": "stdout",
     "output_type": "stream",
     "text": [
      "3\n"
     ]
    }
   ],
   "source": [
    "add(1,2)"
   ]
  },
  {
   "cell_type": "markdown",
   "id": "55c1cf41",
   "metadata": {},
   "source": [
    "#### Class is known as blue print \n",
    "* In blue print we define the properties of the house \n",
    "* Then using the blueprint we create the physical house / real house \n",
    "* This is called the object \n",
    "* Using single class we use multiple objects \n",
    "* Objects and instance are same"
   ]
  },
  {
   "cell_type": "code",
   "execution_count": null,
   "id": "c0eb96ee",
   "metadata": {},
   "outputs": [],
   "source": [
    "# Car\n",
    "# - customer name\n",
    "# - brand -->\n",
    "# - color -> \n",
    "# - type -> sedan, hatchback, SUV\n",
    "\n",
    "class Car():\n",
    "\n",
    "    def customer_name(self, name):\n",
    "    #  How to tell that this function customer_name belongs to the Car class  We need to give the address of the Car to the function\n",
    "    #  We use self for this purpose to give address of Car class to this function \n",
    "    # The first variable of the function is always address of your Class \n",
    "    # The self can be \"a\" also or anything  but it   should be common in all other functions \n",
    "    #  Python use this self to bind different functions to Car \n",
    "    #  Self is local to this particular class \n",
    "        print(name)\n",
    "\n",
    "    def brand(self, brand):\n",
    "        print(brand)\n",
    "\n",
    "    def color(self, color):\n",
    "        print(color)\n",
    "\n",
    "    def customer_name(self, type_of_car):\n",
    "        print(type_of_car)"
   ]
  },
  {
   "cell_type": "code",
   "execution_count": null,
   "id": "ce9d4543",
   "metadata": {},
   "outputs": [],
   "source": [
    "# object Car() will be in the memory not used by RAM\n",
    "#  And Car() will have  certain address \n",
    "#  Car() will return the address of where it is stored \n",
    "car_var = Car()"
   ]
  },
  {
   "cell_type": "code",
   "execution_count": null,
   "id": "126f86a2",
   "metadata": {},
   "outputs": [
    {
     "data": {
      "text/plain": [
       "1995449226768"
      ]
     },
     "execution_count": 16,
     "metadata": {},
     "output_type": "execute_result"
    }
   ],
   "source": [
    "id(car_var)\n",
    "#  car_var has the address "
   ]
  },
  {
   "cell_type": "code",
   "execution_count": null,
   "id": "a0b659f3",
   "metadata": {},
   "outputs": [
    {
     "name": "stdout",
     "output_type": "stream",
     "text": [
      "monal\n"
     ]
    }
   ],
   "source": [
    "car_var.customer_name(\"monal\")\n",
    "\n",
    "# From the address it is calling the customer name function  "
   ]
  },
  {
   "cell_type": "code",
   "execution_count": 18,
   "id": "ecb874b4",
   "metadata": {},
   "outputs": [
    {
     "name": "stdout",
     "output_type": "stream",
     "text": [
      "hello\n"
     ]
    }
   ],
   "source": [
    "car_var_2 = Car()\n",
    "car_var_2.customer_name(\"hello\")"
   ]
  },
  {
   "cell_type": "code",
   "execution_count": null,
   "id": "c127be41",
   "metadata": {},
   "outputs": [],
   "source": [
    "class Mobile():\n",
    "\n",
    "    def __init__(self, a, b, c): # Constructer used to initialize something \n",
    "        self.manufacturer_name = a\n",
    "        self.os_version = b\n",
    "        self.customer_name = c\n",
    "        #  as self.customer_name has self so it has address of class and we can use them anywhere in the class in any function \n",
    "        # So we don't need to use global annymore \n",
    "\n",
    "    def get_customer_name(self):\n",
    "        print(self.customer_name)"
   ]
  },
  {
   "cell_type": "code",
   "execution_count": null,
   "id": "59080551",
   "metadata": {},
   "outputs": [],
   "source": [
    "customer_1 = Mobile(\"Apple\", \"ios\", \"monal\")\n",
    "#  customer_1 and the self inside customer_1 class has the same address \n",
    "customer_2 = Mobile(\"Apple\", \"ios\", \"Akash\")\n",
    "#  customer_2 and the self inside customer_2 class has the same address \n",
    "customer_3 = Mobile(\"Apple\", \"ios\", \"alok\")\n",
    "#  customer_3 and the self inside customer_3 class has the same address "
   ]
  },
  {
   "cell_type": "code",
   "execution_count": 11,
   "id": "ef974d2b",
   "metadata": {},
   "outputs": [
    {
     "name": "stdout",
     "output_type": "stream",
     "text": [
      "monal\n"
     ]
    }
   ],
   "source": [
    "customer_1.get_customer_name()"
   ]
  },
  {
   "cell_type": "code",
   "execution_count": 14,
   "id": "46fdc700",
   "metadata": {},
   "outputs": [
    {
     "data": {
      "text/plain": [
       "'Apple'"
      ]
     },
     "execution_count": 14,
     "metadata": {},
     "output_type": "execute_result"
    }
   ],
   "source": [
    "customer_1.manufacturer_name"
   ]
  },
  {
   "cell_type": "code",
   "execution_count": 12,
   "id": "c09b47fd",
   "metadata": {},
   "outputs": [
    {
     "name": "stdout",
     "output_type": "stream",
     "text": [
      "Akash\n"
     ]
    }
   ],
   "source": [
    "customer_2.get_customer_name()"
   ]
  },
  {
   "cell_type": "code",
   "execution_count": 13,
   "id": "76e189fd",
   "metadata": {},
   "outputs": [
    {
     "name": "stdout",
     "output_type": "stream",
     "text": [
      "alok\n"
     ]
    }
   ],
   "source": [
    "customer_3.get_customer_name()"
   ]
  },
  {
   "cell_type": "markdown",
   "id": "771aa0a6",
   "metadata": {},
   "source": [
    "##### Stand alones are functions and variable \n",
    "##### While class has methods and attributes "
   ]
  },
  {
   "cell_type": "code",
   "execution_count": 1,
   "id": "dabaf0ff",
   "metadata": {},
   "outputs": [],
   "source": [
    "import os"
   ]
  },
  {
   "cell_type": "code",
   "execution_count": 2,
   "id": "e5a59ec1",
   "metadata": {},
   "outputs": [
    {
     "data": {
      "text/plain": [
       "'c:\\\\Monal\\\\Work\\\\AllLight\\\\Krish-sir\\\\KNB1-DataScience\\\\27-04-2025'"
      ]
     },
     "execution_count": 2,
     "metadata": {},
     "output_type": "execute_result"
    }
   ],
   "source": [
    "os.getcwd()"
   ]
  },
  {
   "cell_type": "code",
   "execution_count": null,
   "id": "79a0eee9",
   "metadata": {},
   "outputs": [],
   "source": []
  }
 ],
 "metadata": {
  "kernelspec": {
   "display_name": "Python 3",
   "language": "python",
   "name": "python3"
  },
  "language_info": {
   "codemirror_mode": {
    "name": "ipython",
    "version": 3
   },
   "file_extension": ".py",
   "mimetype": "text/x-python",
   "name": "python",
   "nbconvert_exporter": "python",
   "pygments_lexer": "ipython3",
   "version": "3.12.0"
  }
 },
 "nbformat": 4,
 "nbformat_minor": 5
}
