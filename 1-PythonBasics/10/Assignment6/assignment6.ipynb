{
 "cells": [
  {
   "cell_type": "markdown",
   "id": "2fc75839",
   "metadata": {},
   "source": [
    "## Signup and login  but it will use classes and object \n",
    "1. ask user to login or signup\n",
    "2. if login then ask for username and password \n",
    "3. then check username and password is correct or not \n",
    "4. Once user logged in you will ask user to post. it will be string only. Then you will get a message posted \n",
    "5. If user want to see all post it will be another method. see all post ()\n",
    "5. if signup then take username and password and store it "
   ]
  },
  {
   "cell_type": "code",
   "execution_count": 9,
   "id": "bb2147f0",
   "metadata": {},
   "outputs": [
    {
     "name": "stdout",
     "output_type": "stream",
     "text": [
      "ali\n",
      "\n"
     ]
    }
   ],
   "source": [
    "a = \"ali\\n\"\n",
    "a.rstrip()\n",
    "print(a)"
   ]
  },
  {
   "cell_type": "code",
   "execution_count": 17,
   "id": "8064758a",
   "metadata": {},
   "outputs": [],
   "source": [
    "b = \" ali raza\"\n",
    "\n",
    "if b is True:\n",
    "    print (\"wasam\")\n"
   ]
  },
  {
   "cell_type": "code",
   "execution_count": 21,
   "id": "01a36ac4",
   "metadata": {},
   "outputs": [
    {
     "name": "stdout",
     "output_type": "stream",
     "text": [
      "1\n"
     ]
    }
   ],
   "source": [
    "all_entries = [1]\n",
    "\n",
    "for entry in all_entries:\n",
    "    print(entry)\n"
   ]
  },
  {
   "cell_type": "code",
   "execution_count": 25,
   "id": "1b83c26b",
   "metadata": {},
   "outputs": [],
   "source": [
    "login_result = 2\n",
    "if login_result is True:\n",
    "    print(20)"
   ]
  },
  {
   "cell_type": "code",
   "execution_count": null,
   "id": "403d0805",
   "metadata": {},
   "outputs": [
    {
     "name": "stdout",
     "output_type": "stream",
     "text": [
      "20\n"
     ]
    }
   ],
   "source": [
    "# Solution\n",
    "\n",
    "# If you want to check if login_result is a truthy value, use:\n",
    "\n",
    "login_result = 2\n",
    "if login_result:\n",
    "    print(20)\n"
   ]
  },
  {
   "cell_type": "markdown",
   "id": "fed6c61b",
   "metadata": {},
   "source": []
  },
  {
   "cell_type": "markdown",
   "id": "3ce65cc5",
   "metadata": {},
   "source": [
    "\n",
    "https://chatgpt.com/share/68217206-3888-8002-acd8-6c52022534b6|"
   ]
  }
 ],
 "metadata": {
  "kernelspec": {
   "display_name": "Python 3",
   "language": "python",
   "name": "python3"
  },
  "language_info": {
   "codemirror_mode": {
    "name": "ipython",
    "version": 3
   },
   "file_extension": ".py",
   "mimetype": "text/x-python",
   "name": "python",
   "nbconvert_exporter": "python",
   "pygments_lexer": "ipython3",
   "version": "3.12.0"
  }
 },
 "nbformat": 4,
 "nbformat_minor": 5
}
