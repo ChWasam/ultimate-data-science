{
 "cells": [
  {
   "cell_type": "markdown",
   "metadata": {},
   "source": [
    "##  OOP => Generalized Form bnana ha jis ka concept ham design kar raha han \n",
    "## Ak dafa form ban gya phir jitna marzi account kholo\n",
    "## Empty Form of bank  => Class\n",
    "## When i fill it,  it became => Object "
   ]
  },
  {
   "cell_type": "markdown",
   "metadata": {},
   "source": [
    "### Q1 Basic Class and object \n",
    "- Create a Car class with attributes like brand and model. Then create an instance of this class."
   ]
  },
  {
   "cell_type": "code",
   "execution_count": 4,
   "metadata": {},
   "outputs": [
    {
     "name": "stdout",
     "output_type": "stream",
     "text": [
      "<__main__.Car object at 0x105bd7f80>\n",
      "Toyota\n",
      "Corolla\n"
     ]
    }
   ],
   "source": [
    "# Attributes are nothing but variables that are bound to an object.\n",
    "# Instance matlab as form lo aur aus me ak user ko bharna ha \n",
    "#  Python object oriented ha to sab objects (str, num, list etc ) class sa hi ata han\n",
    "\n",
    "class Car:\n",
    "    # Constructor\n",
    "    def __init__(self, brand, model):\n",
    "        self.brand = brand\n",
    "        self.model = model\n",
    "\n",
    "my_car = Car(brand = \"Toyota\", model = \"Corolla\") # __init__ ka faida yeh ha kah ham yahan values pass kar sakta han \n",
    "print(my_car)\n",
    "print(my_car.brand)\n",
    "print(my_car.model)"
   ]
  },
  {
   "cell_type": "markdown",
   "metadata": {},
   "source": [
    "### Q2 Class Method and Self\n",
    "- Problem: Add a method to the Car class that displays the full name of the car (brand and model)."
   ]
  },
  {
   "cell_type": "code",
   "execution_count": 21,
   "metadata": {},
   "outputs": [
    {
     "name": "stdout",
     "output_type": "stream",
     "text": [
      "Toyota Corolla\n"
     ]
    }
   ],
   "source": [
    "from typing import Any\n",
    "\n",
    "\n",
    "class Car1:\n",
    "    def __init__ (self, brand, model):\n",
    "        self.brand = brand\n",
    "        self.model = model\n",
    "\n",
    "    def full_name(self):\n",
    "       return  (self.brand + \" \" + self.model )\n",
    "\n",
    "my_own_car = Car1(\"Toyota\", \"Corolla\")\n",
    "print(my_own_car.full_name())\n"
   ]
  },
  {
   "cell_type": "markdown",
   "metadata": {},
   "source": [
    "### Q3 Inheritance\n",
    "- Problem: Create an ElectricCar class that inherits from the Car class and has an additional attribute battery_size."
   ]
  },
  {
   "cell_type": "code",
   "execution_count": 27,
   "metadata": {},
   "outputs": [
    {
     "name": "stdout",
     "output_type": "stream",
     "text": [
      "Tesla\n",
      "20KWH\n",
      "Tesla Model S\n"
     ]
    }
   ],
   "source": [
    "class ElectricCar (Car1):\n",
    "    def __init__(self , model , brand, battery_size):\n",
    "        super().__init__(brand , model)\n",
    "        self.battery_size = battery_size\n",
    "\n",
    "my_electric_car = ElectricCar(\"Model S\", \"Tesla\", \"20KWH\")\n",
    "print(my_electric_car.brand)\n",
    "print(my_electric_car.battery_size)\n",
    "print(my_electric_car.full_name())\n",
    "       "
   ]
  },
  {
   "cell_type": "markdown",
   "metadata": {},
   "source": [
    "### Q4  Encapsulation\n",
    "- Problem: Modify the Car class to encapsulate the brand attribute, making it private, and provide a getter method for it.\n",
    "- Study setter function by your own "
   ]
  },
  {
   "cell_type": "code",
   "execution_count": null,
   "metadata": {},
   "outputs": [
    {
     "data": {
      "text/plain": [
       "'Honda !'"
      ]
     },
     "execution_count": 44,
     "metadata": {},
     "output_type": "execute_result"
    }
   ],
   "source": [
    "#  Asal concept yreh ha kah capsul ka andar kya ha yeh mera chahna pa hi ap ko pta chala\n",
    "# Maltlab jo brand ha wo sab ke access me na raha, wo encapsulate ho jai\n",
    "# Capsul to access me raha ga lakin aus ka andar kya ha wo access me nahi raha ga \n",
    "# Log ausa method sa access karain ga direct acess nahi karain ga \n",
    "\n",
    "#  __attribute likhain ga to wo private ho jai ga \n",
    "#  Matlab yeh kah class ka andar to access kar pai ga \n",
    "#  Lakin koi bhi object bana to wo object ab ausa access nahi kar pai ga \n",
    "\n",
    "#  Convention ha kah getter hamesha get sa start ho ga aur setter hamesha set sa start ho ga \n",
    "# e.g get_model() -----> model sa murad wo attribute ha jisa access karna ha \n",
    "#  Magar likh get ka bagair bhi sakta ha \n",
    "\n",
    "class Car2:\n",
    "    def __init__(self, brand, model):\n",
    "        self.__brand = brand\n",
    "        self.model = model\n",
    "    \n",
    "    def get_brand(self):\n",
    "        return self.__brand + \" !\"\n",
    "\n",
    "my_car2 = Car2(\"Honda\",\"City\")\n",
    "\n",
    "# print(my_car2.brand)\n",
    "\n",
    "my_car2.get_brand()\n",
    "\n",
    "        "
   ]
  },
  {
   "cell_type": "markdown",
   "metadata": {},
   "source": [
    "### Q5 Polymorphism \n",
    "- Problem: Demonstrate polymorphism by defining a method fuel_type in both Car and ElectricCar classes, but with different behaviors."
   ]
  },
  {
   "cell_type": "code",
   "execution_count": null,
   "metadata": {},
   "outputs": [
    {
     "name": "stdout",
     "output_type": "stream",
     "text": [
      "Petrol\n",
      "Electric Charge\n"
     ]
    }
   ],
   "source": [
    "#  Like \"+\" polymorphism ka example ha numbers k bhi add kar data ha  decimal numbers ko bhi add kar data ha  aur strings ko bhi mila dat aha \n",
    "#  Ak hi method ha lakin 2 different rop la sakta han \n",
    "#  Kabhi kabhi polymorphism asa bhi hota ha kah input values ka da raha ho jas + ka andar numbers da raha ho to wo automatically numbers ko add kar dai ga lakin string data han to dono ko pass pass rakh data ha \n",
    "\n",
    "class Car2:\n",
    "    def __init__ (self, brand, model):\n",
    "        self.brand = brand\n",
    "        self.model = model\n",
    "    def fuel_type(self):\n",
    "        return \"Petrol\"\n",
    "    \n",
    "class ElectricCar(Car2):\n",
    "    def __init__(self, brand, model, battery_size):\n",
    "        super().__init__( brand , model)\n",
    "        self.battery_size = battery_size\n",
    "    def fuel_type(self):\n",
    "        return \"Electric Charge\"\n",
    "\n",
    "my_petrol_car = Car2(\"Hyuandi\", \"Tucson\")\n",
    "print(my_petrol_car.fuel_type())\n",
    "\n",
    "my_new_electric_car = ElectricCar(\"Tesla\", \"Cyber Truck\", \"30 KWH\")\n",
    "print(my_new_electric_car.fuel_type())\n",
    "\n",
    "#  Yahan ak hi method ha fule type wo 2 rop la sakta han  \n"
   ]
  },
  {
   "cell_type": "markdown",
   "metadata": {},
   "source": [
    "### Q6  Class Variables\n",
    "- Problem: Add a class variable to Car that keeps track of the number of cars created.\n"
   ]
  },
  {
   "cell_type": "code",
   "execution_count": 1,
   "metadata": {},
   "outputs": [
    {
     "name": "stdout",
     "output_type": "stream",
     "text": [
      "Petrol\n",
      "Electric Charge\n",
      "2\n",
      "2\n"
     ]
    }
   ],
   "source": [
    "# Jo class variable hota han aun ka access direct class ko call kar ka bhi la sakta ha like total_car here \n",
    "#  Object banta time constructor call hota ha \n",
    "\n",
    "class Car2:\n",
    "    total_car = 0 # total_car is a class variable\n",
    "\n",
    "    def __init__ (self, brand, model):\n",
    "        self.brand = brand\n",
    "        self.model = model\n",
    "        Car2.total_car += 1 # We cannot write it like self.total_car += 1\n",
    "\n",
    "    def fuel_type(self):\n",
    "        return \"Petrol\"\n",
    "    \n",
    "class ElectricCar(Car2):\n",
    "    def __init__(self, brand, model, battery_size):\n",
    "        super().__init__( brand , model)\n",
    "        self.battery_size = battery_size\n",
    "    def fuel_type(self):\n",
    "        return \"Electric Charge\"\n",
    "\n",
    "my_petrol_car = Car2(\"Hyuandi\", \"Tucson\")\n",
    "print(my_petrol_car.fuel_type())\n",
    "\n",
    "my_new_electric_car = ElectricCar(\"Tesla\", \"Cyber Truck\", \"30 KWH\")\n",
    "print(my_new_electric_car.fuel_type())\n",
    "\n",
    "print(Car2.total_car)\n",
    "print(ElectricCar.total_car)"
   ]
  },
  {
   "cell_type": "markdown",
   "metadata": {},
   "source": [
    "### Q7 Static Method\n",
    "- Problem: Add a static method to the Car class that returns a general description of a car.\n",
    "- Object ko to bat karna hi nahi dani ha \n"
   ]
  },
  {
   "cell_type": "code",
   "execution_count": null,
   "metadata": {},
   "outputs": [
    {
     "name": "stdout",
     "output_type": "stream",
     "text": [
      "Hyuandi Tucson  is an  amazing car\n",
      "Hyuandi Tucson  is an  amazing car\n"
     ]
    }
   ],
   "source": [
    "#  can be called class methods like class variables \n",
    "\n",
    "# @staticmethod decorator is used to define a method that belongs to a class but does not require access to an instance of the class\n",
    "#  Yeh method call =>  class aur object dono kar sakta ha lakin\n",
    "#  yeh class ka attributes ko use nahi kar sakta hence self bhi use nahi karta\n",
    "#  but we can use class variables  \n",
    "# for static method use dacorators like @staticmethod. decorators basically enhance the functionality of methods \n",
    "# Yahan pa ap ko \"self\" (iss wiring) ke zarorat hi nahi ha \n",
    "#  Object ko to bat karna hi nahi dani ha is lia pehla to wire kato \n",
    "# Static method ka andar agar private ko access karna chah raha ho to wo kam bhi hamara ho jai ga \n",
    "\n",
    "\n",
    "# I have seen that when i use @staticmethod i can access that method with class name and also by instance/object. \n",
    "\n",
    "class Car2:\n",
    "    total_car = 0 # total_car is a class variable\n",
    "    # brand = None\n",
    "    # model = None\n",
    "    \n",
    "\n",
    "    def __init__ (self, brand, model):\n",
    "        self.brand = brand\n",
    "        self.model = model\n",
    "        Car2.brand = brand\n",
    "        Car2.__model = model # Making it private \n",
    "\n",
    "    def fuel_type(self):\n",
    "        return \"Petrol\"\n",
    "    \n",
    "    @staticmethod  # it still work without adding decorator @staticmethod \n",
    "    # but to access general_description() through object of this class we need to use self.\n",
    "    # Also with @staticmethod we cannot access self\n",
    "\n",
    "    def general_description(): \n",
    "        return f\"{Car2.brand + \" \" + Car2.__model}  is an  amazing car\"\n",
    "    \n",
    "class ElectricCar(Car2):\n",
    "    def __init__(self, brand, model, battery_size):\n",
    "        super().__init__( brand , model)\n",
    "        self.battery_size = battery_size\n",
    "    def fuel_type(self):\n",
    "        return \"Electric Charge\"\n",
    "\n",
    "my_petrol_car = Car2(\"Hyuandi\", \"Tucson\")\n",
    "\n",
    "print(Car2.general_description())\n",
    "print(my_petrol_car.general_description())\n",
    "\n",
    "\n"
   ]
  },
  {
   "cell_type": "code",
   "execution_count": 25,
   "metadata": {},
   "outputs": [
    {
     "name": "stdout",
     "output_type": "stream",
     "text": [
      "I have total cars : 2\n"
     ]
    }
   ],
   "source": [
    "#  Same technique of making attribute private applies for class variables as well \n",
    "\n",
    "class Car2:\n",
    "    __total_car = 2 # It has become private now, we are unable to access it through class but we can use it in function of class \n",
    "    brand = None\n",
    "    model = None\n",
    "\n",
    "    \n",
    "\n",
    "    def __init__ (self, brand, model):\n",
    "        self.brand = brand\n",
    "        self.model = model\n",
    "        Car2.brand = brand\n",
    "        Car2.model = model\n",
    "\n",
    "    def fuel_type(self):\n",
    "        return \"Petrol\"\n",
    "    \n",
    "    @staticmethod # It still works without static method \n",
    "    def general_description():\n",
    "        return f\"I have total cars : {Car2.__total_car}\"\n",
    "    \n",
    "class ElectricCar(Car2):\n",
    "    def __init__(self, brand, model, battery_size):\n",
    "        super().__init__( brand , model)\n",
    "        self.battery_size = battery_size\n",
    "    def fuel_type(self):\n",
    "        return \"Electric Charge\"\n",
    "\n",
    "my_petrol_car = Car2(\"Hyuandi\", \"Tucson\")\n",
    "\n",
    "print(Car2.general_description())\n",
    "# print(Car2.__total_car) # Will give an error bcz it gets private now "
   ]
  },
  {
   "cell_type": "code",
   "execution_count": 26,
   "metadata": {},
   "outputs": [
    {
     "name": "stdout",
     "output_type": "stream",
     "text": [
      "I have total cars : 1. One of them is Hyuandi Tucson\n"
     ]
    }
   ],
   "source": [
    "#  We can say that we can use class variable in function and access that function through object \n",
    "\n",
    "class Car2:\n",
    "    __total_car = 0 # It has become private now, we are unable to access it through class but we can use it in function of class \n",
    "    brand = None\n",
    "    model = None\n",
    "\n",
    "    def __init__ (self, brand, model):\n",
    "        self.brand = brand\n",
    "        self.model = model\n",
    "        Car2.brand = brand\n",
    "        Car2.model = model\n",
    "        Car2.__total_car += 1\n",
    "\n",
    "    def fuel_type(self):\n",
    "        return \"Petrol\"\n",
    "    \n",
    "    def general_description(self):\n",
    "        return f\"I have total cars : {Car2.__total_car}. One of them is {self.brand +  \" \" + self.model}\"\n",
    "    \n",
    "class ElectricCar(Car2):\n",
    "    def __init__(self, brand, model, battery_size):\n",
    "        super().__init__( brand , model)\n",
    "        self.battery_size = battery_size\n",
    "    def fuel_type(self):\n",
    "        return \"Electric Charge\"\n",
    "\n",
    "my_petrol_car = Car2(\"Hyuandi\", \"Tucson\")\n",
    "\n",
    "print(my_petrol_car.general_description())"
   ]
  },
  {
   "cell_type": "markdown",
   "metadata": {},
   "source": [
    "### Q8 Property Decorators \n",
    "Problem: Use a property decorator in the Car class to make the model attribute read-only."
   ]
  },
  {
   "cell_type": "code",
   "execution_count": 74,
   "metadata": {},
   "outputs": [
    {
     "name": "stdout",
     "output_type": "stream",
     "text": [
      "City\n",
      "Civic\n"
     ]
    }
   ],
   "source": [
    "#  If i can access model i can overrite it as well \n",
    "#  Here is an example that we can overrite the model \n",
    "\n",
    "class Car2:\n",
    "    def __init__(self, brand, model):\n",
    "        self.__brand = brand\n",
    "        self.model = model\n",
    "    \n",
    "    def get_brand(self):\n",
    "        return self.__brand + \" !\"\n",
    "\n",
    "my_car2 = Car2(\"Honda\",\"City\")\n",
    "\n",
    "print(my_car2.model)\n",
    "\n",
    "my_car2.model = \"Civic\"\n",
    "\n",
    "print(my_car2.model)\n"
   ]
  },
  {
   "cell_type": "code",
   "execution_count": 81,
   "metadata": {},
   "outputs": [
    {
     "name": "stdout",
     "output_type": "stream",
     "text": [
      "City\n"
     ]
    }
   ],
   "source": [
    "#  Ak dafa City da dia to bas da dia dobara thori na change hona chahia, yeh cheez rokni ha hama \n",
    "# 1st step yeh karna ha kah koi ausa access na kar pai to __ laga do shuru me \n",
    "# Lakin access rokna thori na ha sirf ausa read only kar dana ha \n",
    "# Agar koi asa attribute ha jisa change nahi karna kabhi bhi to hamara pass ak hi option ha kah @property use karna ho ga \n",
    "\n",
    "\n",
    "class Car2:\n",
    "    def __init__(self, brand, model):\n",
    "        self.__brand = brand\n",
    "        self.__model = model\n",
    "    \n",
    "    def get_brand(self):\n",
    "        return self.__brand + \" !\"\n",
    "    @property\n",
    "    def model(self):\n",
    "        return self.__model\n",
    "\n",
    "my_car2 = Car2(\"Honda\",\"City\")\n",
    "print(my_car2.model)\n"
   ]
  },
  {
   "cell_type": "markdown",
   "metadata": {},
   "source": [
    "### Q9 Class Inheritance and isinstance() Function\n",
    "- Problem: Demonstrate the use of isinstance() to check if my_tesla is an instance of Car and ElectricCar."
   ]
  },
  {
   "cell_type": "code",
   "execution_count": 87,
   "metadata": {},
   "outputs": [
    {
     "name": "stdout",
     "output_type": "stream",
     "text": [
      "False\n",
      "True\n",
      "True\n",
      "True\n"
     ]
    }
   ],
   "source": [
    "class Car2:\n",
    "    def __init__ (self, brand, model):\n",
    "        self.brand = brand\n",
    "        self.model = model\n",
    "    def fuel_type(self):\n",
    "        return \"Petrol\"\n",
    "    \n",
    "class ElectricCar(Car2):\n",
    "    def __init__(self, brand, model, battery_size):\n",
    "        super().__init__( brand , model)\n",
    "        self.battery_size = battery_size\n",
    "    def fuel_type(self):\n",
    "        return \"Electric Charge\"\n",
    "\n",
    "my_petrol_car = Car2(\"Hyuandi\", \"Tucson\")\n",
    "print(isinstance(my_petrol_car,ElectricCar)) # False \n",
    "print(isinstance(my_petrol_car,Car2)) # True \n",
    "\n",
    "my_tesla = ElectricCar(\"Tesla\", \"Cyber Truck\", \"30 KWH\")\n",
    "print(isinstance(my_tesla,ElectricCar)) # True \n",
    "print(isinstance(my_tesla,Car2)) # True "
   ]
  },
  {
   "cell_type": "markdown",
   "metadata": {},
   "source": [
    "### Q10 Multiple Inheritance\n",
    "- Problem: Create two classes Battery and Engine, and let the ElectricCar class inherit from both, demonstrating multiple inheritance."
   ]
  },
  {
   "cell_type": "code",
   "execution_count": 28,
   "metadata": {},
   "outputs": [
    {
     "name": "stdout",
     "output_type": "stream",
     "text": [
      "100 mah\n",
      "1000 cc\n",
      "here is battery info\n"
     ]
    }
   ],
   "source": [
    "\n",
    "\n",
    "class Battery:\n",
    "    def __init__(self, size):\n",
    "        self.size = size\n",
    "    \n",
    "    def info (self):\n",
    "        return \"here is battery info\"\n",
    "class Engine:\n",
    "    def __init__(self, power):\n",
    "        self.power = power\n",
    "    \n",
    "    def info (self):\n",
    "        return \"here is engine info\"\n",
    "\n",
    "class ElectricCarTwo (Battery, Engine):\n",
    "    def __init__(self, size, power):\n",
    "        Battery.__init__(self , size) # Focus here Battery.__init__\n",
    "        Engine.__init__(self , power) # Focus here Engine.__init__\n",
    "\n",
    "    # super.__init__(self, size, power)\n",
    "\n",
    "\n",
    "my_special_electric_car = ElectricCarTwo(\"100 mah\",\"1000 cc\")\n",
    "print(my_special_electric_car.size)\n",
    "print(my_special_electric_car.power)\n",
    "print(my_special_electric_car.info())\n",
    "\n",
    "\n",
    "# In Python, when a method name is the same in multiple parent classes (like info in both Battery and Engine here), Python will follow the Method Resolution Order (MRO) when calling that method. In this case, it calls the info method of the first parent class listed in the inheritance order (Battery in this case).\n",
    "\n",
    "# If you want to specifically access the info method of the Engine class through an instance of ElectricCarTwo, we need to change name of info method in Engine. We can name it as \n",
    "\n",
    "#  def engine_info(self): \n",
    "\n",
    "# and then we can call it as \n",
    "\n",
    "# print(my_special_electric_car.engine_info())  # Output: Here is engine info"
   ]
  },
  {
   "cell_type": "markdown",
   "metadata": {},
   "source": [
    "### To allow calling add.invoke(2, 4) and passing numbers directly to the invoke method, you can modify the class as follows"
   ]
  },
  {
   "cell_type": "code",
   "execution_count": 105,
   "metadata": {},
   "outputs": [
    {
     "name": "stdout",
     "output_type": "stream",
     "text": [
      "6\n"
     ]
    }
   ],
   "source": [
    "class AddTwoIntegers:\n",
    "    def invoke(self, a, b):\n",
    "        return a + b\n",
    "\n",
    "add = AddTwoIntegers()\n",
    "result = add.invoke(2, 4)\n",
    "print(result)"
   ]
  }
 ],
 "metadata": {
  "kernelspec": {
   "display_name": "Python 3",
   "language": "python",
   "name": "python3"
  },
  "language_info": {
   "codemirror_mode": {
    "name": "ipython",
    "version": 3
   },
   "file_extension": ".py",
   "mimetype": "text/x-python",
   "name": "python",
   "nbconvert_exporter": "python",
   "pygments_lexer": "ipython3",
   "version": "3.12.0"
  }
 },
 "nbformat": 4,
 "nbformat_minor": 2
}
