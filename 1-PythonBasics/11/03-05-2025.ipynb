{
 "cells": [
  {
   "cell_type": "markdown",
   "id": "ef47631d",
   "metadata": {},
   "source": [
    "### Agenda \n",
    "* Moduler(which makes it easy to find, access and manage)\n",
    "* Packages  \n",
    "* OOP "
   ]
  },
  {
   "cell_type": "markdown",
   "id": "2ef7d477",
   "metadata": {},
   "source": [
    "### OOP Topics\n",
    "* self\n",
    "* __init__\n",
    "* Inheritance\n",
    "* Encapsulation\n",
    "* Polimorphism\n",
    "* Abstraction"
   ]
  },
  {
   "cell_type": "markdown",
   "id": "9b0a5675",
   "metadata": {},
   "source": [
    "# module"
   ]
  },
  {
   "cell_type": "code",
   "execution_count": null,
   "id": "9a465596",
   "metadata": {},
   "outputs": [],
   "source": [
    "#  dummy_test is a module \n",
    "from dummy_test import print_hello"
   ]
  },
  {
   "cell_type": "code",
   "execution_count": null,
   "id": "30cf4aac",
   "metadata": {},
   "outputs": [],
   "source": [
    "print_hello()"
   ]
  },
  {
   "cell_type": "markdown",
   "id": "0a5f61e1",
   "metadata": {},
   "source": [
    "# Packages\n",
    "* collection of modules \n",
    "* If i want to hospital as package we need to create a folder as hospital \n",
    "* For python to consider it as a package we need to create a file that is  __init__.py. Once python see this file inside a folder python will know that it is a package."
   ]
  },
  {
   "cell_type": "markdown",
   "id": "8d8cbd9c",
   "metadata": {},
   "source": [
    "In Python, **modules** and **packages** are ways to organize and structure code for reusability and maintainability. Here's a clear explanation:\n",
    "\n",
    "- **Module**: A module is a single Python file (with a `.py` extension) that contains Python code, such as functions, classes, or variables. It can be imported and used in other Python scripts. For example, a file named `math_utils.py` with functions for calculations is a module. You can import it using `import math_utils`.\n",
    "\n",
    "- **Package**: A package is a collection of modules organized in a directory hierarchy. A directory becomes a package when it contains a special file called `__init__.py` (which can be empty or contain initialization code). Packages allow you to group related modules together. For example, a directory named `utils` with an `__init__.py` file and modules like `math_utils.py` and `string_utils.py` is a package. You can import it using `import utils.math_utils`.\n",
    "\n",
    "In short:\n",
    "- **Module**: A single `.py` file containing Python code.\n",
    "- **Package**: A directory containing multiple modules and an `__init__.py` file, used to organize related modules.\n",
    "\n",
    "Example:\n",
    "```\n",
    "my_package/\n",
    "    __init__.py\n",
    "    module1.py\n",
    "    module2.py\n",
    "```\n",
    "Here, `my_package` is a package, and `module1.py` and `module2.py` are modules. You can access them with `import my_package.module1`."
   ]
  },
  {
   "cell_type": "code",
   "execution_count": null,
   "id": "48702237",
   "metadata": {},
   "outputs": [],
   "source": [
    "#  Hospital is a package now that is why we are able to do hospital.checkup\n",
    "#  In oder to access  hospital.admission.utils we need to add __init__.py inside admission too \n",
    "from hospital.checkup import print_checkup"
   ]
  },
  {
   "cell_type": "code",
   "execution_count": null,
   "id": "41e02392",
   "metadata": {},
   "outputs": [],
   "source": [
    "print_checkup()"
   ]
  },
  {
   "cell_type": "code",
   "execution_count": null,
   "id": "6ab21ec5",
   "metadata": {},
   "outputs": [],
   "source": [
    "from hospital.admission.utils import add"
   ]
  },
  {
   "cell_type": "code",
   "execution_count": null,
   "id": "f900bf11",
   "metadata": {},
   "outputs": [],
   "source": [
    "add(1,2)"
   ]
  },
  {
   "cell_type": "code",
   "execution_count": null,
   "id": "5df3cce3",
   "metadata": {},
   "outputs": [],
   "source": [
    "from hospital.admission import utils"
   ]
  },
  {
   "cell_type": "code",
   "execution_count": null,
   "id": "f8ca9ae7",
   "metadata": {},
   "outputs": [],
   "source": [
    "utils.add(1,2)"
   ]
  },
  {
   "cell_type": "markdown",
   "id": "53df6bd3",
   "metadata": {},
   "source": [
    "If you are inside any folder like dummy and you want to access something inside 11. You will get by using below given single line of code in the file you are in"
   ]
  },
  {
   "cell_type": "markdown",
   "id": "fcd7775d",
   "metadata": {},
   "source": [
    "- os.path.abspath(path): Converts a given path (relative or absolute) to a fully resolved absolute path, ensuring consistency by normalizing path separators and resolving relative components. Here, it processes the absolute path \"/Users/wasamchaudhry/Study/ultimate_datascience /python/1-PythonBasics/11\", returning it unchanged except for normalization.\n",
    "- sys.path.append(path): Adds a directory path to the end of Python’s sys.path list, enabling Python to search that directory for modules or packages during imports. This change is temporary and lasts only for the script’s runtime.\n",
    "- Purpose of the Line: This code makes the directory /Users/wasamchaudhry/Study/ultimate_datascience /python/1-PythonBasics/11 available for module imports by adding it to sys.path, allowing you to import files like my_script.py directly."
   ]
  },
  {
   "cell_type": "code",
   "execution_count": 2,
   "id": "94b36a9d",
   "metadata": {},
   "outputs": [],
   "source": [
    "import sys\n",
    "import os"
   ]
  },
  {
   "cell_type": "code",
   "execution_count": null,
   "id": "5552ddd2",
   "metadata": {},
   "outputs": [],
   "source": [
    "sys.path.append(os.path.abspath(\"/Users/wasamchaudhry/Study/ultimate_datascience /python/1-PythonBasics/11\"))"
   ]
  },
  {
   "cell_type": "markdown",
   "id": "7d024476",
   "metadata": {},
   "source": [
    "or\n"
   ]
  },
  {
   "cell_type": "code",
   "execution_count": null,
   "id": "9075c068",
   "metadata": {},
   "outputs": [],
   "source": [
    "sys.path.append(os.path.abspath(\"..\"))"
   ]
  },
  {
   "cell_type": "code",
   "execution_count": 3,
   "id": "36286047",
   "metadata": {},
   "outputs": [
    {
     "data": {
      "text/plain": [
       "'/Users/wasamchaudhry/Study/ultimate_datascience /python/1-PythonBasics'"
      ]
     },
     "execution_count": 3,
     "metadata": {},
     "output_type": "execute_result"
    }
   ],
   "source": [
    "os.path.abspath(\"..\")"
   ]
  },
  {
   "cell_type": "code",
   "execution_count": 4,
   "id": "784b193b",
   "metadata": {},
   "outputs": [
    {
     "data": {
      "text/plain": [
       "'/Users/wasamchaudhry/Study/ultimate_datascience /python/1-PythonBasics/11'"
      ]
     },
     "execution_count": 4,
     "metadata": {},
     "output_type": "execute_result"
    }
   ],
   "source": [
    "os.path.abspath(\".\")"
   ]
  },
  {
   "cell_type": "markdown",
   "id": "e6a9da26",
   "metadata": {},
   "source": [
    "# OOPS\n",
    "## Inheritance \n",
    "- For code reusability\n",
    "- Inheritance (Inheriting a property of parent class)\n",
    "- Make code more modular and reusability \n"
   ]
  },
  {
   "cell_type": "code",
   "execution_count": 1,
   "id": "5a4e5426",
   "metadata": {},
   "outputs": [],
   "source": [
    "class Speciality():\n",
    "    def surgeon(self):\n",
    "        print(\"Surgeon Doctor.\")\n",
    "    def neuro(self):\n",
    "        print(\"Neuro Doctor.\")\n",
    "\n",
    "class GeneralHospital():\n",
    "    def opd(self):\n",
    "        print(\"General Medicine Doctors\")"
   ]
  },
  {
   "cell_type": "code",
   "execution_count": 2,
   "id": "58e5ffbf",
   "metadata": {},
   "outputs": [],
   "source": [
    "genhosp = GeneralHospital()"
   ]
  },
  {
   "cell_type": "code",
   "execution_count": 3,
   "id": "664a4e1a",
   "metadata": {},
   "outputs": [
    {
     "name": "stdout",
     "output_type": "stream",
     "text": [
      "General Medicine Doctors\n"
     ]
    }
   ],
   "source": [
    "genhosp.opd()"
   ]
  },
  {
   "cell_type": "code",
   "execution_count": 4,
   "id": "27afbae7",
   "metadata": {},
   "outputs": [
    {
     "ename": "AttributeError",
     "evalue": "'GeneralHospital' object has no attribute 'surgeon'",
     "output_type": "error",
     "traceback": [
      "\u001b[31m---------------------------------------------------------------------------\u001b[39m",
      "\u001b[31mAttributeError\u001b[39m                            Traceback (most recent call last)",
      "\u001b[36mCell\u001b[39m\u001b[36m \u001b[39m\u001b[32mIn[4]\u001b[39m\u001b[32m, line 1\u001b[39m\n\u001b[32m----> \u001b[39m\u001b[32m1\u001b[39m \u001b[43mgenhosp\u001b[49m\u001b[43m.\u001b[49m\u001b[43msurgeon\u001b[49m()\n",
      "\u001b[31mAttributeError\u001b[39m: 'GeneralHospital' object has no attribute 'surgeon'"
     ]
    }
   ],
   "source": [
    "genhosp.surgeon()"
   ]
  },
  {
   "cell_type": "code",
   "execution_count": 7,
   "id": "1c15c396",
   "metadata": {},
   "outputs": [],
   "source": [
    "class Speciality():\n",
    "    def surgeon(self):\n",
    "        print(\"Surgeon Doctor.\")\n",
    "    def neuro(self):\n",
    "        print(\"Neuro Doctor.\")\n",
    "\n",
    "class GeneralHospital(Speciality):\n",
    "    def opd(self):\n",
    "        print(\"General Medicine Doctors\")"
   ]
  },
  {
   "cell_type": "code",
   "execution_count": 8,
   "id": "1cceeb13",
   "metadata": {},
   "outputs": [],
   "source": [
    "genhosp = GeneralHospital()"
   ]
  },
  {
   "cell_type": "code",
   "execution_count": 9,
   "id": "cb7d2c3c",
   "metadata": {},
   "outputs": [
    {
     "name": "stdout",
     "output_type": "stream",
     "text": [
      "General Medicine Doctors\n"
     ]
    }
   ],
   "source": [
    "genhosp.opd()"
   ]
  },
  {
   "cell_type": "code",
   "execution_count": 10,
   "id": "87f25b37",
   "metadata": {},
   "outputs": [
    {
     "name": "stdout",
     "output_type": "stream",
     "text": [
      "Surgeon Doctor.\n"
     ]
    }
   ],
   "source": [
    "genhosp.surgeon()"
   ]
  },
  {
   "cell_type": "code",
   "execution_count": 11,
   "id": "f6e03347",
   "metadata": {},
   "outputs": [
    {
     "name": "stdout",
     "output_type": "stream",
     "text": [
      "Neuro Doctor.\n"
     ]
    }
   ],
   "source": [
    "genhosp.neuro()"
   ]
  },
  {
   "cell_type": "code",
   "execution_count": 13,
   "id": "b118f782",
   "metadata": {},
   "outputs": [],
   "source": [
    "class Speciality():\n",
    "    def surgeon(self):\n",
    "        print(\"Surgeon Doctor.\")\n",
    "    def neuro(self):\n",
    "        print(\"Neuro Doctor.\")\n",
    "    def radiologist(self):\n",
    "        print(\"Neuro Doctor.\")\n",
    "\n",
    "class GeneralHospital():\n",
    "    def opd(self):\n",
    "        print(\"General Medicine Doctors\")\n",
    "\n",
    "\n",
    "class MegaHospital(GeneralHospital, Speciality):\n",
    "    def _print(self):\n",
    "        print(\"This is MegaHospital\")\n",
    "\n",
    "\n",
    "class MiniHospital(GeneralHospital):\n",
    "    def _print(self):\n",
    "        print(\"This is MegaHospital\")\n",
    "\n"
   ]
  },
  {
   "cell_type": "code",
   "execution_count": 14,
   "id": "9b2d9c30",
   "metadata": {},
   "outputs": [],
   "source": [
    "mh = MegaHospital()"
   ]
  },
  {
   "cell_type": "code",
   "execution_count": 15,
   "id": "dad6a627",
   "metadata": {},
   "outputs": [
    {
     "name": "stdout",
     "output_type": "stream",
     "text": [
      "This is MegaHospital\n"
     ]
    }
   ],
   "source": [
    "mh._print()"
   ]
  },
  {
   "cell_type": "code",
   "execution_count": 16,
   "id": "f0fe2d72",
   "metadata": {},
   "outputs": [
    {
     "name": "stdout",
     "output_type": "stream",
     "text": [
      "General Medicine Doctors\n",
      "Neuro Doctor.\n",
      "Surgeon Doctor.\n"
     ]
    }
   ],
   "source": [
    "mh.opd()\n",
    "mh.neuro()\n",
    "mh.surgeon()"
   ]
  },
  {
   "cell_type": "markdown",
   "id": "bd9a5637",
   "metadata": {},
   "source": [
    "# Super keyword"
   ]
  },
  {
   "cell_type": "code",
   "execution_count": 20,
   "id": "473d1f4b",
   "metadata": {},
   "outputs": [],
   "source": [
    "# Task is to allot manager and their team size\n",
    "\n",
    "class Employee:\n",
    "    def __init__(self, name, senior_status):\n",
    "        self.name = name\n",
    "        self.seniority = senior_status\n",
    "        print(\"Employee Name: \",self.name,\" status : \",self.seniority)\n",
    "        \n",
    "\n",
    "class Manager(Employee):\n",
    "    def __init__(self, name, senior_status, team_size):\n",
    "        super().__init__(name, senior_status)\n",
    "        #  super means the class we are inheriting \n",
    "        #   of the employee object i am trying to access __init__ method\n",
    "        #  super().__init__(name, senior_status) This line will move the flow of code to constructor of Employee\n",
    "        # Once you have super it means that it contain the address of the Employee class so there is no need for self \n",
    "        self.team_size = team_size\n",
    "\n",
    "    def show(self):\n",
    "        print(\"Manages \", self.team_size,\" people\")"
   ]
  },
  {
   "cell_type": "code",
   "execution_count": 21,
   "id": "f7069e1f",
   "metadata": {},
   "outputs": [
    {
     "name": "stdout",
     "output_type": "stream",
     "text": [
      "Employee Name:  Monal  status :  Senior\n"
     ]
    }
   ],
   "source": [
    "m = Manager(\"Monal\", \"Senior\", \"100\")"
   ]
  },
  {
   "cell_type": "code",
   "execution_count": 22,
   "id": "bf7671ab",
   "metadata": {},
   "outputs": [
    {
     "name": "stdout",
     "output_type": "stream",
     "text": [
      "Manages  100  people\n"
     ]
    }
   ],
   "source": [
    "m.show()"
   ]
  },
  {
   "cell_type": "markdown",
   "id": "c140af07",
   "metadata": {},
   "source": [
    "# Polymorphism\n",
    "Same name, different behaviour"
   ]
  },
  {
   "cell_type": "code",
   "execution_count": 17,
   "id": "738b3284",
   "metadata": {},
   "outputs": [
    {
     "data": {
      "text/plain": [
       "2"
      ]
     },
     "execution_count": 17,
     "metadata": {},
     "output_type": "execute_result"
    }
   ],
   "source": [
    "1+1"
   ]
  },
  {
   "cell_type": "code",
   "execution_count": 18,
   "id": "32347b15",
   "metadata": {},
   "outputs": [
    {
     "data": {
      "text/plain": [
       "'11'"
      ]
     },
     "execution_count": 18,
     "metadata": {},
     "output_type": "execute_result"
    }
   ],
   "source": [
    "\"1\" + \"1\""
   ]
  },
  {
   "cell_type": "code",
   "execution_count": 23,
   "id": "10e0cb0e",
   "metadata": {},
   "outputs": [],
   "source": [
    "#  Both the classes have the same function name but performing differently \n",
    "class TV:\n",
    "    def turn_on(self):\n",
    "        print(\"TV is now ON.\")\n",
    "\n",
    "class AC:\n",
    "    def turn_on(self):\n",
    "        print(\"AC is cooling the room.\")"
   ]
  },
  {
   "cell_type": "code",
   "execution_count": 24,
   "id": "d3ad0569",
   "metadata": {},
   "outputs": [],
   "source": [
    "tv = TV()\n",
    "ac = AC()"
   ]
  },
  {
   "cell_type": "code",
   "execution_count": 25,
   "id": "51b24bc2",
   "metadata": {},
   "outputs": [],
   "source": [
    "def activate(ele_object):\n",
    "    ele_object.turn_on()"
   ]
  },
  {
   "cell_type": "code",
   "execution_count": 26,
   "id": "24a32078",
   "metadata": {},
   "outputs": [
    {
     "name": "stdout",
     "output_type": "stream",
     "text": [
      "TV is now ON.\n"
     ]
    }
   ],
   "source": [
    "activate(tv)"
   ]
  },
  {
   "cell_type": "code",
   "execution_count": 27,
   "id": "24e0af5c",
   "metadata": {},
   "outputs": [
    {
     "name": "stdout",
     "output_type": "stream",
     "text": [
      "AC is cooling the room.\n"
     ]
    }
   ],
   "source": [
    "activate(ac)"
   ]
  },
  {
   "cell_type": "code",
   "execution_count": 24,
   "id": "64c9b59b",
   "metadata": {},
   "outputs": [],
   "source": [
    "class TV1990:\n",
    "    def turn_on(self):\n",
    "        print(\"1990 TV is now ON.\")\n",
    "\n",
    "class TV2000:\n",
    "    def turn_on(self):\n",
    "        print(\"1990 TV is now ON.\")\n",
    "\n",
    "class TV2015(TV1990):\n",
    "    def turn_on(self):\n",
    "        print(\"Latest TV is now ON.\")"
   ]
  },
  {
   "cell_type": "code",
   "execution_count": 27,
   "id": "110e8e2a",
   "metadata": {},
   "outputs": [
    {
     "name": "stdout",
     "output_type": "stream",
     "text": [
      "1990 TV is now ON.\n",
      "1990 TV is now ON.\n",
      "Latest TV is now ON.\n"
     ]
    }
   ],
   "source": [
    "for tv in (TV1990(), TV2000(), TV2015()):\n",
    "    tv.turn_on()"
   ]
  },
  {
   "cell_type": "code",
   "execution_count": null,
   "id": "ec17f734",
   "metadata": {},
   "outputs": [],
   "source": [
    "# This is called method overwriding \n",
    "#  Imp interview question \n",
    "\n",
    "\n",
    "class TV1990:\n",
    "    def turn_on(self):\n",
    "        print(\"turn on function\")\n",
    "\n",
    "    def screen(self):\n",
    "        print(\"black and white\")\n",
    "\n",
    "class TV2000(TV1990):\n",
    "    def screen(self):\n",
    "        print(\"Color\")"
   ]
  },
  {
   "cell_type": "code",
   "execution_count": 33,
   "id": "0d8102a2",
   "metadata": {},
   "outputs": [
    {
     "name": "stdout",
     "output_type": "stream",
     "text": [
      "turn on function\n"
     ]
    }
   ],
   "source": [
    "tv = TV2000()\n",
    "tv.turn_on()"
   ]
  },
  {
   "cell_type": "code",
   "execution_count": 37,
   "id": "840f38fc",
   "metadata": {},
   "outputs": [
    {
     "ename": "AttributeError",
     "evalue": "'TV' object has no attribute 'screen'",
     "output_type": "error",
     "traceback": [
      "\u001b[31m---------------------------------------------------------------------------\u001b[39m",
      "\u001b[31mAttributeError\u001b[39m                            Traceback (most recent call last)",
      "\u001b[36mCell\u001b[39m\u001b[36m \u001b[39m\u001b[32mIn[37]\u001b[39m\u001b[32m, line 1\u001b[39m\n\u001b[32m----> \u001b[39m\u001b[32m1\u001b[39m \u001b[43mtv\u001b[49m\u001b[43m.\u001b[49m\u001b[43mscreen\u001b[49m()\n",
      "\u001b[31mAttributeError\u001b[39m: 'TV' object has no attribute 'screen'"
     ]
    }
   ],
   "source": [
    "tv.screen()"
   ]
  },
  {
   "cell_type": "markdown",
   "id": "6e985610",
   "metadata": {},
   "source": [
    "# Encapsulation\n",
    "\n",
    "- Make sure the security \n",
    "- You don't want to share it with the outside world. You just want to share it with the code it self \n",
    "- code to code communication\n",
    "- Through this we provide security\n"
   ]
  },
  {
   "cell_type": "code",
   "execution_count": 28,
   "id": "c7215255",
   "metadata": {},
   "outputs": [],
   "source": [
    "class Bank:\n",
    "    def __init__(self, id, password):\n",
    "        self.id = id\n",
    "        self.__password = password # To make it a private variable we need to mention __ => double underscore at the start of attribute \n",
    "        self.amount = 0\n",
    "\n",
    "    def deposit(self, amount):\n",
    "        if amount>0:\n",
    "            self.amount+=amount\n",
    "\n",
    "    def __get_password(self):\n",
    "        #  we can write logic for other things that who can access the password\n",
    "        # I should not be able to get get_password also so __before that \n",
    "        return self.__password\n",
    "\n",
    "    #  Used for code to code communication\n",
    "    def check_user_valid(self):\n",
    "        print(\"We are validating user \", self.id, \" and their password \", self.__password)\n",
    "\n",
    "    def get_balance(self):\n",
    "        print(\"Balance is : \", self.amount)"
   ]
  },
  {
   "cell_type": "code",
   "execution_count": 29,
   "id": "e864affa",
   "metadata": {},
   "outputs": [],
   "source": [
    "monal_account = Bank(1, 1234567)"
   ]
  },
  {
   "cell_type": "code",
   "execution_count": 30,
   "id": "6294d6b8",
   "metadata": {},
   "outputs": [],
   "source": [
    "monal_account.deposit(10000)"
   ]
  },
  {
   "cell_type": "code",
   "execution_count": 31,
   "id": "e4b4ee84",
   "metadata": {},
   "outputs": [
    {
     "name": "stdout",
     "output_type": "stream",
     "text": [
      "Balance is :  10000\n"
     ]
    }
   ],
   "source": [
    "monal_account.get_balance()"
   ]
  },
  {
   "cell_type": "code",
   "execution_count": 32,
   "id": "881ffb38",
   "metadata": {},
   "outputs": [
    {
     "ename": "AttributeError",
     "evalue": "'Bank' object has no attribute 'password'",
     "output_type": "error",
     "traceback": [
      "\u001b[31m---------------------------------------------------------------------------\u001b[39m",
      "\u001b[31mAttributeError\u001b[39m                            Traceback (most recent call last)",
      "\u001b[36mCell\u001b[39m\u001b[36m \u001b[39m\u001b[32mIn[32]\u001b[39m\u001b[32m, line 1\u001b[39m\n\u001b[32m----> \u001b[39m\u001b[32m1\u001b[39m \u001b[43mmonal_account\u001b[49m\u001b[43m.\u001b[49m\u001b[43mpassword\u001b[49m\n",
      "\u001b[31mAttributeError\u001b[39m: 'Bank' object has no attribute 'password'"
     ]
    }
   ],
   "source": [
    "monal_account.password"
   ]
  },
  {
   "cell_type": "code",
   "execution_count": 33,
   "id": "397483a4",
   "metadata": {},
   "outputs": [
    {
     "ename": "AttributeError",
     "evalue": "'Bank' object has no attribute 'get_password'",
     "output_type": "error",
     "traceback": [
      "\u001b[31m---------------------------------------------------------------------------\u001b[39m",
      "\u001b[31mAttributeError\u001b[39m                            Traceback (most recent call last)",
      "\u001b[36mCell\u001b[39m\u001b[36m \u001b[39m\u001b[32mIn[33]\u001b[39m\u001b[32m, line 1\u001b[39m\n\u001b[32m----> \u001b[39m\u001b[32m1\u001b[39m \u001b[43mmonal_account\u001b[49m\u001b[43m.\u001b[49m\u001b[43mget_password\u001b[49m()\n",
      "\u001b[31mAttributeError\u001b[39m: 'Bank' object has no attribute 'get_password'"
     ]
    }
   ],
   "source": [
    "monal_account.get_password()"
   ]
  },
  {
   "cell_type": "code",
   "execution_count": 34,
   "id": "7cb715a0",
   "metadata": {},
   "outputs": [
    {
     "ename": "AttributeError",
     "evalue": "'Bank' object has no attribute '__password'",
     "output_type": "error",
     "traceback": [
      "\u001b[31m---------------------------------------------------------------------------\u001b[39m",
      "\u001b[31mAttributeError\u001b[39m                            Traceback (most recent call last)",
      "\u001b[36mCell\u001b[39m\u001b[36m \u001b[39m\u001b[32mIn[34]\u001b[39m\u001b[32m, line 1\u001b[39m\n\u001b[32m----> \u001b[39m\u001b[32m1\u001b[39m \u001b[43mmonal_account\u001b[49m\u001b[43m.\u001b[49m\u001b[43m__password\u001b[49m\n",
      "\u001b[31mAttributeError\u001b[39m: 'Bank' object has no attribute '__password'"
     ]
    }
   ],
   "source": [
    "monal_account.__password"
   ]
  },
  {
   "cell_type": "code",
   "execution_count": 35,
   "id": "f631e583",
   "metadata": {},
   "outputs": [
    {
     "name": "stdout",
     "output_type": "stream",
     "text": [
      "We are validating user  1  and their password  1234567\n"
     ]
    }
   ],
   "source": [
    "monal_account.check_user_valid()"
   ]
  },
  {
   "cell_type": "markdown",
   "id": "c879f726",
   "metadata": {},
   "source": [
    "I'll explain **abstraction** in Object-Oriented Programming (OOP) using Python in a beginner-friendly way, breaking it down step-by-step with simple examples.\n",
    "\n",
    "### What is Abstraction in OOP?\n",
    "\n",
    "Abstraction is one of the core principles of OOP. It’s like hiding the complicated details of something and only showing the simple, necessary parts to the user. Think of it like using a TV remote: you press buttons to change channels or adjust volume without needing to know how the remote or TV works inside. Abstraction lets you focus on **what** an object does, not **how** it does it.\n",
    "\n",
    "In Python, abstraction is achieved using **abstract classes** and **abstract methods**. These are tools that help you define a general structure for your code, while forcing specific details to be implemented later.\n",
    "\n",
    "### Why Use Abstraction?\n",
    "\n",
    "1. **Simplifies Code**: Hides complex details, making it easier to understand and use.\n",
    "2. **Promotes Reusability**: You can define a blueprint that multiple objects can follow.\n",
    "3. **Enforces Consistency**: Ensures that all related classes follow the same structure.\n",
    "4. **Improves Maintenance**: Changes to the \"hidden\" details don’t affect the code using the abstraction.\n",
    "\n",
    "### How is Abstraction Implemented in Python?\n",
    "\n",
    "Python uses the **`abc`** module (Abstract Base Classes) to implement abstraction. An **abstract class** is a class that cannot be instantiated (you can't create objects from it directly) and is meant to serve as a blueprint for other classes. An **abstract method** is a method declared in the abstract class but doesn’t have an implementation—child classes must provide the implementation.\n",
    "\n",
    "### Step-by-Step Explanation with an Example\n",
    "\n",
    "Let’s use a simple analogy: think of a **vehicle**. All vehicles (like cars, bikes, or trucks) have some common behaviors, like starting, stopping, or moving. But each vehicle does these things differently. Abstraction lets us define a general \"Vehicle\" blueprint and then specify how each type of vehicle implements those behaviors.\n",
    "\n",
    "#### Step 1: Import the `abc` Module\n",
    "To create an abstract class in Python, you need the `abc` module, which provides tools for abstraction.\n",
    "\n",
    "```python\n",
    "from abc import ABC, abstractmethod\n",
    "```\n",
    "\n",
    "- **`ABC`**: A base class that makes your class abstract.\n",
    "- **`abstractmethod`**: A decorator that marks a method as abstract, meaning it must be implemented by any child class.\n",
    "\n",
    "#### Step 2: Create an Abstract Class\n",
    "An abstract class inherits from `ABC`. It can have both abstract methods (without implementation) and regular methods (with implementation).\n",
    "\n",
    "```python\n",
    "from abc import ABC, abstractmethod\n",
    "\n",
    "class Vehicle(ABC):  # Abstract class\n",
    "    @abstractmethod\n",
    "    def start(self):\n",
    "        pass  # No implementation here\n",
    "\n",
    "    @abstractmethod\n",
    "    def stop(self):\n",
    "        pass  # No implementation here\n",
    "\n",
    "    def describe(self):  # Regular method with implementation\n",
    "        print(\"This is a vehicle.\")\n",
    "```\n",
    "\n",
    "- **`Vehicle`**: The abstract class. You can’t create an object of `Vehicle` directly.\n",
    "- **`start` and `stop`**: Abstract methods. Any class that inherits from `Vehicle` must implement these.\n",
    "- **`describe`**: A regular method with a body, shared by all child classes.\n",
    "\n",
    "If you try to create an object of `Vehicle`:\n",
    "```python\n",
    "v = Vehicle()  # This will raise an error\n",
    "```\n",
    "**Error**: `TypeError: Can't instantiate abstract class Vehicle with abstract methods start, stop`\n",
    "\n",
    "#### Step 3: Create Child Classes\n",
    "Child classes inherit from the abstract class and must provide implementations for all abstract methods.\n",
    "\n",
    "```python\n",
    "class Car(Vehicle):\n",
    "    def start(self):\n",
    "        print(\"Car engine starts with a key.\")\n",
    "\n",
    "    def stop(self):\n",
    "        print(\"Car stops with brakes.\")\n",
    "\n",
    "class Motorcycle(Vehicle):\n",
    "    def start(self):\n",
    "        print(\"Motorcycle engine starts with a kick.\")\n",
    "\n",
    "    def stop(self):\n",
    "        print(\"Motorcycle stops with brakes.\")\n",
    "```\n",
    "\n",
    "- **`Car` and `Motorcycle`**: These are concrete classes (not abstract) that inherit from `Vehicle`.\n",
    "- They **must** implement `start` and `stop`, or Python will raise an error.\n",
    "- They automatically inherit the `describe` method from `Vehicle`.\n",
    "\n",
    "#### Step 4: Use the Classes\n",
    "Now, you can create objects of the child classes and call their methods.\n",
    "\n",
    "```python\n",
    "# Create objects\n",
    "car = Car()\n",
    "motorcycle = Motorcycle()\n",
    "\n",
    "# Call methods\n",
    "car.start()        # Output: Car engine starts with a key.\n",
    "car.stop()         # Output: Car stops with brakes.\n",
    "car.describe()     # Output: This is a vehicle.\n",
    "\n",
    "motorcycle.start() # Output: Motorcycle engine starts with a kick.\n",
    "motorcycle.stop()  # Output: Motorcycle stops with brakes.\n",
    "motorcycle.describe()  # Output: This is a vehicle.\n",
    "```\n",
    "\n",
    "### Key Points About Abstraction\n",
    "\n",
    "1. **Abstract Class**: A blueprint that cannot be instantiated. It defines what methods must exist but not how they work.\n",
    "2. **Abstract Method**: A method declared with `@abstractmethod` and no implementation (`pass`). Child classes must provide the implementation.\n",
    "3. **Concrete Class**: A class that inherits from an abstract class and implements all its abstract methods.\n",
    "4. **Hiding Complexity**: Users of the `Car` or `Motorcycle` class don’t need to know how `start` or `stop` works internally—they just call the methods.\n",
    "\n",
    "### Another Example: Shape Calculator\n",
    "Let’s look at another example to solidify the concept. Suppose you want to calculate the area of different shapes (like a circle or rectangle). You can use abstraction to define a general \"Shape\" with an abstract method for calculating the area.\n",
    "\n",
    "```python\n",
    "from abc import ABC, abstractmethod\n",
    "import math\n",
    "\n",
    "# Abstract class\n",
    "class Shape(ABC):\n",
    "    @abstractmethod\n",
    "    def calculate_area(self):\n",
    "        pass\n",
    "\n",
    "# Concrete class for Circle\n",
    "class Circle(Shape):\n",
    "    def __init__(self, radius):\n",
    "        self.radius = radius\n",
    "\n",
    "    def calculate_area(self):\n",
    "        return math.pi * self.radius ** 2\n",
    "\n",
    "# Concrete class for Rectangle\n",
    "class Rectangle(Shape):\n",
    "    def __init__(self, width, height):\n",
    "        self.width = width\n",
    "        self.height = height\n",
    "\n",
    "    def calculate_area(self):\n",
    "        return self.width * self.height\n",
    "\n",
    "# Using the classes\n",
    "circle = Circle(5)\n",
    "rectangle = Rectangle(4, 6)\n",
    "\n",
    "print(f\"Circle area: {circle.calculate_area():.2f}\")  # Output: Circle area: 78.54\n",
    "print(f\"Rectangle area: {rectangle.calculate_area()}\")  # Output: Rectangle area: 24\n",
    "```\n",
    "\n",
    "- **`Shape`**: Abstract class with an abstract method `calculate_area`.\n",
    "- **`Circle` and `Rectangle`**: Concrete classes that implement `calculate_area` differently.\n",
    "- The user only needs to call `calculate_area()` without worrying about the formula for each shape.\n",
    "\n",
    "### Benefits of Abstraction in This Example\n",
    "- You can add new shapes (like `Triangle`) without changing the code that uses `Shape`.\n",
    "- The user doesn’t need to know how the area is calculated for each shape.\n",
    "- All shapes follow the same structure (they have a `calculate_area` method).\n",
    "\n",
    "### Common Mistakes to Avoid\n",
    "1. **Forgetting to Implement Abstract Methods**: If a child class doesn’t implement all abstract methods, you’ll get an error when trying to instantiate it.\n",
    "   ```python\n",
    "   class BadCar(Vehicle):\n",
    "       pass  # Forgot to implement start and stop\n",
    "\n",
    "   bad_car = BadCar()  # Error: Can't instantiate abstract class BadCar\n",
    "   ```\n",
    "2. **Instantiating an Abstract Class**: You can’t create objects of an abstract class.\n",
    "3. **Not Using `ABC` or `@abstractmethod`**: Without these, your class is just a regular class, not an abstract one.\n",
    "\n",
    "### When to Use Abstraction?\n",
    "- When you want to define a common interface for a group of related classes (e.g., all vehicles, all shapes).\n",
    "- When you want to hide complex logic and expose only simple methods.\n",
    "- When you want to enforce that certain methods are implemented by all child classes.\n",
    "\n",
    "### Summary for Beginners\n",
    "- **Abstraction** hides complex details and shows only what’s necessary.\n",
    "- In Python, use the `abc` module to create **abstract classes** (inherit from `ABC`) and **abstract methods** (use `@abstractmethod`).\n",
    "- Abstract classes are blueprints; you can’t create objects from them.\n",
    "- Child classes must implement all abstract methods.\n",
    "- Abstraction makes your code simpler, reusable, and easier to maintain.\n",
    "\n",
    "If you want to dive deeper or have a specific example in mind, let me know, and I can tailor it further!"
   ]
  },
  {
   "cell_type": "markdown",
   "id": "4e80a674",
   "metadata": {},
   "source": [
    "# Abstraction\n",
    "- We set standard. The main point is to follow that standard \n",
    "- We need to addhere to rules called abstraction\n",
    "- Through this we can fix mandatory standords  "
   ]
  },
  {
   "cell_type": "code",
   "execution_count": 36,
   "id": "e6db0572",
   "metadata": {},
   "outputs": [],
   "source": [
    "from abc import ABC, abstractmethod"
   ]
  },
  {
   "cell_type": "code",
   "execution_count": 90,
   "id": "68e4c274",
   "metadata": {},
   "outputs": [],
   "source": [
    "# Abstract Base Class\n",
    "class McDonalds(ABC):\n",
    "    \n",
    "    @abstractmethod\n",
    "    def mincapactity30(self):\n",
    "        pass\n",
    "    \n",
    "    @abstractmethod\n",
    "    def minparking10(self):\n",
    "        pass\n",
    "    \n",
    "    @abstractmethod\n",
    "    def minvegNonvegSections(self):\n",
    "        pass"
   ]
  },
  {
   "cell_type": "code",
   "execution_count": null,
   "id": "d22dca67",
   "metadata": {},
   "outputs": [],
   "source": [
    "#  How we make sure that we adhere to McDonalds\n",
    "class Monal(McDonalds):\n",
    "    #  untill unless we don't mention these functions(mincapactity30,minparking10,minvegNonvegSections) we won't be able to move forward with creating new burger \n",
    "    #  means you anyways has to override it and create your own implementation \n",
    "    def mincapactity30(self):\n",
    "        print(\"We have seating capacity of 40.\")\n",
    "    def minparking10(self):\n",
    "        print(\"We have maximum parking capacity of 400.\")\n",
    "    def minvegNonvegSections(self):\n",
    "        print(\"We prepare veg and non-veg seperately.\")\n",
    "    def newburger(self):\n",
    "        print(\"Hey!!, this is a new burger.\")"
   ]
  },
  {
   "cell_type": "code",
   "execution_count": 94,
   "id": "5603d2ca",
   "metadata": {},
   "outputs": [],
   "source": [
    "mcd_new = Monal()"
   ]
  },
  {
   "cell_type": "code",
   "execution_count": 95,
   "id": "e4608bae",
   "metadata": {},
   "outputs": [
    {
     "name": "stdout",
     "output_type": "stream",
     "text": [
      "Hey!!, this is a new burger.\n"
     ]
    }
   ],
   "source": [
    "mcd_new.newburger()"
   ]
  },
  {
   "cell_type": "markdown",
   "id": "ab0b94c6",
   "metadata": {},
   "source": [
    "No, an **abstract method** in Python is not *always* empty, but it typically has no implementation in the abstract class. Let me explain clearly for a beginner.\n",
    "\n",
    "### What is an Abstract Method?\n",
    "An abstract method is a method declared in an **abstract class** (using Python’s `abc` module) that has no implementation in the abstract class itself. It’s meant to be a placeholder, forcing any child class that inherits from the abstract class to provide its own implementation.\n",
    "\n",
    "In Python, abstract methods are defined using the `@abstractmethod` decorator from the `abc` module, and they usually have an empty body with just the `pass` statement.\n",
    "\n",
    "### Why \"Usually\" Empty?\n",
    "The abstract method is typically empty (i.e., contains only `pass`) because its purpose is to define a **contract**—a requirement that child classes must implement this method. The abstract class doesn’t know *how* the method should work, so it leaves the implementation to the child classes.\n",
    "\n",
    "Here’s an example:\n",
    "\n",
    "```python\n",
    "from abc import ABC, abstractmethod\n",
    "\n",
    "class Animal(ABC):\n",
    "    @abstractmethod\n",
    "    def make_sound(self):\n",
    "        pass  # Empty body, just a placeholder\n",
    "```\n",
    "\n",
    "- The `make_sound` method has no implementation (`pass`) because the abstract class `Animal` doesn’t know what sound a specific animal makes.\n",
    "- Child classes like `Dog` or `Cat` must provide their own implementation.\n",
    "\n",
    "```python\n",
    "class Dog(Animal):\n",
    "    def make_sound(self):\n",
    "        return \"Woof!\"\n",
    "\n",
    "class Cat(Animal):\n",
    "    def make_sound(self):\n",
    "        return \"Meow!\"\n",
    "\n",
    "dog = Dog()\n",
    "cat = Cat()\n",
    "print(dog.make_sound())  # Output: Woof!\n",
    "print(cat.make_sound())  # Output: Meow!\n",
    "```\n",
    "\n",
    "### Can an Abstract Method Have Code?\n",
    "Yes, an abstract method *can* have code, but this is rare and not the typical use case. If you put code in an abstract method, child classes can still call it using `super()` or override it entirely. However, this defeats the purpose of abstraction in most cases because the abstract method is meant to be a blueprint without specific behavior.\n",
    "\n",
    "Here’s an example where an abstract method has code:\n",
    "\n",
    "```python\n",
    "from abc import ABC, abstractmethod\n",
    "\n",
    "class Animal(ABC):\n",
    "    @abstractmethod\n",
    "    def make_sound(self):\n",
    "        print(\"Some generic sound\")  # Code in abstract method\n",
    "\n",
    "class Dog(Animal):\n",
    "    def make_sound(self):\n",
    "        super().make_sound()  # Call the parent’s implementation\n",
    "        print(\"Woof!\")\n",
    "\n",
    "dog = Dog()\n",
    "dog.make_sound()\n",
    "# Output:\n",
    "# Some generic sound\n",
    "# Woof!\n",
    "```\n",
    "\n",
    "- The abstract method `make_sound` has code, and `Dog` can use it via `super()` or override it completely.\n",
    "- **However**, this is uncommon because it can make the abstract class less flexible. The point of an abstract method is usually to let child classes define the behavior entirely.\n",
    "\n",
    "### Why Avoid Code in Abstract Methods?\n",
    "1. **Breaks Abstraction**: If the abstract method has code, it’s no longer just a blueprint—it’s providing behavior, which might not suit all child classes.\n",
    "2. **Reduces Flexibility**: Child classes might be forced to use or work around the parent’s implementation.\n",
    "3. **Confuses Purpose**: Abstract methods are meant to enforce a contract (i.e., “you must have this method”). If they include code, they act more like regular methods.\n",
    "\n",
    "If you want to provide shared behavior, use a **regular method** in the abstract class instead of an abstract method. For example:\n",
    "\n",
    "```python\n",
    "from abc import ABC, abstractmethod\n",
    "\n",
    "class Animal(ABC):\n",
    "    @abstractmethod\n",
    "    def make_sound(self):\n",
    "        pass  # Purely abstract, no implementation\n",
    "\n",
    "    def sleep(self):  # Regular method with shared behavior\n",
    "        print(\"Zzz... sleeping\")\n",
    "\n",
    "class Dog(Animal):\n",
    "    def make_sound(self):\n",
    "        print(\"Woof!\")\n",
    "\n",
    "dog = Dog()\n",
    "dog.make_sound()  # Output: Woof!\n",
    "dog.sleep()       # Output: Zzz... sleeping\n",
    "```\n",
    "\n",
    "- The `sleep` method has a default implementation that all animals share, while `make_sound` is abstract and must be implemented by child classes.\n",
    "\n",
    "### Key Points for Beginners\n",
    "- **Typical Case**: Abstract methods are usually empty (just `pass`) because they’re meant to define *what* must be done, not *how* it’s done.\n",
    "- **Rare Case**: You *can* put code in an abstract method, but it’s not common and can make your code less clear or flexible.\n",
    "- **Use Regular Methods for Shared Code**: If you want to provide default behavior, use a non-abstract method in the abstract class.\n",
    "- **Purpose of Abstract Methods**: To enforce that all child classes implement the method, ensuring a consistent interface.\n",
    "\n",
    "### When Might You Add Code to an Abstract Method?\n",
    "You might include code in an abstract method if you want to provide a *partial implementation* that child classes can extend. For example, you might want a base behavior that all child classes must build upon. But this is an advanced use case and not recommended for beginners, as it can complicate your design.\n",
    "\n",
    "### Summary\n",
    "- Abstract methods are **usually empty** (just `pass`) to act as a placeholder for child classes to implement.\n",
    "- You *can* add code to an abstract method, but it’s rare and often better to use a regular method for shared behavior.\n",
    "- Stick to empty abstract methods when starting out to keep your code simple and clear.\n",
    "\n",
    "If you want a specific example or have more questions about abstract methods, let me know!"
   ]
  },
  {
   "cell_type": "markdown",
   "id": "b2e2c5a4",
   "metadata": {},
   "source": [
    "# F-String"
   ]
  },
  {
   "cell_type": "markdown",
   "id": "169c9152",
   "metadata": {},
   "source": [
    "### Task : To print 2 X 1 = 2"
   ]
  },
  {
   "cell_type": "code",
   "execution_count": 97,
   "id": "6d5a78a0",
   "metadata": {},
   "outputs": [],
   "source": [
    "table_of = 2"
   ]
  },
  {
   "cell_type": "code",
   "execution_count": 98,
   "id": "941c10ee",
   "metadata": {},
   "outputs": [
    {
     "name": "stdout",
     "output_type": "stream",
     "text": [
      "2 X 1 = 2\n"
     ]
    }
   ],
   "source": [
    "test_string_1 = str(table_of) + \" X \" + str(1) + \" = \" + str(2)\n",
    "print(test_string_1)"
   ]
  },
  {
   "cell_type": "code",
   "execution_count": 99,
   "id": "c0d9c93b",
   "metadata": {},
   "outputs": [
    {
     "name": "stdout",
     "output_type": "stream",
     "text": [
      "2 X 1 = 2\n"
     ]
    }
   ],
   "source": [
    "test_string_2 = f\"{table_of} X 1 = 2\"\n",
    "print(test_string_2)"
   ]
  }
 ],
 "metadata": {
  "kernelspec": {
   "display_name": "Python 3",
   "language": "python",
   "name": "python3"
  },
  "language_info": {
   "codemirror_mode": {
    "name": "ipython",
    "version": 3
   },
   "file_extension": ".py",
   "mimetype": "text/x-python",
   "name": "python",
   "nbconvert_exporter": "python",
   "pygments_lexer": "ipython3",
   "version": "3.12.0"
  }
 },
 "nbformat": 4,
 "nbformat_minor": 5
}
