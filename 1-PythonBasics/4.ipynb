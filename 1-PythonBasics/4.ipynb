{
 "cells": [
  {
   "cell_type": "markdown",
   "id": "80ab6580",
   "metadata": {},
   "source": [
    "![assignment](./assignment.jpg)"
   ]
  },
  {
   "cell_type": "code",
   "execution_count": 2,
   "id": "66a9c306",
   "metadata": {},
   "outputs": [
    {
     "name": "stdout",
     "output_type": "stream",
     "text": [
      "Go to beach\n"
     ]
    }
   ],
   "source": [
    "money = int(input(\"Enter the current balance : \"))\n",
    "time = int(input(\"Enter time(24hrs format) : \"))\n",
    "\n",
    "if money >= 200:\n",
    "    if time < 19:\n",
    "        print(\"go to theme park\")\n",
    "    else : \n",
    "        print(\"Go home.\")\n",
    "else :\n",
    "    if time > 19:\n",
    "        print(\"go to icecream parlour.\")\n",
    "    else :\n",
    "        print(\"Go to beach\")"
   ]
  },
  {
   "cell_type": "code",
   "execution_count": 3,
   "id": "e77d9af9",
   "metadata": {},
   "outputs": [],
   "source": [
    "# condition1 = \"fruit\"\n",
    "# condition2 = \"apple\""
   ]
  },
  {
   "cell_type": "markdown",
   "id": "d81a98e4",
   "metadata": {},
   "source": [
    "### Not recommended"
   ]
  },
  {
   "cell_type": "code",
   "execution_count": 4,
   "id": "17787864",
   "metadata": {},
   "outputs": [
    {
     "name": "stdout",
     "output_type": "stream",
     "text": [
      "Task completed\n"
     ]
    }
   ],
   "source": [
    "answer1 = input(\"write the item you want to buy : \")\n",
    "answer2 = input(\"write the fruit you want to buy : \")\n",
    "\n",
    "if answer1 == \"fruit\":\n",
    "    \n",
    "    if answer2 == \"apple\":\n",
    "        print(\"Task completed\")\n",
    "    else:\n",
    "        print(\"Task not completed\")\n",
    "else:\n",
    "    print(\"Item not available.\")"
   ]
  },
  {
   "cell_type": "markdown",
   "id": "f67c22fa",
   "metadata": {},
   "source": [
    "## Recommended"
   ]
  },
  {
   "cell_type": "code",
   "execution_count": null,
   "id": "d95396eb",
   "metadata": {},
   "outputs": [
    {
     "name": "stdout",
     "output_type": "stream",
     "text": [
      "Task completed\n"
     ]
    }
   ],
   "source": [
    "answer1 = input(\"write the item you want to buy : \")\n",
    "\n",
    "if answer1 == \"fruit\":\n",
    "    answer2 = input(\"write the fruit you want to buy : \")\n",
    "    if answer2 == \"apple\":\n",
    "        print(\"Task completed\")\n",
    "    else:\n",
    "        print(\"Task not completed\")\n",
    "else:\n",
    "    print(\"Item not available.\")\n",
    "    "
   ]
  },
  {
   "cell_type": "markdown",
   "id": "662540a4",
   "metadata": {},
   "source": [
    "# Advanced data types"
   ]
  },
  {
   "cell_type": "code",
   "execution_count": 6,
   "id": "127e8c31",
   "metadata": {},
   "outputs": [],
   "source": [
    "name1 = 'abc'\n",
    "mobile_no1 = \"3232323232\"\n",
    "\n",
    "name2 = 'abc'\n",
    "mobile_no2 = \"3232323232\""
   ]
  },
  {
   "cell_type": "markdown",
   "id": "c603be8b",
   "metadata": {},
   "source": [
    "### List"
   ]
  },
  {
   "cell_type": "code",
   "execution_count": 7,
   "id": "f3474d65",
   "metadata": {},
   "outputs": [],
   "source": [
    "names = []"
   ]
  },
  {
   "cell_type": "code",
   "execution_count": 8,
   "id": "ec3f8959",
   "metadata": {},
   "outputs": [],
   "source": [
    "names.append('abc')"
   ]
  },
  {
   "cell_type": "code",
   "execution_count": 9,
   "id": "0ee5dbff",
   "metadata": {},
   "outputs": [
    {
     "name": "stdout",
     "output_type": "stream",
     "text": [
      "['abc']\n"
     ]
    }
   ],
   "source": [
    "print(names)"
   ]
  },
  {
   "cell_type": "code",
   "execution_count": 29,
   "id": "e702cf6e",
   "metadata": {},
   "outputs": [],
   "source": [
    "a = [0,1,3,4, \"monal\", \"ashar\", \"heartine\", \"enjoy\", \"nikhil\"]"
   ]
  },
  {
   "cell_type": "code",
   "execution_count": 11,
   "id": "ac79c92a",
   "metadata": {},
   "outputs": [
    {
     "data": {
      "text/plain": [
       "9"
      ]
     },
     "execution_count": 11,
     "metadata": {},
     "output_type": "execute_result"
    }
   ],
   "source": [
    "len(a) # Total number of elements"
   ]
  },
  {
   "cell_type": "code",
   "execution_count": 12,
   "id": "ea18478d",
   "metadata": {},
   "outputs": [
    {
     "data": {
      "text/plain": [
       "0"
      ]
     },
     "execution_count": 12,
     "metadata": {},
     "output_type": "execute_result"
    }
   ],
   "source": [
    "a[0]"
   ]
  },
  {
   "cell_type": "code",
   "execution_count": 13,
   "id": "0874b9f1",
   "metadata": {},
   "outputs": [
    {
     "data": {
      "text/plain": [
       "'monal'"
      ]
     },
     "execution_count": 13,
     "metadata": {},
     "output_type": "execute_result"
    }
   ],
   "source": [
    "a[4]"
   ]
  },
  {
   "cell_type": "code",
   "execution_count": 14,
   "id": "010c1fd6",
   "metadata": {},
   "outputs": [
    {
     "data": {
      "text/plain": [
       "'monal'"
      ]
     },
     "execution_count": 14,
     "metadata": {},
     "output_type": "execute_result"
    }
   ],
   "source": [
    "a[4]"
   ]
  },
  {
   "cell_type": "code",
   "execution_count": 15,
   "id": "92518551",
   "metadata": {},
   "outputs": [
    {
     "data": {
      "text/plain": [
       "9"
      ]
     },
     "execution_count": 15,
     "metadata": {},
     "output_type": "execute_result"
    }
   ],
   "source": [
    "len(a)"
   ]
  },
  {
   "cell_type": "code",
   "execution_count": 16,
   "id": "10cb5a6b",
   "metadata": {},
   "outputs": [
    {
     "data": {
      "text/plain": [
       "'nikhil'"
      ]
     },
     "execution_count": 16,
     "metadata": {},
     "output_type": "execute_result"
    }
   ],
   "source": [
    "a[8]"
   ]
  },
  {
   "cell_type": "code",
   "execution_count": 17,
   "id": "a6118d5c",
   "metadata": {},
   "outputs": [
    {
     "data": {
      "text/plain": [
       "'nikhil'"
      ]
     },
     "execution_count": 17,
     "metadata": {},
     "output_type": "execute_result"
    }
   ],
   "source": [
    "a[-1]"
   ]
  },
  {
   "cell_type": "code",
   "execution_count": 18,
   "id": "22fe3b96",
   "metadata": {},
   "outputs": [
    {
     "data": {
      "text/plain": [
       "[0, 1, 3, 4, 'monal', 'ashar']"
      ]
     },
     "execution_count": 18,
     "metadata": {},
     "output_type": "execute_result"
    }
   ],
   "source": [
    "a[0:6]"
   ]
  },
  {
   "cell_type": "code",
   "execution_count": 19,
   "id": "e7cab393",
   "metadata": {},
   "outputs": [
    {
     "data": {
      "text/plain": [
       "['ashar']"
      ]
     },
     "execution_count": 19,
     "metadata": {},
     "output_type": "execute_result"
    }
   ],
   "source": [
    "a[5:6]"
   ]
  },
  {
   "cell_type": "code",
   "execution_count": 30,
   "id": "5773a5de",
   "metadata": {},
   "outputs": [
    {
     "data": {
      "text/plain": [
       "['nikhil', 'enjoy']"
      ]
     },
     "execution_count": 30,
     "metadata": {},
     "output_type": "execute_result"
    }
   ],
   "source": [
    "a[-1:-3:-1]"
   ]
  },
  {
   "cell_type": "code",
   "execution_count": 31,
   "id": "82157fe9",
   "metadata": {},
   "outputs": [
    {
     "data": {
      "text/plain": [
       "[]"
      ]
     },
     "execution_count": 31,
     "metadata": {},
     "output_type": "execute_result"
    }
   ],
   "source": [
    "a[-1:-3]"
   ]
  },
  {
   "cell_type": "code",
   "execution_count": 2,
   "id": "f5a576dd",
   "metadata": {},
   "outputs": [],
   "source": [
    "bla = [0,1,2,3,4,5,6,7.8]"
   ]
  },
  {
   "cell_type": "code",
   "execution_count": 3,
   "id": "fff53968",
   "metadata": {},
   "outputs": [
    {
     "data": {
      "text/plain": [
       "[0, 2, 4, 6]"
      ]
     },
     "execution_count": 3,
     "metadata": {},
     "output_type": "execute_result"
    }
   ],
   "source": [
    "bla[0:7:2]"
   ]
  },
  {
   "cell_type": "code",
   "execution_count": 21,
   "id": "555710ab",
   "metadata": {},
   "outputs": [
    {
     "data": {
      "text/plain": [
       "['heartine', 'enjoy']"
      ]
     },
     "execution_count": 21,
     "metadata": {},
     "output_type": "execute_result"
    }
   ],
   "source": [
    "a[-3:-1]"
   ]
  },
  {
   "cell_type": "code",
   "execution_count": 22,
   "id": "3b301c3b",
   "metadata": {},
   "outputs": [
    {
     "data": {
      "text/plain": [
       "[3, 4, 'monal', 'ashar', 'heartine', 'enjoy']"
      ]
     },
     "execution_count": 22,
     "metadata": {},
     "output_type": "execute_result"
    }
   ],
   "source": [
    "a[-7:-1]"
   ]
  },
  {
   "cell_type": "code",
   "execution_count": 23,
   "id": "3082d239",
   "metadata": {},
   "outputs": [
    {
     "data": {
      "text/plain": [
       "[3, 4, 'monal', 'ashar', 'heartine', 'enjoy', 'nikhil']"
      ]
     },
     "execution_count": 23,
     "metadata": {},
     "output_type": "execute_result"
    }
   ],
   "source": [
    "a[-7:]"
   ]
  },
  {
   "cell_type": "code",
   "execution_count": 24,
   "id": "38a37a34",
   "metadata": {},
   "outputs": [
    {
     "data": {
      "text/plain": [
       "[0, 1, 3, 4, 'monal', 'ashar', 'heartine', 'enjoy', 'nikhil']"
      ]
     },
     "execution_count": 24,
     "metadata": {},
     "output_type": "execute_result"
    }
   ],
   "source": [
    "a[0:]"
   ]
  },
  {
   "cell_type": "code",
   "execution_count": 25,
   "id": "a9096992",
   "metadata": {},
   "outputs": [
    {
     "data": {
      "text/plain": [
       "[0, 1, 3, 4, 'monal', 'ashar', 'heartine', 'enjoy']"
      ]
     },
     "execution_count": 25,
     "metadata": {},
     "output_type": "execute_result"
    }
   ],
   "source": [
    "a[0:-1]"
   ]
  },
  {
   "cell_type": "code",
   "execution_count": 26,
   "id": "6988b914",
   "metadata": {},
   "outputs": [
    {
     "data": {
      "text/plain": [
       "9"
      ]
     },
     "execution_count": 26,
     "metadata": {},
     "output_type": "execute_result"
    }
   ],
   "source": [
    "len(a)"
   ]
  },
  {
   "cell_type": "code",
   "execution_count": 27,
   "id": "a0778c10",
   "metadata": {},
   "outputs": [
    {
     "data": {
      "text/plain": [
       "[0, 1, 3, 4, 'monal', 'ashar', 'heartine', 'enjoy']"
      ]
     },
     "execution_count": 27,
     "metadata": {},
     "output_type": "execute_result"
    }
   ],
   "source": [
    "#a[start:total_number_of_elements]\n",
    "a[0:8]"
   ]
  },
  {
   "cell_type": "code",
   "execution_count": 28,
   "id": "a7c7eb54",
   "metadata": {},
   "outputs": [
    {
     "data": {
      "text/plain": [
       "[0, 1, 3, 4, 'monal', 'ashar', 'heartine', 'enjoy', 'nikhil']"
      ]
     },
     "execution_count": 28,
     "metadata": {},
     "output_type": "execute_result"
    }
   ],
   "source": [
    "a[0:9]"
   ]
  },
  {
   "cell_type": "code",
   "execution_count": 29,
   "id": "836333f3",
   "metadata": {},
   "outputs": [
    {
     "data": {
      "text/plain": [
       "[0, 1, 3, 4, 'monal', 'ashar', 'heartine', 'enjoy', 'nikhil']"
      ]
     },
     "execution_count": 29,
     "metadata": {},
     "output_type": "execute_result"
    }
   ],
   "source": [
    "a[0:]"
   ]
  },
  {
   "cell_type": "code",
   "execution_count": 30,
   "id": "8804ac80",
   "metadata": {},
   "outputs": [
    {
     "data": {
      "text/plain": [
       "[0, 1, 3, 4, 'monal', 'ashar', 'heartine', 'enjoy', 'nikhil']"
      ]
     },
     "execution_count": 30,
     "metadata": {},
     "output_type": "execute_result"
    }
   ],
   "source": [
    "a[0:len(a)]"
   ]
  },
  {
   "cell_type": "code",
   "execution_count": 31,
   "id": "e0502c0f",
   "metadata": {},
   "outputs": [
    {
     "data": {
      "text/plain": [
       "[0, 1, 3, 4, 'monal', 'ashar', 'heartine', 'enjoy', 'nikhil']"
      ]
     },
     "execution_count": 31,
     "metadata": {},
     "output_type": "execute_result"
    }
   ],
   "source": [
    "a[:]"
   ]
  },
  {
   "cell_type": "code",
   "execution_count": 33,
   "id": "373abf49",
   "metadata": {},
   "outputs": [
    {
     "data": {
      "text/plain": [
       "['monal', 'ashar', 'heartine', 'enjoy']"
      ]
     },
     "execution_count": 33,
     "metadata": {},
     "output_type": "execute_result"
    }
   ],
   "source": [
    "a[-5 : 8]"
   ]
  },
  {
   "cell_type": "code",
   "execution_count": 91,
   "id": "37a2524d",
   "metadata": {},
   "outputs": [],
   "source": [
    "names=[]\n",
    "places=[]"
   ]
  },
  {
   "cell_type": "code",
   "execution_count": 97,
   "id": "2aa9aa33",
   "metadata": {},
   "outputs": [],
   "source": [
    "name = input(\"Enter name : \")\n",
    "place = input(\"Enter place : \")\n",
    "\n",
    "names.append(name)\n",
    "places.append(place)"
   ]
  },
  {
   "cell_type": "code",
   "execution_count": 98,
   "id": "ac6a3bf3",
   "metadata": {},
   "outputs": [
    {
     "name": "stdout",
     "output_type": "stream",
     "text": [
      "['riyan', 'nikhil', 'monal', 'vinay', 'ashar']\n",
      "['pune', 'firozavad', 'india', 'bengaluru', 'saudi arabia']\n"
     ]
    }
   ],
   "source": [
    "print(names)\n",
    "print(places)"
   ]
  },
  {
   "cell_type": "code",
   "execution_count": null,
   "id": "d6c1e9a0",
   "metadata": {},
   "outputs": [
    {
     "name": "stdout",
     "output_type": "stream",
     "text": [
      "monal\n",
      "india\n"
     ]
    }
   ],
   "source": [
    "i = int(input(\"Enter the user id to the patient info : \"))\n",
    "print(names[i])\n",
    "print(places[i])"
   ]
  },
  {
   "cell_type": "code",
   "execution_count": null,
   "id": "93353c1a",
   "metadata": {},
   "outputs": [
    {
     "ename": "TypeError",
     "evalue": "list indices must be integers or slices, not str",
     "output_type": "error",
     "traceback": [
      "\u001b[31m---------------------------------------------------------------------------\u001b[39m",
      "\u001b[31mTypeError\u001b[39m                                 Traceback (most recent call last)",
      "\u001b[36mCell\u001b[39m\u001b[36m \u001b[39m\u001b[32mIn[101]\u001b[39m\u001b[32m, line 1\u001b[39m\n\u001b[32m----> \u001b[39m\u001b[32m1\u001b[39m \u001b[43mnames\u001b[49m\u001b[43m[\u001b[49m\u001b[33;43m'\u001b[39;49m\u001b[33;43m0\u001b[39;49m\u001b[33;43m'\u001b[39;49m\u001b[43m]\u001b[49m\n",
      "\u001b[31mTypeError\u001b[39m: list indices must be integers or slices, not str"
     ]
    }
   ],
   "source": [
    "names['0']"
   ]
  },
  {
   "cell_type": "code",
   "execution_count": 5,
   "id": "f42fd1a7",
   "metadata": {},
   "outputs": [],
   "source": [
    "a = []"
   ]
  },
  {
   "cell_type": "code",
   "execution_count": 6,
   "id": "e78d4d6a",
   "metadata": {},
   "outputs": [],
   "source": [
    "val = 1"
   ]
  },
  {
   "cell_type": "code",
   "execution_count": 7,
   "id": "ba413ba3",
   "metadata": {},
   "outputs": [],
   "source": [
    "a.append(val)"
   ]
  },
  {
   "cell_type": "code",
   "execution_count": 8,
   "id": "854b594d",
   "metadata": {},
   "outputs": [
    {
     "name": "stdout",
     "output_type": "stream",
     "text": [
      "[1]\n"
     ]
    }
   ],
   "source": [
    "print(a)"
   ]
  },
  {
   "cell_type": "code",
   "execution_count": 11,
   "id": "34b4d3af",
   "metadata": {},
   "outputs": [],
   "source": [
    "a.append([1,2])"
   ]
  },
  {
   "cell_type": "code",
   "execution_count": 12,
   "id": "3c8f28a1",
   "metadata": {},
   "outputs": [
    {
     "name": "stdout",
     "output_type": "stream",
     "text": [
      "[1, [1, 2]]\n"
     ]
    }
   ],
   "source": [
    "print(a)"
   ]
  },
  {
   "cell_type": "code",
   "execution_count": 13,
   "id": "18a31004",
   "metadata": {},
   "outputs": [
    {
     "data": {
      "text/plain": [
       "2"
      ]
     },
     "execution_count": 13,
     "metadata": {},
     "output_type": "execute_result"
    }
   ],
   "source": [
    "len(a)"
   ]
  },
  {
   "cell_type": "code",
   "execution_count": 16,
   "id": "82d48977",
   "metadata": {},
   "outputs": [
    {
     "data": {
      "text/plain": [
       "[1, 2]"
      ]
     },
     "execution_count": 16,
     "metadata": {},
     "output_type": "execute_result"
    }
   ],
   "source": [
    "a[1]\n",
    "# a[1] ---> [1,2]"
   ]
  },
  {
   "cell_type": "code",
   "execution_count": 17,
   "id": "ae68f049",
   "metadata": {},
   "outputs": [
    {
     "data": {
      "text/plain": [
       "2"
      ]
     },
     "execution_count": 17,
     "metadata": {},
     "output_type": "execute_result"
    }
   ],
   "source": [
    "a[1][1]"
   ]
  },
  {
   "cell_type": "code",
   "execution_count": 18,
   "id": "d8021b56",
   "metadata": {},
   "outputs": [
    {
     "data": {
      "text/plain": [
       "2"
      ]
     },
     "execution_count": 18,
     "metadata": {},
     "output_type": "execute_result"
    }
   ],
   "source": [
    "a = [1,2]\n",
    "len(a)"
   ]
  },
  {
   "cell_type": "code",
   "execution_count": 19,
   "id": "7ec53a69",
   "metadata": {},
   "outputs": [
    {
     "data": {
      "text/plain": [
       "3"
      ]
     },
     "execution_count": 19,
     "metadata": {},
     "output_type": "execute_result"
    }
   ],
   "source": [
    "a = [1,2,[1,2]]\n",
    "len(a)"
   ]
  },
  {
   "cell_type": "code",
   "execution_count": 20,
   "id": "a365ca3e",
   "metadata": {},
   "outputs": [
    {
     "data": {
      "text/plain": [
       "1"
      ]
     },
     "execution_count": 20,
     "metadata": {},
     "output_type": "execute_result"
    }
   ],
   "source": [
    "a = [[1,2]]\n",
    "len(a)"
   ]
  },
  {
   "cell_type": "code",
   "execution_count": 21,
   "id": "ac5ef4e6",
   "metadata": {},
   "outputs": [],
   "source": [
    "a = [[0,[0,1,2]]]"
   ]
  },
  {
   "cell_type": "code",
   "execution_count": 22,
   "id": "435d1fae",
   "metadata": {},
   "outputs": [
    {
     "data": {
      "text/plain": [
       "[0, [0, 1, 2]]"
      ]
     },
     "execution_count": 22,
     "metadata": {},
     "output_type": "execute_result"
    }
   ],
   "source": [
    "a[0]"
   ]
  },
  {
   "cell_type": "code",
   "execution_count": 23,
   "id": "e20e20e0",
   "metadata": {},
   "outputs": [
    {
     "data": {
      "text/plain": [
       "[0, 1, 2]"
      ]
     },
     "execution_count": 23,
     "metadata": {},
     "output_type": "execute_result"
    }
   ],
   "source": [
    "a[0][1]"
   ]
  },
  {
   "cell_type": "code",
   "execution_count": 24,
   "id": "8cc42b74",
   "metadata": {},
   "outputs": [
    {
     "data": {
      "text/plain": [
       "2"
      ]
     },
     "execution_count": 24,
     "metadata": {},
     "output_type": "execute_result"
    }
   ],
   "source": [
    "a[0][1][2]"
   ]
  },
  {
   "cell_type": "code",
   "execution_count": 26,
   "id": "700b7383",
   "metadata": {},
   "outputs": [],
   "source": [
    "a = [[0,[0,1,2]], \"abc\"]"
   ]
  },
  {
   "cell_type": "code",
   "execution_count": 27,
   "id": "d086f144",
   "metadata": {},
   "outputs": [],
   "source": [
    "a = [1,2]"
   ]
  },
  {
   "cell_type": "code",
   "execution_count": 127,
   "id": "4cc5395f",
   "metadata": {},
   "outputs": [
    {
     "name": "stdout",
     "output_type": "stream",
     "text": [
      "<class 'int'>\n"
     ]
    }
   ],
   "source": [
    "a = int(input(\"enter details\"))\n",
    "print(type(a))"
   ]
  },
  {
   "cell_type": "code",
   "execution_count": 132,
   "id": "a9712cb9",
   "metadata": {},
   "outputs": [
    {
     "name": "stdout",
     "output_type": "stream",
     "text": [
      "<class 'list'>\n"
     ]
    }
   ],
   "source": [
    "a = list(input(\"enter details\"))\n",
    "print(type(a))"
   ]
  },
  {
   "cell_type": "code",
   "execution_count": 133,
   "id": "86b29c0e",
   "metadata": {},
   "outputs": [
    {
     "name": "stdout",
     "output_type": "stream",
     "text": [
      "['[', '1', ',', '2', ',', '3', ']']\n"
     ]
    }
   ],
   "source": [
    "print(a)"
   ]
  },
  {
   "cell_type": "markdown",
   "id": "6ead11b9",
   "metadata": {},
   "source": [
    "#### Asssignment\n",
    "\n",
    "1. Create a single variable called patient _details:\n",
    "2. Take a list as input & store patient info: name,\n",
    "place, email, age.\n",
    "3. When asked for a patient's details, use the patient ID to get the name and age only.\n",
    "\n",
    "\n",
    "Hint* - This requires a new code / function that we have not learned yet. You are free to use any resources available to you to solve the problem."
   ]
  },
  {
   "cell_type": "code",
   "execution_count": null,
   "id": "fb9f4208",
   "metadata": {},
   "outputs": [
    {
     "name": "stdout",
     "output_type": "stream",
     "text": [
      " Patient's Name : Hinan\n",
      " Patient's Age: 26\n"
     ]
    }
   ],
   "source": [
    "patient_details = [[\"Wasam\",\"USA\",\"w@gmail.com\",\"26\"],[\"Ali\",\"ISB\",\"@gmail.com\",\"29\"],[\"Qaasim\",\"Vernon\",\"@gmail.com\",\"20\"],[\"Usman\",\"CT\",\"@gmail.com\",\"17\"],[\"Fakher\",\"Lahore\",\"@gmail.com\",\"29\"],[\"Usama\",\"ISB\",\"@gmail.com\",\"26\"],[\"Umer\",\"UK\",\"@gmail.com\",\"29\"]]\n",
    "\n",
    "\n",
    "patient_info = input(\"Enter patient info name, place, email, age :   \"). split(\",\")\n",
    "\n",
    "patient_details.append(patient_info)\n",
    "\n",
    "patient_id  = int(input(\"Enter patient id to get the detail of patient: \"))\n",
    "\n",
    "print( f\" Patient's Name : {patient_details[patient_id][0]}\")\n",
    "print( f\" Patient's Age: {patient_details[patient_id][3]}\")\n",
    "\n",
    "\n",
    "# INPUT\n",
    "# Hinan,ISB,@gmail.com,26\n",
    "\n",
    "\n",
    "\n"
   ]
  },
  {
   "cell_type": "markdown",
   "id": "ea105b07",
   "metadata": {},
   "source": [
    "#### Solution by sir"
   ]
  },
  {
   "cell_type": "code",
   "execution_count": null,
   "id": "1d2782fb",
   "metadata": {},
   "outputs": [
    {
     "name": "stdout",
     "output_type": "stream",
     "text": [
      " Patient's Name : Hinan\n",
      " Patient's Age: 26\n"
     ]
    }
   ],
   "source": [
    "import ast\n",
    "\n",
    "\n",
    "patient_details = [[\"Wasam\",\"USA\",\"w@gmail.com\",\"26\"],[\"Ali\",\"ISB\",\"@gmail.com\",\"29\"],[\"Qaasim\",\"Vernon\",\"@gmail.com\",\"20\"],[\"Usman\",\"CT\",\"@gmail.com\",\"17\"],[\"Fakher\",\"Lahore\",\"@gmail.com\",\"29\"],[\"Usama\",\"ISB\",\"@gmail.com\",\"26\"],[\"Umer\",\"UK\",\"@gmail.com\",\"29\"]]\n",
    "\n",
    "\n",
    "patient_info = input(\"Enter patient info name, place, email, age :   \")\n",
    "\n",
    "patient_info = ast.literal_eval(patient_info)\n",
    "\n",
    "#  The main task of literal_eval is whatever is in the double quotes  it will convert to its original datatypes  \n",
    "\n",
    "patient_details.append(patient_info)\n",
    "\n",
    "patient_id  = int(input(\"Enter patient id to get the detail of patient: \"))\n",
    "\n",
    "print( f\" Patient's Name : {patient_details[patient_id][0]}\")\n",
    "print( f\" Patient's Age: {patient_details[patient_id][3]}\")\n",
    "\n",
    "\n",
    "\n",
    "# Input =>> \"[\"Hinan\",\"ISB\",\"@gmail.com\",\"26\"] \""
   ]
  },
  {
   "cell_type": "code",
   "execution_count": null,
   "id": "b1f800e8",
   "metadata": {},
   "outputs": [],
   "source": []
  }
 ],
 "metadata": {
  "kernelspec": {
   "display_name": "Python 3",
   "language": "python",
   "name": "python3"
  },
  "language_info": {
   "codemirror_mode": {
    "name": "ipython",
    "version": 3
   },
   "file_extension": ".py",
   "mimetype": "text/x-python",
   "name": "python",
   "nbconvert_exporter": "python",
   "pygments_lexer": "ipython3",
   "version": "3.12.0"
  }
 },
 "nbformat": 4,
 "nbformat_minor": 5
}
