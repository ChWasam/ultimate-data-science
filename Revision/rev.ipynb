{
 "cells": [
  {
   "cell_type": "code",
   "execution_count": null,
   "id": "6151031d",
   "metadata": {},
   "outputs": [],
   "source": [
    "first_name=\"Krish\"\n",
    "# \"Krish\" stored in some memory location and first_name refering to that memory location \n",
    "\n",
    "\n",
    "# wasam = 3 means that wasam refers to a certain memory location where 3 is stored \n",
    "\n",
    "#  3 is not store in wasam. wasam only holds the address where 3 is stored"
   ]
  },
  {
   "cell_type": "code",
   "execution_count": 3,
   "id": "1c1ced59",
   "metadata": {},
   "outputs": [
    {
     "data": {
      "text/plain": [
       "6"
      ]
     },
     "execution_count": 3,
     "metadata": {},
     "output_type": "execute_result"
    }
   ],
   "source": [
    "height = 6.3\n",
    "## Float into integer \n",
    "## Type conversion \n",
    "## Type Casting\n",
    "\n",
    "int(height)"
   ]
  },
  {
   "cell_type": "code",
   "execution_count": 5,
   "id": "22ba6820",
   "metadata": {},
   "outputs": [
    {
     "name": "stdout",
     "output_type": "stream",
     "text": [
      "1\n",
      "2\n",
      "3\n",
      "4\n",
      "5\n",
      "6\n"
     ]
    },
    {
     "ename": "KeyboardInterrupt",
     "evalue": "",
     "output_type": "error",
     "traceback": [
      "\u001b[31m---------------------------------------------------------------------------\u001b[39m",
      "\u001b[31mKeyboardInterrupt\u001b[39m                         Traceback (most recent call last)",
      "\u001b[36mCell\u001b[39m\u001b[36m \u001b[39m\u001b[32mIn[5]\u001b[39m\u001b[32m, line 11\u001b[39m\n\u001b[32m      8\u001b[39m     t+=\u001b[32m1\u001b[39m\n\u001b[32m     10\u001b[39m \u001b[38;5;28;01mwhile\u001b[39;00m \u001b[38;5;28;01mTrue\u001b[39;00m:\n\u001b[32m---> \u001b[39m\u001b[32m11\u001b[39m     \u001b[43mcounter\u001b[49m\u001b[43m \u001b[49m\u001b[43m(\u001b[49m\u001b[43m)\u001b[49m    \n",
      "\u001b[36mCell\u001b[39m\u001b[36m \u001b[39m\u001b[32mIn[5]\u001b[39m\u001b[32m, line 6\u001b[39m, in \u001b[36mcounter\u001b[39m\u001b[34m()\u001b[39m\n\u001b[32m      4\u001b[39m \u001b[38;5;28;01mdef\u001b[39;00m\u001b[38;5;250m \u001b[39m\u001b[34mcounter\u001b[39m ():\n\u001b[32m      5\u001b[39m     \u001b[38;5;28;01mglobal\u001b[39;00m t\n\u001b[32m----> \u001b[39m\u001b[32m6\u001b[39m     \u001b[43mtime\u001b[49m\u001b[43m.\u001b[49m\u001b[43msleep\u001b[49m\u001b[43m(\u001b[49m\u001b[32;43m1\u001b[39;49m\u001b[43m)\u001b[49m\n\u001b[32m      7\u001b[39m     \u001b[38;5;28mprint\u001b[39m(t)\n\u001b[32m      8\u001b[39m     t+=\u001b[32m1\u001b[39m\n",
      "\u001b[31mKeyboardInterrupt\u001b[39m: "
     ]
    }
   ],
   "source": [
    "# Time counter \n",
    "import time\n",
    "t=1\n",
    "def counter ():\n",
    "    global t\n",
    "    time.sleep(1)\n",
    "    print(t)\n",
    "    t+=1\n",
    "\n",
    "while True:\n",
    "    counter ()    \n",
    "        "
   ]
  },
  {
   "cell_type": "code",
   "execution_count": 7,
   "id": "358d8c37",
   "metadata": {},
   "outputs": [
    {
     "data": {
      "text/plain": [
       "2.0"
      ]
     },
     "execution_count": 7,
     "metadata": {},
     "output_type": "execute_result"
    }
   ],
   "source": [
    "# divide  will always give us float \n",
    "\n",
    "1/1\n",
    "3/1\n",
    "4/2"
   ]
  },
  {
   "cell_type": "code",
   "execution_count": 8,
   "id": "005cce36",
   "metadata": {},
   "outputs": [
    {
     "data": {
      "text/plain": [
       "1"
      ]
     },
     "execution_count": 8,
     "metadata": {},
     "output_type": "execute_result"
    }
   ],
   "source": [
    "# Flour decimal //\n",
    "\n",
    "3//2"
   ]
  },
  {
   "cell_type": "code",
   "execution_count": 9,
   "id": "384a3f25",
   "metadata": {},
   "outputs": [
    {
     "name": "stdout",
     "output_type": "stream",
     "text": [
      "<class 'tuple'>\n"
     ]
    },
    {
     "data": {
      "text/plain": [
       "'0x10b0be160'"
      ]
     },
     "execution_count": 9,
     "metadata": {},
     "output_type": "execute_result"
    }
   ],
   "source": [
    "#  Tuple provide security so that other cannot change the data \n",
    "#  Here we are not changing the value  we are just reassigning it \n",
    "# If you want other to change the data use list otherwise use tuples\n",
    "\n",
    "a = (\"bio\", \"name\", \"id\", [1,2], \"hello\")\n",
    "print(type(a))\n",
    "hex(id(a))"
   ]
  },
  {
   "cell_type": "code",
   "execution_count": 11,
   "id": "c86e9f98",
   "metadata": {},
   "outputs": [
    {
     "data": {
      "text/plain": [
       "'bio'"
      ]
     },
     "execution_count": 11,
     "metadata": {},
     "output_type": "execute_result"
    }
   ],
   "source": [
    "a[0]"
   ]
  },
  {
   "cell_type": "code",
   "execution_count": 12,
   "id": "0cecc2ae",
   "metadata": {},
   "outputs": [
    {
     "ename": "TypeError",
     "evalue": "'tuple' object does not support item assignment",
     "output_type": "error",
     "traceback": [
      "\u001b[31m---------------------------------------------------------------------------\u001b[39m",
      "\u001b[31mTypeError\u001b[39m                                 Traceback (most recent call last)",
      "\u001b[36mCell\u001b[39m\u001b[36m \u001b[39m\u001b[32mIn[12]\u001b[39m\u001b[32m, line 1\u001b[39m\n\u001b[32m----> \u001b[39m\u001b[32m1\u001b[39m \u001b[43ma\u001b[49m\u001b[43m[\u001b[49m\u001b[32;43m0\u001b[39;49m\u001b[43m]\u001b[49m = \u001b[33m\"\u001b[39m\u001b[33mwas\u001b[39m\u001b[33m\"\u001b[39m\n",
      "\u001b[31mTypeError\u001b[39m: 'tuple' object does not support item assignment"
     ]
    }
   ],
   "source": [
    "a[0] = \"was\""
   ]
  },
  {
   "cell_type": "code",
   "execution_count": null,
   "id": "099a6b3d",
   "metadata": {},
   "outputs": [
    {
     "name": "stdout",
     "output_type": "stream",
     "text": [
      "{0, 1, 2, 3, 'add', 5, 6}\n"
     ]
    }
   ],
   "source": [
    "# Un-Ordered (Sets)\n",
    "# Unorder means when we will run the code it will not maintain the original order \n",
    "# unordered collection of unique, mutable elements\n",
    "# elements not repeated \n",
    "a = {2,1,3,5,6,2,2,2,2, \"add\"}\n",
    "a.add(0)\n",
    "print(a)"
   ]
  },
  {
   "cell_type": "code",
   "execution_count": 15,
   "id": "54512750",
   "metadata": {},
   "outputs": [
    {
     "ename": "TypeError",
     "evalue": "unhashable type: 'set'",
     "output_type": "error",
     "traceback": [
      "\u001b[31m---------------------------------------------------------------------------\u001b[39m",
      "\u001b[31mTypeError\u001b[39m                                 Traceback (most recent call last)",
      "\u001b[36mCell\u001b[39m\u001b[36m \u001b[39m\u001b[32mIn[15]\u001b[39m\u001b[32m, line 1\u001b[39m\n\u001b[32m----> \u001b[39m\u001b[32m1\u001b[39m {\u001b[33m\"\u001b[39m\u001b[33mWasam\u001b[39m\u001b[33m\"\u001b[39m,{\u001b[32m1\u001b[39m,\u001b[32m0\u001b[39m,-\u001b[32m1\u001b[39m}}\n",
      "\u001b[31mTypeError\u001b[39m: unhashable type: 'set'"
     ]
    }
   ],
   "source": [
    "{\"Wasam\",{1,0,-1}}"
   ]
  },
  {
   "cell_type": "code",
   "execution_count": 16,
   "id": "e0b55772",
   "metadata": {},
   "outputs": [
    {
     "ename": "SyntaxError",
     "evalue": "leading zeros in decimal integer literals are not permitted; use an 0o prefix for octal integers (2827472298.py, line 1)",
     "output_type": "error",
     "traceback": [
      "  \u001b[36mCell\u001b[39m\u001b[36m \u001b[39m\u001b[32mIn[16]\u001b[39m\u001b[32m, line 1\u001b[39m\n\u001b[31m    \u001b[39m\u001b[31ma = 001\u001b[39m\n        ^\n\u001b[31mSyntaxError\u001b[39m\u001b[31m:\u001b[39m leading zeros in decimal integer literals are not permitted; use an 0o prefix for octal integers\n"
     ]
    }
   ],
   "source": [
    "a = 001\n",
    "#  001 is not a number "
   ]
  },
  {
   "cell_type": "code",
   "execution_count": 17,
   "id": "8b3ad05e",
   "metadata": {},
   "outputs": [],
   "source": [
    "fruits = [\"apples\", \"oranges\", \"grapes\"]"
   ]
  },
  {
   "cell_type": "code",
   "execution_count": 18,
   "id": "6819c487",
   "metadata": {},
   "outputs": [],
   "source": [
    "iterable = iter(fruits)\n"
   ]
  },
  {
   "cell_type": "code",
   "execution_count": 19,
   "id": "c4aa9e39",
   "metadata": {},
   "outputs": [
    {
     "name": "stdout",
     "output_type": "stream",
     "text": [
      "apples\n"
     ]
    }
   ],
   "source": [
    "print(next(iterable))"
   ]
  },
  {
   "cell_type": "code",
   "execution_count": 20,
   "id": "22c1ce26",
   "metadata": {},
   "outputs": [
    {
     "name": "stdout",
     "output_type": "stream",
     "text": [
      "oranges\n"
     ]
    }
   ],
   "source": [
    "print(next(iterable))"
   ]
  },
  {
   "cell_type": "code",
   "execution_count": null,
   "id": "5c19ce1d",
   "metadata": {},
   "outputs": [
    {
     "name": "stdout",
     "output_type": "stream",
     "text": [
      "grapes\n"
     ]
    }
   ],
   "source": [
    "print(next(iterable))\n",
    "# Getting each element one by one is called traversing\n",
    "# For loop internally create iter , next next next......\n"
   ]
  },
  {
   "cell_type": "code",
   "execution_count": 22,
   "id": "3698e6b7",
   "metadata": {},
   "outputs": [
    {
     "ename": "StopIteration",
     "evalue": "",
     "output_type": "error",
     "traceback": [
      "\u001b[31m---------------------------------------------------------------------------\u001b[39m",
      "\u001b[31mStopIteration\u001b[39m                             Traceback (most recent call last)",
      "\u001b[36mCell\u001b[39m\u001b[36m \u001b[39m\u001b[32mIn[22]\u001b[39m\u001b[32m, line 1\u001b[39m\n\u001b[32m----> \u001b[39m\u001b[32m1\u001b[39m \u001b[38;5;28mprint\u001b[39m(\u001b[38;5;28;43mnext\u001b[39;49m\u001b[43m(\u001b[49m\u001b[43miterable\u001b[49m\u001b[43m)\u001b[49m)\n",
      "\u001b[31mStopIteration\u001b[39m: "
     ]
    }
   ],
   "source": [
    "print(next(iterable))"
   ]
  },
  {
   "cell_type": "code",
   "execution_count": 26,
   "id": "76447620",
   "metadata": {},
   "outputs": [
    {
     "name": "stdout",
     "output_type": "stream",
     "text": [
      "1\n",
      "2\n",
      "3\n",
      "4\n",
      "5\n",
      "6\n",
      "7\n",
      "8\n",
      "9\n",
      "10\n",
      "11\n",
      "12\n",
      "13\n",
      "14\n",
      "15\n"
     ]
    }
   ],
   "source": [
    "for i in 1,2,3,4,5,6,7,8,9,10,11,12,13,14,15:\n",
    "    print(i)"
   ]
  },
  {
   "cell_type": "code",
   "execution_count": 28,
   "id": "68de05af",
   "metadata": {},
   "outputs": [
    {
     "name": "stdout",
     "output_type": "stream",
     "text": [
      "0\n",
      "1\n",
      "2\n",
      "3\n",
      "4\n",
      "5\n",
      "6\n",
      "7\n",
      "8\n",
      "9\n"
     ]
    }
   ],
   "source": [
    "for element in range(0,10):\n",
    "    print(element)"
   ]
  },
  {
   "cell_type": "code",
   "execution_count": 27,
   "id": "03b50fc5",
   "metadata": {},
   "outputs": [
    {
     "name": "stdout",
     "output_type": "stream",
     "text": [
      "0\n",
      "1\n",
      "2\n",
      "3\n",
      "4\n",
      "5\n",
      "6\n",
      "7\n",
      "8\n",
      "9\n"
     ]
    }
   ],
   "source": [
    "for element in range(10):\n",
    "    print(element)\n",
    "\n",
    "# 0 is start bydefault\n",
    "# 1 is step is size by default"
   ]
  },
  {
   "cell_type": "code",
   "execution_count": 29,
   "id": "30503968",
   "metadata": {},
   "outputs": [
    {
     "name": "stdout",
     "output_type": "stream",
     "text": [
      "10\n",
      "9\n",
      "8\n",
      "7\n",
      "6\n",
      "5\n",
      "4\n",
      "3\n",
      "2\n",
      "1\n"
     ]
    }
   ],
   "source": [
    "for i in range(10,0,-1):\n",
    "    print(i)"
   ]
  },
  {
   "cell_type": "code",
   "execution_count": 30,
   "id": "902f6eca",
   "metadata": {},
   "outputs": [
    {
     "name": "stdout",
     "output_type": "stream",
     "text": [
      "Student id :  1\n",
      "Student id :  2\n",
      "Student id :  3\n",
      "Student id :  4\n",
      "Student id :  5\n",
      "Student id :  7\n",
      "Student id :  8\n",
      "Student id :  9\n",
      "Student id :  10\n"
     ]
    }
   ],
   "source": [
    "# problem statments\n",
    "# there is a defaulter which we don't want to include for the attendance\n",
    "# continue always work inside a loop \n",
    "# continue will skip the current execution of the loop and move to the next iteration\n",
    "#  Continue basically changes the flow of the for loop \n",
    "\n",
    "student_id = 6\n",
    "\n",
    "for i in range(1, 11):\n",
    "    if i == student_id:\n",
    "        continue\n",
    "    print(\"Student id : \", i)"
   ]
  },
  {
   "cell_type": "code",
   "execution_count": 31,
   "id": "17a23b5d",
   "metadata": {},
   "outputs": [
    {
     "name": "stdout",
     "output_type": "stream",
     "text": [
      "Student id :  2\n",
      "Student id :  3\n",
      "Student id :  4\n",
      "Student id :  5\n",
      "Student id :  9\n",
      "Student id :  10\n"
     ]
    }
   ],
   "source": [
    "student_ids = [1,6,7,8]\n",
    "\n",
    "for i in range(1, 11):\n",
    "    if i in student_ids:\n",
    "        continue\n",
    "    print(\"Student id : \", i)"
   ]
  },
  {
   "cell_type": "code",
   "execution_count": 32,
   "id": "ef6798e5",
   "metadata": {},
   "outputs": [
    {
     "name": "stdout",
     "output_type": "stream",
     "text": [
      "Student id :  1\n",
      "Student id :  2\n",
      "Student id :  3\n",
      "hello\n"
     ]
    }
   ],
   "source": [
    "student_id = 4\n",
    "\n",
    "for i in range(1, 11):\n",
    "    if i == student_id:\n",
    "        break\n",
    "    print(\"Student id : \", i)\n",
    "print(\"hello\")"
   ]
  },
  {
   "cell_type": "code",
   "execution_count": null,
   "id": "834c4c99",
   "metadata": {},
   "outputs": [],
   "source": [
    "#  Example\n",
    "\n",
    "id = 1\n",
    "patient_info = {}\n",
    "\n",
    "def calculate_bmi(weight_kg, height_cm):\n",
    "    bmi = weight_kg / ((height_cm/100)**2)\n",
    "    return bmi\n",
    "\n",
    "\n",
    "def patient_admission(f_name, l_name, date_ddmmyy, weight_kg, height_cm, country_lower_case):\n",
    "    global id\n",
    "    global patient_info\n",
    "\n",
    "    patient_info[id] = {}\n",
    "\n",
    "    patient_info[id][\"f_name\"] = f_name\n",
    "    patient_info[id][\"l_name\"] = l_name\n",
    "    patient_info[id][\"date_ddmmyy\"] = date_ddmmyy\n",
    "    patient_info[id][\"weight_kg\"] = weight_kg\n",
    "    patient_info[id][\"height_cm\"] = height_cm\n",
    "    patient_info[id][\"country\"] = country_lower_case\n",
    "    patient_info[id][\"temp_ind\"] = None\n",
    "    patient_info[id][\"temp_others\"] = None\n",
    "    patient_info[id][\"bmi\"] = calculate_bmi(weight_kg, height_cm)\n",
    "\n",
    "# Every variable is initialized => that is a good way to write a code \n",
    "\n",
    "    if country_lower_case == \"india\":\n",
    "        patient_info[id][\"temp_ind\"] = float(input(\"Enter patient temperature in celcius : \"))\n",
    "    else :\n",
    "        patient_info[id][\"temp_others\"] = float(input(\"Enter patient temperature in fahrenheit: \"))\n",
    "\n",
    "    # increament the id\n",
    "    id+=1"
   ]
  },
  {
   "cell_type": "markdown",
   "id": "4f8e0549",
   "metadata": {},
   "source": [
    "## # If you want more detail look for folder 9 \n",
    "\n",
    "* contains details about try,except,else, finally, raise \n",
    "* 9-2 and 9-3 shows how to close the application \n"
   ]
  },
  {
   "cell_type": "code",
   "execution_count": null,
   "id": "0e71086d",
   "metadata": {},
   "outputs": [],
   "source": [
    "# If you want more detail look for folder 9 \n",
    "\n",
    "\n",
    "# try:\n",
    "    # Code that might raise an error\n",
    "# except SomeError:\n",
    "    # Handle the error\n",
    "# else:\n",
    "    # Run if no error happens\n",
    "# finally:\n",
    "    # Always runs — for cleanup\n",
    "\n",
    "\n",
    "\n",
    "# 🧠 Use with to manage resources cleanly.\n",
    "# 🧼 Use else for success logic.\n",
    "# 🧯 Use finally for cleanup.\n"
   ]
  },
  {
   "cell_type": "code",
   "execution_count": 33,
   "id": "840b6fbf",
   "metadata": {},
   "outputs": [
    {
     "name": "stdout",
     "output_type": "stream",
     "text": [
      "Error: Temperature below absolute zero!\n"
     ]
    }
   ],
   "source": [
    "#  Raise \n",
    "\n",
    "# ✅ Why do professionals use raise?\n",
    "# Because:\n",
    "\n",
    "# You catch bad inputs early\n",
    "\n",
    "# You create clear error messages\n",
    "\n",
    "# You avoid weird bugs later\n",
    "\n",
    "\n",
    "def process_temperature(temp):\n",
    "    if temp < -273.15:\n",
    "        raise ValueError(\"Temperature below absolute zero!\")\n",
    "    print(f\"Processing {temp}°C\")\n",
    "\n",
    "try:\n",
    "    process_temperature(-500)\n",
    "except ValueError as e:\n",
    "    print(\"Error:\", e)\n",
    "    \n",
    "\n"
   ]
  },
  {
   "cell_type": "code",
   "execution_count": null,
   "id": "c24c58df",
   "metadata": {},
   "outputs": [],
   "source": []
  }
 ],
 "metadata": {
  "kernelspec": {
   "display_name": "Python 3",
   "language": "python",
   "name": "python3"
  },
  "language_info": {
   "codemirror_mode": {
    "name": "ipython",
    "version": 3
   },
   "file_extension": ".py",
   "mimetype": "text/x-python",
   "name": "python",
   "nbconvert_exporter": "python",
   "pygments_lexer": "ipython3",
   "version": "3.12.0"
  }
 },
 "nbformat": 4,
 "nbformat_minor": 5
}
