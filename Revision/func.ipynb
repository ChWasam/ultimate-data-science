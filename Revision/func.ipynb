{
 "cells": [
  {
   "cell_type": "code",
   "execution_count": 1,
   "id": "871523fa",
   "metadata": {},
   "outputs": [
    {
     "name": "stdout",
     "output_type": "stream",
     "text": [
      "wasam\n"
     ]
    }
   ],
   "source": [
    "name = \"wasam      \"\n",
    "name = name.rstrip()\n",
    "print(name)"
   ]
  },
  {
   "cell_type": "code",
   "execution_count": 2,
   "id": "6d3bcf85",
   "metadata": {},
   "outputs": [
    {
     "name": "stdout",
     "output_type": "stream",
     "text": [
      "wasam      \n"
     ]
    }
   ],
   "source": [
    "name = \"       wasam      \"\n",
    "name = name.lstrip()\n",
    "print(name)"
   ]
  },
  {
   "cell_type": "code",
   "execution_count": 3,
   "id": "90bfdbec",
   "metadata": {},
   "outputs": [
    {
     "name": "stdout",
     "output_type": "stream",
     "text": [
      "wasam\n"
     ]
    }
   ],
   "source": [
    "name = \"       wasam      \"\n",
    "name = name.strip()\n",
    "print(name)"
   ]
  },
  {
   "cell_type": "code",
   "execution_count": 4,
   "id": "5a0b6674",
   "metadata": {},
   "outputs": [
    {
     "name": "stdout",
     "output_type": "stream",
     "text": [
      "['abc']\n"
     ]
    }
   ],
   "source": [
    "names = []\n",
    "names.append('abc')\n",
    "print(names)"
   ]
  },
  {
   "cell_type": "code",
   "execution_count": 5,
   "id": "9aea62c0",
   "metadata": {},
   "outputs": [
    {
     "data": {
      "text/plain": [
       "9"
      ]
     },
     "execution_count": 5,
     "metadata": {},
     "output_type": "execute_result"
    }
   ],
   "source": [
    "a = [0,1,3,4, \"monal\", \"ashar\", \"heartine\", \"enjoy\", \"nikhil\"]\n",
    "len(a)"
   ]
  },
  {
   "cell_type": "code",
   "execution_count": 66,
   "id": "7d576789",
   "metadata": {},
   "outputs": [
    {
     "data": {
      "text/plain": [
       "['monal', 'kumar']"
      ]
     },
     "execution_count": 66,
     "metadata": {},
     "output_type": "execute_result"
    }
   ],
   "source": [
    "a = \"monal kumar\"\n",
    "a.split()"
   ]
  },
  {
   "cell_type": "code",
   "execution_count": 67,
   "id": "e32eb730",
   "metadata": {},
   "outputs": [
    {
     "data": {
      "text/plain": [
       "['monal ', 'umar']"
      ]
     },
     "execution_count": 67,
     "metadata": {},
     "output_type": "execute_result"
    }
   ],
   "source": [
    "a.split('k')"
   ]
  },
  {
   "cell_type": "code",
   "execution_count": null,
   "id": "f4831d90",
   "metadata": {},
   "outputs": [],
   "source": [
    "#  From string to list \n",
    "\n",
    "lst = \"Hinan,ISB,@gmail.com,26\".split(\",\")"
   ]
  },
  {
   "cell_type": "code",
   "execution_count": null,
   "id": "7d9a95c9",
   "metadata": {},
   "outputs": [
    {
     "data": {
      "text/plain": [
       "'Hinan , ISB , @gmail.com , 26'"
      ]
     },
     "execution_count": 11,
     "metadata": {},
     "output_type": "execute_result"
    }
   ],
   "source": [
    "#  From list to string \n",
    "\" , \".join(lst)"
   ]
  },
  {
   "cell_type": "code",
   "execution_count": 12,
   "id": "30c6c557",
   "metadata": {},
   "outputs": [
    {
     "name": "stdout",
     "output_type": "stream",
     "text": [
      "[\"wasam\",12]\n",
      "<class 'str'>\n",
      "['wasam', 12]\n",
      "<class 'list'>\n"
     ]
    }
   ],
   "source": [
    "import ast\n",
    "\n",
    "info = input(\"Enter user detail : \")\n",
    "print(info)\n",
    "print(type(info))\n",
    "info = ast.literal_eval(info)\n",
    "#  The main task of literal_eval is whatever is in the double quotes  it will convert to its original datatypes\n",
    "print(info)\n",
    "print(type(info))"
   ]
  },
  {
   "cell_type": "code",
   "execution_count": 13,
   "id": "dba559a4",
   "metadata": {},
   "outputs": [
    {
     "name": "stdout",
     "output_type": "stream",
     "text": [
      "4315073720\n",
      "0x10132ccb8\n"
     ]
    }
   ],
   "source": [
    "a = 3\n",
    "print(id(a))\n",
    "# Id will give you id and hex will give you the address \n",
    "print(hex(id(a)))\n"
   ]
  },
  {
   "cell_type": "code",
   "execution_count": 14,
   "id": "cec1cd99",
   "metadata": {},
   "outputs": [
    {
     "name": "stdout",
     "output_type": "stream",
     "text": [
      "[0, 1, 2, 3, 33, 453, 'add', 445455]\n"
     ]
    }
   ],
   "source": [
    "# This code will remove duplicate from list using set\n",
    "#  Sets cannot have list in them \n",
    "a = [1,2,3,445455,33,33,33,453,0,0,0,0, \"add\"]\n",
    "\n",
    "# method 1\n",
    "a = set(a)\n",
    "a = list(a)\n",
    "\n",
    "# method 2\n",
    "a = list(set(a))\n",
    "\n",
    "print(a)"
   ]
  },
  {
   "cell_type": "code",
   "execution_count": 15,
   "id": "2e71f240",
   "metadata": {},
   "outputs": [
    {
     "name": "stdout",
     "output_type": "stream",
     "text": [
      "4472589568\n",
      "[1, 2, 3, ['hello', 'hi']]\n",
      "4472589568\n"
     ]
    }
   ],
   "source": [
    "# wrong\n",
    "a = [1,2,3]\n",
    "print(id(a))\n",
    "b = [\"hello\", \"hi\"]\n",
    "a.append(b)\n",
    "print(a)\n",
    "print(id(a))"
   ]
  },
  {
   "cell_type": "code",
   "execution_count": 16,
   "id": "aca3f6b4",
   "metadata": {},
   "outputs": [
    {
     "name": "stdout",
     "output_type": "stream",
     "text": [
      "4472588416\n",
      "4472588416\n",
      "[1, 2, 3, 'hello', 'hi']\n"
     ]
    }
   ],
   "source": [
    "# Correct\n",
    "\n",
    "a = [1,2,3]\n",
    "b = [\"hello\", \"hi\"]\n",
    "print(id(a))\n",
    "a.extend(b)\n",
    "print(id(a))\n",
    "print(a)"
   ]
  },
  {
   "cell_type": "code",
   "execution_count": 17,
   "id": "f37fd978",
   "metadata": {},
   "outputs": [
    {
     "name": "stdout",
     "output_type": "stream",
     "text": [
      "4472589440\n",
      "[1, 2, 3, 'hello', 'hi']\n",
      "4472398080\n"
     ]
    }
   ],
   "source": [
    "a = [1,2,3]\n",
    "print(id(a))\n",
    "b = [\"hello\", \"hi\"]\n",
    "a = a + b\n",
    "print(a)\n",
    "print(id(a))"
   ]
  },
  {
   "cell_type": "code",
   "execution_count": null,
   "id": "2f8b6092",
   "metadata": {},
   "outputs": [
    {
     "name": "stdout",
     "output_type": "stream",
     "text": [
      "4365860448\n",
      "4365860448\n",
      "{1, 2, 3, 'hi', 'hello'}\n"
     ]
    }
   ],
   "source": [
    "a = {1,2,3}\n",
    "b = {\"hello\", \"hi\"}\n",
    "print(id(a))\n",
    "a.update(b)\n",
    "print(id(a))\n",
    "print(a)"
   ]
  },
  {
   "cell_type": "code",
   "execution_count": 20,
   "id": "8da31067",
   "metadata": {},
   "outputs": [],
   "source": [
    "emp_details = {\n",
    "            \"001\" : [1,2,3],\n",
    "            \"002\" : [4,5,6]\n",
    "}"
   ]
  },
  {
   "cell_type": "code",
   "execution_count": 21,
   "id": "c3ffe2d1",
   "metadata": {},
   "outputs": [
    {
     "data": {
      "text/plain": [
       "dict_keys(['001', '002'])"
      ]
     },
     "execution_count": 21,
     "metadata": {},
     "output_type": "execute_result"
    }
   ],
   "source": [
    "emp_details.keys()"
   ]
  },
  {
   "cell_type": "code",
   "execution_count": 22,
   "id": "5c6b313f",
   "metadata": {},
   "outputs": [
    {
     "data": {
      "text/plain": [
       "dict_keys"
      ]
     },
     "execution_count": 22,
     "metadata": {},
     "output_type": "execute_result"
    }
   ],
   "source": [
    "type(emp_details.keys())"
   ]
  },
  {
   "cell_type": "code",
   "execution_count": 24,
   "id": "2edc0411",
   "metadata": {},
   "outputs": [
    {
     "data": {
      "text/plain": [
       "['001', '002']"
      ]
     },
     "execution_count": 24,
     "metadata": {},
     "output_type": "execute_result"
    }
   ],
   "source": [
    "list(emp_details.keys())"
   ]
  },
  {
   "cell_type": "code",
   "execution_count": 25,
   "id": "6cc94d0e",
   "metadata": {},
   "outputs": [
    {
     "data": {
      "text/plain": [
       "dict_values([[1, 2, 3], [4, 5, 6]])"
      ]
     },
     "execution_count": 25,
     "metadata": {},
     "output_type": "execute_result"
    }
   ],
   "source": [
    "emp_details.values()"
   ]
  },
  {
   "cell_type": "code",
   "execution_count": 26,
   "id": "096c4f72",
   "metadata": {},
   "outputs": [
    {
     "data": {
      "text/plain": [
       "[[1, 2, 3], [4, 5, 6]]"
      ]
     },
     "execution_count": 26,
     "metadata": {},
     "output_type": "execute_result"
    }
   ],
   "source": [
    "list(emp_details.values())"
   ]
  },
  {
   "cell_type": "code",
   "execution_count": 29,
   "id": "ec33d281",
   "metadata": {},
   "outputs": [
    {
     "name": "stdout",
     "output_type": "stream",
     "text": [
      "[1, 2, 3]\n",
      "[4, 5, 6]\n"
     ]
    }
   ],
   "source": [
    "for i in emp_details.keys():\n",
    "    print(emp_details[i])"
   ]
  },
  {
   "cell_type": "code",
   "execution_count": 27,
   "id": "54d1e026",
   "metadata": {},
   "outputs": [
    {
     "name": "stdout",
     "output_type": "stream",
     "text": [
      "0 0\n",
      "1 1\n",
      "2 2\n",
      "3 3\n",
      "4 4\n",
      "5 5\n",
      "6 6\n",
      "7 7\n",
      "8 8\n"
     ]
    }
   ],
   "source": [
    "complete_list = [0,1,2,3,4,5,6,7,8]\n",
    "for i,v in enumerate(complete_list):\n",
    "    print(i,v)"
   ]
  },
  {
   "cell_type": "code",
   "execution_count": 30,
   "id": "cb776c23",
   "metadata": {},
   "outputs": [
    {
     "name": "stdout",
     "output_type": "stream",
     "text": [
      "hello hi 1 2hi\n",
      "hi\n"
     ]
    }
   ],
   "source": [
    "print(\"hello\", \"hi\", 1 , 2, end=\"\")\n",
    "print(\"hi\")\n",
    "print(\"hi\")"
   ]
  },
  {
   "cell_type": "code",
   "execution_count": 31,
   "id": "3341aef4",
   "metadata": {},
   "outputs": [
    {
     "name": "stdout",
     "output_type": "stream",
     "text": [
      "hello\thi\n"
     ]
    }
   ],
   "source": [
    "print(\"hello\", end=\"\\t\")\n",
    "print(\"hi\")"
   ]
  },
  {
   "cell_type": "code",
   "execution_count": 32,
   "id": "4f0246b6",
   "metadata": {},
   "outputs": [],
   "source": [
    "def add_multiple_value(*args):\n",
    "    print(type(args))\n",
    "    sum = 0\n",
    "    for val in args:\n",
    "        sum+=val\n",
    "    print(sum)"
   ]
  },
  {
   "cell_type": "code",
   "execution_count": 33,
   "id": "021d79de",
   "metadata": {},
   "outputs": [
    {
     "name": "stdout",
     "output_type": "stream",
     "text": [
      "<class 'tuple'>\n",
      "15\n"
     ]
    }
   ],
   "source": [
    "add_multiple_value(1,2,3,4,5)"
   ]
  },
  {
   "cell_type": "code",
   "execution_count": 34,
   "id": "e42b788d",
   "metadata": {},
   "outputs": [
    {
     "name": "stdout",
     "output_type": "stream",
     "text": [
      "<class 'dict'>\n",
      "{'a': 2, 'b': 3, 'c': 4, 'd': 5, 'e': 6}\n",
      "9\n",
      "12\n"
     ]
    }
   ],
   "source": [
    "def add(**kwargs):\n",
    "    print(type(kwargs))\n",
    "    print(kwargs)\n",
    "    print(kwargs[\"a\"] +kwargs[\"c\"] +kwargs[\"b\"])\n",
    "    print(kwargs.get(\"c\") + kwargs.get(\"b\") + kwargs.get(\"d\"))\n",
    "\n",
    "add(a=2, b=3, c=4, d=5, e=6)"
   ]
  },
  {
   "cell_type": "code",
   "execution_count": 35,
   "id": "d5bbe9f1",
   "metadata": {},
   "outputs": [
    {
     "name": "stdout",
     "output_type": "stream",
     "text": [
      "<class 'tuple'>\n",
      "<class 'dict'>\n",
      "(1, 2)\n",
      "{'c': 4, 'd': 5, 'e': 6}\n"
     ]
    }
   ],
   "source": [
    "def add(*args, **kwargs):\n",
    "    print(type(args))\n",
    "    print(type(kwargs))\n",
    "    print(args)\n",
    "    print(kwargs)\n",
    "\n",
    "add(1,2, c=4, d=5, e=6)"
   ]
  },
  {
   "cell_type": "code",
   "execution_count": 36,
   "id": "706e542b",
   "metadata": {},
   "outputs": [
    {
     "data": {
      "text/plain": [
       "36"
      ]
     },
     "execution_count": 36,
     "metadata": {},
     "output_type": "execute_result"
    }
   ],
   "source": [
    "#  IMP\n",
    "\n",
    "a = [1,2,3,4,5,6,7,8]\n",
    "sum(a)"
   ]
  },
  {
   "cell_type": "code",
   "execution_count": 38,
   "id": "9158932d",
   "metadata": {},
   "outputs": [
    {
     "name": "stdout",
     "output_type": "stream",
     "text": [
      "Function calling\n",
      "3\n",
      "Function executed successfully.\n"
     ]
    }
   ],
   "source": [
    "def add(a,b):\n",
    "    c = a+b\n",
    "    return c\n",
    "# In return we use some variable which is holding something \n",
    "\n",
    "\n",
    "print(\"Function calling\")\n",
    "d = add(1,2)\n",
    "print(d)  # Print doesnot hold any value it is just a print statement\n",
    "print(\"Function executed successfully.\")\n"
   ]
  },
  {
   "cell_type": "code",
   "execution_count": 39,
   "id": "1bebfcbe",
   "metadata": {},
   "outputs": [
    {
     "name": "stdout",
     "output_type": "stream",
     "text": [
      "2 3 4\n"
     ]
    }
   ],
   "source": [
    "asp = 2\n",
    "df = 3\n",
    "gh = 4\n",
    "\n",
    "print(asp ,df, gh) \n",
    "\n",
    "#  This print is better than doing them one by one "
   ]
  },
  {
   "cell_type": "code",
   "execution_count": 40,
   "id": "d04fd64e",
   "metadata": {},
   "outputs": [
    {
     "name": "stdout",
     "output_type": "stream",
     "text": [
      "monal\n",
      "monalk\n",
      "Mona\n",
      "Mahendra\n"
     ]
    }
   ],
   "source": [
    "a = [\"monal\", \"monalk\", \"Mona\", \"vivek\", \"krish\", \"lucas\", \"Mahendra\"]\n",
    "\n",
    "for name in a: \n",
    "    if \"m\" in name.lower() : # character to character comparison\n",
    "        print(name)"
   ]
  },
  {
   "cell_type": "code",
   "execution_count": 41,
   "id": "484fd43a",
   "metadata": {},
   "outputs": [],
   "source": [
    "import os"
   ]
  },
  {
   "cell_type": "code",
   "execution_count": 42,
   "id": "46d3ac2d",
   "metadata": {},
   "outputs": [
    {
     "data": {
      "text/plain": [
       "'/Users/wasamchaudhry/Study/ultimate_datascience /python/Revision'"
      ]
     },
     "execution_count": 42,
     "metadata": {},
     "output_type": "execute_result"
    }
   ],
   "source": [
    "os.getcwd()\n"
   ]
  },
  {
   "cell_type": "code",
   "execution_count": 44,
   "id": "bdbedec7",
   "metadata": {},
   "outputs": [
    {
     "data": {
      "text/plain": [
       "['.DS_Store',\n",
       " 'requirements.txt',\n",
       " '2-PythonAssignments',\n",
       " '3-numpy',\n",
       " '1-PythonBasics',\n",
       " '.gitignore',\n",
       " 'venv',\n",
       " '.git',\n",
       " 'Revision']"
      ]
     },
     "execution_count": 44,
     "metadata": {},
     "output_type": "execute_result"
    }
   ],
   "source": [
    "os.listdir('/Users/wasamchaudhry/Study/ultimate_datascience /python')"
   ]
  },
  {
   "cell_type": "code",
   "execution_count": 59,
   "id": "27056b7e",
   "metadata": {},
   "outputs": [
    {
     "data": {
      "text/plain": [
       "['rev.ipynb', 'func.ipynb', 'test.txt']"
      ]
     },
     "execution_count": 59,
     "metadata": {},
     "output_type": "execute_result"
    }
   ],
   "source": [
    "os.listdir(os.getcwd())"
   ]
  },
  {
   "cell_type": "code",
   "execution_count": 58,
   "id": "f605d183",
   "metadata": {},
   "outputs": [
    {
     "data": {
      "text/plain": [
       "'rev.ipynb'"
      ]
     },
     "execution_count": 58,
     "metadata": {},
     "output_type": "execute_result"
    }
   ],
   "source": [
    "os.listdir(os.getcwd())[0]"
   ]
  },
  {
   "cell_type": "code",
   "execution_count": 64,
   "id": "7579f087",
   "metadata": {},
   "outputs": [
    {
     "data": {
      "text/plain": [
       "'/Users/wasamchaudhry/Study/ultimate_datascience /python/Revision/rev.ipynb'"
      ]
     },
     "execution_count": 64,
     "metadata": {},
     "output_type": "execute_result"
    }
   ],
   "source": [
    "os.path.join(os.getcwd(),\"rev.ipynb\")"
   ]
  },
  {
   "cell_type": "code",
   "execution_count": 65,
   "id": "a9314197",
   "metadata": {},
   "outputs": [
    {
     "data": {
      "text/plain": [
       "'/Users/wasamchaudhry/Study/ultimate_datascience /python/Revision/rev.ipynb/wasam'"
      ]
     },
     "execution_count": 65,
     "metadata": {},
     "output_type": "execute_result"
    }
   ],
   "source": [
    "os.path.join(os.getcwd(),\"rev.ipynb\", \"wasam\")"
   ]
  },
  {
   "cell_type": "code",
   "execution_count": null,
   "id": "88ed7df9",
   "metadata": {},
   "outputs": [
    {
     "data": {
      "text/plain": [
       "'/Users/wasamchaudhry/Study/ultimate_datascience /python/Revision/test.txt'"
      ]
     },
     "execution_count": 60,
     "metadata": {},
     "output_type": "execute_result"
    }
   ],
   "source": [
    "work_dir = os.getcwd()\n",
    "file_name = os.listdir(os.getcwd())[2]\n",
    "\n",
    "os.path.join(work_dir,file_name)"
   ]
  },
  {
   "cell_type": "code",
   "execution_count": 63,
   "id": "e048e888",
   "metadata": {},
   "outputs": [
    {
     "data": {
      "text/plain": [
       "'/Users/wasamchaudhry/Study/ultimate_datascience /python/Revision/test.txt'"
      ]
     },
     "execution_count": 63,
     "metadata": {},
     "output_type": "execute_result"
    }
   ],
   "source": [
    "full_path = os.path.normpath(os.path.join(work_dir,file_name))\n",
    "full_path\n",
    "\n",
    "#  normpath => It normalizes the path as we always need forward slash \n",
    "\n",
    "# While  i mac it automatically gives forward slash"
   ]
  },
  {
   "cell_type": "code",
   "execution_count": 48,
   "id": "3afd5a7c",
   "metadata": {},
   "outputs": [],
   "source": [
    "# Full  Path => complete path of the file \n",
    "\n",
    "# Relative Path => From our current location of terminal (where the terminal is open) what is the path \n",
    "\n",
    "# left click on any file vs code will give you option for full path and relative path \n",
    "\n",
    "# Always try to work with full path "
   ]
  },
  {
   "cell_type": "code",
   "execution_count": null,
   "id": "c1acbea6",
   "metadata": {},
   "outputs": [],
   "source": [
    "# Full path \n",
    "# /Users/wasamchaudhry/Study/ultimate_datascience /python/Revision/func.ipynb\n",
    "\n",
    "\n",
    "#  Relative path \n",
    "#  Revision/func.ipynb"
   ]
  },
  {
   "cell_type": "code",
   "execution_count": 68,
   "id": "fb717936",
   "metadata": {},
   "outputs": [],
   "source": [
    "file = open(os.path.join(os.getcwd(),os.listdir(os.getcwd())[2]))"
   ]
  },
  {
   "cell_type": "code",
   "execution_count": 69,
   "id": "a125d8ed",
   "metadata": {},
   "outputs": [],
   "source": [
    "content  = file.read()"
   ]
  },
  {
   "cell_type": "code",
   "execution_count": 70,
   "id": "6cf4d625",
   "metadata": {},
   "outputs": [
    {
     "data": {
      "text/plain": [
       "'Chaudhry\\nWasam\\nUr\\nRehman\\n'"
      ]
     },
     "execution_count": 70,
     "metadata": {},
     "output_type": "execute_result"
    }
   ],
   "source": [
    "content"
   ]
  },
  {
   "cell_type": "code",
   "execution_count": 71,
   "id": "ff050e2d",
   "metadata": {},
   "outputs": [],
   "source": [
    "file.close()"
   ]
  },
  {
   "cell_type": "code",
   "execution_count": 80,
   "id": "6eab67df",
   "metadata": {},
   "outputs": [],
   "source": [
    "file = open(os.path.join(os.getcwd(),os.listdir(os.getcwd())[2]))"
   ]
  },
  {
   "cell_type": "code",
   "execution_count": 81,
   "id": "97fb8d02",
   "metadata": {},
   "outputs": [],
   "source": [
    "lines = file.readline()"
   ]
  },
  {
   "cell_type": "code",
   "execution_count": 82,
   "id": "3dfc877b",
   "metadata": {},
   "outputs": [
    {
     "data": {
      "text/plain": [
       "'Chaudhry\\n'"
      ]
     },
     "execution_count": 82,
     "metadata": {},
     "output_type": "execute_result"
    }
   ],
   "source": [
    "lines"
   ]
  },
  {
   "cell_type": "code",
   "execution_count": 83,
   "id": "7a42acca",
   "metadata": {},
   "outputs": [],
   "source": [
    "lines = file.readline()"
   ]
  },
  {
   "cell_type": "code",
   "execution_count": 84,
   "id": "8f7b1890",
   "metadata": {},
   "outputs": [
    {
     "data": {
      "text/plain": [
       "'Wasam\\n'"
      ]
     },
     "execution_count": 84,
     "metadata": {},
     "output_type": "execute_result"
    }
   ],
   "source": [
    "lines"
   ]
  },
  {
   "cell_type": "code",
   "execution_count": 85,
   "id": "ea2888c6",
   "metadata": {},
   "outputs": [],
   "source": [
    "lines = file.readline()"
   ]
  },
  {
   "cell_type": "code",
   "execution_count": 86,
   "id": "708ad58e",
   "metadata": {},
   "outputs": [
    {
     "data": {
      "text/plain": [
       "'Ur\\n'"
      ]
     },
     "execution_count": 86,
     "metadata": {},
     "output_type": "execute_result"
    }
   ],
   "source": [
    "lines"
   ]
  },
  {
   "cell_type": "code",
   "execution_count": 87,
   "id": "749e77a9",
   "metadata": {},
   "outputs": [],
   "source": [
    "lines = file.readline()"
   ]
  },
  {
   "cell_type": "code",
   "execution_count": 88,
   "id": "d643db5d",
   "metadata": {},
   "outputs": [
    {
     "data": {
      "text/plain": [
       "'Rehman\\n'"
      ]
     },
     "execution_count": 88,
     "metadata": {},
     "output_type": "execute_result"
    }
   ],
   "source": [
    "lines"
   ]
  },
  {
   "cell_type": "code",
   "execution_count": 89,
   "id": "1f1fb8a7",
   "metadata": {},
   "outputs": [],
   "source": [
    "lines = file.readline()"
   ]
  },
  {
   "cell_type": "code",
   "execution_count": 90,
   "id": "4a73023a",
   "metadata": {},
   "outputs": [
    {
     "data": {
      "text/plain": [
       "''"
      ]
     },
     "execution_count": 90,
     "metadata": {},
     "output_type": "execute_result"
    }
   ],
   "source": [
    "lines"
   ]
  },
  {
   "cell_type": "code",
   "execution_count": 91,
   "id": "e93305a8",
   "metadata": {},
   "outputs": [],
   "source": [
    "lines = file.readline()"
   ]
  },
  {
   "cell_type": "code",
   "execution_count": 92,
   "id": "73992bf7",
   "metadata": {},
   "outputs": [
    {
     "data": {
      "text/plain": [
       "''"
      ]
     },
     "execution_count": 92,
     "metadata": {},
     "output_type": "execute_result"
    }
   ],
   "source": [
    "lines"
   ]
  },
  {
   "cell_type": "code",
   "execution_count": 93,
   "id": "9aeb9f20",
   "metadata": {},
   "outputs": [],
   "source": [
    "file.close()"
   ]
  },
  {
   "cell_type": "code",
   "execution_count": 94,
   "id": "429b68df",
   "metadata": {},
   "outputs": [],
   "source": [
    "file = open(os.path.join(os.getcwd(),os.listdir(os.getcwd())[2]))"
   ]
  },
  {
   "cell_type": "code",
   "execution_count": 95,
   "id": "535944b3",
   "metadata": {},
   "outputs": [],
   "source": [
    "lines = file.readlines()"
   ]
  },
  {
   "cell_type": "code",
   "execution_count": 96,
   "id": "735e3fe9",
   "metadata": {},
   "outputs": [
    {
     "data": {
      "text/plain": [
       "['Chaudhry\\n', 'Wasam\\n', 'Ur\\n', 'Rehman\\n']"
      ]
     },
     "execution_count": 96,
     "metadata": {},
     "output_type": "execute_result"
    }
   ],
   "source": [
    "lines"
   ]
  },
  {
   "cell_type": "code",
   "execution_count": 97,
   "id": "f37447dc",
   "metadata": {},
   "outputs": [],
   "source": [
    "file.close()"
   ]
  },
  {
   "cell_type": "code",
   "execution_count": 98,
   "id": "b7be9e6e",
   "metadata": {},
   "outputs": [
    {
     "name": "stdout",
     "output_type": "stream",
     "text": [
      "['Chaudhry\\n', 'Wasam\\n', 'Ur\\n', 'Rehman\\n']\n"
     ]
    }
   ],
   "source": [
    "full_path = os.path.join(os.getcwd(),os.listdir(os.getcwd())[2])\n",
    "# with -> context manager --> handles closing of your file\n",
    "with open(full_path) as f:\n",
    "    lines = f.readlines()\n",
    "    print(lines)"
   ]
  },
  {
   "cell_type": "markdown",
   "id": "8cbf81bc",
   "metadata": {},
   "source": [
    "# Python File Modes and f.seek() Explained\n",
    "\n",
    "## File Modes in Python\n",
    "\n",
    "When working with files in Python, you can use various modes depending on what you want to do (read, write, append). Below are the most commonly used modes:\n",
    "\n",
    "### 1. Read Mode (`r`)\n",
    "\n",
    "* Opens the file for **reading only**.\n",
    "* The file **must exist**, otherwise it raises a **FileNotFoundError**.\n",
    "* The file pointer is placed at the **beginning**.\n",
    "\n",
    "**Example:**\n",
    "\n",
    "```python\n",
    "with open(\"file.txt\", \"r\") as f:\n",
    "    content = f.read()\n",
    "    print(content)\n",
    "```\n",
    "\n",
    "### 2. Write Mode (`w`)\n",
    "\n",
    "* Opens the file for **writing only**.\n",
    "* If the file already exists, it **truncates (deletes) the content**.\n",
    "* If the file does not exist, it **creates a new one**.\n",
    "* The file pointer is at the **beginning**.\n",
    "\n",
    "**Example:**\n",
    "\n",
    "```python\n",
    "with open(\"file.txt\", \"w\") as f:\n",
    "    f.write(\"New content\")\n",
    "```\n",
    "\n",
    "### 3. Append Mode (`a`)\n",
    "\n",
    "* Opens the file for **appending new data** at the end.\n",
    "* Creates a new file if it does not exist.\n",
    "* The file pointer is at the **end**, so new data is added without removing existing content.\n",
    "\n",
    "**Example:**\n",
    "\n",
    "```python\n",
    "with open(\"file.txt\", \"a\") as f:\n",
    "    f.write(\"Appended content\")\n",
    "```\n",
    "\n",
    "### 4. Read and Write Mode (`r+`)\n",
    "\n",
    "* Opens the file for both **reading and writing**.\n",
    "* The file **must exist**, otherwise it raises a **FileNotFoundError**.\n",
    "* The file pointer is at the **beginning**.\n",
    "* Does **not truncate** the file.\n",
    "\n",
    "**Example:**\n",
    "\n",
    "```python\n",
    "with open(\"file.txt\", \"r+\") as f:\n",
    "    content = f.read()\n",
    "    f.write(\"Additional content\")\n",
    "```\n",
    "\n",
    "### 5. Write and Read Mode (`w+`)\n",
    "\n",
    "* Opens the file for both **writing and reading**.\n",
    "* If the file exists, it **truncates** it.\n",
    "* Creates a new file if it does not exist.\n",
    "* The file pointer is at the **beginning**.\n",
    "\n",
    "**Example:**\n",
    "\n",
    "```python\n",
    "with open(\"file.txt\", \"w+\") as f:\n",
    "    f.write(\"Content\")\n",
    "    f.seek(0)\n",
    "    print(f.read())\n",
    "```\n",
    "\n",
    "### 6. Append and Read Mode (`a+`)\n",
    "\n",
    "* Opens the file for **appending and reading**.\n",
    "* Creates a new file if it does not exist.\n",
    "* The file pointer is at the **end**.\n",
    "* Does **not truncate** existing content.\n",
    "\n",
    "**Example:**\n",
    "\n",
    "```python\n",
    "with open(\"file.txt\", \"a+\") as f:\n",
    "    f.write(\"More data\")\n",
    "    f.seek(0)\n",
    "    print(f.read())\n",
    "```\n",
    "\n",
    "---\n",
    "\n",
    "## f.seek() and File Pointer Manipulation\n",
    "\n",
    "The `f.seek()` function is used to **move the file pointer** to a specified position.\n",
    "\n",
    "### Syntax:\n",
    "\n",
    "```python\n",
    "f.seek(offset, whence)\n",
    "```\n",
    "\n",
    "* **offset:** Number of bytes to move the pointer.\n",
    "* **whence (optional):** Starting point for the offset.\n",
    "\n",
    "  * `0` (default): Beginning of the file.\n",
    "  * `1`: Current file position.\n",
    "  * `2`: End of the file.\n",
    "\n",
    "### Examples:\n",
    "\n",
    "1. Move to the start:\n",
    "\n",
    "```python\n",
    "f.seek(0)  # Start of file\n",
    "```\n",
    "\n",
    "2. Move to the end:\n",
    "\n",
    "```python\n",
    "f.seek(0, 2)  # End of file\n",
    "```\n",
    "\n",
    "3. Move forward from the current position:\n",
    "\n",
    "```python\n",
    "f.seek(10, 1)  # 10 bytes forward from current\n",
    "```\n",
    "\n",
    "4. Move backward from the end:\n",
    "\n",
    "```python\n",
    "f.seek(-5, 2)  # 5 bytes before the end\n",
    "```\n",
    "\n",
    "### Important:\n",
    "\n",
    "* Use `f.tell()` to check the current file pointer position.\n",
    "\n",
    "**Example:**\n",
    "\n",
    "```python\n",
    "with open(\"file.txt\", \"r\") as f:\n",
    "    print(f.tell())  # Current position\n",
    "    f.seek(0, 2)     # Move to end\n",
    "    print(f.tell())  # End position\n",
    "```\n",
    "\n",
    "---\n",
    "\n",
    "## Summary\n",
    "\n",
    "* Choose the appropriate mode (`r`, `w`, `a`, `r+`, `w+`, `a+`) based on your needs (read, write, append).\n",
    "* Be careful with modes that **truncate** the file (`w`, `w+`).\n",
    "* Use `f.seek()` to control where to read or write within the file.\n",
    "\n",
    "\n",
    "# Only use `a` or `a+` if you you want to appent at any place because `w` and `w+`will truncate  completely and `r+` will overwrite the no of words from the start, whatever you want to write \n"
   ]
  },
  {
   "cell_type": "code",
   "execution_count": 100,
   "id": "1a54c6d7",
   "metadata": {},
   "outputs": [
    {
     "name": "stdout",
     "output_type": "stream",
     "text": [
      "Chaudhry\n",
      "Wasam\n",
      "Ur\n",
      "Rehman\n",
      "\n"
     ]
    }
   ],
   "source": [
    "with open(full_path , \"r\") as f:\n",
    "    content = f.read()\n",
    "    print(content)"
   ]
  },
  {
   "cell_type": "code",
   "execution_count": 187,
   "id": "b4c61b9f",
   "metadata": {},
   "outputs": [],
   "source": [
    "with open(full_path , \"w\") as f:\n",
    "    f.writelines([\"chaudhry\\n\",\"Ali\\n\",\"Raza\\n\"])"
   ]
  },
  {
   "cell_type": "code",
   "execution_count": 188,
   "id": "0095fb34",
   "metadata": {},
   "outputs": [
    {
     "name": "stdout",
     "output_type": "stream",
     "text": [
      "chaudhry\n",
      "Ali\n",
      "Raza\n",
      "\n"
     ]
    }
   ],
   "source": [
    "with open(full_path , \"r\") as f:\n",
    "    content = f.read()\n",
    "    print(content)"
   ]
  },
  {
   "cell_type": "code",
   "execution_count": 189,
   "id": "b3850be9",
   "metadata": {},
   "outputs": [],
   "source": [
    "with open(full_path,\"a\") as f:\n",
    "    f.writelines([\"\\nChaudhry\\n\",\"Munawar\\n\",\"Ali\\n\",\"Rehan\\n\"])\n"
   ]
  },
  {
   "cell_type": "code",
   "execution_count": 190,
   "id": "c0585950",
   "metadata": {},
   "outputs": [
    {
     "name": "stdout",
     "output_type": "stream",
     "text": [
      "chaudhry\n",
      "Ali\n",
      "Raza\n",
      "\n",
      "Chaudhry\n",
      "Munawar\n",
      "Ali\n",
      "Rehan\n",
      "\n"
     ]
    }
   ],
   "source": [
    "with open(full_path , \"r\") as f:\n",
    "    content = f.read()\n",
    "    print(content)"
   ]
  },
  {
   "cell_type": "code",
   "execution_count": 191,
   "id": "3b9dc55c",
   "metadata": {},
   "outputs": [
    {
     "name": "stdout",
     "output_type": "stream",
     "text": [
      "dhry\n",
      "Ali\n",
      "Raza\n",
      "\n",
      "Chaudhry\n",
      "Munawar\n",
      "Ali\n",
      "Rehan\n",
      "\n"
     ]
    }
   ],
   "source": [
    "with open(full_path , \"r+\") as f:\n",
    "    f.write(\"Two\\n\")\n",
    "    print(f.read())"
   ]
  },
  {
   "cell_type": "code",
   "execution_count": 192,
   "id": "3b99469c",
   "metadata": {},
   "outputs": [
    {
     "name": "stdout",
     "output_type": "stream",
     "text": [
      "\n"
     ]
    }
   ],
   "source": [
    "with open(full_path,\"w+\") as f:\n",
    "    lines = f.read()\n",
    "    print(lines)\n",
    "\n"
   ]
  },
  {
   "cell_type": "markdown",
   "id": "f627d4bb",
   "metadata": {},
   "source": [
    "# The above code shows that Even if we will do read with `w+` you will get no result as `w+` with completely truncure the file as soon as we open the file with `w+`"
   ]
  },
  {
   "cell_type": "code",
   "execution_count": 209,
   "id": "65c5cca4",
   "metadata": {},
   "outputs": [
    {
     "name": "stdout",
     "output_type": "stream",
     "text": [
      "chaudhry\n",
      "Wasam\n",
      "Rehman\n",
      "\n"
     ]
    }
   ],
   "source": [
    "with open(full_path , \"w+\") as f:\n",
    "    f.writelines([\"chaudhry\\n\",\"Wasam\\n\",\"Rehman\\n\"])\n",
    "    f.seek(0,0)\n",
    "    lines = f.read()\n",
    "    print(lines)"
   ]
  },
  {
   "cell_type": "code",
   "execution_count": null,
   "id": "88cd5fad",
   "metadata": {},
   "outputs": [
    {
     "name": "stdout",
     "output_type": "stream",
     "text": [
      "['chaudhry\\n', 'Wasam\\n', 'Rehman\\n']\n",
      "['chaudhry\\n', 'Wasam\\n', 'Rehman\\n', 'Ninja\\n']\n"
     ]
    }
   ],
   "source": [
    "with open(full_path,\"a+\") as f:\n",
    "    f.seek(0)  # Moving cursor to the start of the file \n",
    "    lines = f.readlines()\n",
    "    print(lines)\n",
    "    f.seek(0)\n",
    "    f.write(\"Ninja\\n\")\n",
    "    f.seek(0,0)\n",
    "    lines = f.readlines()\n",
    "    print(lines)\n",
    "\n",
    "  "
   ]
  },
  {
   "cell_type": "markdown",
   "id": "bba23f30",
   "metadata": {},
   "source": [
    "# Using \"a+\" mode to write \"Ninja\" at the start of a file doesn't work because \"a+\" opens the file for both reading and appending, with the cursor initially at the end. Even if you use f.seek(0) to move the cursor to the start, any f.write() operation appends data to the end, not the beginning. To insert \"Ninja\" at the start, you must read the file's content, then rewrite it entirely (e.g., using \"w\" mode) with \"Ninja\" prepended, as \"a+\" is designed for appending, not prepending."
   ]
  },
  {
   "cell_type": "markdown",
   "id": "9d5f14f7",
   "metadata": {},
   "source": [
    "## 📘 Python List Insertion Summary\n",
    "\n",
    "You learned how to add items to a list in three different ways:\n",
    "\n",
    "---\n",
    "\n",
    "### ✅ Add to the End\n",
    "Use `.append()` to add an item at the **end** of the list.\n",
    "\n",
    "```python\n",
    "fruits.append(\"mango\")\n",
    "\n",
    "✅ Add to the Start\n",
    "Use .insert(0, item) to add an item at the beginning.\n",
    "\n",
    "fruits.insert(0, \"orange\")\n",
    "\n",
    "\n",
    "✅ Add to the Middle\n",
    "Use .insert(index, item) and calculate the middle index using:\n",
    "\n",
    "middle_index = len(fruits) // 2\n",
    "fruits.insert(middle_index, \"kiwi\")\n",
    "\n",
    "🧠 Key Tips\n",
    ".append() is only for the end.\n",
    "\n",
    ".insert() can be used for any position.\n",
    "\n",
    "len(list) gives the number of items in a list."
   ]
  },
  {
   "cell_type": "code",
   "execution_count": 207,
   "id": "cf9cd61e",
   "metadata": {},
   "outputs": [
    {
     "name": "stdout",
     "output_type": "stream",
     "text": [
      "[]\n",
      "['Ninja']\n",
      "[]\n"
     ]
    }
   ],
   "source": [
    "with open(full_path, \"w+\") as f:\n",
    "    lines = f.readlines()\n",
    "    print(lines)\n",
    "    lines.insert(0, \"Ninja\")\n",
    "    print(lines)\n",
    "    f.writelines(lines)\n",
    "    lines = f.readlines()\n",
    "    print(lines)\n"
   ]
  },
  {
   "cell_type": "markdown",
   "id": "986b3cb5",
   "metadata": {},
   "source": [
    "# Look here again the readlines don't work as `w+`   deletes all the content of the file  as soon as we try to open the file with `w+`"
   ]
  },
  {
   "cell_type": "code",
   "execution_count": 212,
   "id": "3211f0aa",
   "metadata": {},
   "outputs": [
    {
     "name": "stdout",
     "output_type": "stream",
     "text": [
      "chaudhry\n",
      "Wasam\n",
      "Rehman\n",
      "\n"
     ]
    }
   ],
   "source": [
    "with open(full_path , \"w+\") as f:\n",
    "    f.writelines([\"chaudhry\\n\",\"Wasam\\n\",\"Rehman\\n\"])\n",
    "    f.seek(0,0)\n",
    "    lines = f.read()\n",
    "    print(lines)"
   ]
  },
  {
   "cell_type": "code",
   "execution_count": 213,
   "id": "5c29849a",
   "metadata": {},
   "outputs": [
    {
     "name": "stdout",
     "output_type": "stream",
     "text": [
      "['chaudhry\\n', 'Wasam\\n', 'Rehman\\n']\n",
      "['Ninja\\n', 'chaudhry\\n', 'Wasam\\n', 'Rehman\\n']\n",
      "['Ninja\\n', 'chaudhry\\n', 'Wasam\\n', 'Rehman\\n']\n"
     ]
    }
   ],
   "source": [
    "with open(full_path, \"r\") as f:\n",
    "    lines = f.readlines()\n",
    "    print(lines)\n",
    "\n",
    "lines.insert(0, \"Ninja\\n\")\n",
    "print(lines)\n",
    "\n",
    "with open(full_path, \"w+\") as f:\n",
    "    f.writelines(lines)\n",
    "    f.seek(0)\n",
    "    lines = f.readlines()\n",
    "    print(lines)"
   ]
  },
  {
   "cell_type": "markdown",
   "id": "05199536",
   "metadata": {},
   "source": [
    "# let's say i want to delete wasam from the middle of the file"
   ]
  },
  {
   "cell_type": "code",
   "execution_count": 214,
   "id": "dd5f922e",
   "metadata": {},
   "outputs": [
    {
     "data": {
      "text/plain": [
       "2"
      ]
     },
     "execution_count": 214,
     "metadata": {},
     "output_type": "execute_result"
    }
   ],
   "source": [
    "wasam = [1,2,4]\n",
    "wasam.pop(1)"
   ]
  },
  {
   "cell_type": "code",
   "execution_count": 215,
   "id": "83fca57d",
   "metadata": {},
   "outputs": [
    {
     "data": {
      "text/plain": [
       "[1, 4]"
      ]
     },
     "execution_count": 215,
     "metadata": {},
     "output_type": "execute_result"
    }
   ],
   "source": [
    "wasam"
   ]
  },
  {
   "cell_type": "code",
   "execution_count": 216,
   "id": "040fdf63",
   "metadata": {},
   "outputs": [],
   "source": [
    "del wasam[0]"
   ]
  },
  {
   "cell_type": "code",
   "execution_count": 217,
   "id": "1dc9e5ea",
   "metadata": {},
   "outputs": [
    {
     "data": {
      "text/plain": [
       "[4]"
      ]
     },
     "execution_count": 217,
     "metadata": {},
     "output_type": "execute_result"
    }
   ],
   "source": [
    "wasam"
   ]
  },
  {
   "cell_type": "markdown",
   "id": "3ec6dd52",
   "metadata": {},
   "source": [
    "## 🗑️ Python List Deletion Summary\n",
    "\n",
    "You can remove elements from a list using `pop()` and `del`.\n",
    "\n",
    "---\n",
    "\n",
    "### ✅ Remove from the End\n",
    "Use `.pop()` with **no index** to remove the **last item**.\n",
    "\n",
    "```python\n",
    "fruits.pop()\n",
    "\n",
    "\n",
    "✅ Remove from the Start\n",
    "Use .pop(0) to remove the first item.\n",
    "\n",
    "fruits.pop(0)\n",
    "\n",
    "✅ Remove from the Middle\n",
    "Calculate the middle index and use .pop(index):\n",
    "\n",
    "middle_index = len(fruits) // 2\n",
    "fruits.pop(middle_index)\n",
    "\n",
    "\n",
    "🧠 Bonus Tips\n",
    "pop() returns the removed item.\n",
    "\n",
    "You can also use del list[index] to remove without returning the item.\n",
    "\n"
   ]
  },
  {
   "cell_type": "code",
   "execution_count": 218,
   "id": "6a9fa9de",
   "metadata": {},
   "outputs": [
    {
     "data": {
      "text/plain": [
       "['Ninja\\n', 'chaudhry\\n', 'Wasam\\n', 'Rehman\\n']"
      ]
     },
     "execution_count": 218,
     "metadata": {},
     "output_type": "execute_result"
    }
   ],
   "source": [
    "lines"
   ]
  },
  {
   "cell_type": "code",
   "execution_count": null,
   "id": "f57c4deb",
   "metadata": {},
   "outputs": [
    {
     "name": "stdout",
     "output_type": "stream",
     "text": [
      "['Ninja\\n', 'chaudhry\\n', 'Rehman\\n']\n",
      "['Ninja\\n', 'chaudhry\\n', 'Rehman\\n']\n"
     ]
    }
   ],
   "source": [
    "lines.pop(2)\n",
    "print(lines)\n",
    "\n",
    "with open(full_path, \"w+\") as f:\n",
    "    f.writelines(lines)\n",
    "    f.seek(0)\n",
    "    lines = f.readlines()\n",
    "    print(lines)"
   ]
  },
  {
   "cell_type": "code",
   "execution_count": null,
   "id": "e4263f1a",
   "metadata": {},
   "outputs": [],
   "source": [
    "try:\n",
    "    f = open(\"data.csv\")\n",
    "    data = f.read()\n",
    "except FileNotFoundError:\n",
    "    print(\"File not found.\")\n",
    "else:\n",
    "    print(\"File read successfully.\")\n",
    "finally:\n",
    "    print(\"Closing file.\")\n",
    "    if 'f' in locals():\n",
    "        f.close()\n",
    "\n",
    "# ✅ if 'f' in locals(): means:\n",
    "# We’re checking whether the variable f (the file handle) was successfully created in the try block before we try to close it.\n",
    "\n",
    "# Why?\n",
    "\n",
    "# Because if the file \"data.csv\" doesn't exist, then open() will raise a FileNotFoundError — and f will never be defined.\n",
    "\n",
    "# So if we didn’t check and just wrote f.close() in the finally, we’d get a NameError saying: \"f is not defined.\"\n"
   ]
  },
  {
   "cell_type": "code",
   "execution_count": null,
   "id": "c1f93fb3",
   "metadata": {},
   "outputs": [],
   "source": [
    "# No, if you use a with statement (a context manager), you do not need to use if 'f' in locals() or even worry about closing the file manually.\n",
    "\n",
    "# Why?\n",
    "# The with statement automatically handles setup and teardown—even if an exception happens.\n",
    "\n",
    "try:\n",
    "    with open(\"data.csv\") as f:\n",
    "        data = f.read()\n",
    "except FileNotFoundError:\n",
    "    print(\"File not found.\")\n",
    "else:\n",
    "    print(\"File read successfully.\")\n",
    "finally:\n",
    "    print(\"Done.\")\n"
   ]
  },
  {
   "cell_type": "code",
   "execution_count": null,
   "id": "9050cc21",
   "metadata": {},
   "outputs": [],
   "source": [
    "# ⚙️ So here’s the rule:\n",
    "# 🔑 Use with whenever you're working with files, sockets, locks, or any resource that needs cleanup.\n",
    "\n",
    "# This is a professional best practice."
   ]
  },
  {
   "cell_type": "markdown",
   "id": "791c3fa0",
   "metadata": {},
   "source": [
    "## # If you want more detail look for folder 9 \n",
    "\n",
    "* contains details about try,except,else, finally, raise \n",
    "* 9-2 and 9-3 shows how to close the application \n"
   ]
  },
  {
   "cell_type": "code",
   "execution_count": null,
   "id": "9a081996",
   "metadata": {},
   "outputs": [],
   "source": []
  }
 ],
 "metadata": {
  "kernelspec": {
   "display_name": "Python 3",
   "language": "python",
   "name": "python3"
  },
  "language_info": {
   "codemirror_mode": {
    "name": "ipython",
    "version": 3
   },
   "file_extension": ".py",
   "mimetype": "text/x-python",
   "name": "python",
   "nbconvert_exporter": "python",
   "pygments_lexer": "ipython3",
   "version": "3.12.0"
  }
 },
 "nbformat": 4,
 "nbformat_minor": 5
}
