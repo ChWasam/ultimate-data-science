{
 "cells": [
  {
   "cell_type": "markdown",
   "id": "2525f531",
   "metadata": {},
   "source": [
    "# numpy math operations"
   ]
  },
  {
   "cell_type": "markdown",
   "id": "ab204b2a",
   "metadata": {},
   "source": [
    "##### Vector is a 1D array\n",
    "\n",
    "##### Matrix is a 2D array\n",
    "\n",
    "##### If multiple dimentions then we call it as n dimention array \n"
   ]
  },
  {
   "cell_type": "code",
   "execution_count": 54,
   "id": "2536a3e4",
   "metadata": {},
   "outputs": [],
   "source": [
    "#  Everything is vectorize we don't need to use any for loop here "
   ]
  },
  {
   "cell_type": "code",
   "execution_count": 1,
   "id": "c7738f20",
   "metadata": {},
   "outputs": [
    {
     "data": {
      "text/plain": [
       "[1, 2, 3, 4, 5, 6]"
      ]
     },
     "execution_count": 1,
     "metadata": {},
     "output_type": "execute_result"
    }
   ],
   "source": [
    "a = [1,2,3]\n",
    "b = [4,5,6]\n",
    "\n",
    "a + b  # vectorized operation"
   ]
  },
  {
   "cell_type": "code",
   "execution_count": 6,
   "id": "44749cc3",
   "metadata": {},
   "outputs": [],
   "source": [
    "import numpy as np"
   ]
  },
  {
   "cell_type": "code",
   "execution_count": 8,
   "id": "27fa1046",
   "metadata": {},
   "outputs": [
    {
     "name": "stdout",
     "output_type": "stream",
     "text": [
      "[1, 2, 3, 4]\n",
      "[1 2 3 4]\n"
     ]
    }
   ],
   "source": [
    "print([1,2,3,4])\n",
    "print(np.array([1,2,3,4]))"
   ]
  },
  {
   "cell_type": "code",
   "execution_count": 10,
   "id": "bc8d5808",
   "metadata": {},
   "outputs": [],
   "source": [
    "a = np.array([1, 2, 3])\n",
    "b = np.array([4, 5, 6])"
   ]
  },
  {
   "cell_type": "code",
   "execution_count": 11,
   "id": "3b44e52d",
   "metadata": {},
   "outputs": [
    {
     "name": "stdout",
     "output_type": "stream",
     "text": [
      "<class 'numpy.ndarray'>\n"
     ]
    }
   ],
   "source": [
    "print(type(a + b))"
   ]
  },
  {
   "cell_type": "code",
   "execution_count": 12,
   "id": "b5202066",
   "metadata": {},
   "outputs": [
    {
     "name": "stdout",
     "output_type": "stream",
     "text": [
      "[5 7 9]\n"
     ]
    }
   ],
   "source": [
    "print(a + b)"
   ]
  },
  {
   "cell_type": "code",
   "execution_count": 13,
   "id": "9b4d8217",
   "metadata": {},
   "outputs": [
    {
     "name": "stdout",
     "output_type": "stream",
     "text": [
      "[-3 -3 -3]\n",
      "[ 4 10 18]\n",
      "[0.25 0.4  0.5 ]\n"
     ]
    }
   ],
   "source": [
    "print(a-b)\n",
    "print(a*b)\n",
    "print(a/b)"
   ]
  },
  {
   "cell_type": "code",
   "execution_count": 14,
   "id": "747d0992",
   "metadata": {},
   "outputs": [
    {
     "name": "stdout",
     "output_type": "stream",
     "text": [
      "[False False False]\n",
      "[ True  True  True]\n",
      "[False False False]\n"
     ]
    }
   ],
   "source": [
    "# comparison\n",
    "#  It is element by element\n",
    "print(a > b)\n",
    "print(a < b)\n",
    "print(a == b)"
   ]
  },
  {
   "cell_type": "code",
   "execution_count": 15,
   "id": "f7d60899",
   "metadata": {},
   "outputs": [
    {
     "name": "stdout",
     "output_type": "stream",
     "text": [
      "<class 'numpy.bool'>\n"
     ]
    }
   ],
   "source": [
    "ans = a > b\n",
    "print(type(ans[0]))"
   ]
  },
  {
   "cell_type": "code",
   "execution_count": 20,
   "id": "84b1d978",
   "metadata": {},
   "outputs": [
    {
     "name": "stdout",
     "output_type": "stream",
     "text": [
      "[False False  True]\n",
      "[ True False  True]\n",
      "[False  True False]\n"
     ]
    }
   ],
   "source": [
    "# logical operators\n",
    "\n",
    "# and , or , not\n",
    "\n",
    "x = np.array([True, False, True])\n",
    "y = np.array([False, False, True])\n",
    "\n",
    "print(np.logical_and(x, y))\n",
    "print(np.logical_or(x, y))\n",
    "print(np.logical_not(x))"
   ]
  },
  {
   "cell_type": "code",
   "execution_count": 15,
   "id": "f26bae7d",
   "metadata": {},
   "outputs": [
    {
     "name": "stdout",
     "output_type": "stream",
     "text": [
      "[0 0 1]\n",
      "[1 3 3]\n"
     ]
    }
   ],
   "source": [
    "# bitwise operators\n",
    "\n",
    "a = np.array([1, 2, 3])\n",
    "b = np.array([0, 1, 1])\n",
    "\n",
    "# e.g.\n",
    "#  if i convert 2 to bit and 1 to bit then do and operator then i can get zero \n",
    "\n",
    "print(np.bitwise_and(a,b))\n",
    "print(np.bitwise_or(a,b))"
   ]
  },
  {
   "cell_type": "code",
   "execution_count": 16,
   "id": "ffd11a62",
   "metadata": {},
   "outputs": [
    {
     "name": "stdout",
     "output_type": "stream",
     "text": [
      "[1 6 2]\n",
      "[      1000 1280000000     810000]\n"
     ]
    }
   ],
   "source": [
    "# modulus and power\n",
    "\n",
    "a = np.array([10, 20, 30])\n",
    "b = np.array([3, 7, 4])\n",
    "\n",
    "# e.g.\n",
    "# If we divide 10/3 what is the reminder that we will get = 1\n",
    "\n",
    "print(np.mod(a, b))\n",
    "print(np.power(a, b))\n"
   ]
  },
  {
   "cell_type": "markdown",
   "id": "38a4cf2e",
   "metadata": {},
   "source": [
    "# scalar opertions"
   ]
  },
  {
   "cell_type": "code",
   "execution_count": 18,
   "id": "3ebc6b5f",
   "metadata": {},
   "outputs": [
    {
     "name": "stdout",
     "output_type": "stream",
     "text": [
      "[   0.  338.  676. 1014.]\n"
     ]
    }
   ],
   "source": [
    "celcius = np.array([0, 10, 20, 30])\n",
    "# to_farenheit = np.array([33.8, 33.8, 33.8, 33.8]) # broadcasting\n",
    "print(celcius * (9 / 5 + 32))\n",
    "\n",
    "# multiplication of scalat value with vector is managed by numpy and is called broadcasting "
   ]
  },
  {
   "cell_type": "code",
   "execution_count": 20,
   "id": "2f402a63",
   "metadata": {},
   "outputs": [
    {
     "ename": "TypeError",
     "evalue": "can't multiply sequence by non-int of type 'float'",
     "output_type": "error",
     "traceback": [
      "\u001b[31m---------------------------------------------------------------------------\u001b[39m",
      "\u001b[31mTypeError\u001b[39m                                 Traceback (most recent call last)",
      "\u001b[36mCell\u001b[39m\u001b[36m \u001b[39m\u001b[32mIn[20]\u001b[39m\u001b[32m, line 3\u001b[39m\n\u001b[32m      1\u001b[39m \u001b[38;5;66;03m# in python\u001b[39;00m\n\u001b[32m      2\u001b[39m celsius = [\u001b[32m0\u001b[39m, \u001b[32m10\u001b[39m, \u001b[32m20\u001b[39m, \u001b[32m30\u001b[39m]\n\u001b[32m----> \u001b[39m\u001b[32m3\u001b[39m fahrenheit = \u001b[43mcelsius\u001b[49m\u001b[43m \u001b[49m\u001b[43m*\u001b[49m\u001b[43m \u001b[49m\u001b[43m(\u001b[49m\u001b[32;43m9\u001b[39;49m\u001b[43m \u001b[49m\u001b[43m/\u001b[49m\u001b[43m \u001b[49m\u001b[32;43m5\u001b[39;49m\u001b[43m \u001b[49m\u001b[43m+\u001b[49m\u001b[43m \u001b[49m\u001b[32;43m32\u001b[39;49m\u001b[43m)\u001b[49m\n\u001b[32m      4\u001b[39m \u001b[38;5;28mprint\u001b[39m(fahrenheit)\n\u001b[32m      6\u001b[39m \u001b[38;5;66;03m#  IN normal python this cannot be done \u001b[39;00m\n",
      "\u001b[31mTypeError\u001b[39m: can't multiply sequence by non-int of type 'float'"
     ]
    }
   ],
   "source": [
    "# in python\n",
    "celsius = [0, 10, 20, 30]\n",
    "fahrenheit = celsius * (9 / 5 + 32)\n",
    "print(fahrenheit)\n",
    "\n",
    "#  IN normal python this cannot be done "
   ]
  },
  {
   "cell_type": "markdown",
   "id": "ceadd78c",
   "metadata": {},
   "source": [
    "# Common maths functions"
   ]
  },
  {
   "cell_type": "code",
   "execution_count": 22,
   "id": "d29967bc",
   "metadata": {},
   "outputs": [
    {
     "name": "stdout",
     "output_type": "stream",
     "text": [
      "[1.         1.41421356 1.73205081 2.        ]\n",
      "[ 2.71828183  7.3890561  20.08553692 54.59815003]\n",
      "[0.         0.69314718 1.09861229 1.38629436]\n",
      "[ 0.84147098  0.90929743  0.14112001 -0.7568025 ]\n"
     ]
    }
   ],
   "source": [
    "a = np.array([1, 2, 3, 4])\n",
    "\n",
    "print(np.sqrt(a))  # squareroot of each and every element \n",
    "print(np.exp(a)) # e^1, e^2, where e = 2.718, pi = 3.14\n",
    "print(np.log(a))\n",
    "print(np.sin(a))"
   ]
  },
  {
   "cell_type": "code",
   "execution_count": 23,
   "id": "55c8e58a",
   "metadata": {},
   "outputs": [
    {
     "name": "stdout",
     "output_type": "stream",
     "text": [
      "[0.26894142 0.5        0.73105858]\n"
     ]
    }
   ],
   "source": [
    "#  you want to know where the e is used \n",
    "# machine learning\n",
    "# activation function\n",
    "\n",
    "# sigmoid\n",
    "\n",
    "\n",
    "x = np.array([-1, 0, 1])\n",
    "sigmoid = 1 / (1 + np.exp(-x))\n",
    "print(sigmoid)"
   ]
  },
  {
   "cell_type": "code",
   "execution_count": null,
   "id": "d5e40751",
   "metadata": {},
   "outputs": [],
   "source": [
    "# Aggregation functions\n",
    "\n",
    "#  Summarization of numbers"
   ]
  },
  {
   "cell_type": "code",
   "execution_count": 40,
   "id": "b1f6bb7b",
   "metadata": {},
   "outputs": [],
   "source": [
    "a = np.array([[1, 2, 3],\n",
    "              [4, 5, 6]])"
   ]
  },
  {
   "cell_type": "code",
   "execution_count": 44,
   "id": "2f42c877",
   "metadata": {},
   "outputs": [
    {
     "name": "stdout",
     "output_type": "stream",
     "text": [
      "21\n"
     ]
    }
   ],
   "source": [
    "print(np.sum(a))"
   ]
  },
  {
   "cell_type": "code",
   "execution_count": null,
   "id": "cd4ca454",
   "metadata": {},
   "outputs": [
    {
     "name": "stdout",
     "output_type": "stream",
     "text": [
      "[5 7 9]\n"
     ]
    }
   ],
   "source": [
    "print(np.sum(a, axis=0))\n",
    "# across all rows, fix the column"
   ]
  },
  {
   "cell_type": "code",
   "execution_count": 45,
   "id": "32dea24c",
   "metadata": {},
   "outputs": [
    {
     "name": "stdout",
     "output_type": "stream",
     "text": [
      "21\n",
      "3.5\n",
      "1.707825127659933\n",
      "1\n",
      "6\n"
     ]
    }
   ],
   "source": [
    "print(np.sum(a))\n",
    "print(np.mean(a)) # average\n",
    "print(np.std(a))\n",
    "print(np.min(a))\n",
    "print(np.max(a))"
   ]
  },
  {
   "cell_type": "markdown",
   "id": "60d6fdc0",
   "metadata": {},
   "source": [
    "# matrix operation"
   ]
  },
  {
   "cell_type": "code",
   "execution_count": null,
   "id": "4aa23774",
   "metadata": {},
   "outputs": [],
   "source": [
    "# element-wise multiplication"
   ]
  },
  {
   "cell_type": "code",
   "execution_count": 27,
   "id": "036e7209",
   "metadata": {},
   "outputs": [],
   "source": [
    "units_sold = np.array([100, 200, 150])\n",
    "profit = np.array([10, 20, 30])\n",
    "\n",
    "#  as i wanat to see profit in each item sold "
   ]
  },
  {
   "cell_type": "code",
   "execution_count": null,
   "id": "2e2569e4",
   "metadata": {},
   "outputs": [
    {
     "data": {
      "text/plain": [
       "array([1000, 4000, 4500])"
      ]
     },
     "execution_count": 26,
     "metadata": {},
     "output_type": "execute_result"
    }
   ],
   "source": [
    "|units_sold * profit"
   ]
  },
  {
   "cell_type": "markdown",
   "id": "11f199a5",
   "metadata": {},
   "source": [
    "# Matrix multiplication \n",
    "## Dot product (explaination notes)\n",
    "* col of 1st matrix must be equal to row of second metrix for multiplication \n",
    "* and the result will be row of 1st matrix * col of second metrix\n"
   ]
  },
  {
   "cell_type": "code",
   "execution_count": 55,
   "id": "14703c7e",
   "metadata": {},
   "outputs": [],
   "source": [
    "# sqft\n",
    "# bedroom\n",
    "# location 1 G, 0 B"
   ]
  },
  {
   "cell_type": "code",
   "execution_count": null,
   "id": "9014d858",
   "metadata": {},
   "outputs": [],
   "source": [
    "house = np.array([1200, 3, 1]) # This is the data we get from the client \n",
    "w = np.array([200, 10000, 50000]) # This is how our machine learning data looks like "
   ]
  },
  {
   "cell_type": "code",
   "execution_count": 52,
   "id": "62e4730e",
   "metadata": {},
   "outputs": [
    {
     "name": "stdout",
     "output_type": "stream",
     "text": [
      "320000\n"
     ]
    }
   ],
   "source": [
    "#  As it is a 1D matrix you don't need a transpose \n",
    "# For 2 D and others you don't need a transpose \n",
    "print(np.dot(house, w))\n",
    "\n",
    "# By this i will get the price of the house "
   ]
  },
  {
   "cell_type": "code",
   "execution_count": 43,
   "id": "8f7712fa",
   "metadata": {},
   "outputs": [],
   "source": [
    "house = np.array([[1200, 3, 1],\n",
    "                  [1200, 3, 0],\n",
    "                  [1000, 3, 0],\n",
    "                  [1000, 1, 1]])"
   ]
  },
  {
   "cell_type": "code",
   "execution_count": 44,
   "id": "28844379",
   "metadata": {},
   "outputs": [],
   "source": [
    "w = np.array([200, 10000, 50000])"
   ]
  },
  {
   "cell_type": "code",
   "execution_count": 37,
   "id": "d79e9726",
   "metadata": {},
   "outputs": [
    {
     "name": "stdout",
     "output_type": "stream",
     "text": [
      "(4, 3)\n",
      "(3,)\n"
     ]
    }
   ],
   "source": [
    "print(house.shape)\n",
    "print(w.shape)"
   ]
  },
  {
   "cell_type": "code",
   "execution_count": 53,
   "id": "e3979c9a",
   "metadata": {},
   "outputs": [
    {
     "name": "stdout",
     "output_type": "stream",
     "text": [
      "320000\n"
     ]
    }
   ],
   "source": [
    "print(np.dot(house, w))\n",
    "#  We are getting all the prices of the house \n",
    "\n",
    "#  in dot product here we can see that it do the multiplication + adding all as well"
   ]
  },
  {
   "cell_type": "code",
   "execution_count": 49,
   "id": "cb4cf035",
   "metadata": {},
   "outputs": [
    {
     "name": "stdout",
     "output_type": "stream",
     "text": [
      "[[240000  30000  50000]\n",
      " [240000  30000      0]\n",
      " [200000  30000      0]\n",
      " [200000  10000  50000]]\n"
     ]
    }
   ],
   "source": [
    "house = np.array([[1200, 3, 1],\n",
    "                  [1200, 3, 0],\n",
    "                  [1000, 3, 0],\n",
    "                  [1000, 1, 1]])\n",
    "\n",
    "w = np.array([200, 10000, 50000])\n",
    "\n",
    "mul = house * w\n",
    "print(mul)"
   ]
  },
  {
   "cell_type": "code",
   "execution_count": null,
   "id": "61f67e9e",
   "metadata": {},
   "outputs": [
    {
     "name": "stdout",
     "output_type": "stream",
     "text": [
      "[320000 270000 230000 260000]\n"
     ]
    }
   ],
   "source": [
    "print(np.sum(mul , axis=1)) # multiplication + sum\n",
    "#  Hence dot ptoduct is nothing but multiplication and sum across column \n",
    "\n"
   ]
  },
  {
   "cell_type": "code",
   "execution_count": 29,
   "id": "71774faa",
   "metadata": {},
   "outputs": [],
   "source": [
    "A = np.array([[1, 2, 3, 4], [1, 2, 3, 4]])\n",
    "B = np.array([[1, 2, 3, 4], [1, 2, 3, 4]])"
   ]
  },
  {
   "cell_type": "code",
   "execution_count": 30,
   "id": "35f65b9b",
   "metadata": {},
   "outputs": [
    {
     "name": "stdout",
     "output_type": "stream",
     "text": [
      "(2, 4)\n",
      "(2, 4)\n"
     ]
    }
   ],
   "source": [
    "print(A.shape)\n",
    "print(B.shape)"
   ]
  },
  {
   "cell_type": "code",
   "execution_count": 31,
   "id": "62862a5d",
   "metadata": {},
   "outputs": [
    {
     "ename": "ValueError",
     "evalue": "shapes (2,4) and (2,4) not aligned: 4 (dim 1) != 2 (dim 0)",
     "output_type": "error",
     "traceback": [
      "\u001b[31m---------------------------------------------------------------------------\u001b[39m",
      "\u001b[31mValueError\u001b[39m                                Traceback (most recent call last)",
      "\u001b[36mCell\u001b[39m\u001b[36m \u001b[39m\u001b[32mIn[31]\u001b[39m\u001b[32m, line 1\u001b[39m\n\u001b[32m----> \u001b[39m\u001b[32m1\u001b[39m \u001b[38;5;28mprint\u001b[39m(\u001b[43mnp\u001b[49m\u001b[43m.\u001b[49m\u001b[43mdot\u001b[49m\u001b[43m(\u001b[49m\u001b[43mA\u001b[49m\u001b[43m,\u001b[49m\u001b[43m \u001b[49m\u001b[43mB\u001b[49m\u001b[43m)\u001b[49m)\n",
      "\u001b[31mValueError\u001b[39m: shapes (2,4) and (2,4) not aligned: 4 (dim 1) != 2 (dim 0)"
     ]
    }
   ],
   "source": [
    "print(np.dot(A, B))"
   ]
  },
  {
   "cell_type": "code",
   "execution_count": 32,
   "id": "03977c82",
   "metadata": {},
   "outputs": [
    {
     "name": "stdout",
     "output_type": "stream",
     "text": [
      "[[30 30]\n",
      " [30 30]]\n"
     ]
    }
   ],
   "source": [
    "print(np.dot(A, B.T))"
   ]
  },
  {
   "cell_type": "code",
   "execution_count": null,
   "id": "2c5076ec",
   "metadata": {},
   "outputs": [
    {
     "name": "stdout",
     "output_type": "stream",
     "text": [
      "[[30 30]\n",
      " [30 30]]\n"
     ]
    }
   ],
   "source": [
    "# Another way of doing dot product is @ \n",
    "print(A @ B.T)"
   ]
  },
  {
   "cell_type": "markdown",
   "id": "98e86921",
   "metadata": {},
   "source": [
    "# broadcasting"
   ]
  },
  {
   "cell_type": "code",
   "execution_count": null,
   "id": "c30ca885",
   "metadata": {},
   "outputs": [],
   "source": [
    "a = np.array([1, 2, 3]) # (3,)\n",
    "b = np.array([[10], [20]]) # (2,1)\n",
    "\n",
    "#  Because the shape is different we cannot add directly \n",
    "\n",
    "#  because of broadcasting we can do that"
   ]
  },
  {
   "cell_type": "code",
   "execution_count": 104,
   "id": "b5c28136",
   "metadata": {},
   "outputs": [
    {
     "name": "stdout",
     "output_type": "stream",
     "text": [
      "(3,)\n",
      "(2, 1)\n"
     ]
    }
   ],
   "source": [
    "print(a.shape)\n",
    "print(b.shape)"
   ]
  },
  {
   "cell_type": "code",
   "execution_count": null,
   "id": "bfa690ef",
   "metadata": {},
   "outputs": [
    {
     "data": {
      "text/plain": [
       "array([[11, 12, 13],\n",
       "       [21, 22, 23]])"
      ]
     },
     "execution_count": 105,
     "metadata": {},
     "output_type": "execute_result"
    }
   ],
   "source": [
    "a + b\n",
    "\n",
    "# a (1,3)--> make it something like this (2,3) => [[1, 2, 3], [1, 2, 3]]\n",
    "# b (2,1)--> make it something like this (2,3) => [[10, 10, 10], [20, 20, 20]]"
   ]
  },
  {
   "cell_type": "markdown",
   "id": "ae29c03e",
   "metadata": {},
   "source": [
    "# creating arrays from exisiting data"
   ]
  },
  {
   "cell_type": "code",
   "execution_count": 114,
   "id": "a6b8798b",
   "metadata": {},
   "outputs": [],
   "source": [
    "a = [1,2,3,4]\n",
    "b = ([[1,2], [2,3]])\n",
    "c = (10,20,30)"
   ]
  },
  {
   "cell_type": "code",
   "execution_count": 115,
   "id": "25a2fd11",
   "metadata": {},
   "outputs": [
    {
     "name": "stdout",
     "output_type": "stream",
     "text": [
      "[1 2 3 4] int64 <class 'list'>\n"
     ]
    }
   ],
   "source": [
    "a_npy = np.array(a)\n",
    "print(a_npy, a_npy.dtype, type(a))"
   ]
  },
  {
   "cell_type": "code",
   "execution_count": 116,
   "id": "ec5a1e79",
   "metadata": {},
   "outputs": [
    {
     "name": "stdout",
     "output_type": "stream",
     "text": [
      "[[1 2]\n",
      " [2 3]] int64 <class 'list'>\n"
     ]
    }
   ],
   "source": [
    "b_npy = np.array(b)\n",
    "print(b_npy, b_npy.dtype, type(b))"
   ]
  },
  {
   "cell_type": "code",
   "execution_count": 117,
   "id": "eedee450",
   "metadata": {},
   "outputs": [
    {
     "name": "stdout",
     "output_type": "stream",
     "text": [
      "[10 20 30] int64 <class 'tuple'>\n"
     ]
    }
   ],
   "source": [
    "c_npy = np.array(c)\n",
    "print(c_npy, c_npy.dtype, type(c))"
   ]
  },
  {
   "cell_type": "code",
   "execution_count": 118,
   "id": "15f31378",
   "metadata": {},
   "outputs": [],
   "source": [
    "# vstack\n",
    "\n",
    "a = np.array([[1,2]])\n",
    "b = np.array([[3,4]])"
   ]
  },
  {
   "cell_type": "code",
   "execution_count": null,
   "id": "3bd3510a",
   "metadata": {},
   "outputs": [
    {
     "name": "stdout",
     "output_type": "stream",
     "text": [
      "[[1 2]\n",
      " [3 4]]\n"
     ]
    }
   ],
   "source": [
    "print(np.vstack((a,b)))\n",
    "#  I want to stack a on top of b to get the new array  "
   ]
  },
  {
   "cell_type": "code",
   "execution_count": 120,
   "id": "68cae142",
   "metadata": {},
   "outputs": [
    {
     "name": "stdout",
     "output_type": "stream",
     "text": [
      "[[1 2 3 4]]\n"
     ]
    }
   ],
   "source": [
    "print(np.hstack((a,b)))"
   ]
  },
  {
   "cell_type": "code",
   "execution_count": null,
   "id": "eae2fc15",
   "metadata": {},
   "outputs": [
    {
     "name": "stdout",
     "output_type": "stream",
     "text": [
      "['hello_user' 'world_123']\n"
     ]
    }
   ],
   "source": [
    "#  To work with string operations we use np.char. In this we have all the functions to work with chracters \n",
    "\n",
    "# np.char.<function_name>()\n",
    "\n",
    "# 1. np.add()\n",
    "\n",
    "# \"hello\" + \"hello\"\n",
    "\n",
    "a = np.array(['hello', 'world'])\n",
    "b = np.array(['_user', '_123'])\n",
    "\n",
    "print(np.char.add(a, b))"
   ]
  },
  {
   "cell_type": "code",
   "execution_count": 123,
   "id": "c28a6971",
   "metadata": {},
   "outputs": [
    {
     "name": "stdout",
     "output_type": "stream",
     "text": [
      "['hellohello' 'worldworld']\n"
     ]
    }
   ],
   "source": [
    "# np.char.multiply()\n",
    "\n",
    "print(np.char.multiply(a, 2))"
   ]
  },
  {
   "cell_type": "code",
   "execution_count": 60,
   "id": "645cbe7a",
   "metadata": {},
   "outputs": [
    {
     "name": "stdout",
     "output_type": "stream",
     "text": [
      "['HELLO' 'WORLD']\n",
      "['hello' 'world']\n",
      "['Hello' 'World']\n"
     ]
    }
   ],
   "source": [
    "# np.char.upper() / lower() / capitalize()\n",
    "\n",
    "a = np.array(['hello', 'WORLD'])\n",
    "\n",
    "print(np.char.upper(a)) \n",
    "print(np.char.lower(a)) \n",
    "print(np.char.capitalize(a)) "
   ]
  },
  {
   "cell_type": "code",
   "execution_count": 62,
   "id": "d4664b84",
   "metadata": {},
   "outputs": [
    {
     "name": "stdout",
     "output_type": "stream",
     "text": [
      "['**hello***' '**WORLD***']\n"
     ]
    }
   ],
   "source": [
    "# np.char.center()\n",
    "\n",
    "print(np.char.center(a, 10, fillchar='*'))\n",
    "\n",
    "#  maximum i want is 10 chracters \n",
    "#  Fill by *"
   ]
  },
  {
   "cell_type": "code",
   "execution_count": 129,
   "id": "bf166069",
   "metadata": {},
   "outputs": [],
   "source": [
    "a = np.array(['data_science', 'machine_learning'])"
   ]
  },
  {
   "cell_type": "code",
   "execution_count": 130,
   "id": "d70d4d3e",
   "metadata": {},
   "outputs": [
    {
     "name": "stdout",
     "output_type": "stream",
     "text": [
      "['data science' 'machine learning']\n"
     ]
    }
   ],
   "source": [
    "# np.char.replace()\n",
    "\n",
    "print(np.char.replace(a, '_', ' '))"
   ]
  },
  {
   "cell_type": "code",
   "execution_count": 131,
   "id": "35dd0fe7",
   "metadata": {},
   "outputs": [
    {
     "name": "stdout",
     "output_type": "stream",
     "text": [
      "[list(['data', 'science']) list(['machine', 'learning'])]\n"
     ]
    }
   ],
   "source": [
    "# np.char.split()\n",
    "\n",
    "print(np.char.split(a, sep='_'))"
   ]
  },
  {
   "cell_type": "code",
   "execution_count": null,
   "id": "4c94e517",
   "metadata": {},
   "outputs": [
    {
     "name": "stdout",
     "output_type": "stream",
     "text": [
      "[-1  8]\n",
      "[2 2]\n",
      "[1 0]\n"
     ]
    }
   ],
   "source": [
    "# np.char.find() / np.char.count()\n",
    "\n",
    "print(np.char.find(a, 'learn')) \n",
    "#  [-1  8] => -1 means i am unable to find learn in the first value. \n",
    "print(np.char.count(a, 'a'))\n",
    "#  want to count the total no of a present in each word \n",
    "print(np.char.count(a, 'data'))"
   ]
  },
  {
   "cell_type": "markdown",
   "id": "2b8431fd",
   "metadata": {},
   "source": [
    "# statistical functions"
   ]
  },
  {
   "cell_type": "code",
   "execution_count": 135,
   "id": "227e82ae",
   "metadata": {},
   "outputs": [],
   "source": [
    "data = np.array([1, 2, 3, 4, 5, 6])"
   ]
  },
  {
   "cell_type": "code",
   "execution_count": 139,
   "id": "5543e344",
   "metadata": {},
   "outputs": [
    {
     "name": "stdout",
     "output_type": "stream",
     "text": [
      "Mean: 3.5\n",
      "Median: 3.5\n",
      "Standard Deviation: 1.707825127659933\n",
      "Variance: 2.9166666666666665\n",
      "Min: 1\n",
      "Max: 6\n"
     ]
    }
   ],
   "source": [
    "print(\"Mean:\", np.mean(data))\n",
    "print(\"Median:\", np.median(data))\n",
    "print(\"Standard Deviation:\", np.std(data))\n",
    "print(\"Variance:\", np.var(data))\n",
    "print(\"Min:\", np.min(data))\n",
    "print(\"Max:\", np.max(data))"
   ]
  },
  {
   "cell_type": "code",
   "execution_count": null,
   "id": "54764d3b",
   "metadata": {},
   "outputs": [
    {
     "name": "stdout",
     "output_type": "stream",
     "text": [
      "Argmin: 0\n",
      "Argmax: 5\n"
     ]
    }
   ],
   "source": [
    "#  Help us find the undex of min and max value \n",
    "print(\"Argmin:\", np.argmin(data))\n",
    "print(\"Argmax:\", np.argmax(data))"
   ]
  },
  {
   "cell_type": "code",
   "execution_count": 63,
   "id": "b0bde444",
   "metadata": {},
   "outputs": [
    {
     "name": "stdout",
     "output_type": "stream",
     "text": [
      "[2.5 3.5 4.5]\n",
      "[2. 5.]\n"
     ]
    }
   ],
   "source": [
    "matrix = np.array([[1, 2, 3], \n",
    "                   [4, 5, 6]])\n",
    "\n",
    "print(np.mean(matrix, axis=0)) # Mean with the axis 0\n",
    "print(np.mean(matrix, axis=1))  # Mean with the axis 1"
   ]
  },
  {
   "cell_type": "code",
   "execution_count": 64,
   "id": "a99b1fdf",
   "metadata": {},
   "outputs": [],
   "source": [
    "# Percentile\n",
    "\n",
    "# total 9000 people appeared in exam \n",
    "\n",
    "#  i got 50%\n",
    "\n",
    "#  6000 people scored less than me \n",
    "\n",
    "#  my  percentile is  (6000 / 9000 ) * 100\n",
    "\n",
    "# 66.66% is my percentile \n",
    "\n",
    "#  A percentile of 66.66% means that you scored higher than 66.66% of the people who took the exam."
   ]
  },
  {
   "cell_type": "code",
   "execution_count": 65,
   "id": "50254571",
   "metadata": {},
   "outputs": [
    {
     "name": "stdout",
     "output_type": "stream",
     "text": [
      "5.0\n",
      "5.0\n",
      "9\n"
     ]
    }
   ],
   "source": [
    "data = np.array([1, 3, 5, 7, 9])\n",
    "print(np.percentile(data, 50)) # range 1 - 100\n",
    "# 50 is percentile here and below 5 every thing comes in 50  percentile \n",
    "print(np.quantile(data, 0.5)) # nothing but percentile but expressed between  range 0 - 1\n",
    "print(np.quantile(data, 1))"
   ]
  },
  {
   "cell_type": "markdown",
   "id": "92509fd5",
   "metadata": {},
   "source": [
    "# sort, search, counting functions"
   ]
  },
  {
   "cell_type": "code",
   "execution_count": null,
   "id": "2f934258",
   "metadata": {},
   "outputs": [
    {
     "name": "stdout",
     "output_type": "stream",
     "text": [
      "Sorted: [1 1 1 1 2 3 5 6 6 8]\n",
      "Sorted indices: [3 2 5 4 7 0 8 1 9 6]\n",
      "Insert 4 position: 6\n",
      "Unique elements: [1 2 3 5 6 8]\n",
      "Count of each element: [0 4 1 1 0 1 2 0 1]\n"
     ]
    }
   ],
   "source": [
    "arr = np.array([3, 6, 1, 1, 1, 1, 8, 2, 5, 6])\n",
    "\n",
    "print(\"Sorted:\", np.sort(arr))\n",
    "print(\"Sorted indices:\", np.argsort(arr)) # Index of the sorted version \n",
    "#    i want to insert 4 in the sorted array which index i will be inserting \n",
    "print(\"Insert 4 position:\", np.searchsorted(np.sort(arr), 4)) # Help us where we can insert 4 in the sorted array \n",
    "print(\"Unique elements:\", np.unique(arr))\n",
    "\n",
    "\n",
    "# ************************************************************************\n",
    "print(\"Count of each element:\", np.bincount(arr))\n",
    "\n",
    "#  Explaination given below \n",
    "# min - 1\n",
    "# max - 8\n",
    "# creates an array from 0 to max element (8)\n",
    "# 0, 1, 2, 3, 4, 5, 6, 7, 8 --> len(9)\n",
    "#  and then tells the no of time each appear in arr "
   ]
  },
  {
   "cell_type": "code",
   "execution_count": 158,
   "id": "0fe7d0d4",
   "metadata": {},
   "outputs": [
    {
     "name": "stdout",
     "output_type": "stream",
     "text": [
      "1\n",
      "2\n",
      "3\n",
      "4\n"
     ]
    }
   ],
   "source": [
    "arr = np.array([1, 2, 3, 4])\n",
    "\n",
    "for x in arr:\n",
    "    print(x)"
   ]
  },
  {
   "cell_type": "code",
   "execution_count": 159,
   "id": "756d3cf3",
   "metadata": {},
   "outputs": [
    {
     "name": "stdout",
     "output_type": "stream",
     "text": [
      "[1 2]\n",
      "[3 4]\n"
     ]
    }
   ],
   "source": [
    "arr_2d = np.array([[1, 2], [3, 4]])\n",
    "\n",
    "for x in arr_2d:\n",
    "    print(x)"
   ]
  },
  {
   "cell_type": "code",
   "execution_count": 67,
   "id": "0bd624c4",
   "metadata": {},
   "outputs": [
    {
     "data": {
      "text/plain": [
       "(2, 2, 2)"
      ]
     },
     "execution_count": 67,
     "metadata": {},
     "output_type": "execute_result"
    }
   ],
   "source": [
    "(2,2,2)\n",
    "\n",
    "a = np.array([[[1 , 2],[ 3, 4]],[[ 5, 6],[7 ,8 ]]])\n",
    "\n",
    "a.shape\n",
    "\n"
   ]
  },
  {
   "cell_type": "code",
   "execution_count": 70,
   "id": "80f1c8d7",
   "metadata": {},
   "outputs": [
    {
     "name": "stdout",
     "output_type": "stream",
     "text": [
      "[[0 1]\n",
      " [2 3]]\n",
      "[[4 5]\n",
      " [6 7]]\n"
     ]
    }
   ],
   "source": [
    "arr = np.arange(8).reshape(2,2,2)\n",
    "\n",
    "for x in arr:\n",
    "    print(x)\n",
    "\n",
    "#  It is just printing \n",
    "# [[0 1]\n",
    "#  [2 3]]\n",
    "#  in first iteration  and \n",
    "# [[4 5]\n",
    "#  [6 7]]\n",
    "#  and this is second iteration \n"
   ]
  },
  {
   "cell_type": "code",
   "execution_count": null,
   "id": "f019f498",
   "metadata": {},
   "outputs": [
    {
     "name": "stdout",
     "output_type": "stream",
     "text": [
      "0\n",
      "1\n",
      "2\n",
      "3\n",
      "4\n",
      "5\n",
      "6\n",
      "7\n"
     ]
    }
   ],
   "source": [
    "arr = np.arange(8).reshape(2,2,2)\n",
    "# if want to iterate over all elements without getting into the dimentions \n",
    "for x in np.nditer(arr):\n",
    "    print(x)"
   ]
  },
  {
   "cell_type": "code",
   "execution_count": 171,
   "id": "bb72d63c",
   "metadata": {},
   "outputs": [],
   "source": [
    "a = np.array([1, 2, 3])"
   ]
  },
  {
   "cell_type": "code",
   "execution_count": 172,
   "id": "c41fd76d",
   "metadata": {},
   "outputs": [],
   "source": [
    "b = a"
   ]
  },
  {
   "cell_type": "code",
   "execution_count": 173,
   "id": "ef55cbdb",
   "metadata": {},
   "outputs": [
    {
     "name": "stdout",
     "output_type": "stream",
     "text": [
      "2182904262896\n",
      "2182904262896\n"
     ]
    }
   ],
   "source": [
    "print(id(a))\n",
    "print(id(b))"
   ]
  },
  {
   "cell_type": "code",
   "execution_count": 174,
   "id": "82cf1354",
   "metadata": {},
   "outputs": [],
   "source": [
    "b[0] = 100"
   ]
  },
  {
   "cell_type": "code",
   "execution_count": 175,
   "id": "edf1fd58",
   "metadata": {},
   "outputs": [
    {
     "name": "stdout",
     "output_type": "stream",
     "text": [
      "[100   2   3]\n"
     ]
    }
   ],
   "source": [
    "print(a)"
   ]
  },
  {
   "cell_type": "code",
   "execution_count": 179,
   "id": "373d9aa8",
   "metadata": {},
   "outputs": [],
   "source": [
    "a = np.array([1, 2, 3])"
   ]
  },
  {
   "cell_type": "code",
   "execution_count": 71,
   "id": "19e7f6eb",
   "metadata": {},
   "outputs": [],
   "source": [
    "b = a.copy()\n",
    "#  now a new memory allocation will happen with the same memory elements and now they will be present in b \n",
    "#  Here a new reference will be allotted "
   ]
  },
  {
   "cell_type": "code",
   "execution_count": 181,
   "id": "b0382269",
   "metadata": {},
   "outputs": [
    {
     "name": "stdout",
     "output_type": "stream",
     "text": [
      "2182904263280\n",
      "2182904045296\n"
     ]
    }
   ],
   "source": [
    "print(id(a))\n",
    "print(id(b))"
   ]
  },
  {
   "cell_type": "code",
   "execution_count": 182,
   "id": "a9606ac5",
   "metadata": {},
   "outputs": [],
   "source": [
    "b[0] = 100"
   ]
  },
  {
   "cell_type": "code",
   "execution_count": 183,
   "id": "dd2e49ff",
   "metadata": {},
   "outputs": [
    {
     "name": "stdout",
     "output_type": "stream",
     "text": [
      "[1 2 3]\n"
     ]
    }
   ],
   "source": [
    "print(a)"
   ]
  },
  {
   "cell_type": "code",
   "execution_count": 184,
   "id": "994f5b56",
   "metadata": {},
   "outputs": [],
   "source": [
    "a = np.array([1, 2, 3])\n",
    "\n",
    "b = a.view()\n",
    "\n",
    "c = a.copy()"
   ]
  },
  {
   "cell_type": "code",
   "execution_count": 185,
   "id": "cd53847e",
   "metadata": {},
   "outputs": [
    {
     "name": "stdout",
     "output_type": "stream",
     "text": [
      "[10  2  3]\n"
     ]
    }
   ],
   "source": [
    "b[0] = 10\n",
    "print(a)"
   ]
  },
  {
   "cell_type": "code",
   "execution_count": 186,
   "id": "d1ad4561",
   "metadata": {},
   "outputs": [
    {
     "name": "stdout",
     "output_type": "stream",
     "text": [
      "[10  2  3]\n"
     ]
    }
   ],
   "source": [
    "c[0] = 20\n",
    "print(a)"
   ]
  },
  {
   "cell_type": "code",
   "execution_count": 72,
   "id": "dde75008",
   "metadata": {},
   "outputs": [
    {
     "name": "stdout",
     "output_type": "stream",
     "text": [
      "True\n"
     ]
    }
   ],
   "source": [
    "a = np.arange(5)\n",
    "b = a[1:4] # view\n",
    "print(np.shares_memory(a, b))"
   ]
  },
  {
   "cell_type": "code",
   "execution_count": 74,
   "id": "53602821",
   "metadata": {},
   "outputs": [
    {
     "name": "stdout",
     "output_type": "stream",
     "text": [
      "4411096208\n",
      "4833670704\n"
     ]
    }
   ],
   "source": [
    "print(id(a))\n",
    "print(id(b))"
   ]
  },
  {
   "cell_type": "code",
   "execution_count": 188,
   "id": "7baefb8a",
   "metadata": {},
   "outputs": [
    {
     "name": "stdout",
     "output_type": "stream",
     "text": [
      "False\n"
     ]
    }
   ],
   "source": [
    "a = np.arange(5)\n",
    "b = a[1:4].copy()\n",
    "print(np.shares_memory(a, b))"
   ]
  },
  {
   "cell_type": "code",
   "execution_count": 81,
   "id": "346dff92",
   "metadata": {},
   "outputs": [
    {
     "name": "stdout",
     "output_type": "stream",
     "text": [
      "[1 2 3 4]\n",
      "[1 2 3 4]\n"
     ]
    }
   ],
   "source": [
    "a = np.array([[1, 2], [3, 4]])\n",
    "print(a.ravel()) # Like a view \n",
    "print(a.flatten())"
   ]
  },
  {
   "cell_type": "code",
   "execution_count": 79,
   "id": "660ddf6a",
   "metadata": {},
   "outputs": [
    {
     "name": "stdout",
     "output_type": "stream",
     "text": [
      "False\n",
      "True\n"
     ]
    }
   ],
   "source": [
    "a = np.array([[1, 2], [3, 4]])\n",
    "b = a.ravel()\n",
    "print(id(a) == id(b))\n",
    "print(np.shares_memory(a, b))"
   ]
  },
  {
   "cell_type": "code",
   "execution_count": 80,
   "id": "1bb71de9",
   "metadata": {},
   "outputs": [
    {
     "name": "stdout",
     "output_type": "stream",
     "text": [
      "False\n",
      "False\n"
     ]
    }
   ],
   "source": [
    "a = np.array([[1, 2], [3, 4]])\n",
    "b = a.flatten()\n",
    "print(id(a) == id(b))\n",
    "print(np.shares_memory(a, b))"
   ]
  },
  {
   "cell_type": "markdown",
   "id": "223a3608",
   "metadata": {},
   "source": [
    "\n",
    "\n",
    "---\n",
    "\n",
    "# **🔹 Task 1**\n",
    "\n",
    "```python\n",
    "import numpy as np\n",
    "a = np.array([1, 2, 3])\n",
    "\n",
    "b = a \n",
    "c = a.view()\n",
    "d = a.copy()\n",
    "```\n",
    "\n",
    "### 1. `b = a`\n",
    "\n",
    "* **Memory:** `b` is just another **reference** (pointer) to the *same* NumPy array object `a`.\n",
    "* Both `a` and `b` share:\n",
    "\n",
    "  * Same **data buffer** (the actual numbers in memory).\n",
    "  * Same **array object metadata** (shape, dtype, strides).\n",
    "* If you change `b[0]`, `a[0]` also changes, because they are literally the same object.\n",
    "* `id(a) == id(b)` ✅\n",
    "\n",
    "---\n",
    "\n",
    "### 2. `c = a.view()`\n",
    "\n",
    "* **Memory:** `c` is a **new NumPy array object**, but it **shares the same data buffer** with `a`.\n",
    "* Metadata (shape, dtype, strides) is new, but the underlying data memory is the same.\n",
    "* Example:\n",
    "\n",
    "  ```python\n",
    "  c[0] = 99\n",
    "  print(a)  # [99  2  3]\n",
    "  ```\n",
    "* BUT: if you reshape or slice `c`, only the *view* changes, data stays shared.\n",
    "* `id(a) != id(c)` (different objects), but `c.base is a` ✅ (they share memory).\n",
    "\n",
    "---\n",
    "\n",
    "### 3. `d = a.copy()`\n",
    "\n",
    "* **Memory:** `d` is a completely **new NumPy array object** with its **own independent data buffer**.\n",
    "* No sharing at all.\n",
    "* Changing `d` does not affect `a`:\n",
    "\n",
    "  ```python\n",
    "  d[0] = 42\n",
    "  print(a)  # [1 2 3]\n",
    "  print(d)  # [42 2 3]\n",
    "  ```\n",
    "* `id(a) != id(d)` and also `d.base is None` ✅\n",
    "\n",
    "---\n",
    "\n",
    "### **Memory diagram for Task 1**\n",
    "\n",
    "```\n",
    "Array objects (metadata like shape, dtype, strides):\n",
    "a ─┐\n",
    "b ─┘ ──────────────> [ 1, 2, 3 ]  (shared data buffer)\n",
    "c ────────────────> [ 1, 2, 3 ]  (same data buffer, different view object)\n",
    "d ────────────────> [ 1, 2, 3 ]  (independent copy, new buffer)\n",
    "```\n",
    "\n",
    "---\n",
    "\n",
    "# **🔹 Task 2**\n",
    "\n",
    "```python\n",
    "a = np.arange(5)      # [0, 1, 2, 3, 4]\n",
    "b = a[1:4]            # view (slice)\n",
    "c = a[1:4].copy()     # copy\n",
    "```\n",
    "\n",
    "### 1. `b = a[1:4]`\n",
    "\n",
    "* Slicing creates a **view**.\n",
    "* `b` points to the **same data buffer as `a`**, just with different metadata (start index, strides, length).\n",
    "* Memory not duplicated.\n",
    "* If you change `b[0]`, it changes `a[1]`.\n",
    "\n",
    "---\n",
    "\n",
    "### 2. `c = a[1:4].copy()`\n",
    "\n",
    "* Creates a **completely new data buffer** with values `[1, 2, 3]`.\n",
    "* Independent of `a`.\n",
    "* If you change `c[0]`, nothing happens in `a`.\n",
    "\n",
    "---\n",
    "\n",
    "### **Memory diagram for Task 2**\n",
    "\n",
    "```\n",
    "a ───────────────> [ 0, 1, 2, 3, 4 ]  (data buffer)\n",
    "\n",
    "b ───────────────> (view: starts at index 1, length 3, strides)\n",
    "                      points to same buffer region [1, 2, 3]\n",
    "\n",
    "c ───────────────> [ 1, 2, 3 ]  (independent copy, new buffer)\n",
    "```\n",
    "\n",
    "---\n",
    "\n",
    "# **🔹 Task 3**\n",
    "\n",
    "```python\n",
    "a = np.array([[1, 2], [3, 4]])\n",
    "print(a.ravel())\n",
    "print(a.flatten())\n",
    "```\n",
    "\n",
    "### 1. `a.ravel()`\n",
    "\n",
    "* Returns a **flattened 1D view if possible**.\n",
    "* If the array is contiguous in memory (which it usually is for simple arrays), `ravel()` will **share the same data buffer**.\n",
    "* If you modify the result of `ravel()`, the original `a` may change (when possible).\n",
    "\n",
    "---\n",
    "\n",
    "### 2. `a.flatten()`\n",
    "\n",
    "* Always returns a **new copy** of the array as a 1D array.\n",
    "* Independent buffer, no memory sharing.\n",
    "* Changes to `flatten()` output do not affect `a`.\n",
    "\n",
    "---\n",
    "\n",
    "### **Memory diagram for Task 3**\n",
    "\n",
    "```\n",
    "a ───────────────> [[1, 2],\n",
    "                     [3, 4]]  (contiguous memory)\n",
    "\n",
    "a.ravel() ───────> [1, 2, 3, 4] (view, shared buffer if contiguous)\n",
    "a.flatten() ─────> [1, 2, 3, 4] (independent copy, new buffer)\n",
    "```\n",
    "\n",
    "---\n",
    "\n",
    "# **📝 Summary at Memory Level**\n",
    "\n",
    "| Operation          | New Object?  | Shares Data Buffer? | Independent Copy? |\n",
    "| ------------------ | ------------ | ------------------- | ----------------- |\n",
    "| `b = a`            | ❌ (same obj) | ✅ (same buffer)     | ❌                 |\n",
    "| `a.view()`         | ✅            | ✅                   | ❌                 |\n",
    "| `a.copy()`         | ✅            | ❌                   | ✅                 |\n",
    "| Slice `a[1:4]`     | ✅ (view)     | ✅                   | ❌                 |\n",
    "| `.copy()` on slice | ✅            | ❌                   | ✅                 |\n",
    "| `.ravel()`         | ✅            | ✅ if contiguous     | ❌                 |\n",
    "| `.flatten()`       | ✅            | ❌                   | ✅                 |\n",
    "\n",
    "---\n",
    "\n"
   ]
  },
  {
   "cell_type": "code",
   "execution_count": null,
   "id": "9c320c3b",
   "metadata": {},
   "outputs": [],
   "source": []
  }
 ],
 "metadata": {
  "kernelspec": {
   "display_name": "Python 3",
   "language": "python",
   "name": "python3"
  },
  "language_info": {
   "codemirror_mode": {
    "name": "ipython",
    "version": 3
   },
   "file_extension": ".py",
   "mimetype": "text/x-python",
   "name": "python",
   "nbconvert_exporter": "python",
   "pygments_lexer": "ipython3",
   "version": "3.12.0"
  }
 },
 "nbformat": 4,
 "nbformat_minor": 5
}
