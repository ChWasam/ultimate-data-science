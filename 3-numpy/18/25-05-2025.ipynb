{
 "cells": [
  {
   "cell_type": "markdown",
   "id": "b76d0324",
   "metadata": {},
   "source": [
    "# Numpy"
   ]
  },
  {
   "cell_type": "markdown",
   "id": "f798594e",
   "metadata": {},
   "source": [
    "* Numpy is used to do scientific computation (MEANS to do more advance mathematical computation)\n",
    "* https://numpy.org/\n",
    "* written in c hence fast \n",
    "* used basically for machine learning and computation\n",
    "* pytorch is for deeplearning \n",
    "* you can use your gpu well with pytorch \n",
    "* numpy is faster also because it is optimized \n",
    "* ML is possible with python also but if we have to do lot more calculations \n",
    "* In python we only have int,long or float , double \n",
    "* while in ML we need even more precision sometimes till 0.00000000000000000000000000000000001 so we use numpy which gives us more precision \n",
    "* we will have lot more datatypes like int, int16, int 32, int 84 also float 16, 32 etc\n",
    "* Libraries like pandas and ML libraries like scikit learn has numpy enternally \n",
    "* operations performed here are vectorized , memory efficient. can also do linear algebra here           "
   ]
  },
  {
   "cell_type": "code",
   "execution_count": 1,
   "id": "6cf02403",
   "metadata": {},
   "outputs": [],
   "source": [
    "# !pip install numpy\n",
    "#  but no need to install because it comes bydefault with your base package"
   ]
  },
  {
   "cell_type": "code",
   "execution_count": 2,
   "id": "693420af",
   "metadata": {},
   "outputs": [],
   "source": [
    "import numpy as np\n",
    "import time"
   ]
  },
  {
   "cell_type": "code",
   "execution_count": 15,
   "id": "2d9d4c76",
   "metadata": {},
   "outputs": [
    {
     "name": "stdout",
     "output_type": "stream",
     "text": [
      "Time taken : 3.774937868118286\n"
     ]
    }
   ],
   "source": [
    "a = list(range(100000000))\n",
    "b = list(range(100000000))\n",
    "\n",
    "start_t = time.time()\n",
    "c = [x+y for x,y in zip(a,b)]\n",
    "end_t = time.time()\n",
    "time_taken_p = end_t-start_t\n",
    "print(f\"Time taken : {time_taken_p}\")"
   ]
  },
  {
   "cell_type": "code",
   "execution_count": 17,
   "id": "df7d2aab",
   "metadata": {},
   "outputs": [
    {
     "name": "stdout",
     "output_type": "stream",
     "text": [
      "Time taken : 0.6903369426727295\n"
     ]
    }
   ],
   "source": [
    "\n",
    "a = list(range(100000000))\n",
    "b = list(range(100000000))\n",
    "a = np.array(a)\n",
    "b = np.array(b)\n",
    "\n",
    "start_t = time.time()\n",
    "c = a + b\n",
    "end_t = time.time()\n",
    "time_taken_n = end_t-start_t\n",
    "print(f\"Time taken : {time_taken_n}\")"
   ]
  },
  {
   "cell_type": "code",
   "execution_count": null,
   "id": "68988a6f",
   "metadata": {},
   "outputs": [],
   "source": [
    "#  Here we can see that Time taken by numpy version is less than time taken by python "
   ]
  },
  {
   "cell_type": "code",
   "execution_count": 19,
   "id": "da14715e",
   "metadata": {},
   "outputs": [
    {
     "data": {
      "text/plain": [
       "5.468254173828684"
      ]
     },
     "execution_count": 19,
     "metadata": {},
     "output_type": "execute_result"
    }
   ],
   "source": [
    "time_taken_p/time_taken_n\n",
    "\n",
    "\n",
    "# here  numpy is 5.468254173828684 folds faster \n"
   ]
  },
  {
   "cell_type": "markdown",
   "id": "5c2e0c89",
   "metadata": {},
   "source": [
    "# 1. np.array()"
   ]
  },
  {
   "cell_type": "code",
   "execution_count": null,
   "id": "3fa72e72",
   "metadata": {},
   "outputs": [],
   "source": [
    "#  array is more strict we cannot have multiple data types , just have one datatype (homogenous data not hetrogenes)\n",
    "# also we have n-dimentional array (multi-dimentional)"
   ]
  },
  {
   "cell_type": "code",
   "execution_count": 22,
   "id": "6ea79b80",
   "metadata": {},
   "outputs": [],
   "source": [
    "array_n1 = np.array([1,2,3])"
   ]
  },
  {
   "cell_type": "code",
   "execution_count": 23,
   "id": "b375ec49",
   "metadata": {},
   "outputs": [
    {
     "name": "stdout",
     "output_type": "stream",
     "text": [
      "[1 2 3]\n",
      "<class 'numpy.ndarray'>\n",
      "<class 'numpy.int64'>\n"
     ]
    }
   ],
   "source": [
    "print(array_n1)\n",
    "print(type(array_n1))\n",
    "print(type(array_n1[0])) # type of value stored in array int64"
   ]
  },
  {
   "cell_type": "code",
   "execution_count": 160,
   "id": "aa03822b",
   "metadata": {},
   "outputs": [
    {
     "name": "stdout",
     "output_type": "stream",
     "text": [
      "<class 'numpy.ndarray'>\n",
      "<class 'numpy.int8'>\n"
     ]
    }
   ],
   "source": [
    "array_n2 = np.array([1,2,3], dtype=np.int8)\n",
    "print(type(array_n2))\n",
    "print(type(array_n2[0]))"
   ]
  },
  {
   "cell_type": "code",
   "execution_count": 162,
   "id": "08d0d0d3",
   "metadata": {},
   "outputs": [
    {
     "name": "stdout",
     "output_type": "stream",
     "text": [
      "[1 2 3]\n",
      "<class 'numpy.ndarray'>\n",
      "<class 'numpy.int8'>\n"
     ]
    }
   ],
   "source": [
    "array_n2 = np.array([1,2,\"3\"], dtype=np.int8)\n",
    "print(array_n2)\n",
    "print(type(array_n2))\n",
    "print(type(array_n2[0]))"
   ]
  },
  {
   "cell_type": "code",
   "execution_count": 24,
   "id": "be3e6ba0",
   "metadata": {},
   "outputs": [
    {
     "name": "stdout",
     "output_type": "stream",
     "text": [
      "[1. 2. 3.]\n",
      "<class 'numpy.ndarray'>\n",
      "<class 'numpy.float16'>\n"
     ]
    }
   ],
   "source": [
    "array_n2 = np.array([1,2,\"3\"], dtype=np.float16)\n",
    "print(array_n2)\n",
    "print(type(array_n2))\n",
    "print(type(array_n2[2]))\n",
    "\n",
    "# dot means float value "
   ]
  },
  {
   "cell_type": "markdown",
   "id": "60ecf266",
   "metadata": {},
   "source": [
    "# 2. np.arange(start, stop, step)"
   ]
  },
  {
   "cell_type": "code",
   "execution_count": 28,
   "id": "e3575d7e",
   "metadata": {},
   "outputs": [
    {
     "name": "stdout",
     "output_type": "stream",
     "text": [
      "[0 1 2 3 4]\n",
      "[1 3 5 7 9]\n",
      "<class 'numpy.ndarray'>\n",
      "<class 'list'>\n"
     ]
    }
   ],
   "source": [
    "print(np.arange(5))\n",
    "\n",
    "print(np.arange(1, 10, 2))\n",
    "\n",
    "np_arange = np.arange(1, 10, 2)\n",
    "print(type(np_arange))\n",
    "print(type(list(np_arange)))"
   ]
  },
  {
   "cell_type": "markdown",
   "id": "64d38dbf",
   "metadata": {},
   "source": [
    "# np.linspace(start, stop, num=x)"
   ]
  },
  {
   "cell_type": "code",
   "execution_count": 32,
   "id": "05142177",
   "metadata": {},
   "outputs": [
    {
     "name": "stdout",
     "output_type": "stream",
     "text": [
      "[  1.  34.  67. 100.]\n",
      "<class 'numpy.ndarray'>\n"
     ]
    }
   ],
   "source": [
    "np_linspace = np.linspace(1,100,4)\n",
    "# (1,100,4) means equally spaced 4 numbers from 1 to hundred \n",
    "# (1,2,10) means equally spaced 10 numbers from 1 to 2 \n",
    "\n",
    "print(np_linspace)\n",
    "print(type(np_linspace))"
   ]
  },
  {
   "cell_type": "code",
   "execution_count": 30,
   "id": "3353dd2a",
   "metadata": {},
   "outputs": [
    {
     "name": "stdout",
     "output_type": "stream",
     "text": [
      "1.0\n",
      "2.0\n",
      "3.0\n",
      "4.0\n",
      "5.0\n",
      "6.0\n",
      "7.0\n",
      "8.0\n",
      "9.0\n",
      "10.0\n"
     ]
    }
   ],
   "source": [
    "for i in np.linspace(1,10,10):\n",
    "    print(i)"
   ]
  },
  {
   "cell_type": "markdown",
   "id": "d61b9cf1",
   "metadata": {},
   "source": [
    "# np.zeros(shape)"
   ]
  },
  {
   "cell_type": "code",
   "execution_count": 33,
   "id": "2befaf33",
   "metadata": {},
   "outputs": [],
   "source": [
    "npz_1 = np.zeros(5)\n",
    "# create array of values filled with zeros"
   ]
  },
  {
   "cell_type": "code",
   "execution_count": null,
   "id": "ce93d05d",
   "metadata": {},
   "outputs": [],
   "source": [
    "#  For ML and DL , for model training and AI training  we always use float, later when the model is ready then we convert it to integer thats why float is by default "
   ]
  },
  {
   "cell_type": "code",
   "execution_count": 34,
   "id": "c39bbee8",
   "metadata": {},
   "outputs": [
    {
     "data": {
      "text/plain": [
       "array([0., 0., 0., 0., 0.])"
      ]
     },
     "execution_count": 34,
     "metadata": {},
     "output_type": "execute_result"
    }
   ],
   "source": [
    "npz_1"
   ]
  },
  {
   "cell_type": "code",
   "execution_count": null,
   "id": "b943d254",
   "metadata": {},
   "outputs": [],
   "source": [
    "#  For 1 dimention \n",
    "[]\n",
    "# For 2 dimention \n",
    "[[],[]]\n",
    "# For 3 dimention \n",
    "[[[],[]],[[],[]]]"
   ]
  },
  {
   "cell_type": "code",
   "execution_count": null,
   "id": "8f6d7409",
   "metadata": {},
   "outputs": [],
   "source": [
    "#  To make multiple one D we have to make a 2D list \n",
    "[[],[],[]]\n",
    "#  To contain multiple of 2D i have to create another dimention  \n",
    "[[[],[],[]],[[],[],[]],[[],[],[]]]"
   ]
  },
  {
   "cell_type": "code",
   "execution_count": 35,
   "id": "89893544",
   "metadata": {},
   "outputs": [
    {
     "data": {
      "text/plain": [
       "1"
      ]
     },
     "execution_count": 35,
     "metadata": {},
     "output_type": "execute_result"
    }
   ],
   "source": [
    "npz_1.ndim"
   ]
  },
  {
   "cell_type": "code",
   "execution_count": 41,
   "id": "5481ac82",
   "metadata": {},
   "outputs": [
    {
     "name": "stdout",
     "output_type": "stream",
     "text": [
      "[[0. 0. 0. 0. 0.]\n",
      " [0. 0. 0. 0. 0.]\n",
      " [0. 0. 0. 0. 0.]\n",
      " [0. 0. 0. 0. 0.]\n",
      " [0. 0. 0. 0. 0.]]\n"
     ]
    }
   ],
   "source": [
    "npz_2 = np.zeros((5,5))\n",
    "# 5 rows and 5 coloumns\n",
    "print(npz_2)"
   ]
  },
  {
   "cell_type": "code",
   "execution_count": 186,
   "id": "c69bde80",
   "metadata": {},
   "outputs": [
    {
     "data": {
      "text/plain": [
       "2"
      ]
     },
     "execution_count": 186,
     "metadata": {},
     "output_type": "execute_result"
    }
   ],
   "source": [
    "npz_2.ndim"
   ]
  },
  {
   "cell_type": "code",
   "execution_count": null,
   "id": "cd047b1b",
   "metadata": {},
   "outputs": [
    {
     "name": "stdout",
     "output_type": "stream",
     "text": [
      "[[[0. 0. 0. 0. 0.]\n",
      "  [0. 0. 0. 0. 0.]\n",
      "  [0. 0. 0. 0. 0.]\n",
      "  [0. 0. 0. 0. 0.]\n",
      "  [0. 0. 0. 0. 0.]]\n",
      "\n",
      " [[0. 0. 0. 0. 0.]\n",
      "  [0. 0. 0. 0. 0.]\n",
      "  [0. 0. 0. 0. 0.]\n",
      "  [0. 0. 0. 0. 0.]\n",
      "  [0. 0. 0. 0. 0.]]\n",
      "\n",
      " [[0. 0. 0. 0. 0.]\n",
      "  [0. 0. 0. 0. 0.]\n",
      "  [0. 0. 0. 0. 0.]\n",
      "  [0. 0. 0. 0. 0.]\n",
      "  [0. 0. 0. 0. 0.]]\n",
      "\n",
      " [[0. 0. 0. 0. 0.]\n",
      "  [0. 0. 0. 0. 0.]\n",
      "  [0. 0. 0. 0. 0.]\n",
      "  [0. 0. 0. 0. 0.]\n",
      "  [0. 0. 0. 0. 0.]]\n",
      "\n",
      " [[0. 0. 0. 0. 0.]\n",
      "  [0. 0. 0. 0. 0.]\n",
      "  [0. 0. 0. 0. 0.]\n",
      "  [0. 0. 0. 0. 0.]\n",
      "  [0. 0. 0. 0. 0.]]]\n"
     ]
    }
   ],
   "source": [
    "npz_3 = np.zeros((5,5,5))\n",
    "#  i want 5 times an array of size 5 * 5\n",
    "#  i want 2D matrix of size 5*5. i want 5 of them \n",
    "# like  5*5 ,  5*5,  5*5,  5*5,  5*5\n",
    "print(npz_3)"
   ]
  },
  {
   "cell_type": "code",
   "execution_count": 43,
   "id": "5c109351",
   "metadata": {},
   "outputs": [
    {
     "data": {
      "text/plain": [
       "3"
      ]
     },
     "execution_count": 43,
     "metadata": {},
     "output_type": "execute_result"
    }
   ],
   "source": [
    "npz_3.ndim"
   ]
  },
  {
   "cell_type": "code",
   "execution_count": null,
   "id": "1befdc34",
   "metadata": {},
   "outputs": [],
   "source": [
    "# As a human we live in a 3d world but we cannot watch ourselved so we cannot see 3D"
   ]
  },
  {
   "cell_type": "code",
   "execution_count": 44,
   "id": "8a9e2c29",
   "metadata": {},
   "outputs": [],
   "source": [
    "npz_4 = np.zeros((5,5,5,5))"
   ]
  },
  {
   "cell_type": "code",
   "execution_count": 45,
   "id": "59135e12",
   "metadata": {},
   "outputs": [
    {
     "data": {
      "text/plain": [
       "array([[[[0., 0., 0., 0., 0.],\n",
       "         [0., 0., 0., 0., 0.],\n",
       "         [0., 0., 0., 0., 0.],\n",
       "         [0., 0., 0., 0., 0.],\n",
       "         [0., 0., 0., 0., 0.]],\n",
       "\n",
       "        [[0., 0., 0., 0., 0.],\n",
       "         [0., 0., 0., 0., 0.],\n",
       "         [0., 0., 0., 0., 0.],\n",
       "         [0., 0., 0., 0., 0.],\n",
       "         [0., 0., 0., 0., 0.]],\n",
       "\n",
       "        [[0., 0., 0., 0., 0.],\n",
       "         [0., 0., 0., 0., 0.],\n",
       "         [0., 0., 0., 0., 0.],\n",
       "         [0., 0., 0., 0., 0.],\n",
       "         [0., 0., 0., 0., 0.]],\n",
       "\n",
       "        [[0., 0., 0., 0., 0.],\n",
       "         [0., 0., 0., 0., 0.],\n",
       "         [0., 0., 0., 0., 0.],\n",
       "         [0., 0., 0., 0., 0.],\n",
       "         [0., 0., 0., 0., 0.]],\n",
       "\n",
       "        [[0., 0., 0., 0., 0.],\n",
       "         [0., 0., 0., 0., 0.],\n",
       "         [0., 0., 0., 0., 0.],\n",
       "         [0., 0., 0., 0., 0.],\n",
       "         [0., 0., 0., 0., 0.]]],\n",
       "\n",
       "\n",
       "       [[[0., 0., 0., 0., 0.],\n",
       "         [0., 0., 0., 0., 0.],\n",
       "         [0., 0., 0., 0., 0.],\n",
       "         [0., 0., 0., 0., 0.],\n",
       "         [0., 0., 0., 0., 0.]],\n",
       "\n",
       "        [[0., 0., 0., 0., 0.],\n",
       "         [0., 0., 0., 0., 0.],\n",
       "         [0., 0., 0., 0., 0.],\n",
       "         [0., 0., 0., 0., 0.],\n",
       "         [0., 0., 0., 0., 0.]],\n",
       "\n",
       "        [[0., 0., 0., 0., 0.],\n",
       "         [0., 0., 0., 0., 0.],\n",
       "         [0., 0., 0., 0., 0.],\n",
       "         [0., 0., 0., 0., 0.],\n",
       "         [0., 0., 0., 0., 0.]],\n",
       "\n",
       "        [[0., 0., 0., 0., 0.],\n",
       "         [0., 0., 0., 0., 0.],\n",
       "         [0., 0., 0., 0., 0.],\n",
       "         [0., 0., 0., 0., 0.],\n",
       "         [0., 0., 0., 0., 0.]],\n",
       "\n",
       "        [[0., 0., 0., 0., 0.],\n",
       "         [0., 0., 0., 0., 0.],\n",
       "         [0., 0., 0., 0., 0.],\n",
       "         [0., 0., 0., 0., 0.],\n",
       "         [0., 0., 0., 0., 0.]]],\n",
       "\n",
       "\n",
       "       [[[0., 0., 0., 0., 0.],\n",
       "         [0., 0., 0., 0., 0.],\n",
       "         [0., 0., 0., 0., 0.],\n",
       "         [0., 0., 0., 0., 0.],\n",
       "         [0., 0., 0., 0., 0.]],\n",
       "\n",
       "        [[0., 0., 0., 0., 0.],\n",
       "         [0., 0., 0., 0., 0.],\n",
       "         [0., 0., 0., 0., 0.],\n",
       "         [0., 0., 0., 0., 0.],\n",
       "         [0., 0., 0., 0., 0.]],\n",
       "\n",
       "        [[0., 0., 0., 0., 0.],\n",
       "         [0., 0., 0., 0., 0.],\n",
       "         [0., 0., 0., 0., 0.],\n",
       "         [0., 0., 0., 0., 0.],\n",
       "         [0., 0., 0., 0., 0.]],\n",
       "\n",
       "        [[0., 0., 0., 0., 0.],\n",
       "         [0., 0., 0., 0., 0.],\n",
       "         [0., 0., 0., 0., 0.],\n",
       "         [0., 0., 0., 0., 0.],\n",
       "         [0., 0., 0., 0., 0.]],\n",
       "\n",
       "        [[0., 0., 0., 0., 0.],\n",
       "         [0., 0., 0., 0., 0.],\n",
       "         [0., 0., 0., 0., 0.],\n",
       "         [0., 0., 0., 0., 0.],\n",
       "         [0., 0., 0., 0., 0.]]],\n",
       "\n",
       "\n",
       "       [[[0., 0., 0., 0., 0.],\n",
       "         [0., 0., 0., 0., 0.],\n",
       "         [0., 0., 0., 0., 0.],\n",
       "         [0., 0., 0., 0., 0.],\n",
       "         [0., 0., 0., 0., 0.]],\n",
       "\n",
       "        [[0., 0., 0., 0., 0.],\n",
       "         [0., 0., 0., 0., 0.],\n",
       "         [0., 0., 0., 0., 0.],\n",
       "         [0., 0., 0., 0., 0.],\n",
       "         [0., 0., 0., 0., 0.]],\n",
       "\n",
       "        [[0., 0., 0., 0., 0.],\n",
       "         [0., 0., 0., 0., 0.],\n",
       "         [0., 0., 0., 0., 0.],\n",
       "         [0., 0., 0., 0., 0.],\n",
       "         [0., 0., 0., 0., 0.]],\n",
       "\n",
       "        [[0., 0., 0., 0., 0.],\n",
       "         [0., 0., 0., 0., 0.],\n",
       "         [0., 0., 0., 0., 0.],\n",
       "         [0., 0., 0., 0., 0.],\n",
       "         [0., 0., 0., 0., 0.]],\n",
       "\n",
       "        [[0., 0., 0., 0., 0.],\n",
       "         [0., 0., 0., 0., 0.],\n",
       "         [0., 0., 0., 0., 0.],\n",
       "         [0., 0., 0., 0., 0.],\n",
       "         [0., 0., 0., 0., 0.]]],\n",
       "\n",
       "\n",
       "       [[[0., 0., 0., 0., 0.],\n",
       "         [0., 0., 0., 0., 0.],\n",
       "         [0., 0., 0., 0., 0.],\n",
       "         [0., 0., 0., 0., 0.],\n",
       "         [0., 0., 0., 0., 0.]],\n",
       "\n",
       "        [[0., 0., 0., 0., 0.],\n",
       "         [0., 0., 0., 0., 0.],\n",
       "         [0., 0., 0., 0., 0.],\n",
       "         [0., 0., 0., 0., 0.],\n",
       "         [0., 0., 0., 0., 0.]],\n",
       "\n",
       "        [[0., 0., 0., 0., 0.],\n",
       "         [0., 0., 0., 0., 0.],\n",
       "         [0., 0., 0., 0., 0.],\n",
       "         [0., 0., 0., 0., 0.],\n",
       "         [0., 0., 0., 0., 0.]],\n",
       "\n",
       "        [[0., 0., 0., 0., 0.],\n",
       "         [0., 0., 0., 0., 0.],\n",
       "         [0., 0., 0., 0., 0.],\n",
       "         [0., 0., 0., 0., 0.],\n",
       "         [0., 0., 0., 0., 0.]],\n",
       "\n",
       "        [[0., 0., 0., 0., 0.],\n",
       "         [0., 0., 0., 0., 0.],\n",
       "         [0., 0., 0., 0., 0.],\n",
       "         [0., 0., 0., 0., 0.],\n",
       "         [0., 0., 0., 0., 0.]]]])"
      ]
     },
     "execution_count": 45,
     "metadata": {},
     "output_type": "execute_result"
    }
   ],
   "source": [
    "npz_4"
   ]
  },
  {
   "cell_type": "code",
   "execution_count": null,
   "id": "869b8c4c",
   "metadata": {},
   "outputs": [
    {
     "ename": "ValueError",
     "evalue": "setting an array element with a sequence. The requested array has an inhomogeneous shape after 1 dimensions. The detected shape was (2,) + inhomogeneous part.",
     "output_type": "error",
     "traceback": [
      "\u001b[31m---------------------------------------------------------------------------\u001b[39m",
      "\u001b[31mValueError\u001b[39m                                Traceback (most recent call last)",
      "\u001b[36mCell\u001b[39m\u001b[36m \u001b[39m\u001b[32mIn[3]\u001b[39m\u001b[32m, line 3\u001b[39m\n\u001b[32m      1\u001b[39m a11 = [[[]],[[],[]]]\n\u001b[32m----> \u001b[39m\u001b[32m3\u001b[39m a11 = \u001b[43mnp\u001b[49m\u001b[43m.\u001b[49m\u001b[43marray\u001b[49m\u001b[43m(\u001b[49m\u001b[43ma11\u001b[49m\u001b[43m)\u001b[49m\n\u001b[32m      4\u001b[39m a11\n",
      "\u001b[31mValueError\u001b[39m: setting an array element with a sequence. The requested array has an inhomogeneous shape after 1 dimensions. The detected shape was (2,) + inhomogeneous part."
     ]
    }
   ],
   "source": [
    "a11 = [[[]],[[],[]]]\n",
    "\n",
    "a11 = np.array(a11)\n",
    "\n",
    "a11\n",
    "\n",
    "# ValueError: setting an array element with a sequence. The requested array has an inhomogeneous shape after 1 dimensions. The detected shape was (2,) + inhomogeneous part."
   ]
  },
  {
   "cell_type": "code",
   "execution_count": null,
   "id": "a56c4e04",
   "metadata": {},
   "outputs": [],
   "source": []
  }
 ],
 "metadata": {
  "kernelspec": {
   "display_name": "Python 3",
   "language": "python",
   "name": "python3"
  },
  "language_info": {
   "codemirror_mode": {
    "name": "ipython",
    "version": 3
   },
   "file_extension": ".py",
   "mimetype": "text/x-python",
   "name": "python",
   "nbconvert_exporter": "python",
   "pygments_lexer": "ipython3",
   "version": "3.12.0"
  }
 },
 "nbformat": 4,
 "nbformat_minor": 5
}
